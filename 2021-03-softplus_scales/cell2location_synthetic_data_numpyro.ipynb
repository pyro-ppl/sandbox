{
 "cells": [
  {
   "cell_type": "markdown",
   "metadata": {},
   "source": [
    "# Benchmarking cell2location numpyro model using softplus/exp for scales"
   ]
  },
  {
   "cell_type": "code",
   "execution_count": 1,
   "metadata": {},
   "outputs": [
    {
     "name": "stdout",
     "output_type": "stream",
     "text": [
      "gpu\n"
     ]
    }
   ],
   "source": [
    "import sys, ast, os\n",
    "import scanpy as sc\n",
    "import anndata\n",
    "import pandas as pd\n",
    "import numpy as np\n",
    "import os\n",
    "import matplotlib.pyplot as plt \n",
    "import matplotlib as mpl\n",
    "data_type='float32'\n",
    "\n",
    "# this line forces JAX to use the GPU and should go before importing cell2location\n",
    "os.environ[\"JAX_PLATFORM_NAME\"] = \"gpu\"\n",
    "#os.environ[\"XLA_PYTHON_CLIENT_ALLOCATOR\"]=\"platform\"\n",
    "os.environ[\"XLA_PYTHON_CLIENT_PREALLOCATE\"]=\"false\"\n",
    "\n",
    "\n",
    "import cell2location_model_numpyro as cell2location_model \n",
    "\n",
    "from matplotlib import rcParams\n",
    "rcParams['pdf.fonttype'] = 42 # enables correct plotting of text\n",
    "import seaborn as sns\n",
    "\n",
    "from jax.lib import xla_bridge\n",
    "print(xla_bridge.get_backend().platform)"
   ]
  },
  {
   "cell_type": "markdown",
   "metadata": {},
   "source": [
    "## Read datasets and train cell2location"
   ]
  },
  {
   "cell_type": "markdown",
   "metadata": {},
   "source": [
    "Data can be downloaded as follows:\n",
    "\n",
    "```bash\n",
    "wget https://cell2location.cog.sanger.ac.uk/paper/synthetic_with_tissue_zones/synth_adata_real_mg_20210131.h5ad\n",
    "wget https://cell2location.cog.sanger.ac.uk/paper/synthetic_with_tissue_zones/training_5705STDY8058280_5705STDY8058281_20210131.h5ad\n",
    "```"
   ]
  },
  {
   "cell_type": "code",
   "execution_count": 2,
   "metadata": {},
   "outputs": [],
   "source": [
    "sc_data_folder = '/nfs/team205/vk7/sanger_projects/cell2location_paper/notebooks/selected_data/mouse_visium_snrna/'\n",
    "sp_data_folder = '/nfs/team205/vk7/sanger_projects/cell2location_paper/notebooks/selected_results/benchmarking/with_tissue_zones/data/'\n",
    "results_folder = '/nfs/team205/vk7/sanger_projects/cell2location_paper/notebooks/selected_results/benchmarking/with_tissue_zones/real_mg/pyro/'"
   ]
  },
  {
   "cell_type": "code",
   "execution_count": 3,
   "metadata": {},
   "outputs": [
    {
     "name": "stderr",
     "output_type": "stream",
     "text": [
      "/nfs/team283/vk7/software/miniconda3farm5/envs/numpyro/lib/python3.7/site-packages/pandas/core/arrays/categorical.py:2487: FutureWarning: The `inplace` parameter in pandas.Categorical.remove_unused_categories is deprecated and will be removed in a future version.\n",
      "  res = method(*args, **kwargs)\n"
     ]
    }
   ],
   "source": [
    "# read synthetic data\n",
    "adata_vis = anndata.read(f'{sp_data_folder}synth_adata_real_mg_20210131.h5ad')\n",
    "adata_vis.uns['spatial'] = {'x': 'y'}\n",
    "# select 1 sample (with 2500 observations)\n",
    "adata_vis = adata_vis[adata_vis.obs['sample'] == 'exper0',:]\n",
    "\n",
    "# read scRNA-seq data with reference cell types\n",
    "adata_snrna_raw = anndata.read(f'{sp_data_folder}training_5705STDY8058280_5705STDY8058281_20210131.h5ad')"
   ]
  },
  {
   "cell_type": "code",
   "execution_count": 4,
   "metadata": {},
   "outputs": [],
   "source": [
    "import scipy\n",
    "adata_snrna_raw.X = scipy.sparse.csr_matrix(adata_snrna_raw.X)"
   ]
  },
  {
   "cell_type": "code",
   "execution_count": 5,
   "metadata": {},
   "outputs": [],
   "source": [
    "adata_vis.X = scipy.sparse.csr_matrix(adata_vis.X)"
   ]
  },
  {
   "cell_type": "markdown",
   "metadata": {},
   "source": [
    "Add counts matrix as `adata.raw` "
   ]
  },
  {
   "cell_type": "code",
   "execution_count": 6,
   "metadata": {},
   "outputs": [],
   "source": [
    "adata_snrna_raw.raw = adata_snrna_raw\n",
    "adata_vis.raw = adata_vis"
   ]
  },
  {
   "cell_type": "code",
   "execution_count": 7,
   "metadata": {},
   "outputs": [],
   "source": [
    "# compute average for each cluster\n",
    "aver = cell2location_model.get_cluster_averages(adata_snrna_raw, 'annotation_1')\n",
    "\n",
    "# make sure the order of gene matches between aver and x_data\n",
    "aver = aver.loc[adata_vis.var_names,:]\n",
    "\n",
    "# generate one-hot encoded matrix telling which obs belong to whic samples\n",
    "obs2sample_df = pd.get_dummies(adata_vis.obs['sample'])"
   ]
  },
  {
   "cell_type": "code",
   "execution_count": 8,
   "metadata": {},
   "outputs": [
    {
     "data": {
      "text/plain": [
       "AnnData object with n_obs × n_vars = 2500 × 12809\n",
       "    obs: 'cell_count_Inh_3', 'cell_count_Ext_Pir', 'cell_count_Oligo_2', 'cell_count_Astro_HYPO', 'cell_count_Ext_L25', 'cell_count_Astro_THAL_lat', 'cell_count_Ext_L5_1', 'cell_count_Ext_L23', 'cell_count_Micro', 'cell_count_Ext_Thal_1', 'cell_count_Ext_Hpc_CA1', 'cell_count_Inh_Meis2_3', 'cell_count_Inh_4', 'cell_count_OPC_1', 'cell_count_Oligo_1', 'cell_count_Ext_Hpc_CA3', 'cell_count_Astro_CTX', 'cell_count_Astro_THAL_med', 'cell_count_Inh_Vip', 'cell_count_Ext_Amy_2', 'cell_count_Astro_AMY_CTX', 'cell_count_Unk_1', 'cell_count_Inh_Sst', 'cell_count_Inh_Meis2_2', 'cell_count_Ext_Hpc_DG2', 'cell_count_Ext_Hpc_DG1', 'cell_count_Inh_1', 'cell_count_Inh_Meis2_4', 'cell_count_Inh_2', 'cell_count_Nb_1', 'cell_count_Ext_Thal_2', 'cell_count_Ext_Amy_1', 'cell_count_Ext_L6', 'cell_count_OPC_2', 'cell_count_Inh_Meis2_1', 'cell_count_Ext_L6B', 'cell_count_LowQ_2', 'cell_count_Ext_Unk_3', 'cell_count_Ext_L56', 'cell_count_Inh_Lamp5', 'cell_count_Inh_Pvalb', 'cell_count_Ext_L5_2', 'cell_count_Inh_6', 'cell_count_Astro_AMY', 'cell_count_Ext_ClauPyr', 'cell_count_Astro_HPC', 'cell_count_Astro_WM', 'cell_count_Nb_2', 'cell_count_Inh_5', 'cell_abundances_Inh_3', 'cell_abundances_Ext_Pir', 'cell_abundances_Oligo_2', 'cell_abundances_Astro_HYPO', 'cell_abundances_Ext_L25', 'cell_abundances_Astro_THAL_lat', 'cell_abundances_Ext_L5_1', 'cell_abundances_Ext_L23', 'cell_abundances_Micro', 'cell_abundances_Ext_Thal_1', 'cell_abundances_Ext_Hpc_CA1', 'cell_abundances_Inh_Meis2_3', 'cell_abundances_Inh_4', 'cell_abundances_OPC_1', 'cell_abundances_Oligo_1', 'cell_abundances_Ext_Hpc_CA3', 'cell_abundances_Astro_CTX', 'cell_abundances_Astro_THAL_med', 'cell_abundances_Inh_Vip', 'cell_abundances_Ext_Amy_2', 'cell_abundances_Astro_AMY_CTX', 'cell_abundances_Unk_1', 'cell_abundances_Inh_Sst', 'cell_abundances_Inh_Meis2_2', 'cell_abundances_Ext_Hpc_DG2', 'cell_abundances_Ext_Hpc_DG1', 'cell_abundances_Inh_1', 'cell_abundances_Inh_Meis2_4', 'cell_abundances_Inh_2', 'cell_abundances_Nb_1', 'cell_abundances_Ext_Thal_2', 'cell_abundances_Ext_Amy_1', 'cell_abundances_Ext_L6', 'cell_abundances_OPC_2', 'cell_abundances_Inh_Meis2_1', 'cell_abundances_Ext_L6B', 'cell_abundances_LowQ_2', 'cell_abundances_Ext_Unk_3', 'cell_abundances_Ext_L56', 'cell_abundances_Inh_Lamp5', 'cell_abundances_Inh_Pvalb', 'cell_abundances_Ext_L5_2', 'cell_abundances_Inh_6', 'cell_abundances_Astro_AMY', 'cell_abundances_Ext_ClauPyr', 'cell_abundances_Astro_HPC', 'cell_abundances_Astro_WM', 'cell_abundances_Nb_2', 'cell_abundances_Inh_5', 'cell_capture_eff_Inh_3', 'cell_capture_eff_Ext_Pir', 'cell_capture_eff_Oligo_2', 'cell_capture_eff_Astro_HYPO', 'cell_capture_eff_Ext_L25', 'cell_capture_eff_Astro_THAL_lat', 'cell_capture_eff_Ext_L5_1', 'cell_capture_eff_Ext_L23', 'cell_capture_eff_Micro', 'cell_capture_eff_Ext_Thal_1', 'cell_capture_eff_Ext_Hpc_CA1', 'cell_capture_eff_Inh_Meis2_3', 'cell_capture_eff_Inh_4', 'cell_capture_eff_OPC_1', 'cell_capture_eff_Oligo_1', 'cell_capture_eff_Ext_Hpc_CA3', 'cell_capture_eff_Astro_CTX', 'cell_capture_eff_Astro_THAL_med', 'cell_capture_eff_Inh_Vip', 'cell_capture_eff_Ext_Amy_2', 'cell_capture_eff_Astro_AMY_CTX', 'cell_capture_eff_Unk_1', 'cell_capture_eff_Inh_Sst', 'cell_capture_eff_Inh_Meis2_2', 'cell_capture_eff_Ext_Hpc_DG2', 'cell_capture_eff_Ext_Hpc_DG1', 'cell_capture_eff_Inh_1', 'cell_capture_eff_Inh_Meis2_4', 'cell_capture_eff_Inh_2', 'cell_capture_eff_Nb_1', 'cell_capture_eff_Ext_Thal_2', 'cell_capture_eff_Ext_Amy_1', 'cell_capture_eff_Ext_L6', 'cell_capture_eff_OPC_2', 'cell_capture_eff_Inh_Meis2_1', 'cell_capture_eff_Ext_L6B', 'cell_capture_eff_LowQ_2', 'cell_capture_eff_Ext_Unk_3', 'cell_capture_eff_Ext_L56', 'cell_capture_eff_Inh_Lamp5', 'cell_capture_eff_Inh_Pvalb', 'cell_capture_eff_Ext_L5_2', 'cell_capture_eff_Inh_6', 'cell_capture_eff_Astro_AMY', 'cell_capture_eff_Ext_ClauPyr', 'cell_capture_eff_Astro_HPC', 'cell_capture_eff_Astro_WM', 'cell_capture_eff_Nb_2', 'cell_capture_eff_Inh_5', 'sample', 'UMI_count_Inh_3', 'UMI_count_Ext_Pir', 'UMI_count_Oligo_2', 'UMI_count_Astro_HYPO', 'UMI_count_Ext_L25', 'UMI_count_Astro_THAL_lat', 'UMI_count_Ext_L5_1', 'UMI_count_Ext_L23', 'UMI_count_Micro', 'UMI_count_Ext_Thal_1', 'UMI_count_Ext_Hpc_CA1', 'UMI_count_Inh_Meis2_3', 'UMI_count_Inh_4', 'UMI_count_OPC_1', 'UMI_count_Oligo_1', 'UMI_count_Ext_Hpc_CA3', 'UMI_count_Astro_CTX', 'UMI_count_Astro_THAL_med', 'UMI_count_Inh_Vip', 'UMI_count_Ext_Amy_2', 'UMI_count_Astro_AMY_CTX', 'UMI_count_Unk_1', 'UMI_count_Inh_Sst', 'UMI_count_Inh_Meis2_2', 'UMI_count_Ext_Hpc_DG2', 'UMI_count_Ext_Hpc_DG1', 'UMI_count_Inh_1', 'UMI_count_Inh_Meis2_4', 'UMI_count_Inh_2', 'UMI_count_Nb_1', 'UMI_count_Ext_Thal_2', 'UMI_count_Ext_Amy_1', 'UMI_count_Ext_L6', 'UMI_count_OPC_2', 'UMI_count_Inh_Meis2_1', 'UMI_count_Ext_L6B', 'UMI_count_LowQ_2', 'UMI_count_Ext_Unk_3', 'UMI_count_Ext_L56', 'UMI_count_Inh_Lamp5', 'UMI_count_Inh_Pvalb', 'UMI_count_Ext_L5_2', 'UMI_count_Inh_6', 'UMI_count_Astro_AMY', 'UMI_count_Ext_ClauPyr', 'UMI_count_Astro_HPC', 'UMI_count_Astro_WM', 'UMI_count_Nb_2', 'UMI_count_Inh_5'\n",
       "    var: 'gene_level'\n",
       "    uns: 'design', 'spatial'\n",
       "    obsm: 'X_spatial'\n",
       "    layers: 'expression_levels'"
      ]
     },
     "execution_count": 8,
     "metadata": {},
     "output_type": "execute_result"
    }
   ],
   "source": [
    "adata_vis"
   ]
  },
  {
   "cell_type": "markdown",
   "metadata": {},
   "source": [
    "## Model training"
   ]
  },
  {
   "cell_type": "code",
   "execution_count": 9,
   "metadata": {},
   "outputs": [
    {
     "data": {
      "text/plain": [
       "'/nfs/team205/vk7/sanger_projects/cell2location_paper/notebooks/selected_results/benchmarking/with_tissue_zones/real_mg/pyro/'"
      ]
     },
     "execution_count": 9,
     "metadata": {},
     "output_type": "execute_result"
    }
   ],
   "source": [
    "results_folder"
   ]
  },
  {
   "cell_type": "code",
   "execution_count": 10,
   "metadata": {
    "scrolled": false
   },
   "outputs": [],
   "source": [
    "mod = cell2location_model.LocationModelLinearDependentWMultiExperiment(\n",
    "    device='gpu',\n",
    "    n_obs=adata_vis.n_obs,\n",
    "    n_vars=adata_vis.n_vars,\n",
    "        n_factors=aver.shape[1],\n",
    "        n_exper=obs2sample_df.shape[1],\n",
    "        batch_size=None,\n",
    "        cell_state_mat=aver.values.astype(data_type),\n",
    "    )\n"
   ]
  },
  {
   "cell_type": "code",
   "execution_count": 12,
   "metadata": {},
   "outputs": [
    {
     "data": {
      "application/vnd.jupyter.widget-view+json": {
       "model_id": "516c2c840f88449eaa94a3964b8d3a6d",
       "version_major": 2,
       "version_minor": 0
      },
      "text/plain": [
       "  0%|          | 0/30000 [00:00<?, ?it/s]"
      ]
     },
     "metadata": {},
     "output_type": "display_data"
    }
   ],
   "source": [
    "from numpyro.distributions import constraints\n",
    "mod.guide.scale_constraint = constraints.positive\n",
    "\n",
    "mod._train_full_data(x_data=adata_vis.raw.X.toarray().astype(data_type),\n",
    "                     obs2sample=obs2sample_df.values.astype(data_type),\n",
    "                     n_epochs=30000, lr=0.005)"
   ]
  },
  {
   "cell_type": "code",
   "execution_count": 13,
   "metadata": {},
   "outputs": [],
   "source": [
    "means = mod.guide.median(mod.state_param)\n",
    "means = {k: np.array(v)\n",
    "         for k, v in means.items()}"
   ]
  },
  {
   "cell_type": "code",
   "execution_count": 14,
   "metadata": {},
   "outputs": [
    {
     "data": {
      "text/plain": [
       "{'m_g_alpha_hyp': array(0.4512054, dtype=float32),\n",
       " 'm_g_beta_hyp': array(1.9136692, dtype=float32),\n",
       " 'm_g': array([[1.2732907e-03, 2.2577483e-06, 2.7460515e-01, ..., 2.4298073e-03,\n",
       "         3.2040946e-02, 7.1576744e-02]], dtype=float32),\n",
       " 'n_s_cells_per_location': array([[8.299851 ],\n",
       "        [7.743821 ],\n",
       "        [7.406976 ],\n",
       "        ...,\n",
       "        [7.9796214],\n",
       "        [8.1139765],\n",
       "        [7.3572907]], dtype=float32),\n",
       " 'y_s_groups_per_location': array([[12.425764 ],\n",
       "        [13.626773 ],\n",
       "        [12.8177805],\n",
       "        ...,\n",
       "        [12.078917 ],\n",
       "        [12.874619 ],\n",
       "        [12.272745 ]], dtype=float32),\n",
       " 'z_sr_groups_factors': array([[0.02194831, 0.02196893, 0.02028199, ..., 0.02540981, 0.02393155,\n",
       "         0.02252778],\n",
       "        [0.03022616, 0.03047433, 0.02946252, ..., 0.03072977, 0.02869118,\n",
       "         0.02878982],\n",
       "        [0.02525052, 0.02645888, 0.02209193, ..., 0.02748334, 0.02377302,\n",
       "         0.02692181],\n",
       "        ...,\n",
       "        [0.02441084, 0.02377037, 0.02352629, ..., 0.02571148, 0.02560785,\n",
       "         0.02403978],\n",
       "        [0.02676894, 0.02524392, 0.02757281, ..., 0.02633483, 0.02442109,\n",
       "         0.02655745],\n",
       "        [0.02189653, 0.02172308, 0.02159071, ..., 0.02429576, 0.02225147,\n",
       "         0.02008248]], dtype=float32),\n",
       " 'k_r_factors_per_groups': array([[8.9680166e+00],\n",
       "        [8.8107157e+00],\n",
       "        [8.9073925e+00],\n",
       "        [8.7567501e+00],\n",
       "        [8.6088295e+00],\n",
       "        [8.9826345e+00],\n",
       "        [8.8977308e+00],\n",
       "        [8.7946081e+00],\n",
       "        [8.5800772e+00],\n",
       "        [9.2539968e+00],\n",
       "        [8.7796745e+00],\n",
       "        [8.7482166e+00],\n",
       "        [8.9272709e+00],\n",
       "        [8.5888987e+00],\n",
       "        [8.2850847e-06],\n",
       "        [8.7430820e+00],\n",
       "        [8.7078829e+00],\n",
       "        [8.9278917e+00],\n",
       "        [8.3673820e+00],\n",
       "        [1.0604100e-02],\n",
       "        [8.8541098e+00],\n",
       "        [8.6766376e+00],\n",
       "        [8.7159500e+00],\n",
       "        [9.0500126e+00],\n",
       "        [8.7737799e+00],\n",
       "        [8.8755474e+00],\n",
       "        [8.7686768e+00],\n",
       "        [8.9552298e+00],\n",
       "        [8.5272322e+00],\n",
       "        [8.7655315e+00],\n",
       "        [8.7909327e+00],\n",
       "        [8.6473236e+00],\n",
       "        [8.8259668e+00],\n",
       "        [8.7441797e+00],\n",
       "        [8.6419163e+00],\n",
       "        [8.9032459e+00],\n",
       "        [8.7416849e+00],\n",
       "        [8.5246620e+00],\n",
       "        [8.8151884e+00],\n",
       "        [8.3959761e+00],\n",
       "        [4.1135386e-04],\n",
       "        [8.8517075e+00],\n",
       "        [8.7643490e+00],\n",
       "        [8.8652401e+00],\n",
       "        [8.5607834e+00],\n",
       "        [8.6248789e+00],\n",
       "        [4.3575475e-03],\n",
       "        [8.5914793e+00],\n",
       "        [8.7464199e+00],\n",
       "        [8.8081903e+00]], dtype=float32),\n",
       " 'x_fr_group2fact': array([[2.8328208e-04, 2.3241648e-04, 2.3142407e-04, ..., 6.9386908e-05,\n",
       "         1.5242871e-04, 6.5754657e-04],\n",
       "        [2.4947638e-04, 2.4135358e-04, 2.0899846e-04, ..., 5.6853973e-05,\n",
       "         1.9151908e-04, 6.2109559e-04],\n",
       "        [2.4723954e-04, 2.3601686e-04, 2.5317434e-04, ..., 7.7914541e-05,\n",
       "         1.9924996e-04, 6.9331442e-04],\n",
       "        ...,\n",
       "        [2.6825597e-04, 2.2779011e-04, 2.4261200e-04, ..., 7.4034906e-05,\n",
       "         1.5381670e-04, 6.4556685e-04],\n",
       "        [2.7005689e-04, 2.4132874e-04, 2.1905630e-04, ..., 6.7063927e-05,\n",
       "         1.6363025e-04, 6.9816038e-04],\n",
       "        [2.5283848e-04, 2.2456866e-04, 2.0815029e-04, ..., 5.3228039e-05,\n",
       "         1.6917803e-04, 6.8958016e-04]], dtype=float32),\n",
       " 'w_sf': array([[0.29871574, 0.44608817, 0.33724925, ..., 0.07134103, 0.07059146,\n",
       "         0.60129195],\n",
       "        [0.09165891, 0.13281925, 0.12143915, ..., 0.14420414, 0.12577586,\n",
       "         0.3770307 ],\n",
       "        [0.5625188 , 0.6851063 , 0.4302845 , ..., 0.07646456, 0.0606885 ,\n",
       "         0.70243007],\n",
       "        ...,\n",
       "        [0.37427416, 0.26568547, 0.21065786, ..., 0.18686007, 0.19865465,\n",
       "         0.65808445],\n",
       "        [0.16300991, 0.14303975, 0.15144296, ..., 0.4676288 , 0.44412127,\n",
       "         0.52088094],\n",
       "        [0.31510413, 0.5954676 , 0.16533096, ..., 0.08641334, 0.11714479,\n",
       "         0.6499738 ]], dtype=float32),\n",
       " 'l_s_add_alpha': array([[0.25144544]], dtype=float32),\n",
       " 'l_s_add_beta': array([[385.27893]], dtype=float32),\n",
       " 'l_s_add': array([[2.2518319e-05],\n",
       "        [3.4983121e-05],\n",
       "        [9.8442775e-05],\n",
       "        ...,\n",
       "        [2.2536386e-05],\n",
       "        [7.0614224e-05],\n",
       "        [2.3263303e-05]], dtype=float32),\n",
       " 's_g_gene_add_alpha_hyp': array(2.8322341, dtype=float32),\n",
       " 's_g_gene_add_mean': array([[0.00023453]], dtype=float32),\n",
       " 's_g_gene_add_alpha_e_inv': array([[0.26313204]], dtype=float32),\n",
       " 's_g_gene_add': array([[0.00024075, 0.00021823, 0.00022294, ..., 0.00023037, 0.00022642,\n",
       "         0.00023086]], dtype=float32),\n",
       " 'alpha_g_phi_hyp': array(1.4444308, dtype=float32),\n",
       " 'alpha_g_inverse': array([[0.08392119, 0.4595666 , 0.66796017, ..., 0.3315274 , 0.2966961 ,\n",
       "         0.8895119 ]], dtype=float32),\n",
       " 'u_sf_mRNA_factors': array([[ 90.050545, 142.93001 , 103.67083 , ...,  29.87116 ,  17.806295,\n",
       "          99.53028 ],\n",
       "        [ 27.631401,  42.55629 ,  37.330544, ...,  60.37963 ,  31.726246,\n",
       "          62.4089  ],\n",
       "        [169.57634 , 219.51321 , 132.26997 , ...,  32.016434,  15.30833 ,\n",
       "         116.27141 ],\n",
       "        ...,\n",
       "        [112.82831 ,  85.127625,  64.756485, ...,  78.24007 ,  50.10951 ,\n",
       "         108.93099 ],\n",
       "        [ 49.140804,  45.831013,  46.55375 , ..., 195.80058 , 112.02707 ,\n",
       "          86.220055],\n",
       "        [ 94.99097 , 190.79231 ,  50.822937, ...,  36.18208 ,  29.549109,\n",
       "         107.588455]], dtype=float32)}"
      ]
     },
     "execution_count": 14,
     "metadata": {},
     "output_type": "execute_result"
    }
   ],
   "source": [
    "means"
   ]
  },
  {
   "cell_type": "code",
   "execution_count": 16,
   "metadata": {},
   "outputs": [
    {
     "data": {
      "application/vnd.jupyter.widget-view+json": {
       "model_id": "9c832800bfe4462682c1d4f7404ba930",
       "version_major": 2,
       "version_minor": 0
      },
      "text/plain": [
       "  0%|          | 0/30000 [00:00<?, ?it/s]"
      ]
     },
     "metadata": {},
     "output_type": "display_data"
    }
   ],
   "source": [
    "mod_s = cell2location_model.LocationModelLinearDependentWMultiExperiment(\n",
    "    device='gpu',\n",
    "    n_obs=adata_vis.n_obs,\n",
    "    n_vars=adata_vis.n_vars,\n",
    "        n_factors=aver.shape[1],\n",
    "        n_exper=obs2sample_df.shape[1],\n",
    "        batch_size=None,\n",
    "        cell_state_mat=aver.values.astype(data_type),\n",
    "    )\n",
    "\n",
    "from numpyro.distributions import constraints\n",
    "mod_s.guide.scale_constraint = constraints.softplus_positive\n",
    "\n",
    "mod_s._train_full_data(x_data=adata_vis.raw.X.toarray().astype(data_type),\n",
    "                    obs2sample=obs2sample_df.values.astype(data_type),\n",
    "                    n_epochs=30000, lr=0.005)"
   ]
  },
  {
   "cell_type": "code",
   "execution_count": 17,
   "metadata": {},
   "outputs": [
    {
     "data": {
      "text/plain": [
       "{'m_g_alpha_hyp': array(0.4491563, dtype=float32),\n",
       " 'm_g_beta_hyp': array(1.3991402, dtype=float32),\n",
       " 'm_g': array([[1.79817167e-03, 3.07248547e-06, 3.41550708e-01, ...,\n",
       "         3.60011449e-03, 4.12500426e-02, 1.20123625e-01]], dtype=float32),\n",
       " 'n_s_cells_per_location': array([[8.877608 ],\n",
       "        [8.636853 ],\n",
       "        [7.0393076],\n",
       "        ...,\n",
       "        [7.5693064],\n",
       "        [8.4789   ],\n",
       "        [6.6081266]], dtype=float32),\n",
       " 'y_s_groups_per_location': array([[16.412128],\n",
       "        [18.581081],\n",
       "        [16.771143],\n",
       "        ...,\n",
       "        [16.062508],\n",
       "        [17.224697],\n",
       "        [16.6729  ]], dtype=float32),\n",
       " 'z_sr_groups_factors': array([[0.03392758, 0.03592193, 0.03408599, ..., 0.04141523, 0.03977865,\n",
       "         0.03570074],\n",
       "        [0.05326629, 0.05263792, 0.04973324, ..., 0.05539358, 0.0489004 ,\n",
       "         0.04922099],\n",
       "        [0.03550272, 0.03679345, 0.03666492, ..., 0.03969895, 0.03307478,\n",
       "         0.03739205],\n",
       "        ...,\n",
       "        [0.03636505, 0.03772935, 0.03921319, ..., 0.03684601, 0.03885232,\n",
       "         0.03593012],\n",
       "        [0.04401274, 0.03940568, 0.0436087 , ..., 0.04130503, 0.03970315,\n",
       "         0.04396625],\n",
       "        [0.03445986, 0.03213524, 0.03304417, ..., 0.03613206, 0.03227411,\n",
       "         0.02921187]], dtype=float32),\n",
       " 'k_r_factors_per_groups': array([[10.492819 ],\n",
       "        [10.306659 ],\n",
       "        [10.375959 ],\n",
       "        [10.218109 ],\n",
       "        [ 9.997171 ],\n",
       "        [10.551625 ],\n",
       "        [10.419397 ],\n",
       "        [10.283848 ],\n",
       "        [10.091841 ],\n",
       "        [ 1.4835018],\n",
       "        [10.267211 ],\n",
       "        [10.253777 ],\n",
       "        [10.382542 ],\n",
       "        [10.017064 ],\n",
       "        [10.040965 ],\n",
       "        [10.272164 ],\n",
       "        [ 3.194725 ],\n",
       "        [10.4171295],\n",
       "        [ 9.825089 ],\n",
       "        [ 2.9615467],\n",
       "        [10.324241 ],\n",
       "        [10.211954 ],\n",
       "        [10.224499 ],\n",
       "        [10.569418 ],\n",
       "        [10.297787 ],\n",
       "        [10.3359785],\n",
       "        [10.295324 ],\n",
       "        [10.423151 ],\n",
       "        [ 9.94112  ],\n",
       "        [10.289994 ],\n",
       "        [10.247222 ],\n",
       "        [10.129484 ],\n",
       "        [10.351291 ],\n",
       "        [10.279134 ],\n",
       "        [10.099192 ],\n",
       "        [10.420711 ],\n",
       "        [10.191293 ],\n",
       "        [ 9.976215 ],\n",
       "        [10.290085 ],\n",
       "        [ 9.882867 ],\n",
       "        [10.105743 ],\n",
       "        [10.363464 ],\n",
       "        [10.257018 ],\n",
       "        [10.419995 ],\n",
       "        [ 0.8246435],\n",
       "        [10.144362 ],\n",
       "        [ 2.385885 ],\n",
       "        [10.037318 ],\n",
       "        [10.269464 ],\n",
       "        [10.291753 ]], dtype=float32),\n",
       " 'x_fr_group2fact': array([[0.00043272, 0.00036738, 0.00026348, ..., 0.00023934, 0.00032576,\n",
       "         0.0014416 ],\n",
       "        [0.0004654 , 0.00036816, 0.00022604, ..., 0.00023029, 0.00037273,\n",
       "         0.00141267],\n",
       "        [0.00043196, 0.00035271, 0.00023626, ..., 0.00024365, 0.00037818,\n",
       "         0.00161293],\n",
       "        ...,\n",
       "        [0.00045305, 0.00035186, 0.00024731, ..., 0.00023072, 0.00032126,\n",
       "         0.00144851],\n",
       "        [0.00042698, 0.00040923, 0.00021738, ..., 0.00025943, 0.00029293,\n",
       "         0.00178624],\n",
       "        [0.00041619, 0.00038246, 0.0002049 , ..., 0.00021243, 0.00032854,\n",
       "         0.00161092]], dtype=float32),\n",
       " 'w_sf': array([[0.2777266 , 0.4493926 , 0.2859395 , ..., 0.034049  , 0.10064559,\n",
       "         1.0810031 ],\n",
       "        [0.10846518, 0.16323373, 0.13788378, ..., 0.08824895, 0.09957732,\n",
       "         0.6875195 ],\n",
       "        [0.4665686 , 0.64137435, 0.3408731 , ..., 0.00961139, 0.04870863,\n",
       "         1.0582082 ],\n",
       "        ...,\n",
       "        [0.3792337 , 0.25921646, 0.18438241, ..., 0.0688009 , 0.18547587,\n",
       "         1.0936837 ],\n",
       "        [0.21468294, 0.19126661, 0.17903303, ..., 0.39442596, 0.53271043,\n",
       "         0.8602853 ],\n",
       "        [0.28340966, 0.478651  , 0.12730327, ..., 0.01694294, 0.15136279,\n",
       "         1.1967449 ]], dtype=float32),\n",
       " 'l_s_add_alpha': array([[0.27495423]], dtype=float32),\n",
       " 'l_s_add_beta': array([[412.64563]], dtype=float32),\n",
       " 'l_s_add': array([[3.0002082e-05],\n",
       "        [4.6577014e-05],\n",
       "        [1.2720625e-04],\n",
       "        ...,\n",
       "        [2.9793940e-05],\n",
       "        [9.3436654e-05],\n",
       "        [3.3335888e-05]], dtype=float32),\n",
       " 's_g_gene_add_alpha_hyp': array(2.8225803, dtype=float32),\n",
       " 's_g_gene_add_mean': array([[0.00022769]], dtype=float32),\n",
       " 's_g_gene_add_alpha_e_inv': array([[0.27297616]], dtype=float32),\n",
       " 's_g_gene_add': array([[0.0002334 , 0.00021061, 0.00021555, ..., 0.00022341, 0.00021902,\n",
       "         0.00022375]], dtype=float32),\n",
       " 'alpha_g_phi_hyp': array(1.4538977, dtype=float32),\n",
       " 'alpha_g_inverse': array([[0.08428428, 0.4564033 , 0.67004645, ..., 0.33397222, 0.29784924,\n",
       "         0.888716  ]], dtype=float32),\n",
       " 'u_sf_mRNA_factors': array([[112.40942 , 193.48477 , 118.17233 , ...,  19.457237,  34.824505,\n",
       "         246.25276 ],\n",
       "        [ 43.901115,  70.27984 ,  56.98425 , ...,  50.4297  ,  34.454872,\n",
       "         156.61711 ],\n",
       "        [188.84293 , 276.142   , 140.87514 , ...,   5.492411,  16.853733,\n",
       "         241.06009 ],\n",
       "        ...,\n",
       "        [153.49426 , 111.60495 ,  76.20108 , ...,  39.316143,  64.176735,\n",
       "         249.14142 ],\n",
       "        [ 86.89259 ,  82.34933 ,  73.990295, ..., 225.39397 , 184.32379 ,\n",
       "         195.9732  ],\n",
       "        [114.709625, 206.0819  ,  52.61156 , ...,   9.68201 ,  52.373226,\n",
       "         272.61877 ]], dtype=float32)}"
      ]
     },
     "execution_count": 17,
     "metadata": {},
     "output_type": "execute_result"
    }
   ],
   "source": [
    "means_softplus = mod_s.guide.median(mod_s.state_param)\n",
    "means_softplus = {k: np.array(v)\n",
    "         for k, v in means_softplus.items()}\n",
    "means_softplus"
   ]
  },
  {
   "cell_type": "code",
   "execution_count": 18,
   "metadata": {},
   "outputs": [
    {
     "data": {
      "application/vnd.jupyter.widget-view+json": {
       "model_id": "c00574783e294b35a9efdf702d64775b",
       "version_major": 2,
       "version_minor": 0
      },
      "text/plain": [
       "  0%|          | 0/30000 [00:00<?, ?it/s]"
      ]
     },
     "metadata": {},
     "output_type": "display_data"
    }
   ],
   "source": [
    "mod_s3 = cell2location_model.LocationModelLinearDependentWMultiExperiment(\n",
    "    device='gpu',\n",
    "    n_obs=adata_vis.n_obs,\n",
    "    n_vars=adata_vis.n_vars,\n",
    "        n_factors=aver.shape[1],\n",
    "        n_exper=obs2sample_df.shape[1],\n",
    "        batch_size=None,\n",
    "        cell_state_mat=aver.values.astype(data_type),\n",
    "    )\n",
    "\n",
    "from numpyro.distributions import constraints, transforms\n",
    "from numpyro.distributions.transforms import biject_to\n",
    "\n",
    "@biject_to.register(constraints.positive)\n",
    "def _transform_to_positive(constraint):\n",
    "    return transforms.SoftplusTransform()\n",
    "\n",
    "mod_s3.guide.scale_constraint = constraints.positive\n",
    "\n",
    "mod_s3._train_full_data(x_data=adata_vis.raw.X.toarray().astype(data_type),\n",
    "                    obs2sample=obs2sample_df.values.astype(data_type),\n",
    "                    n_epochs=30000, lr=0.005)"
   ]
  },
  {
   "cell_type": "markdown",
   "metadata": {},
   "source": [
    "### Compare ELBO as training progresses"
   ]
  },
  {
   "cell_type": "code",
   "execution_count": 20,
   "metadata": {},
   "outputs": [
    {
     "data": {
      "image/png": "[encoded data removed]",
      "text/plain": [
       "<Figure size 432x288 with 1 Axes>"
      ]
     },
     "metadata": {
      "needs_background": "light"
     },
     "output_type": "display_data"
    }
   ],
   "source": [
    "plt.plot(range(5000, len(mod.hist)), np.array(mod.hist)[5000:]);\n",
    "plt.plot(range(5000, len(mod.hist)), np.array(mod_s.hist)[5000:]);\n",
    "plt.plot(range(5000, len(mod.hist)), np.array(mod_s3.hist)[5000:]);\n",
    "plt.legend(labels=['exp', 'softplus scales', 'all_softplus']);\n",
    "plt.xlim(0, len(mod.hist));"
   ]
  },
  {
   "cell_type": "code",
   "execution_count": 21,
   "metadata": {},
   "outputs": [
    {
     "data": {
      "image/png": "[encoded data removed]",
      "text/plain": [
       "<Figure size 432x288 with 1 Axes>"
      ]
     },
     "metadata": {
      "needs_background": "light"
     },
     "output_type": "display_data"
    }
   ],
   "source": [
    "plt.plot(range(5000, len(mod.hist)), np.array(mod.hist)[5000:]);\n",
    "plt.plot(range(5000, len(mod.hist)), np.array(mod_s.hist)[5000:]);\n",
    "plt.plot(range(5000, len(mod.hist)), np.array(mod_s3.hist)[5000:]);\n",
    "plt.legend(labels=['exp', 'softplus scales', 'all_softplus']);\n",
    "plt.xlim(0, len(mod.hist));\n",
    "plt.ylim(3.2e+7, 3.3e+7);\n",
    "plt.title('zoom in on y-axis');"
   ]
  },
  {
   "cell_type": "markdown",
   "metadata": {},
   "source": [
    "### Evaluate accuracy using $R^2$ with ground truth data"
   ]
  },
  {
   "cell_type": "code",
   "execution_count": 22,
   "metadata": {},
   "outputs": [],
   "source": [
    "means = mod.guide.median(mod.state_param)\n",
    "means = {k: np.array(v)\n",
    "         for k, v in means.items()}\n",
    "means_softplus = mod_s.guide.median(mod_s.state_param)\n",
    "means_softplus = {k: np.array(v)\n",
    "         for k, v in means_softplus.items()}\n",
    "means_softplus_all = mod_s3.guide.median(mod_s3.state_param)\n",
    "means_softplus_all = {k: np.array(v)\n",
    "         for k, v in means_softplus_all.items()}"
   ]
  },
  {
   "cell_type": "code",
   "execution_count": 23,
   "metadata": {},
   "outputs": [],
   "source": [
    "from re import sub\n",
    "cell_count = adata_vis.obs.loc[:, ['cell_abundances_' in i for i in adata_vis.obs.columns]]\n",
    "cell_count.columns =  [sub('cell_abundances_', '', i) for i in cell_count.columns]\n",
    "cell_count_columns = cell_count.columns\n",
    "\n",
    "infer_cell_count = pd.DataFrame(means['w_sf'], index=adata_vis.obs_names, \n",
    "                                columns=aver.columns)\n",
    "infer_cell_count = infer_cell_count[cell_count.columns]\n",
    "\n",
    "infer_cell_count_softplus = pd.DataFrame(means_softplus['w_sf'], index=adata_vis.obs_names, \n",
    "                                columns=aver.columns)\n",
    "infer_cell_count_softplus = infer_cell_count_softplus[cell_count.columns]\n",
    "\n",
    "infer_cell_count_softplus_all = pd.DataFrame(means_softplus_all['w_sf'], index=adata_vis.obs_names, \n",
    "                                columns=aver.columns)\n",
    "infer_cell_count_softplus_all = infer_cell_count_softplus_all[cell_count.columns]"
   ]
  },
  {
   "cell_type": "code",
   "execution_count": 24,
   "metadata": {},
   "outputs": [
    {
     "data": {
      "text/plain": [
       "(                      Inh_3   Ext_Pir   Oligo_2  Astro_HYPO   Ext_L25\n",
       " exper0_location_0  0.139723  0.135510  0.068211    0.336484  0.218055\n",
       " exper0_location_1  0.078131  0.735010  0.118472    0.174242  0.142179\n",
       " exper0_location_2  0.096057  0.284654  0.058918    0.307418  0.169057\n",
       " exper0_location_3  0.121450  0.295460  0.273235    0.165528  0.175696\n",
       " exper0_location_4  0.099420  0.217653  0.195225    0.121797  0.118740,\n",
       "                       Inh_3   Ext_Pir   Oligo_2  Astro_HYPO   Ext_L25\n",
       " exper0_location_0  0.182863  0.207382  0.095897    0.329632  0.357548\n",
       " exper0_location_1  0.102476  0.818951  0.094926    0.175022  0.183564\n",
       " exper0_location_2  0.112710  0.343079  0.047560    0.279108  0.232956\n",
       " exper0_location_3  0.194899  0.480848  0.330230    0.152635  0.225841\n",
       " exper0_location_4  0.137074  0.521669  0.240153    0.127277  0.153499,\n",
       "                       Inh_3   Ext_Pir   Oligo_2  Astro_HYPO   Ext_L25\n",
       " exper0_location_0  0.240140  0.106721  0.101170    0.408368  0.482298\n",
       " exper0_location_1  0.152004  1.144311  0.070064    0.194912  0.146510\n",
       " exper0_location_2  0.133978  0.415955  0.047884    0.359006  0.259312\n",
       " exper0_location_3  0.254007  0.615927  0.433959    0.158274  0.240804\n",
       " exper0_location_4  0.189063  0.677211  0.312124    0.130576  0.157580)"
      ]
     },
     "execution_count": 24,
     "metadata": {},
     "output_type": "execute_result"
    }
   ],
   "source": [
    "infer_cell_count.iloc[0:5,0:5], infer_cell_count_softplus.iloc[0:5,0:5], infer_cell_count_softplus_all.iloc[0:5,0:5]"
   ]
  },
  {
   "cell_type": "code",
   "execution_count": 25,
   "metadata": {},
   "outputs": [
    {
     "data": {
      "image/png": "[encoded data removed]",
      "text/plain": [
       "<Figure size 288x288 with 1 Axes>"
      ]
     },
     "metadata": {
      "needs_background": "light"
     },
     "output_type": "display_data"
    }
   ],
   "source": [
    "rcParams['figure.figsize'] = 4, 4\n",
    "rcParams[\"axes.facecolor\"] = \"white\"\n",
    "\n",
    "plt.hist2d(cell_count.values.flatten(), \n",
    "           infer_cell_count.values.flatten(),\n",
    "           bins=[50, 50], norm=mpl.colors.LogNorm());\n",
    "plt.xlabel('Simulated cell abundance');\n",
    "plt.ylabel('Estimated cell abundance');\n",
    "plt.title(r'exp, $R^2$: ' \\\n",
    "          + str(np.round(np.corrcoef(cell_count.values.flatten(), \n",
    "           infer_cell_count.values.flatten()), 3)[0,1]));\n",
    "plt.tight_layout()"
   ]
  },
  {
   "cell_type": "code",
   "execution_count": 26,
   "metadata": {},
   "outputs": [
    {
     "data": {
      "image/png": "[encoded data removed]",
      "text/plain": [
       "<Figure size 288x288 with 1 Axes>"
      ]
     },
     "metadata": {
      "needs_background": "light"
     },
     "output_type": "display_data"
    }
   ],
   "source": [
    "rcParams['figure.figsize'] = 4, 4\n",
    "rcParams[\"axes.facecolor\"] = \"white\"\n",
    "\n",
    "plt.hist2d(cell_count.values.flatten(), \n",
    "           infer_cell_count_softplus.values.flatten(),\n",
    "           bins=[50, 50], norm=mpl.colors.LogNorm());\n",
    "plt.xlabel('Simulated cell abundance');\n",
    "plt.ylabel('Estimated cell abundance');\n",
    "plt.title(r'softplus scales, $R^2$: ' \\\n",
    "          + str(np.round(np.corrcoef(cell_count.values.flatten(), \n",
    "           infer_cell_count_softplus.values.flatten()), 3)[0,1]));\n",
    "plt.tight_layout()"
   ]
  },
  {
   "cell_type": "code",
   "execution_count": 27,
   "metadata": {},
   "outputs": [
    {
     "data": {
      "image/png": "[encoded data removed]",
      "text/plain": [
       "<Figure size 288x288 with 1 Axes>"
      ]
     },
     "metadata": {
      "needs_background": "light"
     },
     "output_type": "display_data"
    }
   ],
   "source": [
    "rcParams['figure.figsize'] = 4, 4\n",
    "rcParams[\"axes.facecolor\"] = \"white\"\n",
    "\n",
    "plt.hist2d(cell_count.values.flatten(), \n",
    "           infer_cell_count_softplus_all.values.flatten(),\n",
    "           bins=[50, 50], norm=mpl.colors.LogNorm());\n",
    "plt.xlabel('Simulated cell abundance');\n",
    "plt.ylabel('Estimated cell abundance');\n",
    "plt.title(r'softplus all, $R^2$: ' \\\n",
    "          + str(np.round(np.corrcoef(cell_count.values.flatten(), \n",
    "           infer_cell_count_softplus_all.values.flatten()), 3)[0,1]));\n",
    "plt.tight_layout()"
   ]
  },
  {
   "cell_type": "markdown",
   "metadata": {},
   "source": [
    "Original implementation of cell2location in pymc3 has $R^2 = 0.791$."
   ]
  },
  {
   "cell_type": "markdown",
   "metadata": {},
   "source": [
    "## Evaluate with PR curves"
   ]
  },
  {
   "cell_type": "code",
   "execution_count": 28,
   "metadata": {},
   "outputs": [],
   "source": [
    "import matplotlib as mpl\n",
    "from matplotlib import pyplot as plt\n",
    "import numpy as np\n",
    "from scipy import interpolate\n",
    "\n",
    "with plt.style.context('seaborn'):\n",
    "    seaborn_colors = mpl.rcParams['axes.prop_cycle'].by_key()['color']\n",
    "\n",
    "\n",
    "def compute_precision_recall(pos_cell_count, infer_cell_proportions, mode='macro'):\n",
    "    r\"\"\" Plot precision-recall curves on average and for each cell type.\n",
    "    :param pos_cell_count: binary matrix showing which cell types are present in which locations\n",
    "    :param infer_cell_proportions: inferred locations (the higher the more cells)\n",
    "    \"\"\"\n",
    "    \n",
    "    from sklearn.metrics import precision_recall_curve\n",
    "    from sklearn.metrics import average_precision_score\n",
    "    \n",
    "    ### calculating ###\n",
    "    predictor = infer_cell_proportions.values + np.random.gamma(20, 1e-12, \n",
    "                                                                infer_cell_proportions.shape)\n",
    "    # For each cell type\n",
    "    precision = dict()\n",
    "    recall = dict()\n",
    "    average_precision = dict()\n",
    "    for i, c in enumerate(infer_cell_proportions.columns):\n",
    "        precision[c], recall[c], _ = precision_recall_curve(pos_cell_count[:, i],\n",
    "                                                            predictor[:, i])\n",
    "        average_precision[c] = average_precision_score(pos_cell_count[:, i], predictor[:, i], average=mode)\n",
    "\n",
    "    average_precision[\"averaged\"] = average_precision_score(pos_cell_count, predictor,\n",
    "                                                     average=mode)\n",
    "\n",
    "    # A \"micro-average\": quantifying score on all classes jointly\n",
    "    if mode == 'micro':\n",
    "        precision_, recall_, threshold = precision_recall_curve(pos_cell_count.ravel(),\n",
    "                                                                        predictor.ravel())\n",
    "        #precision_[threshold < 0.1] = 0\n",
    "        precision[\"averaged\"], recall[\"averaged\"] =  precision_, recall_\n",
    "\n",
    "    elif mode == 'macro':\n",
    "        precisions = []\n",
    "        recall_grid = np.linspace(0, 1, 2000)\n",
    "\n",
    "        for i, c in enumerate(infer_cell_proportions.columns):\n",
    "            f = interpolate.interp1d(recall[c], precision[c])\n",
    "            precision_interp = f(recall_grid)\n",
    "            precisions.append(precision_interp)\n",
    "\n",
    "        precision[\"averaged\"] = np.mean(precisions, axis=0)\n",
    "        recall['averaged'] = recall_grid\n",
    "\n",
    "        \n",
    "    return precision, recall, average_precision\n",
    "\n",
    "def compare_precision_recall(pos_cell_count, infer_cell_proportions,\n",
    "                             method_title, title='',\n",
    "                             legend_loc=(0, -.37),\n",
    "                             colors=sc.pl.palettes.default_102,\n",
    "                             mode='macro', curve='PR'):\n",
    "    \n",
    "    r\"\"\" Plot precision-recall curves on average and for each cell type.\n",
    "    :param pos_cell_count: binary matrix showing which cell types are present in which locations\n",
    "    :param infer_cell_proportions: inferred locations (the higher the more cells), \n",
    "                                        list of inferred parameters for several methods\n",
    "    :param method_title: title for each infer_cell_proportions\n",
    "    :param title: plot title\n",
    "    \"\"\"\n",
    "    # setup plot details\n",
    "    from itertools import cycle\n",
    "    colors = cycle(colors)\n",
    "    lines = []\n",
    "    labels = []\n",
    "    roc = {}\n",
    "    \n",
    "    ### plotting ###\n",
    "    for i, color in zip(range(len(infer_cell_proportions)), colors):\n",
    "        \n",
    "        if curve == 'PR':\n",
    "            precision, recall, average_precision = compute_precision_recall(pos_cell_count, \n",
    "                                                                        infer_cell_proportions[i], \n",
    "                                                                        mode=mode)\n",
    "\n",
    "            xlabel = 'Recall'\n",
    "            ylabel = 'Precision'\n",
    "            \n",
    "            l, = plt.plot(recall[\"averaged\"], precision[\"averaged\"], color=color, lw=3)\n",
    "\n",
    "        elif curve == 'ROC':\n",
    "            FPR, TPR, average_precision = compute_roc(pos_cell_count, \n",
    "                                                                        infer_cell_proportions[i], \n",
    "                                                                        mode=mode)\n",
    "\n",
    "            xlabel = 'FPR'\n",
    "            ylabel = 'TPR'\n",
    "            \n",
    "            l, = plt.plot(FPR[\"averaged\"], TPR[\"averaged\"], color=color, lw=3)\n",
    "            \n",
    "        \n",
    "        lines.append(l)\n",
    "\n",
    "        labels.append(method_title[i] + '(' + curve + ' score = {0:0.2f})'\n",
    "                      ''.format(average_precision[\"averaged\"]))\n",
    "        roc[method_title[i]] = average_precision[\"averaged\"]\n",
    "\n",
    "\n",
    "    fig = plt.gcf()\n",
    "    fig.subplots_adjust(bottom=0.25)\n",
    "    plt.xlim([0.0, 1.0])\n",
    "    plt.ylim([0.0, 1.05])\n",
    "    plt.xlabel(xlabel)\n",
    "    plt.ylabel(ylabel)\n",
    "    plt.title(title)\n",
    "    if legend_loc is not None:\n",
    "        plt.legend(lines, labels, loc=legend_loc, prop=dict(size=8))\n",
    "\n",
    "    #plt.show()\n",
    "    return roc"
   ]
  },
  {
   "cell_type": "code",
   "execution_count": 31,
   "metadata": {},
   "outputs": [
    {
     "data": {
      "image/png": "[encoded data removed]",
      "text/plain": [
       "<Figure size 432x216 with 1 Axes>"
      ]
     },
     "metadata": {
      "needs_background": "light"
     },
     "output_type": "display_data"
    }
   ],
   "source": [
    "rcParams['figure.figsize'] = 6, 3\n",
    "rcParams['font.size'] = 8\n",
    "\n",
    "results = [\n",
    "    infer_cell_count,\n",
    "    infer_cell_count_softplus,\n",
    "    infer_cell_count_softplus_all\n",
    "]\n",
    "\n",
    "names = [\n",
    "    'exp', \n",
    "    'softplus scales', \n",
    "    'all_softplus'\n",
    "]\n",
    "\n",
    "compare_precision_recall(cell_count.values > 0.1, \n",
    "                         results,\n",
    "                         method_title=names, \n",
    "                         legend_loc=(1.1, 0.5))\n",
    "plt.tight_layout()"
   ]
  },
  {
   "cell_type": "markdown",
   "metadata": {},
   "source": [
    "Original implementation of cell2location in pymc3 has PR score = 0.66."
   ]
  },
  {
   "cell_type": "code",
   "execution_count": 30,
   "metadata": {},
   "outputs": [
    {
     "name": "stdout",
     "output_type": "stream",
     "text": [
      "ipykernel 5.5.3\n",
      "ipykernel._version 5.5.3\n",
      "json 2.0.9\n",
      "re 2.2.1\n",
      "IPython 7.22.0\n",
      "IPython.core.release 7.22.0\n",
      "logging 0.5.1.2\n",
      "zlib 1.0\n",
      "traitlets 5.0.5\n",
      "traitlets._version 5.0.5\n",
      "argparse 1.1\n",
      "ipython_genutils 0.2.0\n",
      "ipython_genutils._version 0.2.0\n",
      "platform 1.0.8\n",
      "pygments 2.8.1\n",
      "pexpect 4.8.0\n",
      "ptyprocess 0.7.0\n",
      "decorator 5.0.6\n",
      "pickleshare 0.7.5\n",
      "backcall 0.2.0\n",
      "prompt_toolkit 3.0.18\n",
      "wcwidth 0.2.5\n",
      "jedi 0.18.0\n",
      "parso 0.8.2\n",
      "colorama 0.4.4\n",
      "ctypes 1.1.0\n",
      "_ctypes 1.1.0\n",
      "urllib.request 3.7\n",
      "jupyter_client 6.1.12\n",
      "jupyter_client._version 6.1.12\n",
      "zmq 22.0.3\n",
      "zmq.backend.cython 40304\n",
      "zmq.backend.cython.constants 40304\n",
      "zmq.sugar 22.0.3\n",
      "zmq.sugar.constants 40304\n",
      "zmq.sugar.version 22.0.3\n",
      "jupyter_core 4.7.1\n",
      "jupyter_core.version 4.7.1\n",
      "_curses b'2.2'\n",
      "dateutil 2.8.1\n",
      "six 1.15.0\n",
      "decimal 1.70\n",
      "_decimal 1.70\n",
      "distutils 3.7.10\n",
      "scanpy 1.7.2\n",
      "scanpy._metadata 1.7.2\n",
      "packaging 20.9\n",
      "packaging.__about__ 20.9\n",
      "pkg_resources._vendor.six 1.10.0\n",
      "pkg_resources.extern.six 1.10.0\n",
      "pkg_resources._vendor.appdirs 1.4.3\n",
      "pkg_resources.extern.appdirs 1.4.3\n",
      "pkg_resources._vendor.packaging 20.4\n",
      "pkg_resources._vendor.packaging.__about__ 20.4\n",
      "pkg_resources.extern.packaging 20.4\n",
      "pkg_resources._vendor.pyparsing 2.2.1\n",
      "pkg_resources.extern.pyparsing 2.2.1\n",
      "csv 1.0\n",
      "_csv 1.0\n",
      "numpy 1.20.2\n",
      "numpy.core 1.20.2\n",
      "numpy.core._multiarray_umath 3.1\n",
      "numpy.lib 1.20.2\n",
      "numpy.linalg._umath_linalg 0.1.5\n",
      "scipy 1.6.2\n",
      "anndata 0.7.5\n",
      "anndata._metadata 0.7.5\n",
      "h5py 3.1.0\n",
      "cached_property 1.5.2\n",
      "natsort 7.1.1\n",
      "pandas 1.2.3\n",
      "pytz 2021.1\n",
      "pandas.compat.numpy.function 1.20.2\n",
      "sinfo 0.3.1\n",
      "stdlib_list v0.7.0\n",
      "numba 0.53.1\n",
      "llvmlite 0.36.0\n",
      "numba.misc.appdirs 1.4.1\n",
      "sklearn 0.24.1\n",
      "sklearn.base 0.24.1\n",
      "joblib 1.0.1\n",
      "joblib.externals.loky 2.9.0\n",
      "joblib.externals.cloudpickle 1.6.0\n",
      "scipy._lib.decorator 4.0.5\n",
      "scipy.linalg._fblas b'$Revision: $'\n",
      "scipy.linalg._flapack b'$Revision: $'\n",
      "scipy.linalg._flinalg b'$Revision: $'\n",
      "scipy.special.specfun b'$Revision: $'\n",
      "scipy.ndimage 2.0\n",
      "scipy.optimize.minpack2 b'$Revision: $'\n",
      "scipy.sparse.linalg.isolve._iterative b'$Revision: $'\n",
      "scipy.sparse.linalg.eigen.arpack._arpack b'$Revision: $'\n",
      "scipy.optimize._lbfgsb b'$Revision: $'\n",
      "scipy.optimize._cobyla b'$Revision: $'\n",
      "scipy.optimize._slsqp b'$Revision: $'\n",
      "scipy.optimize._minpack  1.10 \n",
      "scipy.optimize.__nnls b'$Revision: $'\n",
      "scipy.linalg._interpolative b'$Revision: $'\n",
      "scipy.integrate._odepack  1.9 \n",
      "scipy.integrate._quadpack  1.13 \n",
      "scipy.integrate._ode $Id$\n",
      "scipy.integrate.vode b'$Revision: $'\n",
      "scipy.integrate._dop b'$Revision: $'\n",
      "scipy.integrate.lsoda b'$Revision: $'\n",
      "scipy.interpolate._fitpack  1.7 \n",
      "scipy.interpolate.dfitpack b'$Revision: $'\n",
      "scipy.stats.statlib b'$Revision: $'\n",
      "scipy.stats.mvn b'$Revision: $'\n",
      "sklearn.utils._joblib 1.0.1\n",
      "leidenalg 0.8.3\n",
      "igraph 0.9.1\n",
      "texttable 1.6.3\n",
      "igraph.version 0.9.1\n",
      "louvain 0.7.0\n",
      "matplotlib 3.4.1\n",
      "PIL 8.1.2\n",
      "PIL._version 8.1.2\n",
      "PIL.Image 8.1.2\n",
      "xml.etree.ElementTree 1.3.0\n",
      "cffi 1.14.5\n",
      "pyparsing 2.4.7\n",
      "cycler 0.10.0\n",
      "kiwisolver 1.3.1\n",
      "tables 3.6.1\n",
      "numexpr 2.7.3\n",
      "legacy_api_wrap 0.0.0\n",
      "get_version 2.1\n",
      "numpyro 0.6.0\n",
      "jax 0.2.12\n",
      "jaxlib 0.1.65\n",
      "jaxlib.version 0.1.65\n",
      "jax.version 0.2.12\n",
      "opt_einsum v3.3.0\n",
      "scipy._lib._uarray 0.5.1+49.g4c3f1d7.scipy\n",
      "scipy.signal.spline 0.2\n",
      "tqdm 4.60.0\n",
      "tqdm.cli 4.60.0\n",
      "tqdm.version 4.60.0\n",
      "tqdm._dist_ver 4.60.0\n",
      "ipywidgets 7.6.3\n",
      "ipywidgets._version 7.6.3\n",
      "numpyro.version 0.6.0\n",
      "seaborn 0.11.1\n",
      "seaborn.external.husl 2.1.0\n",
      "statsmodels 0.12.2\n"
     ]
    }
   ],
   "source": [
    "import sys\n",
    "for module in sys.modules:\n",
    "    try:\n",
    "        print(module,sys.modules[module].__version__)\n",
    "    except:\n",
    "        try:\n",
    "            if  type(modules[module].version) is str:\n",
    "                print(module,sys.modules[module].version)\n",
    "            else:\n",
    "                print(module,sys.modules[module].version())\n",
    "        except:\n",
    "            try:\n",
    "                print(module,sys.modules[module].VERSION)\n",
    "            except:\n",
    "                pass"
   ]
  },
  {
   "cell_type": "code",
   "execution_count": null,
   "metadata": {},
   "outputs": [],
   "source": []
  }
 ],
 "metadata": {
  "kernelspec": {
   "display_name": "Python [conda env:numpyro]",
   "language": "python",
   "name": "conda-env-numpyro-py"
  },
  "language_info": {
   "codemirror_mode": {
    "name": "ipython",
    "version": 3
   },
   "file_extension": ".py",
   "mimetype": "text/x-python",
   "name": "python",
   "nbconvert_exporter": "python",
   "pygments_lexer": "ipython3",
   "version": "3.7.10"
  }
 },
 "nbformat": 4,
 "nbformat_minor": 4
}
