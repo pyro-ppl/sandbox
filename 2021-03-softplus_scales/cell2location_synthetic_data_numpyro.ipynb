{
 "cells": [
  {
   "cell_type": "markdown",
   "metadata": {},
   "source": [
    "# Benchmarking cell2location pyro model using softplus/exp for scales"
   ]
  },
  {
   "cell_type": "code",
   "execution_count": 1,
   "metadata": {},
   "outputs": [
    {
     "name": "stdout",
     "output_type": "stream",
     "text": [
      "gpu\n"
     ]
    }
   ],
   "source": [
    "import sys, ast, os\n",
    "import scanpy as sc\n",
    "import anndata\n",
    "import pandas as pd\n",
    "import numpy as np\n",
    "import os\n",
    "import matplotlib.pyplot as plt \n",
    "import matplotlib as mpl\n",
    "data_type='float32'\n",
    "\n",
    "#sys.path.insert(1, '/nfs/team205/vk7/sanger_projects/BayraktarLab/cell2location/')\n",
    "#sys.path.insert(1, '/nfs/team205/vk7/sanger_projects/software/pyro/')\n",
    "\n",
    "# this line forces JAX to use the GPU and should go before importing cell2location\n",
    "os.environ[\"JAX_PLATFORM_NAME\"] = \"gpu\"\n",
    "#os.environ[\"XLA_PYTHON_CLIENT_ALLOCATOR\"]=\"platform\"\n",
    "os.environ[\"XLA_PYTHON_CLIENT_PREALLOCATE\"]=\"false\"\n",
    "\n",
    "\n",
    "import cell2location_model_numpyro as cell2location_model \n",
    "\n",
    "from matplotlib import rcParams\n",
    "rcParams['pdf.fonttype'] = 42 # enables correct plotting of text\n",
    "import seaborn as sns\n",
    "\n",
    "from jax.lib import xla_bridge\n",
    "print(xla_bridge.get_backend().platform)"
   ]
  },
  {
   "cell_type": "markdown",
   "metadata": {},
   "source": [
    "`THEANO_FLAGS='force_device=True'` forces the package to use GPU. Pay attention to error messages that might indicate theano failed to initalise the GPU.   \n",
    "Do not forget to change `device=cuda4` to your available GPU id. Use `device=cuda` / `device=cuda0` if you have just one locally or if you are requesting one GPU via HPC cluster job."
   ]
  },
  {
   "cell_type": "markdown",
   "metadata": {},
   "source": [
    "### The purpose of the notebook is to benchmark several versions of the model using mouse brain data."
   ]
  },
  {
   "cell_type": "code",
   "execution_count": 2,
   "metadata": {},
   "outputs": [],
   "source": [
    "sc_data_folder = '/nfs/team205/vk7/sanger_projects/cell2location_paper/notebooks/selected_data/mouse_visium_snrna/'\n",
    "sp_data_folder = '/nfs/team205/vk7/sanger_projects/cell2location_paper/notebooks/selected_results/benchmarking/with_tissue_zones/data/'\n",
    "results_folder = '/nfs/team205/vk7/sanger_projects/cell2location_paper/notebooks/selected_results/benchmarking/with_tissue_zones/real_mg/pyro/'"
   ]
  },
  {
   "cell_type": "markdown",
   "metadata": {},
   "source": [
    "## Read datasets and train cell2location"
   ]
  },
  {
   "cell_type": "markdown",
   "metadata": {},
   "source": [
    "Data can be downloaded as follows:\n",
    "\n",
    "```bash\n",
    "wget https://cell2location.cog.sanger.ac.uk/paper/synthetic_with_tissue_zones/synth_adata_real_mg_20210131.h5ad\n",
    "wget https://cell2location.cog.sanger.ac.uk/paper/synthetic_with_tissue_zones/training_5705STDY8058280_5705STDY8058281_20210131.h5ad\n",
    "```"
   ]
  },
  {
   "cell_type": "code",
   "execution_count": 3,
   "metadata": {},
   "outputs": [
    {
     "name": "stderr",
     "output_type": "stream",
     "text": [
      "/nfs/team283/vk7/software/miniconda3farm5/envs/numpyro/lib/python3.7/site-packages/pandas/core/arrays/categorical.py:2487: FutureWarning: The `inplace` parameter in pandas.Categorical.remove_unused_categories is deprecated and will be removed in a future version.\n",
      "  res = method(*args, **kwargs)\n"
     ]
    }
   ],
   "source": [
    "adata_vis = anndata.read(f'{sp_data_folder}synth_adata_real_mg_20210131.h5ad')\n",
    "adata_vis.uns['spatial'] = {'x': 'y'}\n",
    "adata_vis = adata_vis[adata_vis.obs['sample'] == 'exper0',:]\n",
    "\n",
    "adata_snrna_raw = anndata.read(f'{sp_data_folder}training_5705STDY8058280_5705STDY8058281_20210131.h5ad')"
   ]
  },
  {
   "cell_type": "code",
   "execution_count": 4,
   "metadata": {},
   "outputs": [],
   "source": [
    "import scipy\n",
    "adata_snrna_raw.X = scipy.sparse.csr_matrix(adata_snrna_raw.X)"
   ]
  },
  {
   "cell_type": "code",
   "execution_count": 5,
   "metadata": {},
   "outputs": [],
   "source": [
    "adata_vis.X = scipy.sparse.csr_matrix(adata_vis.X)"
   ]
  },
  {
   "cell_type": "markdown",
   "metadata": {},
   "source": [
    "Add counts matrix as `adata.raw` "
   ]
  },
  {
   "cell_type": "code",
   "execution_count": 6,
   "metadata": {},
   "outputs": [],
   "source": [
    "adata_snrna_raw.raw = adata_snrna_raw\n",
    "adata_vis.raw = adata_vis"
   ]
  },
  {
   "cell_type": "code",
   "execution_count": 7,
   "metadata": {},
   "outputs": [],
   "source": [
    "# compute average for each cluster\n",
    "aver = cell2location_model.get_cluster_averages(adata_snrna_raw, 'annotation_1')\n",
    "\n",
    "# make sure the order of gene matches between aver and x_data\n",
    "aver = aver.loc[adata_vis.var_names,:]\n",
    "\n",
    "# generate one-hot encoded matrix telling which obs belong to whic samples\n",
    "obs2sample_df = pd.get_dummies(adata_vis.obs['sample'])"
   ]
  },
  {
   "cell_type": "code",
   "execution_count": 8,
   "metadata": {},
   "outputs": [
    {
     "data": {
      "text/plain": [
       "AnnData object with n_obs × n_vars = 2500 × 12809\n",
       "    obs: 'cell_count_Inh_3', 'cell_count_Ext_Pir', 'cell_count_Oligo_2', 'cell_count_Astro_HYPO', 'cell_count_Ext_L25', 'cell_count_Astro_THAL_lat', 'cell_count_Ext_L5_1', 'cell_count_Ext_L23', 'cell_count_Micro', 'cell_count_Ext_Thal_1', 'cell_count_Ext_Hpc_CA1', 'cell_count_Inh_Meis2_3', 'cell_count_Inh_4', 'cell_count_OPC_1', 'cell_count_Oligo_1', 'cell_count_Ext_Hpc_CA3', 'cell_count_Astro_CTX', 'cell_count_Astro_THAL_med', 'cell_count_Inh_Vip', 'cell_count_Ext_Amy_2', 'cell_count_Astro_AMY_CTX', 'cell_count_Unk_1', 'cell_count_Inh_Sst', 'cell_count_Inh_Meis2_2', 'cell_count_Ext_Hpc_DG2', 'cell_count_Ext_Hpc_DG1', 'cell_count_Inh_1', 'cell_count_Inh_Meis2_4', 'cell_count_Inh_2', 'cell_count_Nb_1', 'cell_count_Ext_Thal_2', 'cell_count_Ext_Amy_1', 'cell_count_Ext_L6', 'cell_count_OPC_2', 'cell_count_Inh_Meis2_1', 'cell_count_Ext_L6B', 'cell_count_LowQ_2', 'cell_count_Ext_Unk_3', 'cell_count_Ext_L56', 'cell_count_Inh_Lamp5', 'cell_count_Inh_Pvalb', 'cell_count_Ext_L5_2', 'cell_count_Inh_6', 'cell_count_Astro_AMY', 'cell_count_Ext_ClauPyr', 'cell_count_Astro_HPC', 'cell_count_Astro_WM', 'cell_count_Nb_2', 'cell_count_Inh_5', 'cell_abundances_Inh_3', 'cell_abundances_Ext_Pir', 'cell_abundances_Oligo_2', 'cell_abundances_Astro_HYPO', 'cell_abundances_Ext_L25', 'cell_abundances_Astro_THAL_lat', 'cell_abundances_Ext_L5_1', 'cell_abundances_Ext_L23', 'cell_abundances_Micro', 'cell_abundances_Ext_Thal_1', 'cell_abundances_Ext_Hpc_CA1', 'cell_abundances_Inh_Meis2_3', 'cell_abundances_Inh_4', 'cell_abundances_OPC_1', 'cell_abundances_Oligo_1', 'cell_abundances_Ext_Hpc_CA3', 'cell_abundances_Astro_CTX', 'cell_abundances_Astro_THAL_med', 'cell_abundances_Inh_Vip', 'cell_abundances_Ext_Amy_2', 'cell_abundances_Astro_AMY_CTX', 'cell_abundances_Unk_1', 'cell_abundances_Inh_Sst', 'cell_abundances_Inh_Meis2_2', 'cell_abundances_Ext_Hpc_DG2', 'cell_abundances_Ext_Hpc_DG1', 'cell_abundances_Inh_1', 'cell_abundances_Inh_Meis2_4', 'cell_abundances_Inh_2', 'cell_abundances_Nb_1', 'cell_abundances_Ext_Thal_2', 'cell_abundances_Ext_Amy_1', 'cell_abundances_Ext_L6', 'cell_abundances_OPC_2', 'cell_abundances_Inh_Meis2_1', 'cell_abundances_Ext_L6B', 'cell_abundances_LowQ_2', 'cell_abundances_Ext_Unk_3', 'cell_abundances_Ext_L56', 'cell_abundances_Inh_Lamp5', 'cell_abundances_Inh_Pvalb', 'cell_abundances_Ext_L5_2', 'cell_abundances_Inh_6', 'cell_abundances_Astro_AMY', 'cell_abundances_Ext_ClauPyr', 'cell_abundances_Astro_HPC', 'cell_abundances_Astro_WM', 'cell_abundances_Nb_2', 'cell_abundances_Inh_5', 'cell_capture_eff_Inh_3', 'cell_capture_eff_Ext_Pir', 'cell_capture_eff_Oligo_2', 'cell_capture_eff_Astro_HYPO', 'cell_capture_eff_Ext_L25', 'cell_capture_eff_Astro_THAL_lat', 'cell_capture_eff_Ext_L5_1', 'cell_capture_eff_Ext_L23', 'cell_capture_eff_Micro', 'cell_capture_eff_Ext_Thal_1', 'cell_capture_eff_Ext_Hpc_CA1', 'cell_capture_eff_Inh_Meis2_3', 'cell_capture_eff_Inh_4', 'cell_capture_eff_OPC_1', 'cell_capture_eff_Oligo_1', 'cell_capture_eff_Ext_Hpc_CA3', 'cell_capture_eff_Astro_CTX', 'cell_capture_eff_Astro_THAL_med', 'cell_capture_eff_Inh_Vip', 'cell_capture_eff_Ext_Amy_2', 'cell_capture_eff_Astro_AMY_CTX', 'cell_capture_eff_Unk_1', 'cell_capture_eff_Inh_Sst', 'cell_capture_eff_Inh_Meis2_2', 'cell_capture_eff_Ext_Hpc_DG2', 'cell_capture_eff_Ext_Hpc_DG1', 'cell_capture_eff_Inh_1', 'cell_capture_eff_Inh_Meis2_4', 'cell_capture_eff_Inh_2', 'cell_capture_eff_Nb_1', 'cell_capture_eff_Ext_Thal_2', 'cell_capture_eff_Ext_Amy_1', 'cell_capture_eff_Ext_L6', 'cell_capture_eff_OPC_2', 'cell_capture_eff_Inh_Meis2_1', 'cell_capture_eff_Ext_L6B', 'cell_capture_eff_LowQ_2', 'cell_capture_eff_Ext_Unk_3', 'cell_capture_eff_Ext_L56', 'cell_capture_eff_Inh_Lamp5', 'cell_capture_eff_Inh_Pvalb', 'cell_capture_eff_Ext_L5_2', 'cell_capture_eff_Inh_6', 'cell_capture_eff_Astro_AMY', 'cell_capture_eff_Ext_ClauPyr', 'cell_capture_eff_Astro_HPC', 'cell_capture_eff_Astro_WM', 'cell_capture_eff_Nb_2', 'cell_capture_eff_Inh_5', 'sample', 'UMI_count_Inh_3', 'UMI_count_Ext_Pir', 'UMI_count_Oligo_2', 'UMI_count_Astro_HYPO', 'UMI_count_Ext_L25', 'UMI_count_Astro_THAL_lat', 'UMI_count_Ext_L5_1', 'UMI_count_Ext_L23', 'UMI_count_Micro', 'UMI_count_Ext_Thal_1', 'UMI_count_Ext_Hpc_CA1', 'UMI_count_Inh_Meis2_3', 'UMI_count_Inh_4', 'UMI_count_OPC_1', 'UMI_count_Oligo_1', 'UMI_count_Ext_Hpc_CA3', 'UMI_count_Astro_CTX', 'UMI_count_Astro_THAL_med', 'UMI_count_Inh_Vip', 'UMI_count_Ext_Amy_2', 'UMI_count_Astro_AMY_CTX', 'UMI_count_Unk_1', 'UMI_count_Inh_Sst', 'UMI_count_Inh_Meis2_2', 'UMI_count_Ext_Hpc_DG2', 'UMI_count_Ext_Hpc_DG1', 'UMI_count_Inh_1', 'UMI_count_Inh_Meis2_4', 'UMI_count_Inh_2', 'UMI_count_Nb_1', 'UMI_count_Ext_Thal_2', 'UMI_count_Ext_Amy_1', 'UMI_count_Ext_L6', 'UMI_count_OPC_2', 'UMI_count_Inh_Meis2_1', 'UMI_count_Ext_L6B', 'UMI_count_LowQ_2', 'UMI_count_Ext_Unk_3', 'UMI_count_Ext_L56', 'UMI_count_Inh_Lamp5', 'UMI_count_Inh_Pvalb', 'UMI_count_Ext_L5_2', 'UMI_count_Inh_6', 'UMI_count_Astro_AMY', 'UMI_count_Ext_ClauPyr', 'UMI_count_Astro_HPC', 'UMI_count_Astro_WM', 'UMI_count_Nb_2', 'UMI_count_Inh_5'\n",
       "    var: 'gene_level'\n",
       "    uns: 'design', 'spatial'\n",
       "    obsm: 'X_spatial'\n",
       "    layers: 'expression_levels'"
      ]
     },
     "execution_count": 8,
     "metadata": {},
     "output_type": "execute_result"
    }
   ],
   "source": [
    "adata_vis"
   ]
  },
  {
   "cell_type": "markdown",
   "metadata": {},
   "source": [
    "## Model training"
   ]
  },
  {
   "cell_type": "code",
   "execution_count": 9,
   "metadata": {},
   "outputs": [
    {
     "data": {
      "text/plain": [
       "'/nfs/team205/vk7/sanger_projects/cell2location_paper/notebooks/selected_results/benchmarking/with_tissue_zones/real_mg/pyro/'"
      ]
     },
     "execution_count": 9,
     "metadata": {},
     "output_type": "execute_result"
    }
   ],
   "source": [
    "results_folder"
   ]
  },
  {
   "cell_type": "code",
   "execution_count": 10,
   "metadata": {
    "scrolled": false
   },
   "outputs": [],
   "source": [
    "#import torch\n",
    "#torch.set_default_tensor_type(torch.cuda.FloatTensor)\n",
    "\n",
    "mod = cell2location_model.LocationModelLinearDependentWMultiExperiment(\n",
    "    device='gpu',\n",
    "    n_obs=adata_vis.n_obs,\n",
    "    n_vars=adata_vis.n_vars,\n",
    "        n_factors=aver.shape[1],\n",
    "        n_exper=obs2sample_df.shape[1],\n",
    "        batch_size=None,\n",
    "        cell_state_mat=aver.values.astype(data_type),\n",
    "    )\n"
   ]
  },
  {
   "cell_type": "code",
   "execution_count": 11,
   "metadata": {},
   "outputs": [
    {
     "data": {
      "text/plain": [
       "{'obs_axis': (2500,),\n",
       " 'm_g_alpha_hyp': (),\n",
       " 'm_g_beta_hyp': (),\n",
       " 'm_g': (1, 12809),\n",
       " 'n_s_cells_per_location': (2500, 1),\n",
       " 'y_s_groups_per_location': (2500, 1),\n",
       " 'z_sr_groups_factors': (2500, 50),\n",
       " 'k_r_factors_per_groups': (50, 1),\n",
       " 'x_fr_group2fact': (50, 49),\n",
       " 'w_sf': (2500, 49),\n",
       " 'l_s_add_alpha': (1, 1),\n",
       " 'l_s_add_beta': (1, 1),\n",
       " 'l_s_add': (2500, 1),\n",
       " 's_g_gene_add_alpha_hyp': (),\n",
       " 's_g_gene_add_mean': (1, 1),\n",
       " 's_g_gene_add_alpha_e_inv': (1, 1),\n",
       " 's_g_gene_add': (1, 12809),\n",
       " 'alpha_g_phi_hyp': (),\n",
       " 'alpha_g_inverse': (1, 12809),\n",
       " 'data_target': (2500, 12809),\n",
       " 'u_sf_mRNA_factors': (2500, 49)}"
      ]
     },
     "execution_count": 11,
     "metadata": {},
     "output_type": "execute_result"
    }
   ],
   "source": [
    "import jax.numpy as jnp\n",
    "import jax\n",
    "import numpyro\n",
    "args = {\n",
    "    'x_data': jnp.array(adata_vis.raw.X.toarray().astype(data_type)),\n",
    "    'idx': jnp.array(np.arange(adata_vis.n_obs).astype(\"int64\")),\n",
    "    'obs2sample': jnp.array(obs2sample_df.values.astype(data_type))\n",
    "    \n",
    "       }\n",
    "trace = numpyro.handlers.trace(numpyro.handlers.seed(mod.model.forward, \n",
    "                                                           jax.random.PRNGKey(0))).get_trace(**args)\n",
    "#trace.compute_log_prob()  # optional, but allows printing of log_prob shapes\n",
    "{k: site[\"value\"].shape for k, site in trace.items()}"
   ]
  },
  {
   "cell_type": "code",
   "execution_count": 12,
   "metadata": {},
   "outputs": [
    {
     "data": {
      "application/vnd.jupyter.widget-view+json": {
       "model_id": "d4b9af57451e499aa78dced2b968025b",
       "version_major": 2,
       "version_minor": 0
      },
      "text/plain": [
       "  0%|          | 0/30000 [00:00<?, ?it/s]"
      ]
     },
     "metadata": {},
     "output_type": "display_data"
    }
   ],
   "source": [
    "from numpyro.distributions import constraints\n",
    "mod.guide.scale_constraint = constraints.positive\n",
    "#mod.guide.scale_constraint = constraints.softplus_positive\n",
    "\n",
    "#mod.to('cuda')\n",
    "mod._train_full_data(x_data=adata_vis.raw.X.toarray().astype(data_type),\n",
    "                     obs2sample=obs2sample_df.values.astype(data_type),\n",
    "                     n_epochs=30000, lr=0.005)"
   ]
  },
  {
   "cell_type": "code",
   "execution_count": 13,
   "metadata": {},
   "outputs": [],
   "source": [
    "means = mod.guide.median(mod.state_param)\n",
    "means = {k: np.array(v)\n",
    "         for k, v in means.items()}"
   ]
  },
  {
   "cell_type": "code",
   "execution_count": 14,
   "metadata": {},
   "outputs": [
    {
     "data": {
      "text/plain": [
       "{'m_g_alpha_hyp': array(0.45126566, dtype=float32),\n",
       " 'm_g_beta_hyp': array(1.9390215, dtype=float32),\n",
       " 'm_g': array([[1.2552004e-03, 2.2374454e-06, 2.7167198e-01, ..., 2.3901358e-03,\n",
       "         3.1659137e-02, 7.0067979e-02]], dtype=float32),\n",
       " 'n_s_cells_per_location': array([[8.312135 ],\n",
       "        [7.753511 ],\n",
       "        [7.4136424],\n",
       "        ...,\n",
       "        [7.9972916],\n",
       "        [8.1345005],\n",
       "        [7.3679547]], dtype=float32),\n",
       " 'y_s_groups_per_location': array([[12.386194],\n",
       "        [13.572799],\n",
       "        [12.772426],\n",
       "        ...,\n",
       "        [12.034863],\n",
       "        [12.825211],\n",
       "        [12.2306  ]], dtype=float32),\n",
       " 'z_sr_groups_factors': array([[0.02195152, 0.02195996, 0.02026718, ..., 0.02538022, 0.02392091,\n",
       "         0.02250254],\n",
       "        [0.03015611, 0.03034212, 0.02937834, ..., 0.03065082, 0.02862918,\n",
       "         0.02871984],\n",
       "        [0.0251772 , 0.02638762, 0.02205161, ..., 0.0274263 , 0.02373408,\n",
       "         0.02688301],\n",
       "        ...,\n",
       "        [0.02436755, 0.02375599, 0.02349732, ..., 0.02568438, 0.02558045,\n",
       "         0.02401143],\n",
       "        [0.02677202, 0.02523767, 0.02755039, ..., 0.02632684, 0.02442897,\n",
       "         0.02653973],\n",
       "        [0.02184765, 0.02168334, 0.0215616 , ..., 0.02424399, 0.02220211,\n",
       "         0.02004309]], dtype=float32),\n",
       " 'k_r_factors_per_groups': array([[8.9590864e+00],\n",
       "        [8.8014145e+00],\n",
       "        [8.8974018e+00],\n",
       "        [8.7456169e+00],\n",
       "        [8.5998240e+00],\n",
       "        [8.9708891e+00],\n",
       "        [8.8908939e+00],\n",
       "        [8.7880974e+00],\n",
       "        [8.5706015e+00],\n",
       "        [9.2455320e+00],\n",
       "        [8.7696161e+00],\n",
       "        [8.7387218e+00],\n",
       "        [8.9155293e+00],\n",
       "        [8.5790281e+00],\n",
       "        [7.3310284e-06],\n",
       "        [8.7328358e+00],\n",
       "        [8.6956549e+00],\n",
       "        [8.9181213e+00],\n",
       "        [8.3562775e+00],\n",
       "        [9.2269033e-03],\n",
       "        [8.8444176e+00],\n",
       "        [8.6657343e+00],\n",
       "        [8.7058468e+00],\n",
       "        [9.0414724e+00],\n",
       "        [8.7630043e+00],\n",
       "        [8.8657808e+00],\n",
       "        [8.7592907e+00],\n",
       "        [8.9454660e+00],\n",
       "        [8.5186138e+00],\n",
       "        [8.7583742e+00],\n",
       "        [8.7778702e+00],\n",
       "        [8.6363306e+00],\n",
       "        [8.8134089e+00],\n",
       "        [8.7360792e+00],\n",
       "        [8.6318178e+00],\n",
       "        [8.8936901e+00],\n",
       "        [8.7322931e+00],\n",
       "        [8.5177126e+00],\n",
       "        [8.8083229e+00],\n",
       "        [8.3901291e+00],\n",
       "        [3.4221084e-04],\n",
       "        [8.8426189e+00],\n",
       "        [8.7552614e+00],\n",
       "        [8.8556700e+00],\n",
       "        [8.5517921e+00],\n",
       "        [8.6154804e+00],\n",
       "        [3.8406623e-03],\n",
       "        [8.5799313e+00],\n",
       "        [8.7371216e+00],\n",
       "        [8.7983465e+00]], dtype=float32),\n",
       " 'x_fr_group2fact': array([[2.8321700e-04, 2.3260918e-04, 2.3236395e-04, ..., 6.8650443e-05,\n",
       "         1.5202019e-04, 6.5567711e-04],\n",
       "        [2.4942428e-04, 2.4125786e-04, 2.1074676e-04, ..., 5.6714638e-05,\n",
       "         1.9114887e-04, 6.1927066e-04],\n",
       "        [2.4762016e-04, 2.3615216e-04, 2.5492435e-04, ..., 7.7605597e-05,\n",
       "         1.9852561e-04, 6.9049455e-04],\n",
       "        ...,\n",
       "        [2.6815213e-04, 2.2793439e-04, 2.4406381e-04, ..., 7.3313742e-05,\n",
       "         1.5324641e-04, 6.4372807e-04],\n",
       "        [2.7016146e-04, 2.4135313e-04, 2.2076089e-04, ..., 6.6858811e-05,\n",
       "         1.6285527e-04, 6.9641642e-04],\n",
       "        [2.5304063e-04, 2.2470897e-04, 2.1032552e-04, ..., 5.3013900e-05,\n",
       "         1.6867831e-04, 6.8804633e-04]], dtype=float32),\n",
       " 'w_sf': array([[0.29810226, 0.44444388, 0.33737743, ..., 0.07205526, 0.07078555,\n",
       "         0.59360564],\n",
       "        [0.09185974, 0.13275076, 0.12218927, ..., 0.14538181, 0.1257469 ,\n",
       "         0.3769929 ],\n",
       "        [0.56501925, 0.6861063 , 0.4319657 , ..., 0.07742839, 0.06105277,\n",
       "         0.69619346],\n",
       "        ...,\n",
       "        [0.3726295 , 0.26539198, 0.21068163, ..., 0.18789297, 0.1986094 ,\n",
       "         0.65087575],\n",
       "        [0.16257808, 0.14295067, 0.15136799, ..., 0.4696571 , 0.44023597,\n",
       "         0.51917225],\n",
       "        [0.31612295, 0.5966517 , 0.16684213, ..., 0.08707477, 0.11664731,\n",
       "         0.64252925]], dtype=float32),\n",
       " 'l_s_add_alpha': array([[0.2514425]], dtype=float32),\n",
       " 'l_s_add_beta': array([[385.31403]], dtype=float32),\n",
       " 'l_s_add': array([[2.2506103e-05],\n",
       "        [3.5009554e-05],\n",
       "        [9.8426630e-05],\n",
       "        ...,\n",
       "        [2.2540513e-05],\n",
       "        [7.0666159e-05],\n",
       "        [2.3255117e-05]], dtype=float32),\n",
       " 's_g_gene_add_alpha_hyp': array(2.832274, dtype=float32),\n",
       " 's_g_gene_add_mean': array([[0.00023431]], dtype=float32),\n",
       " 's_g_gene_add_alpha_e_inv': array([[0.2630946]], dtype=float32),\n",
       " 's_g_gene_add': array([[0.00024047, 0.00021798, 0.00022268, ..., 0.0002301 , 0.00022615,\n",
       "         0.0002306 ]], dtype=float32),\n",
       " 'alpha_g_phi_hyp': array(1.4442078, dtype=float32),\n",
       " 'alpha_g_inverse': array([[0.10145356, 0.46276858, 0.66789377, ..., 0.3340335 , 0.29671583,\n",
       "         0.8895581 ]], dtype=float32),\n",
       " 'u_sf_mRNA_factors': array([[ 88.74764 , 140.62645 , 102.41509 , ...,  29.783789,  17.617184,\n",
       "          96.898056],\n",
       "        [ 27.347446,  42.00366 ,  37.092064, ...,  60.09306 ,  31.296024,\n",
       "          61.538975],\n",
       "        [168.21115 , 217.09084 , 131.12854 , ...,  32.004753,  15.194878,\n",
       "         113.64413 ],\n",
       "        ...,\n",
       "        [110.93504 ,  83.97265 ,  63.955017, ...,  77.6649  ,  49.43012 ,\n",
       "         106.24663 ],\n",
       "        [ 48.40091 ,  45.23101 ,  45.949627, ..., 194.13112 , 109.5664  ,\n",
       "          84.74782 ],\n",
       "        [ 94.11256 , 188.7865  ,  50.646996, ...,  35.99205 ,  29.031307,\n",
       "         104.88417 ]], dtype=float32)}"
      ]
     },
     "execution_count": 14,
     "metadata": {},
     "output_type": "execute_result"
    }
   ],
   "source": [
    "means"
   ]
  },
  {
   "cell_type": "code",
   "execution_count": 15,
   "metadata": {
    "scrolled": true
   },
   "outputs": [
    {
     "name": "stdout",
     "output_type": "stream",
     "text": [
      "class AutoNormal(AutoGuide):\n",
      "    \"\"\"\n",
      "    This implementation of :class:`AutoGuide` uses Normal distributions\n",
      "    to construct a guide over the entire latent space. The guide does not\n",
      "    depend on the model's ``*args, **kwargs``.\n",
      "\n",
      "    This should be equivalent to :class: `AutoDiagonalNormal` , but with\n",
      "    more convenient site names and with better support for mean field ELBO.\n",
      "\n",
      "    Usage::\n",
      "\n",
      "        guide = AutoNormal(model)\n",
      "        svi = SVI(model, guide, ...)\n",
      "\n",
      "    :param callable model: A NumPyro model.\n",
      "    :param str prefix: a prefix that will be prefixed to all param internal sites.\n",
      "    :param callable init_loc_fn: A per-site initialization function.\n",
      "        See :ref:`init_strategy` section for available functions.\n",
      "    :param float init_scale: Initial scale for the standard deviation of each\n",
      "        (unconstrained transformed) latent variable.\n",
      "    :param callable create_plates: An optional function inputing the same\n",
      "        ``*args,**kwargs`` as ``model()`` and returning a :class:`numpyro.plate`\n",
      "        or iterable of plates. Plates not returned will be created\n",
      "        automatically as usual. This is useful for data subsampling.\n",
      "    \"\"\"\n",
      "\n",
      "    # TODO consider switching to constraints.softplus_positive\n",
      "    # See https://github.com/pyro-ppl/numpyro/issues/855\n",
      "    scale_constraint = constraints.positive\n",
      "\n",
      "    def __init__(\n",
      "        self,\n",
      "        model,\n",
      "        *,\n",
      "        prefix=\"auto\",\n",
      "        init_loc_fn=init_to_uniform,\n",
      "        init_scale=0.1,\n",
      "        create_plates=None,\n",
      "    ):\n",
      "        self._init_scale = init_scale\n",
      "        self._event_dims = {}\n",
      "        super().__init__(\n",
      "            model, prefix=prefix, init_loc_fn=init_loc_fn, create_plates=create_plates\n",
      "        )\n",
      "\n",
      "    def _setup_prototype(self, *args, **kwargs):\n",
      "        super()._setup_prototype(*args, **kwargs)\n",
      "\n",
      "        for name, site in self.prototype_trace.items():\n",
      "            if site[\"type\"] != \"sample\" or site[\"is_observed\"]:\n",
      "                continue\n",
      "\n",
      "            event_dim = (\n",
      "                site[\"fn\"].event_dim\n",
      "                + jnp.ndim(self._init_locs[name])\n",
      "                - jnp.ndim(site[\"value\"])\n",
      "            )\n",
      "            self._event_dims[name] = event_dim\n",
      "\n",
      "            # If subsampling, repeat init_value to full size.\n",
      "            for frame in site[\"cond_indep_stack\"]:\n",
      "                full_size = self._prototype_frame_full_sizes[frame.name]\n",
      "                if full_size != frame.size:\n",
      "                    dim = frame.dim - event_dim\n",
      "                    self._init_locs[name] = periodic_repeat(\n",
      "                        self._init_locs[name], full_size, dim\n",
      "                    )\n",
      "\n",
      "    def __call__(self, *args, **kwargs):\n",
      "        \"\"\"\n",
      "        An automatic guide with the same ``*args, **kwargs`` as the base ``model``.\n",
      "\n",
      "        :return: A dict mapping sample site name to sampled value.\n",
      "        :rtype: dict\n",
      "        \"\"\"\n",
      "        if self.prototype_trace is None:\n",
      "            # run model to inspect the model structure\n",
      "            self._setup_prototype(*args, **kwargs)\n",
      "\n",
      "        plates = self._create_plates(*args, **kwargs)\n",
      "        result = {}\n",
      "        for name, site in self.prototype_trace.items():\n",
      "            if site[\"type\"] != \"sample\" or site[\"is_observed\"]:\n",
      "                continue\n",
      "\n",
      "            event_dim = self._event_dims[name]\n",
      "            init_loc = self._init_locs[name]\n",
      "            with ExitStack() as stack:\n",
      "                for frame in site[\"cond_indep_stack\"]:\n",
      "                    stack.enter_context(plates[frame.name])\n",
      "\n",
      "                site_loc = numpyro.param(\n",
      "                    \"{}_{}_loc\".format(name, self.prefix), init_loc, event_dim=event_dim\n",
      "                )\n",
      "                site_scale = numpyro.param(\n",
      "                    \"{}_{}_scale\".format(name, self.prefix),\n",
      "                    jnp.full(jnp.shape(init_loc), self._init_scale),\n",
      "                    constraint=self.scale_constraint,\n",
      "                    event_dim=event_dim,\n",
      "                )\n",
      "\n",
      "                site_fn = dist.Normal(site_loc, site_scale).to_event(event_dim)\n",
      "                if site[\"fn\"].support is constraints.real or (\n",
      "                    isinstance(site[\"fn\"].support, constraints.independent)\n",
      "                    and site[\"fn\"].support is constraints.real\n",
      "                ):\n",
      "                    result[name] = numpyro.sample(name, site_fn)\n",
      "                else:\n",
      "                    transform = biject_to(site[\"fn\"].support)\n",
      "                    guide_dist = dist.TransformedDistribution(site_fn, transform)\n",
      "                    result[name] = numpyro.sample(name, guide_dist)\n",
      "\n",
      "        return result\n",
      "\n",
      "    def _constrain(self, latent_samples):\n",
      "        name = list(latent_samples)[0]\n",
      "        sample_shape = jnp.shape(latent_samples[name])[\n",
      "            : jnp.ndim(latent_samples[name]) - jnp.ndim(self._init_locs[name])\n",
      "        ]\n",
      "        if sample_shape:\n",
      "            flatten_samples = tree_map(\n",
      "                lambda x: jnp.reshape(x, (-1,) + jnp.shape(x)[len(sample_shape) :]),\n",
      "                latent_samples,\n",
      "            )\n",
      "            contrained_samples = lax.map(self._postprocess_fn, flatten_samples)\n",
      "            return tree_map(\n",
      "                lambda x: jnp.reshape(x, sample_shape + jnp.shape(x)[1:]),\n",
      "                contrained_samples,\n",
      "            )\n",
      "        else:\n",
      "            return self._postprocess_fn(latent_samples)\n",
      "\n",
      "    def sample_posterior(self, rng_key, params, sample_shape=()):\n",
      "        locs = {k: params[\"{}_{}_loc\".format(k, self.prefix)] for k in self._init_locs}\n",
      "        scales = {k: params[\"{}_{}_scale\".format(k, self.prefix)] for k in locs}\n",
      "        with handlers.seed(rng_seed=rng_key):\n",
      "            latent_samples = {}\n",
      "            for k in locs:\n",
      "                latent_samples[k] = numpyro.sample(\n",
      "                    k, dist.Normal(locs[k], scales[k]).expand_by(sample_shape)\n",
      "                )\n",
      "        return self._constrain(latent_samples)\n",
      "\n",
      "    def median(self, params):\n",
      "        locs = {\n",
      "            k: params[\"{}_{}_loc\".format(k, self.prefix)]\n",
      "            for k, v in self._init_locs.items()\n",
      "        }\n",
      "        return self._constrain(locs)\n",
      "\n",
      "    def quantiles(self, params, quantiles):\n",
      "        quantiles = jnp.array(quantiles)[..., None]\n",
      "        locs = {k: params[\"{}_{}_loc\".format(k, self.prefix)] for k in self._init_locs}\n",
      "        scales = {k: params[\"{}_{}_scale\".format(k, self.prefix)] for k in locs}\n",
      "        latent = {k: dist.Normal(locs[k], scales[k]).icdf(quantiles) for k in locs}\n",
      "        return self._constrain(latent)\n",
      "\n"
     ]
    }
   ],
   "source": [
    "import inspect\n",
    "import test\n",
    " \n",
    "print(inspect.getsource(type(mod.guide)))"
   ]
  },
  {
   "cell_type": "code",
   "execution_count": 16,
   "metadata": {},
   "outputs": [
    {
     "data": {
      "application/vnd.jupyter.widget-view+json": {
       "model_id": "f775fd82f8fc4549b334beae0937e1b1",
       "version_major": 2,
       "version_minor": 0
      },
      "text/plain": [
       "  0%|          | 0/30000 [00:00<?, ?it/s]"
      ]
     },
     "metadata": {},
     "output_type": "display_data"
    }
   ],
   "source": [
    "mod_s = cell2location_model.LocationModelLinearDependentWMultiExperiment(\n",
    "    device='gpu',\n",
    "    n_obs=adata_vis.n_obs,\n",
    "    n_vars=adata_vis.n_vars,\n",
    "        n_factors=aver.shape[1],\n",
    "        n_exper=obs2sample_df.shape[1],\n",
    "        batch_size=None,\n",
    "        cell_state_mat=aver.values.astype(data_type),\n",
    "    )\n",
    "\n",
    "from numpyro.distributions import constraints\n",
    "mod_s.guide.scale_constraint = constraints.softplus_positive\n",
    "\n",
    "mod_s._train_full_data(x_data=adata_vis.raw.X.toarray().astype(data_type),\n",
    "                    obs2sample=obs2sample_df.values.astype(data_type),\n",
    "                    n_epochs=30000, lr=0.005)"
   ]
  },
  {
   "cell_type": "code",
   "execution_count": 17,
   "metadata": {},
   "outputs": [
    {
     "data": {
      "text/plain": [
       "{'m_g_alpha_hyp': array(0.44915697, dtype=float32),\n",
       " 'm_g_beta_hyp': array(1.3991361, dtype=float32),\n",
       " 'm_g': array([[1.7984924e-03, 3.0725412e-06, 3.4155193e-01, ..., 3.6000528e-03,\n",
       "         4.1250177e-02, 1.2012425e-01]], dtype=float32),\n",
       " 'n_s_cells_per_location': array([[8.877611 ],\n",
       "        [8.636837 ],\n",
       "        [7.0392942],\n",
       "        ...,\n",
       "        [7.569321 ],\n",
       "        [8.478916 ],\n",
       "        [6.6081376]], dtype=float32),\n",
       " 'y_s_groups_per_location': array([[16.41212 ],\n",
       "        [18.581085],\n",
       "        [16.77115 ],\n",
       "        ...,\n",
       "        [16.062496],\n",
       "        [17.22469 ],\n",
       "        [16.672884]], dtype=float32),\n",
       " 'z_sr_groups_factors': array([[0.03392752, 0.0359219 , 0.03408594, ..., 0.04141521, 0.03977863,\n",
       "         0.03570067],\n",
       "        [0.05326613, 0.05263783, 0.04973311, ..., 0.05539344, 0.04890026,\n",
       "         0.04922087],\n",
       "        [0.03550263, 0.03679341, 0.03666484, ..., 0.0396989 , 0.03307472,\n",
       "         0.03739195],\n",
       "        ...,\n",
       "        [0.03636513, 0.03772939, 0.03921327, ..., 0.0368461 , 0.03885238,\n",
       "         0.03593019],\n",
       "        [0.04401282, 0.03940577, 0.04360881, ..., 0.04130513, 0.03970321,\n",
       "         0.04396633],\n",
       "        [0.03445987, 0.0321353 , 0.03304417, ..., 0.0361321 , 0.03227415,\n",
       "         0.02921187]], dtype=float32),\n",
       " 'k_r_factors_per_groups': array([[10.492811  ],\n",
       "        [10.306654  ],\n",
       "        [10.3759575 ],\n",
       "        [10.218104  ],\n",
       "        [ 9.997166  ],\n",
       "        [10.551622  ],\n",
       "        [10.419392  ],\n",
       "        [10.283843  ],\n",
       "        [10.091836  ],\n",
       "        [ 1.4835126 ],\n",
       "        [10.267211  ],\n",
       "        [10.253772  ],\n",
       "        [10.382538  ],\n",
       "        [10.017062  ],\n",
       "        [10.040963  ],\n",
       "        [10.272159  ],\n",
       "        [ 3.1947515 ],\n",
       "        [10.417127  ],\n",
       "        [ 9.825085  ],\n",
       "        [ 2.9615645 ],\n",
       "        [10.324236  ],\n",
       "        [10.211949  ],\n",
       "        [10.224494  ],\n",
       "        [10.569416  ],\n",
       "        [10.297784  ],\n",
       "        [10.335971  ],\n",
       "        [10.295322  ],\n",
       "        [10.423149  ],\n",
       "        [ 9.941117  ],\n",
       "        [10.289989  ],\n",
       "        [10.247219  ],\n",
       "        [10.129482  ],\n",
       "        [10.351286  ],\n",
       "        [10.279134  ],\n",
       "        [10.099185  ],\n",
       "        [10.420707  ],\n",
       "        [10.191288  ],\n",
       "        [ 9.9762125 ],\n",
       "        [10.290085  ],\n",
       "        [ 9.882866  ],\n",
       "        [10.105751  ],\n",
       "        [10.363461  ],\n",
       "        [10.257013  ],\n",
       "        [10.419989  ],\n",
       "        [ 0.82464635],\n",
       "        [10.144362  ],\n",
       "        [ 2.3858936 ],\n",
       "        [10.037315  ],\n",
       "        [10.269458  ],\n",
       "        [10.291746  ]], dtype=float32),\n",
       " 'x_fr_group2fact': array([[0.00043272, 0.00036737, 0.00026348, ..., 0.00023934, 0.00032576,\n",
       "         0.0014416 ],\n",
       "        [0.0004654 , 0.00036816, 0.00022604, ..., 0.0002303 , 0.00037273,\n",
       "         0.00141266],\n",
       "        [0.00043196, 0.00035271, 0.00023626, ..., 0.00024366, 0.00037818,\n",
       "         0.00161293],\n",
       "        ...,\n",
       "        [0.00045305, 0.00035186, 0.00024731, ..., 0.00023073, 0.00032126,\n",
       "         0.0014485 ],\n",
       "        [0.00042698, 0.00040923, 0.00021738, ..., 0.00025944, 0.00029294,\n",
       "         0.00178623],\n",
       "        [0.00041618, 0.00038246, 0.0002049 , ..., 0.00021244, 0.00032855,\n",
       "         0.00161091]], dtype=float32),\n",
       " 'w_sf': array([[0.27772605, 0.44939193, 0.28593966, ..., 0.03404889, 0.10064583,\n",
       "         1.0810024 ],\n",
       "        [0.1084642 , 0.16323215, 0.13788246, ..., 0.08824693, 0.09957523,\n",
       "         0.68751454],\n",
       "        [0.4665665 , 0.64137644, 0.3408727 , ..., 0.00961128, 0.04870901,\n",
       "         1.058205  ],\n",
       "        ...,\n",
       "        [0.37923717, 0.25921288, 0.18437739, ..., 0.06879853, 0.1854785 ,\n",
       "         1.0936769 ],\n",
       "        [0.21468331, 0.19126692, 0.17903121, ..., 0.39441943, 0.5327096 ,\n",
       "         0.8602843 ],\n",
       "        [0.28340873, 0.47864968, 0.12730142, ..., 0.01694262, 0.15136349,\n",
       "         1.1967474 ]], dtype=float32),\n",
       " 'l_s_add_alpha': array([[0.27495232]], dtype=float32),\n",
       " 'l_s_add_beta': array([[412.6443]], dtype=float32),\n",
       " 'l_s_add': array([[3.0002055e-05],\n",
       "        [4.6576170e-05],\n",
       "        [1.2719752e-04],\n",
       "        ...,\n",
       "        [2.9793202e-05],\n",
       "        [9.3435672e-05],\n",
       "        [3.3334869e-05]], dtype=float32),\n",
       " 's_g_gene_add_alpha_hyp': array(2.8226235, dtype=float32),\n",
       " 's_g_gene_add_mean': array([[0.00022745]], dtype=float32),\n",
       " 's_g_gene_add_alpha_e_inv': array([[0.27292538]], dtype=float32),\n",
       " 's_g_gene_add': array([[0.00023315, 0.0002104 , 0.00021532, ..., 0.00022317, 0.00021879,\n",
       "         0.00022351]], dtype=float32),\n",
       " 'alpha_g_phi_hyp': array(1.4538455, dtype=float32),\n",
       " 'alpha_g_inverse': array([[0.08786325, 0.45956132, 0.67004716, ..., 0.33108997, 0.29783246,\n",
       "         0.8887113 ]], dtype=float32),\n",
       " 'u_sf_mRNA_factors': array([[112.40962 , 193.48517 , 118.17282 , ...,  19.457243,  34.824715,\n",
       "         246.25348 ],\n",
       "        [ 43.900883,  70.27941 ,  56.983906, ...,  50.428722,  34.454277,\n",
       "         156.61653 ],\n",
       "        [188.84279 , 276.14386 , 140.87549 , ...,   5.49237 ,  16.853926,\n",
       "         241.06021 ],\n",
       "        ...,\n",
       "        [153.49625 , 111.603806,  76.19928 , ...,  39.314938,  64.17788 ,\n",
       "         249.14076 ],\n",
       "        [ 86.89307 ,  82.34975 ,  73.989815, ..., 225.39107 , 184.32419 ,\n",
       "         195.97368 ],\n",
       "        [114.70969 , 206.08206 ,  52.61099 , ...,   9.681865,  52.37366 ,\n",
       "         272.62033 ]], dtype=float32)}"
      ]
     },
     "execution_count": 17,
     "metadata": {},
     "output_type": "execute_result"
    }
   ],
   "source": [
    "means_softplus = mod_s.guide.median(mod_s.state_param)\n",
    "means_softplus = {k: np.array(v)\n",
    "         for k, v in means_softplus.items()}\n",
    "means_softplus"
   ]
  },
  {
   "cell_type": "code",
   "execution_count": 18,
   "metadata": {},
   "outputs": [
    {
     "data": {
      "application/vnd.jupyter.widget-view+json": {
       "model_id": "f14c0f0135b74766a547b113e162afca",
       "version_major": 2,
       "version_minor": 0
      },
      "text/plain": [
       "  0%|          | 0/30000 [00:00<?, ?it/s]"
      ]
     },
     "metadata": {},
     "output_type": "display_data"
    }
   ],
   "source": [
    "mod_s3 = cell2location_model.LocationModelLinearDependentWMultiExperiment(\n",
    "    device='gpu',\n",
    "    n_obs=adata_vis.n_obs,\n",
    "    n_vars=adata_vis.n_vars,\n",
    "        n_factors=aver.shape[1],\n",
    "        n_exper=obs2sample_df.shape[1],\n",
    "        batch_size=None,\n",
    "        cell_state_mat=aver.values.astype(data_type),\n",
    "    )\n",
    "\n",
    "from numpyro.distributions import constraints, transforms\n",
    "from numpyro.distributions.transforms import biject_to\n",
    "\n",
    "@biject_to.register(constraints.positive)\n",
    "def _transform_to_positive(constraint):\n",
    "    return transforms.SoftplusTransform()\n",
    "\n",
    "mod_s3.guide.scale_constraint = constraints.positive\n",
    "\n",
    "#mod.cuda()\n",
    "mod_s3._train_full_data(x_data=adata_vis.raw.X.toarray().astype(data_type),\n",
    "                    obs2sample=obs2sample_df.values.astype(data_type),\n",
    "                    n_epochs=30000, lr=0.005)"
   ]
  },
  {
   "cell_type": "code",
   "execution_count": 19,
   "metadata": {},
   "outputs": [
    {
     "data": {
      "text/plain": [
       "{'m_g_alpha_hyp': DeviceArray(0.00997128, dtype=float32),\n",
       " 'm_g_beta_hyp': DeviceArray(0.02490844, dtype=float32),\n",
       " 'm_g': DeviceArray([[0.03889947, 1.51617   , 0.02816854, ..., 0.12474961,\n",
       "               0.01885924, 0.05348466]], dtype=float32),\n",
       " 'n_s_cells_per_location': DeviceArray([[2.1160002],\n",
       "              [2.0912168],\n",
       "              [2.1935854],\n",
       "              ...,\n",
       "              [2.827993 ],\n",
       "              [2.4608524],\n",
       "              [2.2777107]], dtype=float32),\n",
       " 'y_s_groups_per_location': DeviceArray([[1.7757063],\n",
       "              [1.7455709],\n",
       "              [1.897387 ],\n",
       "              ...,\n",
       "              [1.5306655],\n",
       "              [1.6679173],\n",
       "              [1.8017305]], dtype=float32),\n",
       " 'z_sr_groups_factors': DeviceArray([[2.8915083, 2.983267 , 2.9140687, ..., 3.142242 , 3.0577269,\n",
       "               2.8802965],\n",
       "              [3.0403304, 3.0169873, 3.1250439, ..., 3.087538 , 3.0087175,\n",
       "               3.0227203],\n",
       "              [3.04902  , 3.0766869, 3.0025504, ..., 3.1681664, 3.0170012,\n",
       "               3.0927882],\n",
       "              ...,\n",
       "              [3.6543622, 3.8700452, 4.005268 , ..., 3.8135426, 3.8909452,\n",
       "               3.9044714],\n",
       "              [3.6044922, 3.596095 , 3.4149876, ..., 3.5749145, 3.4810672,\n",
       "               3.4404886],\n",
       "              [3.2258737, 3.2039478, 3.294066 , ..., 3.216735 , 3.2123816,\n",
       "               3.0917697]], dtype=float32),\n",
       " 'k_r_factors_per_groups': DeviceArray([[2.429482  ],\n",
       "              [2.470192  ],\n",
       "              [2.3216832 ],\n",
       "              [2.39804   ],\n",
       "              [2.388429  ],\n",
       "              [2.3384209 ],\n",
       "              [2.2923439 ],\n",
       "              [2.4002907 ],\n",
       "              [2.3737519 ],\n",
       "              [0.28953525],\n",
       "              [1.3928924 ],\n",
       "              [2.2754211 ],\n",
       "              [2.335695  ],\n",
       "              [2.524248  ],\n",
       "              [2.3164659 ],\n",
       "              [2.3929243 ],\n",
       "              [0.66134477],\n",
       "              [2.342383  ],\n",
       "              [2.3194935 ],\n",
       "              [0.649932  ],\n",
       "              [2.4455261 ],\n",
       "              [2.3113122 ],\n",
       "              [2.339555  ],\n",
       "              [2.3351688 ],\n",
       "              [2.4288015 ],\n",
       "              [2.3698683 ],\n",
       "              [2.3843107 ],\n",
       "              [2.321592  ],\n",
       "              [2.369034  ],\n",
       "              [2.4119296 ],\n",
       "              [2.3623164 ],\n",
       "              [2.4320343 ],\n",
       "              [2.4253402 ],\n",
       "              [2.3829372 ],\n",
       "              [2.4255376 ],\n",
       "              [2.2965262 ],\n",
       "              [0.504993  ],\n",
       "              [2.378145  ],\n",
       "              [2.4414449 ],\n",
       "              [0.31331033],\n",
       "              [2.405317  ],\n",
       "              [2.4192593 ],\n",
       "              [2.3229382 ],\n",
       "              [2.3781533 ],\n",
       "              [2.377301  ],\n",
       "              [2.429123  ],\n",
       "              [2.3131185 ],\n",
       "              [2.3601766 ],\n",
       "              [2.4204695 ],\n",
       "              [2.4472234 ]], dtype=float32),\n",
       " 'x_fr_group2fact': DeviceArray([[0.65998834, 0.7873357 , 1.175541  , ..., 0.99004316,\n",
       "               0.8458909 , 0.48880303],\n",
       "              [0.7157693 , 0.7736235 , 1.1220068 , ..., 1.0146067 ,\n",
       "               0.81093836, 0.49903828],\n",
       "              [0.76084155, 0.752021  , 1.1315023 , ..., 0.98966885,\n",
       "               0.85096085, 0.5278171 ],\n",
       "              ...,\n",
       "              [0.68013847, 0.78216493, 1.2828721 , ..., 0.99205136,\n",
       "               0.86317617, 0.5007409 ],\n",
       "              [0.6972218 , 0.7238357 , 1.1523521 , ..., 1.0270779 ,\n",
       "               0.86769044, 0.48466265],\n",
       "              [0.65885997, 0.81488985, 1.1901871 , ..., 1.0364537 ,\n",
       "               0.83826816, 0.5052829 ]], dtype=float32),\n",
       " 'w_sf': DeviceArray([[0.6193703 , 0.51094407, 0.61901444, ..., 1.0758563 ,\n",
       "               1.0354037 , 0.5234042 ],\n",
       "              [0.77566445, 0.7104222 , 0.9517248 , ..., 1.0221719 ,\n",
       "               1.0532725 , 0.58664995],\n",
       "              [0.59049284, 0.46394598, 0.6436275 , ..., 1.4329208 ,\n",
       "               1.1837237 , 0.6154426 ],\n",
       "              ...,\n",
       "              [0.48316157, 0.7209438 , 1.1103557 , ..., 0.74141705,\n",
       "               0.73572934, 0.62024826],\n",
       "              [0.64246666, 0.81009823, 1.0473549 , ..., 0.3628618 ,\n",
       "               0.570998  , 0.6026746 ],\n",
       "              [0.5280298 , 0.44516098, 1.0355556 , ..., 1.2330253 ,\n",
       "               0.80871147, 0.5746987 ]], dtype=float32),\n",
       " 'l_s_add_alpha': DeviceArray([[0.0224055]], dtype=float32),\n",
       " 'l_s_add_beta': DeviceArray([[4.8068433]], dtype=float32),\n",
       " 'l_s_add': DeviceArray([[2.1986547],\n",
       "              [2.2460501],\n",
       "              [1.7017933],\n",
       "              ...,\n",
       "              [2.2164614],\n",
       "              [1.8970752],\n",
       "              [2.2420561]], dtype=float32),\n",
       " 's_g_gene_add_alpha_hyp': DeviceArray(0.9750309, dtype=float32),\n",
       " 's_g_gene_add_mean': DeviceArray([[0.0031734]], dtype=float32),\n",
       " 's_g_gene_add_alpha_e_inv': DeviceArray([[0.00763696]], dtype=float32),\n",
       " 's_g_gene_add': DeviceArray([[0.34970552, 0.32771745, 0.31405243, ..., 0.33930197,\n",
       "               0.32775164, 0.34176838]], dtype=float32),\n",
       " 'alpha_g_phi_hyp': DeviceArray(0.01661453, dtype=float32),\n",
       " 'alpha_g_inverse': DeviceArray([[0.82867455, 1.6567668 , 0.06607431, ..., 1.0955452 ,\n",
       "               0.13695058, 0.19828878]], dtype=float32)}"
      ]
     },
     "execution_count": 19,
     "metadata": {},
     "output_type": "execute_result"
    }
   ],
   "source": [
    "locs = {k: mod_s3.state_param[\"{}_{}_loc\".format(k, mod_s3.guide.prefix)] for k in mod_s3.guide._init_locs}\n",
    "scales = {k: mod_s3.state_param[\"{}_{}_scale\".format(k, mod_s3.guide.prefix)] for k in locs}\n",
    "\n",
    "scales"
   ]
  },
  {
   "cell_type": "markdown",
   "metadata": {},
   "source": [
    "### Compare ELBO as training progresses"
   ]
  },
  {
   "cell_type": "code",
   "execution_count": 20,
   "metadata": {},
   "outputs": [
    {
     "data": {
      "image/png": "[encoded data removed]",
      "text/plain": [
       "<Figure size 432x288 with 1 Axes>"
      ]
     },
     "metadata": {
      "needs_background": "light"
     },
     "output_type": "display_data"
    }
   ],
   "source": [
    "plt.plot(range(5000, len(mod.hist)), np.array(mod.hist)[5000:]);\n",
    "plt.plot(range(5000, len(mod_s.hist)), np.array(mod_s.hist)[5000:]);\n",
    "plt.plot(range(5000, len(mod_s3.hist)), np.array(mod_s3.hist)[5000:]);\n",
    "plt.legend(labels=['exp', 'softplus scales', 'all_softplus']);\n",
    "plt.xlim(0, len(mod_s3.hist));"
   ]
  },
  {
   "cell_type": "code",
   "execution_count": 21,
   "metadata": {},
   "outputs": [
    {
     "data": {
      "image/png": "[encoded data removed]",
      "text/plain": [
       "<Figure size 432x288 with 1 Axes>"
      ]
     },
     "metadata": {
      "needs_background": "light"
     },
     "output_type": "display_data"
    }
   ],
   "source": [
    "plt.plot(range(5000, len(mod.hist)), np.array(mod.hist)[5000:]);\n",
    "plt.plot(range(5000, len(mod.hist)), np.array(mod_s.hist)[5000:]);\n",
    "plt.plot(range(5000, len(mod.hist)), np.array(mod_s3.hist)[5000:]);\n",
    "plt.legend(labels=['exp', 'softplus scales', 'all_softplus']);\n",
    "plt.xlim(0, len(mod.hist));\n",
    "plt.ylim(3.2e+7, 3.3e+7);\n",
    "plt.title('zoom in on y-axis');"
   ]
  },
  {
   "cell_type": "markdown",
   "metadata": {},
   "source": [
    "### Evaluate accuracy using $R^2$"
   ]
  },
  {
   "cell_type": "code",
   "execution_count": 22,
   "metadata": {},
   "outputs": [],
   "source": [
    "means = mod.guide.median(mod.state_param)\n",
    "means = {k: np.array(v)\n",
    "         for k, v in means.items()}\n",
    "means_softplus = mod_s.guide.median(mod_s.state_param)\n",
    "means_softplus = {k: np.array(v)\n",
    "         for k, v in means_softplus.items()}\n",
    "means_softplus_all = mod_s3.guide.median(mod_s3.state_param)\n",
    "means_softplus_all = {k: np.array(v)\n",
    "         for k, v in means_softplus_all.items()}"
   ]
  },
  {
   "cell_type": "code",
   "execution_count": 23,
   "metadata": {},
   "outputs": [],
   "source": [
    "from re import sub\n",
    "cell_count = adata_vis.obs.loc[:, ['cell_abundances_' in i for i in adata_vis.obs.columns]]\n",
    "cell_count.columns =  [sub('cell_abundances_', '', i) for i in cell_count.columns]\n",
    "cell_count_columns = cell_count.columns\n",
    "\n",
    "infer_cell_count = pd.DataFrame(means['w_sf'], index=adata_vis.obs_names, \n",
    "                                columns=aver.columns)\n",
    "infer_cell_count = infer_cell_count[cell_count.columns]\n",
    "\n",
    "infer_cell_count_softplus = pd.DataFrame(means_softplus['w_sf'], index=adata_vis.obs_names, \n",
    "                                columns=aver.columns)\n",
    "infer_cell_count_softplus = infer_cell_count_softplus[cell_count.columns]\n",
    "\n",
    "infer_cell_count_softplus_all = pd.DataFrame(means_softplus_all['w_sf'], index=adata_vis.obs_names, \n",
    "                                columns=aver.columns)\n",
    "infer_cell_count_softplus_all = infer_cell_count_softplus_all[cell_count.columns]"
   ]
  },
  {
   "cell_type": "code",
   "execution_count": 24,
   "metadata": {},
   "outputs": [
    {
     "data": {
      "text/plain": [
       "(                      Inh_3   Ext_Pir   Oligo_2  Astro_HYPO   Ext_L25\n",
       " exper0_location_0  0.138815  0.135070  0.068393    0.335676  0.215021\n",
       " exper0_location_1  0.078556  0.734012  0.118447    0.174514  0.142849\n",
       " exper0_location_2  0.096103  0.282257  0.059262    0.308068  0.168073\n",
       " exper0_location_3  0.121038  0.291838  0.271611    0.166116  0.175127\n",
       " exper0_location_4  0.099689  0.213226  0.194107    0.122225  0.118715,\n",
       "                       Inh_3   Ext_Pir   Oligo_2  Astro_HYPO   Ext_L25\n",
       " exper0_location_0  0.182863  0.207381  0.095897    0.329631  0.357547\n",
       " exper0_location_1  0.102475  0.818952  0.094924    0.175022  0.183565\n",
       " exper0_location_2  0.112709  0.343085  0.047560    0.279108  0.232953\n",
       " exper0_location_3  0.194897  0.480860  0.330221    0.152634  0.225842\n",
       " exper0_location_4  0.137074  0.521673  0.240149    0.127277  0.153494,\n",
       "                       Inh_3   Ext_Pir   Oligo_2  Astro_HYPO   Ext_L25\n",
       " exper0_location_0  0.240063  0.106725  0.101167    0.408351  0.482280\n",
       " exper0_location_1  0.151951  1.144250  0.070061    0.194896  0.146518\n",
       " exper0_location_2  0.133935  0.415976  0.047885    0.358969  0.259294\n",
       " exper0_location_3  0.253925  0.615906  0.433945    0.158257  0.240780\n",
       " exper0_location_4  0.188999  0.677189  0.312106    0.130569  0.157572)"
      ]
     },
     "execution_count": 24,
     "metadata": {},
     "output_type": "execute_result"
    }
   ],
   "source": [
    "infer_cell_count.iloc[0:5,0:5], infer_cell_count_softplus.iloc[0:5,0:5], infer_cell_count_softplus_all.iloc[0:5,0:5]"
   ]
  },
  {
   "cell_type": "code",
   "execution_count": 25,
   "metadata": {},
   "outputs": [
    {
     "data": {
      "image/png": "[encoded data removed]",
      "text/plain": [
       "<Figure size 288x288 with 1 Axes>"
      ]
     },
     "metadata": {
      "needs_background": "light"
     },
     "output_type": "display_data"
    }
   ],
   "source": [
    "rcParams['figure.figsize'] = 4, 4\n",
    "rcParams[\"axes.facecolor\"] = \"white\"\n",
    "\n",
    "plt.hist2d(cell_count.values.flatten(), \n",
    "           infer_cell_count.values.flatten(),# / np.mean(adata_vis_res.var['gene_level'].values),\n",
    "           bins=[50, 50], norm=mpl.colors.LogNorm());\n",
    "plt.xlabel('Simulated cell abundance');\n",
    "plt.ylabel('Estimated cell abundance');\n",
    "plt.title(r'exp, $R^2$: ' \\\n",
    "          + str(np.round(np.corrcoef(cell_count.values.flatten(), \n",
    "           infer_cell_count.values.flatten()), 3)[0,1]));\n",
    "#plt.gca().set_aspect('equal', adjustable='box')\n",
    "plt.tight_layout()\n",
    "#plt.savefig(fig_path + '/Cell_density_cor.pdf')"
   ]
  },
  {
   "cell_type": "code",
   "execution_count": 26,
   "metadata": {},
   "outputs": [
    {
     "data": {
      "image/png": "[encoded data removed]",
      "text/plain": [
       "<Figure size 288x288 with 1 Axes>"
      ]
     },
     "metadata": {
      "needs_background": "light"
     },
     "output_type": "display_data"
    }
   ],
   "source": [
    "rcParams['figure.figsize'] = 4, 4\n",
    "rcParams[\"axes.facecolor\"] = \"white\"\n",
    "\n",
    "plt.hist2d(cell_count.values.flatten(), \n",
    "           infer_cell_count_softplus.values.flatten(),# / np.mean(adata_vis_res.var['gene_level'].values),\n",
    "           bins=[50, 50], norm=mpl.colors.LogNorm());\n",
    "plt.xlabel('Simulated cell abundance');\n",
    "plt.ylabel('Estimated cell abundance');\n",
    "plt.title(r'softplus scales, $R^2$: ' \\\n",
    "          + str(np.round(np.corrcoef(cell_count.values.flatten(), \n",
    "           infer_cell_count_softplus.values.flatten()), 3)[0,1]));\n",
    "#plt.gca().set_aspect('equal', adjustable='box')\n",
    "plt.tight_layout()\n",
    "#plt.savefig(fig_path + '/Cell_density_cor.pdf')"
   ]
  },
  {
   "cell_type": "code",
   "execution_count": 27,
   "metadata": {},
   "outputs": [
    {
     "data": {
      "image/png": "[encoded data removed]",
      "text/plain": [
       "<Figure size 288x288 with 1 Axes>"
      ]
     },
     "metadata": {
      "needs_background": "light"
     },
     "output_type": "display_data"
    }
   ],
   "source": [
    "rcParams['figure.figsize'] = 4, 4\n",
    "rcParams[\"axes.facecolor\"] = \"white\"\n",
    "\n",
    "plt.hist2d(cell_count.values.flatten(), \n",
    "           infer_cell_count_softplus_all.values.flatten(),# / np.mean(adata_vis_res.var['gene_level'].values),\n",
    "           bins=[50, 50], norm=mpl.colors.LogNorm());\n",
    "plt.xlabel('Simulated cell abundance');\n",
    "plt.ylabel('Estimated cell abundance');\n",
    "plt.title(r'softplus all, $R^2$: ' \\\n",
    "          + str(np.round(np.corrcoef(cell_count.values.flatten(), \n",
    "           infer_cell_count_softplus_all.values.flatten()), 3)[0,1]));\n",
    "#plt.gca().set_aspect('equal', adjustable='box')\n",
    "plt.tight_layout()\n",
    "#plt.savefig(fig_path + '/Cell_density_cor.pdf')"
   ]
  },
  {
   "cell_type": "markdown",
   "metadata": {},
   "source": [
    "Original implementation of cell2location in pymc3 has $R^2 = 0.791$."
   ]
  },
  {
   "cell_type": "markdown",
   "metadata": {},
   "source": [
    "## Evaluate with PR curves"
   ]
  },
  {
   "cell_type": "code",
   "execution_count": 28,
   "metadata": {},
   "outputs": [],
   "source": [
    "import matplotlib as mpl\n",
    "from matplotlib import pyplot as plt\n",
    "import numpy as np\n",
    "from scipy import interpolate\n",
    "\n",
    "with plt.style.context('seaborn'):\n",
    "    seaborn_colors = mpl.rcParams['axes.prop_cycle'].by_key()['color']\n",
    "\n",
    "\n",
    "def compute_precision_recall(pos_cell_count, infer_cell_proportions, mode='macro'):\n",
    "    r\"\"\" Plot precision-recall curves on average and for each cell type.\n",
    "    :param pos_cell_count: binary matrix showing which cell types are present in which locations\n",
    "    :param infer_cell_proportions: inferred locations (the higher the more cells)\n",
    "    \"\"\"\n",
    "    \n",
    "    from sklearn.metrics import precision_recall_curve\n",
    "    from sklearn.metrics import average_precision_score\n",
    "    \n",
    "    ### calculating ###\n",
    "    predictor = infer_cell_proportions.values + np.random.gamma(20, 1e-12, \n",
    "                                                                infer_cell_proportions.shape)\n",
    "    # For each cell type\n",
    "    precision = dict()\n",
    "    recall = dict()\n",
    "    average_precision = dict()\n",
    "    for i, c in enumerate(infer_cell_proportions.columns):\n",
    "        precision[c], recall[c], _ = precision_recall_curve(pos_cell_count[:, i],\n",
    "                                                            predictor[:, i])\n",
    "        average_precision[c] = average_precision_score(pos_cell_count[:, i], predictor[:, i], average=mode)\n",
    "\n",
    "    average_precision[\"averaged\"] = average_precision_score(pos_cell_count, predictor,\n",
    "                                                     average=mode)\n",
    "\n",
    "    # A \"micro-average\": quantifying score on all classes jointly\n",
    "    if mode == 'micro':\n",
    "        precision_, recall_, threshold = precision_recall_curve(pos_cell_count.ravel(),\n",
    "                                                                        predictor.ravel())\n",
    "        #precision_[threshold < 0.1] = 0\n",
    "        precision[\"averaged\"], recall[\"averaged\"] =  precision_, recall_\n",
    "\n",
    "    elif mode == 'macro':\n",
    "        precisions = []\n",
    "        recall_grid = np.linspace(0, 1, 2000)\n",
    "\n",
    "        for i, c in enumerate(infer_cell_proportions.columns):\n",
    "            f = interpolate.interp1d(recall[c], precision[c])\n",
    "            precision_interp = f(recall_grid)\n",
    "            precisions.append(precision_interp)\n",
    "\n",
    "        precision[\"averaged\"] = np.mean(precisions, axis=0)\n",
    "        recall['averaged'] = recall_grid\n",
    "\n",
    "        \n",
    "    return precision, recall, average_precision\n",
    "\n",
    "def compare_precision_recall(pos_cell_count, infer_cell_proportions,\n",
    "                             method_title, title='',\n",
    "                             legend_loc=(0, -.37),\n",
    "                             colors=sc.pl.palettes.default_102,\n",
    "                             mode='macro', curve='PR'):\n",
    "    \n",
    "    r\"\"\" Plot precision-recall curves on average and for each cell type.\n",
    "    :param pos_cell_count: binary matrix showing which cell types are present in which locations\n",
    "    :param infer_cell_proportions: inferred locations (the higher the more cells), \n",
    "                                        list of inferred parameters for several methods\n",
    "    :param method_title: title for each infer_cell_proportions\n",
    "    :param title: plot title\n",
    "    \"\"\"\n",
    "    # setup plot details\n",
    "    from itertools import cycle\n",
    "    colors = cycle(colors)\n",
    "    lines = []\n",
    "    labels = []\n",
    "    roc = {}\n",
    "    \n",
    "    ### plotting ###\n",
    "    for i, color in zip(range(len(infer_cell_proportions)), colors):\n",
    "        \n",
    "        if curve == 'PR':\n",
    "            precision, recall, average_precision = compute_precision_recall(pos_cell_count, \n",
    "                                                                        infer_cell_proportions[i], \n",
    "                                                                        mode=mode)\n",
    "\n",
    "            xlabel = 'Recall'\n",
    "            ylabel = 'Precision'\n",
    "            \n",
    "            l, = plt.plot(recall[\"averaged\"], precision[\"averaged\"], color=color, lw=3)\n",
    "\n",
    "        elif curve == 'ROC':\n",
    "            FPR, TPR, average_precision = compute_roc(pos_cell_count, \n",
    "                                                                        infer_cell_proportions[i], \n",
    "                                                                        mode=mode)\n",
    "\n",
    "            xlabel = 'FPR'\n",
    "            ylabel = 'TPR'\n",
    "            \n",
    "            l, = plt.plot(FPR[\"averaged\"], TPR[\"averaged\"], color=color, lw=3)\n",
    "            \n",
    "        \n",
    "        lines.append(l)\n",
    "\n",
    "        labels.append(method_title[i] + '(' + curve + ' score = {0:0.2f})'\n",
    "                      ''.format(average_precision[\"averaged\"]))\n",
    "        roc[method_title[i]] = average_precision[\"averaged\"]\n",
    "\n",
    "\n",
    "    fig = plt.gcf()\n",
    "    fig.subplots_adjust(bottom=0.25)\n",
    "    plt.xlim([0.0, 1.0])\n",
    "    plt.ylim([0.0, 1.05])\n",
    "    plt.xlabel(xlabel)\n",
    "    plt.ylabel(ylabel)\n",
    "    plt.title(title)\n",
    "    if legend_loc is not None:\n",
    "        plt.legend(lines, labels, loc=legend_loc, prop=dict(size=8))\n",
    "\n",
    "    #plt.show()\n",
    "    return roc"
   ]
  },
  {
   "cell_type": "code",
   "execution_count": 29,
   "metadata": {},
   "outputs": [
    {
     "data": {
      "image/png": "[encoded data removed]",
      "text/plain": [
       "<Figure size 432x216 with 1 Axes>"
      ]
     },
     "metadata": {
      "needs_background": "light"
     },
     "output_type": "display_data"
    }
   ],
   "source": [
    "rcParams['figure.figsize'] = 6, 3\n",
    "rcParams['font.size'] = 8\n",
    "\n",
    "results = [\n",
    "    #infer_cell_count,\n",
    "    #infer_cell_count_softplus,\n",
    "    infer_cell_count_softplus_all\n",
    "]\n",
    "\n",
    "names = [\n",
    "    #'exp', \n",
    "    'softplus scales', \n",
    "    'all_softplus'\n",
    "]\n",
    "\n",
    "compare_precision_recall(cell_count.values > 0.1, \n",
    "                         results,\n",
    "                         method_title=names, \n",
    "                         legend_loc=(1.1, 0.5))\n",
    "plt.tight_layout()"
   ]
  },
  {
   "cell_type": "markdown",
   "metadata": {},
   "source": [
    "Original implementation of cell2location in pymc3 has PR score = 0.66."
   ]
  },
  {
   "cell_type": "code",
   "execution_count": 30,
   "metadata": {},
   "outputs": [
    {
     "name": "stdout",
     "output_type": "stream",
     "text": [
      "ipykernel 5.5.3\n",
      "ipykernel._version 5.5.3\n",
      "json 2.0.9\n",
      "re 2.2.1\n",
      "IPython 7.22.0\n",
      "IPython.core.release 7.22.0\n",
      "logging 0.5.1.2\n",
      "zlib 1.0\n",
      "traitlets 5.0.5\n",
      "traitlets._version 5.0.5\n",
      "argparse 1.1\n",
      "ipython_genutils 0.2.0\n",
      "ipython_genutils._version 0.2.0\n",
      "platform 1.0.8\n",
      "pygments 2.8.1\n",
      "pexpect 4.8.0\n",
      "ptyprocess 0.7.0\n",
      "decorator 5.0.6\n",
      "pickleshare 0.7.5\n",
      "backcall 0.2.0\n",
      "prompt_toolkit 3.0.18\n",
      "wcwidth 0.2.5\n",
      "jedi 0.18.0\n",
      "parso 0.8.2\n",
      "colorama 0.4.4\n",
      "ctypes 1.1.0\n",
      "_ctypes 1.1.0\n",
      "urllib.request 3.7\n",
      "jupyter_client 6.1.12\n",
      "jupyter_client._version 6.1.12\n",
      "zmq 22.0.3\n",
      "zmq.backend.cython 40304\n",
      "zmq.backend.cython.constants 40304\n",
      "zmq.sugar 22.0.3\n",
      "zmq.sugar.constants 40304\n",
      "zmq.sugar.version 22.0.3\n",
      "jupyter_core 4.7.1\n",
      "jupyter_core.version 4.7.1\n",
      "_curses b'2.2'\n",
      "dateutil 2.8.1\n",
      "six 1.15.0\n",
      "decimal 1.70\n",
      "_decimal 1.70\n",
      "distutils 3.7.10\n",
      "scanpy 1.7.2\n",
      "scanpy._metadata 1.7.2\n",
      "packaging 20.9\n",
      "packaging.__about__ 20.9\n",
      "pkg_resources._vendor.six 1.10.0\n",
      "pkg_resources.extern.six 1.10.0\n",
      "pkg_resources._vendor.appdirs 1.4.3\n",
      "pkg_resources.extern.appdirs 1.4.3\n",
      "pkg_resources._vendor.packaging 20.4\n",
      "pkg_resources._vendor.packaging.__about__ 20.4\n",
      "pkg_resources.extern.packaging 20.4\n",
      "pkg_resources._vendor.pyparsing 2.2.1\n",
      "pkg_resources.extern.pyparsing 2.2.1\n",
      "csv 1.0\n",
      "_csv 1.0\n",
      "numpy 1.20.2\n",
      "numpy.core 1.20.2\n",
      "numpy.core._multiarray_umath 3.1\n",
      "numpy.lib 1.20.2\n",
      "numpy.linalg._umath_linalg 0.1.5\n",
      "scipy 1.6.2\n",
      "anndata 0.7.5\n",
      "anndata._metadata 0.7.5\n",
      "h5py 3.1.0\n",
      "cached_property 1.5.2\n",
      "natsort 7.1.1\n",
      "pandas 1.2.3\n",
      "pytz 2021.1\n",
      "pandas.compat.numpy.function 1.20.2\n",
      "sinfo 0.3.1\n",
      "stdlib_list v0.7.0\n",
      "numba 0.53.1\n",
      "llvmlite 0.36.0\n",
      "numba.misc.appdirs 1.4.1\n",
      "sklearn 0.24.1\n",
      "sklearn.base 0.24.1\n",
      "joblib 1.0.1\n",
      "joblib.externals.loky 2.9.0\n",
      "joblib.externals.cloudpickle 1.6.0\n",
      "scipy._lib.decorator 4.0.5\n",
      "scipy.linalg._fblas b'$Revision: $'\n",
      "scipy.linalg._flapack b'$Revision: $'\n",
      "scipy.linalg._flinalg b'$Revision: $'\n",
      "scipy.special.specfun b'$Revision: $'\n",
      "scipy.ndimage 2.0\n",
      "scipy.optimize.minpack2 b'$Revision: $'\n",
      "scipy.sparse.linalg.isolve._iterative b'$Revision: $'\n",
      "scipy.sparse.linalg.eigen.arpack._arpack b'$Revision: $'\n",
      "scipy.optimize._lbfgsb b'$Revision: $'\n",
      "scipy.optimize._cobyla b'$Revision: $'\n",
      "scipy.optimize._slsqp b'$Revision: $'\n",
      "scipy.optimize._minpack  1.10 \n",
      "scipy.optimize.__nnls b'$Revision: $'\n",
      "scipy.linalg._interpolative b'$Revision: $'\n",
      "scipy.integrate._odepack  1.9 \n",
      "scipy.integrate._quadpack  1.13 \n",
      "scipy.integrate._ode $Id$\n",
      "scipy.integrate.vode b'$Revision: $'\n",
      "scipy.integrate._dop b'$Revision: $'\n",
      "scipy.integrate.lsoda b'$Revision: $'\n",
      "scipy.interpolate._fitpack  1.7 \n",
      "scipy.interpolate.dfitpack b'$Revision: $'\n",
      "scipy.stats.statlib b'$Revision: $'\n",
      "scipy.stats.mvn b'$Revision: $'\n",
      "sklearn.utils._joblib 1.0.1\n",
      "leidenalg 0.8.3\n",
      "igraph 0.9.1\n",
      "texttable 1.6.3\n",
      "igraph.version 0.9.1\n",
      "louvain 0.7.0\n",
      "matplotlib 3.4.1\n",
      "PIL 8.1.2\n",
      "PIL._version 8.1.2\n",
      "PIL.Image 8.1.2\n",
      "xml.etree.ElementTree 1.3.0\n",
      "cffi 1.14.5\n",
      "pyparsing 2.4.7\n",
      "cycler 0.10.0\n",
      "kiwisolver 1.3.1\n",
      "tables 3.6.1\n",
      "numexpr 2.7.3\n",
      "legacy_api_wrap 0.0.0\n",
      "get_version 2.1\n",
      "numpyro 0.6.0\n",
      "jax 0.2.12\n",
      "jaxlib 0.1.65\n",
      "jaxlib.version 0.1.65\n",
      "jax.version 0.2.12\n",
      "opt_einsum v3.3.0\n",
      "scipy._lib._uarray 0.5.1+49.g4c3f1d7.scipy\n",
      "scipy.signal.spline 0.2\n",
      "tqdm 4.60.0\n",
      "tqdm.cli 4.60.0\n",
      "tqdm.version 4.60.0\n",
      "tqdm._dist_ver 4.60.0\n",
      "ipywidgets 7.6.3\n",
      "ipywidgets._version 7.6.3\n",
      "numpyro.version 0.6.0\n",
      "seaborn 0.11.1\n",
      "seaborn.external.husl 2.1.0\n",
      "statsmodels 0.12.2\n"
     ]
    }
   ],
   "source": [
    "import sys\n",
    "for module in sys.modules:\n",
    "    try:\n",
    "        print(module,sys.modules[module].__version__)\n",
    "    except:\n",
    "        try:\n",
    "            if  type(modules[module].version) is str:\n",
    "                print(module,sys.modules[module].version)\n",
    "            else:\n",
    "                print(module,sys.modules[module].version())\n",
    "        except:\n",
    "            try:\n",
    "                print(module,sys.modules[module].VERSION)\n",
    "            except:\n",
    "                pass"
   ]
  },
  {
   "cell_type": "code",
   "execution_count": null,
   "metadata": {},
   "outputs": [],
   "source": []
  }
 ],
 "metadata": {
  "kernelspec": {
   "display_name": "Python [conda env:numpyro]",
   "language": "python",
   "name": "conda-env-numpyro-py"
  },
  "language_info": {
   "codemirror_mode": {
    "name": "ipython",
    "version": 3
   },
   "file_extension": ".py",
   "mimetype": "text/x-python",
   "name": "python",
   "nbconvert_exporter": "python",
   "pygments_lexer": "ipython3",
   "version": "3.7.10"
  }
 },
 "nbformat": 4,
 "nbformat_minor": 4
}
