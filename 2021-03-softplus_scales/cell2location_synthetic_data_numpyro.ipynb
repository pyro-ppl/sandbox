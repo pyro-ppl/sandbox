{
 "cells": [
  {
   "cell_type": "markdown",
   "metadata": {},
   "source": [
    "# Benchmarking cell2location pyro model using softplus/exp for scales"
   ]
  },
  {
   "cell_type": "code",
   "execution_count": 1,
   "metadata": {},
   "outputs": [
    {
     "name": "stdout",
     "output_type": "stream",
     "text": [
      "gpu\n"
     ]
    }
   ],
   "source": [
    "import sys, ast, os\n",
    "import scanpy as sc\n",
    "import anndata\n",
    "import pandas as pd\n",
    "import numpy as np\n",
    "import os\n",
    "import matplotlib.pyplot as plt \n",
    "import matplotlib as mpl\n",
    "data_type='float32'\n",
    "\n",
    "#sys.path.insert(1, '/nfs/team205/vk7/sanger_projects/BayraktarLab/cell2location/')\n",
    "#sys.path.insert(1, '/nfs/team205/vk7/sanger_projects/software/pyro/')\n",
    "\n",
    "# this line forces JAX to use the GPU and should go before importing cell2location\n",
    "os.environ[\"JAX_PLATFORM_NAME\"] = \"gpu\"\n",
    "#os.environ[\"XLA_PYTHON_CLIENT_ALLOCATOR\"]=\"platform\"\n",
    "os.environ[\"XLA_PYTHON_CLIENT_PREALLOCATE\"]=\"false\"\n",
    "\n",
    "\n",
    "import cell2location_model_numpyro as cell2location_model \n",
    "\n",
    "from matplotlib import rcParams\n",
    "rcParams['pdf.fonttype'] = 42 # enables correct plotting of text\n",
    "import seaborn as sns\n",
    "\n",
    "from jax.lib import xla_bridge\n",
    "print(xla_bridge.get_backend().platform)"
   ]
  },
  {
   "cell_type": "markdown",
   "metadata": {},
   "source": [
    "`THEANO_FLAGS='force_device=True'` forces the package to use GPU. Pay attention to error messages that might indicate theano failed to initalise the GPU.   \n",
    "Do not forget to change `device=cuda4` to your available GPU id. Use `device=cuda` / `device=cuda0` if you have just one locally or if you are requesting one GPU via HPC cluster job."
   ]
  },
  {
   "cell_type": "markdown",
   "metadata": {},
   "source": [
    "### The purpose of the notebook is to benchmark several versions of the model using mouse brain data."
   ]
  },
  {
   "cell_type": "code",
   "execution_count": 2,
   "metadata": {},
   "outputs": [],
   "source": [
    "sc_data_folder = '/nfs/team205/vk7/sanger_projects/cell2location_paper/notebooks/selected_data/mouse_visium_snrna/'\n",
    "sp_data_folder = '/nfs/team205/vk7/sanger_projects/cell2location_paper/notebooks/selected_results/benchmarking/with_tissue_zones/data/'\n",
    "results_folder = '/nfs/team205/vk7/sanger_projects/cell2location_paper/notebooks/selected_results/benchmarking/with_tissue_zones/real_mg/pyro/'"
   ]
  },
  {
   "cell_type": "markdown",
   "metadata": {},
   "source": [
    "## Read datasets and train cell2location"
   ]
  },
  {
   "cell_type": "markdown",
   "metadata": {},
   "source": [
    "Data can be downloaded as follows:\n",
    "\n",
    "```bash\n",
    "wget https://cell2location.cog.sanger.ac.uk/paper/synthetic_with_tissue_zones/synth_adata_real_mg_20210131.h5ad\n",
    "wget https://cell2location.cog.sanger.ac.uk/paper/synthetic_with_tissue_zones/training_5705STDY8058280_5705STDY8058281_20210131.h5ad\n",
    "```"
   ]
  },
  {
   "cell_type": "code",
   "execution_count": 3,
   "metadata": {},
   "outputs": [
    {
     "name": "stderr",
     "output_type": "stream",
     "text": [
      "/nfs/team283/vk7/software/miniconda3farm5/envs/numpyro/lib/python3.7/site-packages/pandas/core/arrays/categorical.py:2487: FutureWarning: The `inplace` parameter in pandas.Categorical.remove_unused_categories is deprecated and will be removed in a future version.\n",
      "  res = method(*args, **kwargs)\n"
     ]
    }
   ],
   "source": [
    "adata_vis = anndata.read(f'{sp_data_folder}synth_adata_real_mg_20210131.h5ad')\n",
    "adata_vis.uns['spatial'] = {'x': 'y'}\n",
    "adata_vis = adata_vis[adata_vis.obs['sample'] == 'exper0',:]\n",
    "\n",
    "adata_snrna_raw = anndata.read(f'{sp_data_folder}training_5705STDY8058280_5705STDY8058281_20210131.h5ad')"
   ]
  },
  {
   "cell_type": "code",
   "execution_count": 4,
   "metadata": {},
   "outputs": [],
   "source": [
    "import scipy\n",
    "adata_snrna_raw.X = scipy.sparse.csr_matrix(adata_snrna_raw.X)"
   ]
  },
  {
   "cell_type": "code",
   "execution_count": 5,
   "metadata": {},
   "outputs": [],
   "source": [
    "adata_vis.X = scipy.sparse.csr_matrix(adata_vis.X)"
   ]
  },
  {
   "cell_type": "markdown",
   "metadata": {},
   "source": [
    "Add counts matrix as `adata.raw` "
   ]
  },
  {
   "cell_type": "code",
   "execution_count": 6,
   "metadata": {},
   "outputs": [],
   "source": [
    "adata_snrna_raw.raw = adata_snrna_raw\n",
    "adata_vis.raw = adata_vis"
   ]
  },
  {
   "cell_type": "code",
   "execution_count": 7,
   "metadata": {},
   "outputs": [],
   "source": [
    "# compute average for each cluster\n",
    "aver = cell2location_model.get_cluster_averages(adata_snrna_raw, 'annotation_1')\n",
    "\n",
    "# make sure the order of gene matches between aver and x_data\n",
    "aver = aver.loc[adata_vis.var_names,:]\n",
    "\n",
    "# generate one-hot encoded matrix telling which obs belong to whic samples\n",
    "obs2sample_df = pd.get_dummies(adata_vis.obs['sample'])"
   ]
  },
  {
   "cell_type": "code",
   "execution_count": 8,
   "metadata": {},
   "outputs": [
    {
     "data": {
      "text/plain": [
       "AnnData object with n_obs × n_vars = 2500 × 12809\n",
       "    obs: 'cell_count_Inh_3', 'cell_count_Ext_Pir', 'cell_count_Oligo_2', 'cell_count_Astro_HYPO', 'cell_count_Ext_L25', 'cell_count_Astro_THAL_lat', 'cell_count_Ext_L5_1', 'cell_count_Ext_L23', 'cell_count_Micro', 'cell_count_Ext_Thal_1', 'cell_count_Ext_Hpc_CA1', 'cell_count_Inh_Meis2_3', 'cell_count_Inh_4', 'cell_count_OPC_1', 'cell_count_Oligo_1', 'cell_count_Ext_Hpc_CA3', 'cell_count_Astro_CTX', 'cell_count_Astro_THAL_med', 'cell_count_Inh_Vip', 'cell_count_Ext_Amy_2', 'cell_count_Astro_AMY_CTX', 'cell_count_Unk_1', 'cell_count_Inh_Sst', 'cell_count_Inh_Meis2_2', 'cell_count_Ext_Hpc_DG2', 'cell_count_Ext_Hpc_DG1', 'cell_count_Inh_1', 'cell_count_Inh_Meis2_4', 'cell_count_Inh_2', 'cell_count_Nb_1', 'cell_count_Ext_Thal_2', 'cell_count_Ext_Amy_1', 'cell_count_Ext_L6', 'cell_count_OPC_2', 'cell_count_Inh_Meis2_1', 'cell_count_Ext_L6B', 'cell_count_LowQ_2', 'cell_count_Ext_Unk_3', 'cell_count_Ext_L56', 'cell_count_Inh_Lamp5', 'cell_count_Inh_Pvalb', 'cell_count_Ext_L5_2', 'cell_count_Inh_6', 'cell_count_Astro_AMY', 'cell_count_Ext_ClauPyr', 'cell_count_Astro_HPC', 'cell_count_Astro_WM', 'cell_count_Nb_2', 'cell_count_Inh_5', 'cell_abundances_Inh_3', 'cell_abundances_Ext_Pir', 'cell_abundances_Oligo_2', 'cell_abundances_Astro_HYPO', 'cell_abundances_Ext_L25', 'cell_abundances_Astro_THAL_lat', 'cell_abundances_Ext_L5_1', 'cell_abundances_Ext_L23', 'cell_abundances_Micro', 'cell_abundances_Ext_Thal_1', 'cell_abundances_Ext_Hpc_CA1', 'cell_abundances_Inh_Meis2_3', 'cell_abundances_Inh_4', 'cell_abundances_OPC_1', 'cell_abundances_Oligo_1', 'cell_abundances_Ext_Hpc_CA3', 'cell_abundances_Astro_CTX', 'cell_abundances_Astro_THAL_med', 'cell_abundances_Inh_Vip', 'cell_abundances_Ext_Amy_2', 'cell_abundances_Astro_AMY_CTX', 'cell_abundances_Unk_1', 'cell_abundances_Inh_Sst', 'cell_abundances_Inh_Meis2_2', 'cell_abundances_Ext_Hpc_DG2', 'cell_abundances_Ext_Hpc_DG1', 'cell_abundances_Inh_1', 'cell_abundances_Inh_Meis2_4', 'cell_abundances_Inh_2', 'cell_abundances_Nb_1', 'cell_abundances_Ext_Thal_2', 'cell_abundances_Ext_Amy_1', 'cell_abundances_Ext_L6', 'cell_abundances_OPC_2', 'cell_abundances_Inh_Meis2_1', 'cell_abundances_Ext_L6B', 'cell_abundances_LowQ_2', 'cell_abundances_Ext_Unk_3', 'cell_abundances_Ext_L56', 'cell_abundances_Inh_Lamp5', 'cell_abundances_Inh_Pvalb', 'cell_abundances_Ext_L5_2', 'cell_abundances_Inh_6', 'cell_abundances_Astro_AMY', 'cell_abundances_Ext_ClauPyr', 'cell_abundances_Astro_HPC', 'cell_abundances_Astro_WM', 'cell_abundances_Nb_2', 'cell_abundances_Inh_5', 'cell_capture_eff_Inh_3', 'cell_capture_eff_Ext_Pir', 'cell_capture_eff_Oligo_2', 'cell_capture_eff_Astro_HYPO', 'cell_capture_eff_Ext_L25', 'cell_capture_eff_Astro_THAL_lat', 'cell_capture_eff_Ext_L5_1', 'cell_capture_eff_Ext_L23', 'cell_capture_eff_Micro', 'cell_capture_eff_Ext_Thal_1', 'cell_capture_eff_Ext_Hpc_CA1', 'cell_capture_eff_Inh_Meis2_3', 'cell_capture_eff_Inh_4', 'cell_capture_eff_OPC_1', 'cell_capture_eff_Oligo_1', 'cell_capture_eff_Ext_Hpc_CA3', 'cell_capture_eff_Astro_CTX', 'cell_capture_eff_Astro_THAL_med', 'cell_capture_eff_Inh_Vip', 'cell_capture_eff_Ext_Amy_2', 'cell_capture_eff_Astro_AMY_CTX', 'cell_capture_eff_Unk_1', 'cell_capture_eff_Inh_Sst', 'cell_capture_eff_Inh_Meis2_2', 'cell_capture_eff_Ext_Hpc_DG2', 'cell_capture_eff_Ext_Hpc_DG1', 'cell_capture_eff_Inh_1', 'cell_capture_eff_Inh_Meis2_4', 'cell_capture_eff_Inh_2', 'cell_capture_eff_Nb_1', 'cell_capture_eff_Ext_Thal_2', 'cell_capture_eff_Ext_Amy_1', 'cell_capture_eff_Ext_L6', 'cell_capture_eff_OPC_2', 'cell_capture_eff_Inh_Meis2_1', 'cell_capture_eff_Ext_L6B', 'cell_capture_eff_LowQ_2', 'cell_capture_eff_Ext_Unk_3', 'cell_capture_eff_Ext_L56', 'cell_capture_eff_Inh_Lamp5', 'cell_capture_eff_Inh_Pvalb', 'cell_capture_eff_Ext_L5_2', 'cell_capture_eff_Inh_6', 'cell_capture_eff_Astro_AMY', 'cell_capture_eff_Ext_ClauPyr', 'cell_capture_eff_Astro_HPC', 'cell_capture_eff_Astro_WM', 'cell_capture_eff_Nb_2', 'cell_capture_eff_Inh_5', 'sample', 'UMI_count_Inh_3', 'UMI_count_Ext_Pir', 'UMI_count_Oligo_2', 'UMI_count_Astro_HYPO', 'UMI_count_Ext_L25', 'UMI_count_Astro_THAL_lat', 'UMI_count_Ext_L5_1', 'UMI_count_Ext_L23', 'UMI_count_Micro', 'UMI_count_Ext_Thal_1', 'UMI_count_Ext_Hpc_CA1', 'UMI_count_Inh_Meis2_3', 'UMI_count_Inh_4', 'UMI_count_OPC_1', 'UMI_count_Oligo_1', 'UMI_count_Ext_Hpc_CA3', 'UMI_count_Astro_CTX', 'UMI_count_Astro_THAL_med', 'UMI_count_Inh_Vip', 'UMI_count_Ext_Amy_2', 'UMI_count_Astro_AMY_CTX', 'UMI_count_Unk_1', 'UMI_count_Inh_Sst', 'UMI_count_Inh_Meis2_2', 'UMI_count_Ext_Hpc_DG2', 'UMI_count_Ext_Hpc_DG1', 'UMI_count_Inh_1', 'UMI_count_Inh_Meis2_4', 'UMI_count_Inh_2', 'UMI_count_Nb_1', 'UMI_count_Ext_Thal_2', 'UMI_count_Ext_Amy_1', 'UMI_count_Ext_L6', 'UMI_count_OPC_2', 'UMI_count_Inh_Meis2_1', 'UMI_count_Ext_L6B', 'UMI_count_LowQ_2', 'UMI_count_Ext_Unk_3', 'UMI_count_Ext_L56', 'UMI_count_Inh_Lamp5', 'UMI_count_Inh_Pvalb', 'UMI_count_Ext_L5_2', 'UMI_count_Inh_6', 'UMI_count_Astro_AMY', 'UMI_count_Ext_ClauPyr', 'UMI_count_Astro_HPC', 'UMI_count_Astro_WM', 'UMI_count_Nb_2', 'UMI_count_Inh_5'\n",
       "    var: 'gene_level'\n",
       "    uns: 'design', 'spatial'\n",
       "    obsm: 'X_spatial'\n",
       "    layers: 'expression_levels'"
      ]
     },
     "execution_count": 8,
     "metadata": {},
     "output_type": "execute_result"
    }
   ],
   "source": [
    "adata_vis"
   ]
  },
  {
   "cell_type": "markdown",
   "metadata": {},
   "source": [
    "## Model training"
   ]
  },
  {
   "cell_type": "code",
   "execution_count": 9,
   "metadata": {},
   "outputs": [
    {
     "data": {
      "text/plain": [
       "'/nfs/team205/vk7/sanger_projects/cell2location_paper/notebooks/selected_results/benchmarking/with_tissue_zones/real_mg/pyro/'"
      ]
     },
     "execution_count": 9,
     "metadata": {},
     "output_type": "execute_result"
    }
   ],
   "source": [
    "results_folder"
   ]
  },
  {
   "cell_type": "code",
   "execution_count": 10,
   "metadata": {
    "scrolled": false
   },
   "outputs": [],
   "source": [
    "#import torch\n",
    "#torch.set_default_tensor_type(torch.cuda.FloatTensor)\n",
    "\n",
    "mod = cell2location_model.LocationModelLinearDependentWMultiExperiment(\n",
    "    device='gpu',\n",
    "    n_obs=adata_vis.n_obs,\n",
    "    n_vars=adata_vis.n_vars,\n",
    "        n_factors=aver.shape[1],\n",
    "        n_exper=obs2sample_df.shape[1],\n",
    "        batch_size=None,\n",
    "        cell_state_mat=aver.values.astype(data_type),\n",
    "    )\n"
   ]
  },
  {
   "cell_type": "code",
   "execution_count": 11,
   "metadata": {},
   "outputs": [
    {
     "data": {
      "text/plain": [
       "{'obs_axis': (2500,),\n",
       " 'm_g_alpha_hyp': (),\n",
       " 'm_g_beta_hyp': (),\n",
       " 'm_g': (1, 12809),\n",
       " 'n_s_cells_per_location': (2500, 1),\n",
       " 'y_s_groups_per_location': (2500, 1),\n",
       " 'z_sr_groups_factors': (2500, 50),\n",
       " 'k_r_factors_per_groups': (50, 1),\n",
       " 'x_fr_group2fact': (50, 49),\n",
       " 'w_sf': (2500, 49),\n",
       " 'l_s_add_alpha': (1, 1),\n",
       " 'l_s_add_beta': (1, 1),\n",
       " 'l_s_add': (2500, 1),\n",
       " 's_g_gene_add_alpha_hyp': (),\n",
       " 's_g_gene_add_mean': (1, 1),\n",
       " 's_g_gene_add_alpha_e_inv': (1, 1),\n",
       " 's_g_gene_add': (1, 12809),\n",
       " 'alpha_g_phi_hyp': (),\n",
       " 'alpha_g_inverse': (1, 12809),\n",
       " 'data_target': (2500, 12809),\n",
       " 'u_sf_mRNA_factors': (2500, 49)}"
      ]
     },
     "execution_count": 11,
     "metadata": {},
     "output_type": "execute_result"
    }
   ],
   "source": [
    "import jax.numpy as jnp\n",
    "import jax\n",
    "import numpyro\n",
    "args = {\n",
    "    'x_data': jnp.array(adata_vis.raw.X.toarray().astype(data_type)),\n",
    "    'idx': jnp.array(np.arange(adata_vis.n_obs).astype(\"int64\")),\n",
    "    'obs2sample': jnp.array(obs2sample_df.values.astype(data_type))\n",
    "    \n",
    "       }\n",
    "trace = numpyro.handlers.trace(numpyro.handlers.seed(mod.model.forward, \n",
    "                                                           jax.random.PRNGKey(0))).get_trace(**args)\n",
    "#trace.compute_log_prob()  # optional, but allows printing of log_prob shapes\n",
    "{k: site[\"value\"].shape for k, site in trace.items()}"
   ]
  },
  {
   "cell_type": "code",
   "execution_count": 12,
   "metadata": {},
   "outputs": [
    {
     "data": {
      "application/vnd.jupyter.widget-view+json": {
       "model_id": "12d547a5f4eb43f087997cf7a3de46bd",
       "version_major": 2,
       "version_minor": 0
      },
      "text/plain": [
       "  0%|          | 0/30000 [00:00<?, ?it/s]"
      ]
     },
     "metadata": {},
     "output_type": "display_data"
    }
   ],
   "source": [
    "from numpyro.distributions import constraints\n",
    "mod.guide.scale_constraint = constraints.positive\n",
    "#mod.guide.scale_constraint = constraints.softplus_positive\n",
    "\n",
    "#mod.to('cuda')\n",
    "mod._train_full_data(x_data=adata_vis.raw.X.toarray().astype(data_type),\n",
    "                     obs2sample=obs2sample_df.values.astype(data_type),\n",
    "                     n_epochs=30000, lr=0.005)"
   ]
  },
  {
   "cell_type": "code",
   "execution_count": 13,
   "metadata": {},
   "outputs": [],
   "source": [
    "means = mod.guide.median(mod.state_param)\n",
    "means = {k: np.array(v)\n",
    "         for k, v in means.items()}"
   ]
  },
  {
   "cell_type": "code",
   "execution_count": 14,
   "metadata": {},
   "outputs": [
    {
     "data": {
      "text/plain": [
       "{'m_g_alpha_hyp': array(0.45131934, dtype=float32),\n",
       " 'm_g_beta_hyp': array(1.9167098, dtype=float32),\n",
       " 'm_g': array([[1.2715233e-03, 2.2737229e-06, 2.7462941e-01, ..., 2.4233174e-03,\n",
       "         3.2019258e-02, 7.1148664e-02]], dtype=float32),\n",
       " 'n_s_cells_per_location': array([[8.291246 ],\n",
       "        [7.7297435],\n",
       "        [7.396741 ],\n",
       "        ...,\n",
       "        [7.960188 ],\n",
       "        [8.097165 ],\n",
       "        [7.3354278]], dtype=float32),\n",
       " 'y_s_groups_per_location': array([[12.450956 ],\n",
       "        [13.660027 ],\n",
       "        [12.8425455],\n",
       "        ...,\n",
       "        [12.107614 ],\n",
       "        [12.907221 ],\n",
       "        [12.302417 ]], dtype=float32),\n",
       " 'z_sr_groups_factors': array([[0.02209583, 0.02212902, 0.02042569, ..., 0.02554942, 0.02406411,\n",
       "         0.02259734],\n",
       "        [0.03033462, 0.03055341, 0.02962487, ..., 0.03088286, 0.02882993,\n",
       "         0.02891486],\n",
       "        [0.025343  , 0.02659686, 0.0221654 , ..., 0.02760819, 0.02388103,\n",
       "         0.02705397],\n",
       "        ...,\n",
       "        [0.02450913, 0.02384007, 0.02360723, ..., 0.02581625, 0.02571474,\n",
       "         0.02413137],\n",
       "        [0.02694261, 0.02536242, 0.0277068 , ..., 0.02647218, 0.02453612,\n",
       "         0.0267148 ],\n",
       "        [0.02199532, 0.02180267, 0.0216406 , ..., 0.02438384, 0.02230122,\n",
       "         0.0201628 ]], dtype=float32),\n",
       " 'k_r_factors_per_groups': array([[8.9809427e+00],\n",
       "        [8.8202620e+00],\n",
       "        [8.9160204e+00],\n",
       "        [8.7678432e+00],\n",
       "        [8.6171732e+00],\n",
       "        [8.9928284e+00],\n",
       "        [8.9112244e+00],\n",
       "        [8.8087320e+00],\n",
       "        [8.5882969e+00],\n",
       "        [9.2659607e+00],\n",
       "        [8.7898808e+00],\n",
       "        [8.7582073e+00],\n",
       "        [8.9351177e+00],\n",
       "        [8.5986662e+00],\n",
       "        [7.1104655e-06],\n",
       "        [8.7540741e+00],\n",
       "        [8.7176437e+00],\n",
       "        [8.9396095e+00],\n",
       "        [8.3774662e+00],\n",
       "        [1.1615352e-02],\n",
       "        [8.8652439e+00],\n",
       "        [8.6878796e+00],\n",
       "        [8.7255192e+00],\n",
       "        [9.0624733e+00],\n",
       "        [8.7858686e+00],\n",
       "        [8.8862486e+00],\n",
       "        [8.7781401e+00],\n",
       "        [8.9648209e+00],\n",
       "        [8.5414829e+00],\n",
       "        [8.7784290e+00],\n",
       "        [8.8013678e+00],\n",
       "        [8.6583776e+00],\n",
       "        [8.8345251e+00],\n",
       "        [8.7566500e+00],\n",
       "        [8.6515160e+00],\n",
       "        [8.9153214e+00],\n",
       "        [8.7505617e+00],\n",
       "        [8.5360088e+00],\n",
       "        [8.8285198e+00],\n",
       "        [8.4095869e+00],\n",
       "        [4.2960327e-04],\n",
       "        [8.8621750e+00],\n",
       "        [8.7770958e+00],\n",
       "        [8.8786402e+00],\n",
       "        [8.5704727e+00],\n",
       "        [8.6344652e+00],\n",
       "        [4.6346984e-03],\n",
       "        [8.5984621e+00],\n",
       "        [8.7585554e+00],\n",
       "        [8.8202219e+00]], dtype=float32),\n",
       " 'x_fr_group2fact': array([[2.8337803e-04, 2.3259476e-04, 2.2867291e-04, ..., 6.8996269e-05,\n",
       "         1.5356166e-04, 6.6245609e-04],\n",
       "        [2.4954989e-04, 2.4133656e-04, 2.0581005e-04, ..., 5.6985500e-05,\n",
       "         1.9314900e-04, 6.2700227e-04],\n",
       "        [2.4698314e-04, 2.3587511e-04, 2.4876505e-04, ..., 7.7988654e-05,\n",
       "         2.0077941e-04, 6.9862895e-04],\n",
       "        ...,\n",
       "        [2.6878528e-04, 2.2815014e-04, 2.3836301e-04, ..., 7.3508098e-05,\n",
       "         1.5487208e-04, 6.5118598e-04],\n",
       "        [2.7066359e-04, 2.4143832e-04, 2.1673848e-04, ..., 6.7160443e-05,\n",
       "         1.6485497e-04, 7.0332008e-04],\n",
       "        [2.5368022e-04, 2.2505406e-04, 2.0641272e-04, ..., 5.3364209e-05,\n",
       "         1.7035344e-04, 6.9544511e-04]], dtype=float32),\n",
       " 'w_sf': array([[0.29561734, 0.44130817, 0.32891285, ..., 0.06697722, 0.06812801,\n",
       "         0.5999332 ],\n",
       "        [0.09202296, 0.13317122, 0.12073426, ..., 0.14330454, 0.12620945,\n",
       "         0.3792659 ],\n",
       "        [0.5601909 , 0.6836137 , 0.42301115, ..., 0.07476688, 0.05977855,\n",
       "         0.70225656],\n",
       "        ...,\n",
       "        [0.37005055, 0.26358172, 0.2075285 , ..., 0.18168427, 0.19599424,\n",
       "         0.657029  ],\n",
       "        [0.16351531, 0.1443971 , 0.15155135, ..., 0.46431288, 0.44539237,\n",
       "         0.5231909 ],\n",
       "        [0.31314963, 0.59259725, 0.16239156, ..., 0.08489139, 0.11696194,\n",
       "         0.6512821 ]], dtype=float32),\n",
       " 'l_s_add_alpha': array([[0.2514605]], dtype=float32),\n",
       " 'l_s_add_beta': array([[385.4818]], dtype=float32),\n",
       " 'l_s_add': array([[2.2516537e-05],\n",
       "        [3.4999706e-05],\n",
       "        [9.8382799e-05],\n",
       "        ...,\n",
       "        [2.2543072e-05],\n",
       "        [7.0479866e-05],\n",
       "        [2.3266210e-05]], dtype=float32),\n",
       " 's_g_gene_add_alpha_hyp': array(2.832271, dtype=float32),\n",
       " 's_g_gene_add_mean': array([[0.00023417]], dtype=float32),\n",
       " 's_g_gene_add_alpha_e_inv': array([[0.26309994]], dtype=float32),\n",
       " 's_g_gene_add': array([[0.00024034, 0.00021784, 0.00022256, ..., 0.00022998, 0.00022603,\n",
       "         0.00023047]], dtype=float32),\n",
       " 'alpha_g_phi_hyp': array(1.4445106, dtype=float32),\n",
       " 'alpha_g_inverse': array([[0.08625434, 0.46110195, 0.6678748 , ..., 0.32955524, 0.29672134,\n",
       "         0.8896025 ]], dtype=float32),\n",
       " 'u_sf_mRNA_factors': array([[ 89.08105 , 141.33743 , 101.063934, ...,  27.986176,  17.150951,\n",
       "          99.12779 ],\n",
       "        [ 27.730112,  42.650642,  37.097607, ...,  59.879257,  31.77272 ,\n",
       "          62.66663 ],\n",
       "        [168.8074  , 218.94043 , 129.9772  , ...,  31.241056,  15.049007,\n",
       "         116.03482 ],\n",
       "        ...,\n",
       "        [111.51068 ,  84.417114,  63.76658 , ...,  75.91608 ,  49.34076 ,\n",
       "         108.561806],\n",
       "        [ 49.27355 ,  46.245945,  46.56667 , ..., 194.01137 , 112.125725,\n",
       "          86.447556],\n",
       "        [ 94.36421 , 189.79066 ,  49.897503, ...,  35.471546,  29.444696,\n",
       "         107.612236]], dtype=float32)}"
      ]
     },
     "execution_count": 14,
     "metadata": {},
     "output_type": "execute_result"
    }
   ],
   "source": [
    "means"
   ]
  },
  {
   "cell_type": "code",
   "execution_count": 15,
   "metadata": {
    "scrolled": true
   },
   "outputs": [
    {
     "name": "stdout",
     "output_type": "stream",
     "text": [
      "class AutoNormal(AutoGuide):\n",
      "    \"\"\"\n",
      "    This implementation of :class:`AutoGuide` uses Normal distributions\n",
      "    to construct a guide over the entire latent space. The guide does not\n",
      "    depend on the model's ``*args, **kwargs``.\n",
      "\n",
      "    This should be equivalent to :class: `AutoDiagonalNormal` , but with\n",
      "    more convenient site names and with better support for mean field ELBO.\n",
      "\n",
      "    Usage::\n",
      "\n",
      "        guide = AutoNormal(model)\n",
      "        svi = SVI(model, guide, ...)\n",
      "\n",
      "    :param callable model: A NumPyro model.\n",
      "    :param str prefix: a prefix that will be prefixed to all param internal sites.\n",
      "    :param callable init_loc_fn: A per-site initialization function.\n",
      "        See :ref:`init_strategy` section for available functions.\n",
      "    :param float init_scale: Initial scale for the standard deviation of each\n",
      "        (unconstrained transformed) latent variable.\n",
      "    :param callable create_plates: An optional function inputing the same\n",
      "        ``*args,**kwargs`` as ``model()`` and returning a :class:`numpyro.plate`\n",
      "        or iterable of plates. Plates not returned will be created\n",
      "        automatically as usual. This is useful for data subsampling.\n",
      "    \"\"\"\n",
      "\n",
      "    # TODO consider switching to constraints.softplus_positive\n",
      "    # See https://github.com/pyro-ppl/numpyro/issues/855\n",
      "    scale_constraint = constraints.positive\n",
      "\n",
      "    def __init__(\n",
      "        self,\n",
      "        model,\n",
      "        *,\n",
      "        prefix=\"auto\",\n",
      "        init_loc_fn=init_to_uniform,\n",
      "        init_scale=0.1,\n",
      "        create_plates=None,\n",
      "    ):\n",
      "        self._init_scale = init_scale\n",
      "        self._event_dims = {}\n",
      "        super().__init__(\n",
      "            model, prefix=prefix, init_loc_fn=init_loc_fn, create_plates=create_plates\n",
      "        )\n",
      "\n",
      "    def _setup_prototype(self, *args, **kwargs):\n",
      "        super()._setup_prototype(*args, **kwargs)\n",
      "\n",
      "        for name, site in self.prototype_trace.items():\n",
      "            if site[\"type\"] != \"sample\" or site[\"is_observed\"]:\n",
      "                continue\n",
      "\n",
      "            event_dim = (\n",
      "                site[\"fn\"].event_dim\n",
      "                + jnp.ndim(self._init_locs[name])\n",
      "                - jnp.ndim(site[\"value\"])\n",
      "            )\n",
      "            self._event_dims[name] = event_dim\n",
      "\n",
      "            # If subsampling, repeat init_value to full size.\n",
      "            for frame in site[\"cond_indep_stack\"]:\n",
      "                full_size = self._prototype_frame_full_sizes[frame.name]\n",
      "                if full_size != frame.size:\n",
      "                    dim = frame.dim - event_dim\n",
      "                    self._init_locs[name] = periodic_repeat(\n",
      "                        self._init_locs[name], full_size, dim\n",
      "                    )\n",
      "\n",
      "    def __call__(self, *args, **kwargs):\n",
      "        \"\"\"\n",
      "        An automatic guide with the same ``*args, **kwargs`` as the base ``model``.\n",
      "\n",
      "        :return: A dict mapping sample site name to sampled value.\n",
      "        :rtype: dict\n",
      "        \"\"\"\n",
      "        if self.prototype_trace is None:\n",
      "            # run model to inspect the model structure\n",
      "            self._setup_prototype(*args, **kwargs)\n",
      "\n",
      "        plates = self._create_plates(*args, **kwargs)\n",
      "        result = {}\n",
      "        for name, site in self.prototype_trace.items():\n",
      "            if site[\"type\"] != \"sample\" or site[\"is_observed\"]:\n",
      "                continue\n",
      "\n",
      "            event_dim = self._event_dims[name]\n",
      "            init_loc = self._init_locs[name]\n",
      "            with ExitStack() as stack:\n",
      "                for frame in site[\"cond_indep_stack\"]:\n",
      "                    stack.enter_context(plates[frame.name])\n",
      "\n",
      "                site_loc = numpyro.param(\n",
      "                    \"{}_{}_loc\".format(name, self.prefix), init_loc, event_dim=event_dim\n",
      "                )\n",
      "                site_scale = numpyro.param(\n",
      "                    \"{}_{}_scale\".format(name, self.prefix),\n",
      "                    jnp.full(jnp.shape(init_loc), self._init_scale),\n",
      "                    constraint=self.scale_constraint,\n",
      "                    event_dim=event_dim,\n",
      "                )\n",
      "\n",
      "                site_fn = dist.Normal(site_loc, site_scale).to_event(event_dim)\n",
      "                if site[\"fn\"].support is constraints.real or (\n",
      "                    isinstance(site[\"fn\"].support, constraints.independent)\n",
      "                    and site[\"fn\"].support is constraints.real\n",
      "                ):\n",
      "                    result[name] = numpyro.sample(name, site_fn)\n",
      "                else:\n",
      "                    transform = biject_to(site[\"fn\"].support)\n",
      "                    guide_dist = dist.TransformedDistribution(site_fn, transform)\n",
      "                    result[name] = numpyro.sample(name, guide_dist)\n",
      "\n",
      "        return result\n",
      "\n",
      "    def _constrain(self, latent_samples):\n",
      "        name = list(latent_samples)[0]\n",
      "        sample_shape = jnp.shape(latent_samples[name])[\n",
      "            : jnp.ndim(latent_samples[name]) - jnp.ndim(self._init_locs[name])\n",
      "        ]\n",
      "        if sample_shape:\n",
      "            flatten_samples = tree_map(\n",
      "                lambda x: jnp.reshape(x, (-1,) + jnp.shape(x)[len(sample_shape) :]),\n",
      "                latent_samples,\n",
      "            )\n",
      "            contrained_samples = lax.map(self._postprocess_fn, flatten_samples)\n",
      "            return tree_map(\n",
      "                lambda x: jnp.reshape(x, sample_shape + jnp.shape(x)[1:]),\n",
      "                contrained_samples,\n",
      "            )\n",
      "        else:\n",
      "            return self._postprocess_fn(latent_samples)\n",
      "\n",
      "    def sample_posterior(self, rng_key, params, sample_shape=()):\n",
      "        locs = {k: params[\"{}_{}_loc\".format(k, self.prefix)] for k in self._init_locs}\n",
      "        scales = {k: params[\"{}_{}_scale\".format(k, self.prefix)] for k in locs}\n",
      "        with handlers.seed(rng_seed=rng_key):\n",
      "            latent_samples = {}\n",
      "            for k in locs:\n",
      "                latent_samples[k] = numpyro.sample(\n",
      "                    k, dist.Normal(locs[k], scales[k]).expand_by(sample_shape)\n",
      "                )\n",
      "        return self._constrain(latent_samples)\n",
      "\n",
      "    def median(self, params):\n",
      "        locs = {\n",
      "            k: params[\"{}_{}_loc\".format(k, self.prefix)]\n",
      "            for k, v in self._init_locs.items()\n",
      "        }\n",
      "        return self._constrain(locs)\n",
      "\n",
      "    def quantiles(self, params, quantiles):\n",
      "        quantiles = jnp.array(quantiles)[..., None]\n",
      "        locs = {k: params[\"{}_{}_loc\".format(k, self.prefix)] for k in self._init_locs}\n",
      "        scales = {k: params[\"{}_{}_scale\".format(k, self.prefix)] for k in locs}\n",
      "        latent = {k: dist.Normal(locs[k], scales[k]).icdf(quantiles) for k in locs}\n",
      "        return self._constrain(latent)\n",
      "\n"
     ]
    }
   ],
   "source": [
    "import inspect\n",
    "import test\n",
    " \n",
    "print(inspect.getsource(type(mod.guide)))"
   ]
  },
  {
   "cell_type": "code",
   "execution_count": 16,
   "metadata": {},
   "outputs": [
    {
     "data": {
      "application/vnd.jupyter.widget-view+json": {
       "model_id": "9c6743f365954f008303ed49ac39a082",
       "version_major": 2,
       "version_minor": 0
      },
      "text/plain": [
       "  0%|          | 0/30000 [00:00<?, ?it/s]"
      ]
     },
     "metadata": {},
     "output_type": "display_data"
    }
   ],
   "source": [
    "mod_s = cell2location_model.LocationModelLinearDependentWMultiExperiment(\n",
    "    device='gpu',\n",
    "    n_obs=adata_vis.n_obs,\n",
    "    n_vars=adata_vis.n_vars,\n",
    "        n_factors=aver.shape[1],\n",
    "        n_exper=obs2sample_df.shape[1],\n",
    "        batch_size=None,\n",
    "        cell_state_mat=aver.values.astype(data_type),\n",
    "    )\n",
    "\n",
    "from numpyro.distributions import constraints\n",
    "mod_s.guide.scale_constraint = constraints.softplus_positive\n",
    "\n",
    "mod_s._train_full_data(x_data=adata_vis.raw.X.toarray().astype(data_type),\n",
    "                    obs2sample=obs2sample_df.values.astype(data_type),\n",
    "                    n_epochs=30000, lr=0.005)"
   ]
  },
  {
   "cell_type": "code",
   "execution_count": 17,
   "metadata": {},
   "outputs": [
    {
     "data": {
      "text/plain": [
       "{'m_g_alpha_hyp': array(0.44915468, dtype=float32),\n",
       " 'm_g_beta_hyp': array(1.3991066, dtype=float32),\n",
       " 'm_g': array([[1.7984101e-03, 3.0728695e-06, 3.4155780e-01, ..., 3.6001042e-03,\n",
       "         4.1250907e-02, 1.2012606e-01]], dtype=float32),\n",
       " 'n_s_cells_per_location': array([[8.877606 ],\n",
       "        [8.636814 ],\n",
       "        [7.039291 ],\n",
       "        ...,\n",
       "        [7.5693192],\n",
       "        [8.478918 ],\n",
       "        [6.608147 ]], dtype=float32),\n",
       " 'y_s_groups_per_location': array([[16.412128],\n",
       "        [18.581095],\n",
       "        [16.771154],\n",
       "        ...,\n",
       "        [16.062489],\n",
       "        [17.22468 ],\n",
       "        [16.672888]], dtype=float32),\n",
       " 'z_sr_groups_factors': array([[0.03392753, 0.03592195, 0.03408599, ..., 0.04141522, 0.03977863,\n",
       "         0.03570074],\n",
       "        [0.05326599, 0.05263767, 0.04973298, ..., 0.05539331, 0.0489001 ,\n",
       "         0.04922075],\n",
       "        [0.03550261, 0.03679337, 0.03666481, ..., 0.03969887, 0.03307468,\n",
       "         0.03739194],\n",
       "        ...,\n",
       "        [0.03636506, 0.03772934, 0.03921321, ..., 0.03684605, 0.03885233,\n",
       "         0.03593013],\n",
       "        [0.04401284, 0.0394057 , 0.04360877, ..., 0.0413051 , 0.03970319,\n",
       "         0.04396628],\n",
       "        [0.03445993, 0.03213538, 0.03304425, ..., 0.03613218, 0.03227421,\n",
       "         0.02921196]], dtype=float32),\n",
       " 'k_r_factors_per_groups': array([[10.492794 ],\n",
       "        [10.306634 ],\n",
       "        [10.375937 ],\n",
       "        [10.218082 ],\n",
       "        [ 9.997145 ],\n",
       "        [10.551602 ],\n",
       "        [10.419372 ],\n",
       "        [10.283826 ],\n",
       "        [10.091817 ],\n",
       "        [ 1.4835374],\n",
       "        [10.267194 ],\n",
       "        [10.253749 ],\n",
       "        [10.382518 ],\n",
       "        [10.017043 ],\n",
       "        [10.040946 ],\n",
       "        [10.27214  ],\n",
       "        [ 3.1948004],\n",
       "        [10.417107 ],\n",
       "        [ 9.825068 ],\n",
       "        [ 2.9616082],\n",
       "        [10.324216 ],\n",
       "        [10.211932 ],\n",
       "        [10.224477 ],\n",
       "        [10.569396 ],\n",
       "        [10.297765 ],\n",
       "        [10.335954 ],\n",
       "        [10.295302 ],\n",
       "        [10.423129 ],\n",
       "        [ 9.941096 ],\n",
       "        [10.289972 ],\n",
       "        [10.2472   ],\n",
       "        [10.129463 ],\n",
       "        [10.351267 ],\n",
       "        [10.279112 ],\n",
       "        [10.099168 ],\n",
       "        [10.4206915],\n",
       "        [10.191271 ],\n",
       "        [ 9.976193 ],\n",
       "        [10.290063 ],\n",
       "        [ 9.882849 ],\n",
       "        [10.105726 ],\n",
       "        [10.3634405],\n",
       "        [10.256996 ],\n",
       "        [10.419971 ],\n",
       "        [ 0.8246576],\n",
       "        [10.144343 ],\n",
       "        [ 2.3859346],\n",
       "        [10.037296 ],\n",
       "        [10.269442 ],\n",
       "        [10.291731 ]], dtype=float32),\n",
       " 'x_fr_group2fact': array([[0.00043272, 0.00036738, 0.00026348, ..., 0.00023934, 0.00032576,\n",
       "         0.0014416 ],\n",
       "        [0.0004654 , 0.00036816, 0.00022604, ..., 0.0002303 , 0.00037273,\n",
       "         0.00141265],\n",
       "        [0.00043196, 0.00035271, 0.00023626, ..., 0.00024365, 0.00037818,\n",
       "         0.00161292],\n",
       "        ...,\n",
       "        [0.00045305, 0.00035186, 0.00024731, ..., 0.00023072, 0.00032126,\n",
       "         0.0014485 ],\n",
       "        [0.00042698, 0.00040923, 0.00021738, ..., 0.00025943, 0.00029293,\n",
       "         0.00178623],\n",
       "        [0.00041618, 0.00038246, 0.0002049 , ..., 0.00021243, 0.00032855,\n",
       "         0.0016109 ]], dtype=float32),\n",
       " 'w_sf': array([[0.27772012, 0.4493788 , 0.2859282 , ..., 0.03404696, 0.10064369,\n",
       "         1.0809886 ],\n",
       "        [0.10846223, 0.16322893, 0.13787909, ..., 0.0882436 , 0.09957366,\n",
       "         0.6875112 ],\n",
       "        [0.46656084, 0.64136404, 0.34085947, ..., 0.009611  , 0.04870766,\n",
       "         1.0582048 ],\n",
       "        ...,\n",
       "        [0.37923372, 0.2592075 , 0.18437219, ..., 0.06879678, 0.18547836,\n",
       "         1.0936757 ],\n",
       "        [0.21467955, 0.19126149, 0.17902702, ..., 0.39441785, 0.53270125,\n",
       "         0.8602791 ],\n",
       "        [0.28340372, 0.478637  , 0.12729648, ..., 0.01694215, 0.15136154,\n",
       "         1.1967449 ]], dtype=float32),\n",
       " 'l_s_add_alpha': array([[0.27495116]], dtype=float32),\n",
       " 'l_s_add_beta': array([[412.64722]], dtype=float32),\n",
       " 'l_s_add': array([[3.0001625e-05],\n",
       "        [4.6574791e-05],\n",
       "        [1.2719182e-04],\n",
       "        ...,\n",
       "        [2.9792745e-05],\n",
       "        [9.3432020e-05],\n",
       "        [3.3334491e-05]], dtype=float32),\n",
       " 's_g_gene_add_alpha_hyp': array(2.822563, dtype=float32),\n",
       " 's_g_gene_add_mean': array([[0.00022784]], dtype=float32),\n",
       " 's_g_gene_add_alpha_e_inv': array([[0.2729991]], dtype=float32),\n",
       " 's_g_gene_add': array([[0.00023355, 0.00021076, 0.00021569, ..., 0.00022356, 0.00021917,\n",
       "         0.0002239 ]], dtype=float32),\n",
       " 'alpha_g_phi_hyp': array(1.4540526, dtype=float32),\n",
       " 'alpha_g_inverse': array([[0.10188951, 0.46755645, 0.6700458 , ..., 0.32940271, 0.2978355 ,\n",
       "         0.88870066]], dtype=float32),\n",
       " 'u_sf_mRNA_factors': array([[112.40913  , 193.48283  , 118.170105 , ...,  19.456472 ,\n",
       "          34.824566 , 246.25456  ],\n",
       "        [ 43.900833 ,  70.27923  ,  56.98349  , ...,  50.427685 ,\n",
       "          34.454315 , 156.61845  ],\n",
       "        [188.8437   , 276.14328  , 140.87244  , ...,   5.4923043,\n",
       "          16.853745 , 241.06429  ],\n",
       "        ...,\n",
       "        [153.49745  , 111.60339  ,  76.19843  , ...,  39.314606 ,\n",
       "          64.17892  , 249.14474  ],\n",
       "        [ 86.89302  ,  82.34882  ,  73.98935  , ..., 225.39401  ,\n",
       "         184.32442  , 195.97583  ],\n",
       "        [114.7096   , 206.08014  ,  52.609844 , ...,   9.681759 ,\n",
       "          52.373875 , 272.62442  ]], dtype=float32)}"
      ]
     },
     "execution_count": 17,
     "metadata": {},
     "output_type": "execute_result"
    }
   ],
   "source": [
    "means_softplus = mod_s.guide.median(mod_s.state_param)\n",
    "means_softplus = {k: np.array(v)\n",
    "         for k, v in means_softplus.items()}\n",
    "means_softplus"
   ]
  },
  {
   "cell_type": "code",
   "execution_count": 18,
   "metadata": {},
   "outputs": [
    {
     "data": {
      "application/vnd.jupyter.widget-view+json": {
       "model_id": "6d789f305ae542429db9d15a82d14097",
       "version_major": 2,
       "version_minor": 0
      },
      "text/plain": [
       "  0%|          | 0/30000 [00:00<?, ?it/s]"
      ]
     },
     "metadata": {},
     "output_type": "display_data"
    }
   ],
   "source": [
    "mod_s3 = cell2location_model.LocationModelLinearDependentWMultiExperiment(\n",
    "    device='gpu',\n",
    "    n_obs=adata_vis.n_obs,\n",
    "    n_vars=adata_vis.n_vars,\n",
    "        n_factors=aver.shape[1],\n",
    "        n_exper=obs2sample_df.shape[1],\n",
    "        batch_size=None,\n",
    "        cell_state_mat=aver.values.astype(data_type),\n",
    "    )\n",
    "\n",
    "from numpyro.distributions import constraints, transforms\n",
    "from numpyro.distributions.transforms import biject_to\n",
    "\n",
    "@biject_to.register(constraints.positive)\n",
    "def _transform_to_positive(constraint):\n",
    "    return transforms.SoftplusTransform()\n",
    "\n",
    "mod_s3.guide.scale_constraint = constraints.positive\n",
    "\n",
    "#mod.cuda()\n",
    "mod_s3._train_full_data(x_data=adata_vis.raw.X.toarray().astype(data_type),\n",
    "                    obs2sample=obs2sample_df.values.astype(data_type),\n",
    "                    n_epochs=30000, lr=0.005)"
   ]
  },
  {
   "cell_type": "code",
   "execution_count": 19,
   "metadata": {},
   "outputs": [
    {
     "data": {
      "text/plain": [
       "{'m_g_alpha_hyp': DeviceArray(0.0099713, dtype=float32),\n",
       " 'm_g_beta_hyp': DeviceArray(0.02490726, dtype=float32),\n",
       " 'm_g': DeviceArray([[0.03890052, 1.5201846 , 0.02816867, ..., 0.12490109,\n",
       "               0.01885923, 0.05348466]], dtype=float32),\n",
       " 'n_s_cells_per_location': DeviceArray([[2.1159878],\n",
       "              [2.0912218],\n",
       "              [2.193579 ],\n",
       "              ...,\n",
       "              [2.8279886],\n",
       "              [2.4608536],\n",
       "              [2.2777185]], dtype=float32),\n",
       " 'y_s_groups_per_location': DeviceArray([[1.7757013],\n",
       "              [1.7455672],\n",
       "              [1.8973808],\n",
       "              ...,\n",
       "              [1.530675 ],\n",
       "              [1.6679275],\n",
       "              [1.801731 ]], dtype=float32),\n",
       " 'z_sr_groups_factors': DeviceArray([[2.8915114, 2.9832726, 2.9140716, ..., 3.1422443, 3.057731 ,\n",
       "               2.8803008],\n",
       "              [3.0403414, 3.016998 , 3.1250546, ..., 3.08755  , 3.008726 ,\n",
       "               3.02273  ],\n",
       "              [3.0490124, 3.0766816, 3.0025423, ..., 3.1681635, 3.016998 ,\n",
       "               3.0927796],\n",
       "              ...,\n",
       "              [3.6543484, 3.8700278, 4.0052524, ..., 3.8135269, 3.8909261,\n",
       "               3.9044535],\n",
       "              [3.6044807, 3.5960853, 3.4149764, ..., 3.574904 , 3.481056 ,\n",
       "               3.4404752],\n",
       "              [3.2258713, 3.2039468, 3.2940617, ..., 3.2167313, 3.2123778,\n",
       "               3.091768 ]], dtype=float32),\n",
       " 'k_r_factors_per_groups': DeviceArray([[2.4294922 ],\n",
       "              [2.4702017 ],\n",
       "              [2.3216903 ],\n",
       "              [2.3980489 ],\n",
       "              [2.3884385 ],\n",
       "              [2.3384314 ],\n",
       "              [2.292353  ],\n",
       "              [2.4003007 ],\n",
       "              [2.3737617 ],\n",
       "              [0.2895388 ],\n",
       "              [1.3929191 ],\n",
       "              [2.2754307 ],\n",
       "              [2.3357053 ],\n",
       "              [2.524258  ],\n",
       "              [2.3164754 ],\n",
       "              [2.3929334 ],\n",
       "              [0.6613589 ],\n",
       "              [2.3423922 ],\n",
       "              [2.319502  ],\n",
       "              [0.6499383 ],\n",
       "              [2.4455354 ],\n",
       "              [2.3113217 ],\n",
       "              [2.339565  ],\n",
       "              [2.3351793 ],\n",
       "              [2.428811  ],\n",
       "              [2.3698778 ],\n",
       "              [2.3843203 ],\n",
       "              [2.3216019 ],\n",
       "              [2.3690436 ],\n",
       "              [2.4119396 ],\n",
       "              [2.3623261 ],\n",
       "              [2.432044  ],\n",
       "              [2.42535   ],\n",
       "              [2.3829463 ],\n",
       "              [2.4255486 ],\n",
       "              [2.2965357 ],\n",
       "              [0.5050016 ],\n",
       "              [2.3781533 ],\n",
       "              [2.4414535 ],\n",
       "              [0.31331187],\n",
       "              [2.4053261 ],\n",
       "              [2.4192688 ],\n",
       "              [2.3229487 ],\n",
       "              [2.3781624 ],\n",
       "              [2.3773105 ],\n",
       "              [2.429133  ],\n",
       "              [2.3131282 ],\n",
       "              [2.360187  ],\n",
       "              [2.4204788 ],\n",
       "              [2.4472334 ]], dtype=float32),\n",
       " 'x_fr_group2fact': DeviceArray([[0.6599914 , 0.78734195, 1.1755431 , ..., 0.9900414 ,\n",
       "               0.8458791 , 0.48880985],\n",
       "              [0.7157741 , 0.77362996, 1.1220078 , ..., 1.0146039 ,\n",
       "               0.8109288 , 0.49904513],\n",
       "              [0.76084584, 0.7520263 , 1.1315033 , ..., 0.9896689 ,\n",
       "               0.85095346, 0.52782685],\n",
       "              ...,\n",
       "              [0.68014157, 0.78216994, 1.2828732 , ..., 0.99204886,\n",
       "               0.863165  , 0.5007482 ],\n",
       "              [0.6972252 , 0.72383964, 1.1523532 , ..., 1.0270759 ,\n",
       "               0.8676783 , 0.48466912],\n",
       "              [0.65886366, 0.8148954 , 1.1901875 , ..., 1.0364494 ,\n",
       "               0.83825755, 0.5052902 ]], dtype=float32),\n",
       " 'w_sf': DeviceArray([[0.6193641 , 0.5109426 , 0.6190082 , ..., 1.0758497 ,\n",
       "               1.0353823 , 0.5234016 ],\n",
       "              [0.7756672 , 0.71042246, 0.95171773, ..., 1.0221567 ,\n",
       "               1.0532435 , 0.5866471 ],\n",
       "              [0.59049606, 0.46394852, 0.6436257 , ..., 1.4329488 ,\n",
       "               1.1837068 , 0.6154609 ],\n",
       "              ...,\n",
       "              [0.48315987, 0.7209423 , 1.1103525 , ..., 0.7413722 ,\n",
       "               0.73568183, 0.62023544],\n",
       "              [0.64246714, 0.8100921 , 1.0473442 , ..., 0.36285666,\n",
       "               0.57100916, 0.6026746 ],\n",
       "              [0.5280255 , 0.44514263, 1.0355772 , ..., 1.2329975 ,\n",
       "               0.80874467, 0.5747008 ]], dtype=float32),\n",
       " 'l_s_add_alpha': DeviceArray([[0.02240453]], dtype=float32),\n",
       " 'l_s_add_beta': DeviceArray([[4.807252]], dtype=float32),\n",
       " 'l_s_add': DeviceArray([[2.2042031],\n",
       "              [2.2442315],\n",
       "              [1.6999024],\n",
       "              ...,\n",
       "              [2.217835 ],\n",
       "              [1.8980672],\n",
       "              [2.2469208]], dtype=float32),\n",
       " 's_g_gene_add_alpha_hyp': DeviceArray(0.975013, dtype=float32),\n",
       " 's_g_gene_add_mean': DeviceArray([[0.00317323]], dtype=float32),\n",
       " 's_g_gene_add_alpha_e_inv': DeviceArray([[0.00763461]], dtype=float32),\n",
       " 's_g_gene_add': DeviceArray([[0.34978515, 0.32806432, 0.3141267 , ..., 0.33940354,\n",
       "               0.32782835, 0.3418486 ]], dtype=float32),\n",
       " 'alpha_g_phi_hyp': DeviceArray(0.0166232, dtype=float32),\n",
       " 'alpha_g_inverse': DeviceArray([[0.8021693 , 1.4320832 , 0.06607401, ..., 1.57288   ,\n",
       "               0.1369637 , 0.19828893]], dtype=float32)}"
      ]
     },
     "execution_count": 19,
     "metadata": {},
     "output_type": "execute_result"
    }
   ],
   "source": [
    "locs = {k: mod_s3.state_param[\"{}_{}_loc\".format(k, mod_s3.guide.prefix)] for k in mod_s3.guide._init_locs}\n",
    "scales = {k: mod_s3.state_param[\"{}_{}_scale\".format(k, mod_s3.guide.prefix)] for k in locs}\n",
    "\n",
    "scales"
   ]
  },
  {
   "cell_type": "markdown",
   "metadata": {},
   "source": [
    "### Compare ELBO as training progresses"
   ]
  },
  {
   "cell_type": "code",
   "execution_count": 20,
   "metadata": {},
   "outputs": [
    {
     "data": {
      "image/png": "[encoded data removed]",
      "text/plain": [
       "<Figure size 432x288 with 1 Axes>"
      ]
     },
     "metadata": {
      "needs_background": "light"
     },
     "output_type": "display_data"
    }
   ],
   "source": [
    "plt.plot(range(5000, len(mod.hist)), np.array(mod.hist)[5000:]);\n",
    "plt.plot(range(5000, len(mod.hist)), np.array(mod_s.hist)[5000:]);\n",
    "plt.plot(range(5000, len(mod.hist)), np.array(mod_s3.hist)[5000:]);\n",
    "plt.legend(labels=['exp', 'softplus scales', 'all_softplus']);\n",
    "plt.xlim(0, len(mod.hist));"
   ]
  },
  {
   "cell_type": "code",
   "execution_count": 21,
   "metadata": {},
   "outputs": [
    {
     "data": {
      "image/png": "[encoded data removed]",
      "text/plain": [
       "<Figure size 432x288 with 1 Axes>"
      ]
     },
     "metadata": {
      "needs_background": "light"
     },
     "output_type": "display_data"
    }
   ],
   "source": [
    "plt.plot(range(5000, len(mod.hist)), np.array(mod.hist)[5000:]);\n",
    "plt.plot(range(5000, len(mod.hist)), np.array(mod_s.hist)[5000:]);\n",
    "plt.plot(range(5000, len(mod.hist)), np.array(mod_s3.hist)[5000:]);\n",
    "plt.legend(labels=['exp', 'softplus scales', 'all_softplus']);\n",
    "plt.xlim(0, len(mod.hist));\n",
    "plt.ylim(3.2e+7, 3.3e+7);\n",
    "plt.title('zoom in on y-axis');"
   ]
  },
  {
   "cell_type": "markdown",
   "metadata": {},
   "source": [
    "### Evaluate accuracy using $R^2$"
   ]
  },
  {
   "cell_type": "code",
   "execution_count": 22,
   "metadata": {},
   "outputs": [],
   "source": [
    "means = mod.guide.median(mod.state_param)\n",
    "means = {k: np.array(v)\n",
    "         for k, v in means.items()}\n",
    "means_softplus = mod_s.guide.median(mod_s.state_param)\n",
    "means_softplus = {k: np.array(v)\n",
    "         for k, v in means_softplus.items()}\n",
    "means_softplus_all = mod_s3.guide.median(mod_s3.state_param)\n",
    "means_softplus_all = {k: np.array(v)\n",
    "         for k, v in means_softplus_all.items()}"
   ]
  },
  {
   "cell_type": "code",
   "execution_count": 23,
   "metadata": {},
   "outputs": [],
   "source": [
    "from re import sub\n",
    "cell_count = adata_vis.obs.loc[:, ['cell_abundances_' in i for i in adata_vis.obs.columns]]\n",
    "cell_count.columns =  [sub('cell_abundances_', '', i) for i in cell_count.columns]\n",
    "cell_count_columns = cell_count.columns\n",
    "\n",
    "infer_cell_count = pd.DataFrame(means['w_sf'], index=adata_vis.obs_names, \n",
    "                                columns=aver.columns)\n",
    "infer_cell_count = infer_cell_count[cell_count.columns]\n",
    "\n",
    "infer_cell_count_softplus = pd.DataFrame(means_softplus['w_sf'], index=adata_vis.obs_names, \n",
    "                                columns=aver.columns)\n",
    "infer_cell_count_softplus = infer_cell_count_softplus[cell_count.columns]\n",
    "\n",
    "infer_cell_count_softplus_all = pd.DataFrame(means_softplus_all['w_sf'], index=adata_vis.obs_names, \n",
    "                                columns=aver.columns)\n",
    "infer_cell_count_softplus_all = infer_cell_count_softplus_all[cell_count.columns]"
   ]
  },
  {
   "cell_type": "code",
   "execution_count": 24,
   "metadata": {},
   "outputs": [
    {
     "data": {
      "text/plain": [
       "(                      Inh_3   Ext_Pir   Oligo_2  Astro_HYPO   Ext_L25\n",
       " exper0_location_0  0.139105  0.133040  0.065908    0.333812  0.218227\n",
       " exper0_location_1  0.078375  0.731779  0.118858    0.173412  0.142956\n",
       " exper0_location_2  0.095781  0.282560  0.058060    0.305080  0.169134\n",
       " exper0_location_3  0.120827  0.296244  0.274248    0.163927  0.174973\n",
       " exper0_location_4  0.098818  0.219685  0.195394    0.121152  0.118390,\n",
       "                       Inh_3   Ext_Pir   Oligo_2  Astro_HYPO   Ext_L25\n",
       " exper0_location_0  0.182860  0.207374  0.095895    0.329631  0.357538\n",
       " exper0_location_1  0.102473  0.818937  0.094923    0.175020  0.183561\n",
       " exper0_location_2  0.112707  0.343074  0.047559    0.279106  0.232947\n",
       " exper0_location_3  0.194894  0.480847  0.330218    0.152632  0.225835\n",
       " exper0_location_4  0.137071  0.521654  0.240146    0.127277  0.153491,\n",
       "                       Inh_3   Ext_Pir   Oligo_2  Astro_HYPO   Ext_L25\n",
       " exper0_location_0  0.240043  0.106714  0.101168    0.408324  0.482291\n",
       " exper0_location_1  0.151940  1.144219  0.070064    0.194900  0.146513\n",
       " exper0_location_2  0.133926  0.415961  0.047885    0.358968  0.259305\n",
       " exper0_location_3  0.253916  0.615904  0.433893    0.158270  0.240791\n",
       " exper0_location_4  0.188990  0.677200  0.312078    0.130581  0.157582)"
      ]
     },
     "execution_count": 24,
     "metadata": {},
     "output_type": "execute_result"
    }
   ],
   "source": [
    "infer_cell_count.iloc[0:5,0:5], infer_cell_count_softplus.iloc[0:5,0:5], infer_cell_count_softplus_all.iloc[0:5,0:5]"
   ]
  },
  {
   "cell_type": "code",
   "execution_count": 25,
   "metadata": {},
   "outputs": [
    {
     "data": {
      "image/png": "[encoded data removed]",
      "text/plain": [
       "<Figure size 288x288 with 1 Axes>"
      ]
     },
     "metadata": {
      "needs_background": "light"
     },
     "output_type": "display_data"
    }
   ],
   "source": [
    "rcParams['figure.figsize'] = 4, 4\n",
    "rcParams[\"axes.facecolor\"] = \"white\"\n",
    "\n",
    "plt.hist2d(cell_count.values.flatten(), \n",
    "           infer_cell_count.values.flatten(),# / np.mean(adata_vis_res.var['gene_level'].values),\n",
    "           bins=[50, 50], norm=mpl.colors.LogNorm());\n",
    "plt.xlabel('Simulated cell abundance');\n",
    "plt.ylabel('Estimated cell abundance');\n",
    "plt.title(r'exp, $R^2$: ' \\\n",
    "          + str(np.round(np.corrcoef(cell_count.values.flatten(), \n",
    "           infer_cell_count.values.flatten()), 3)[0,1]));\n",
    "#plt.gca().set_aspect('equal', adjustable='box')\n",
    "plt.tight_layout()\n",
    "#plt.savefig(fig_path + '/Cell_density_cor.pdf')"
   ]
  },
  {
   "cell_type": "code",
   "execution_count": 26,
   "metadata": {},
   "outputs": [
    {
     "data": {
      "image/png": "[encoded data removed]",
      "text/plain": [
       "<Figure size 288x288 with 1 Axes>"
      ]
     },
     "metadata": {
      "needs_background": "light"
     },
     "output_type": "display_data"
    }
   ],
   "source": [
    "rcParams['figure.figsize'] = 4, 4\n",
    "rcParams[\"axes.facecolor\"] = \"white\"\n",
    "\n",
    "plt.hist2d(cell_count.values.flatten(), \n",
    "           infer_cell_count_softplus.values.flatten(),# / np.mean(adata_vis_res.var['gene_level'].values),\n",
    "           bins=[50, 50], norm=mpl.colors.LogNorm());\n",
    "plt.xlabel('Simulated cell abundance');\n",
    "plt.ylabel('Estimated cell abundance');\n",
    "plt.title(r'softplus scales, $R^2$: ' \\\n",
    "          + str(np.round(np.corrcoef(cell_count.values.flatten(), \n",
    "           infer_cell_count_softplus.values.flatten()), 3)[0,1]));\n",
    "#plt.gca().set_aspect('equal', adjustable='box')\n",
    "plt.tight_layout()\n",
    "#plt.savefig(fig_path + '/Cell_density_cor.pdf')"
   ]
  },
  {
   "cell_type": "code",
   "execution_count": 27,
   "metadata": {},
   "outputs": [
    {
     "data": {
      "image/png": "[encoded data removed]",
      "text/plain": [
       "<Figure size 288x288 with 1 Axes>"
      ]
     },
     "metadata": {
      "needs_background": "light"
     },
     "output_type": "display_data"
    }
   ],
   "source": [
    "rcParams['figure.figsize'] = 4, 4\n",
    "rcParams[\"axes.facecolor\"] = \"white\"\n",
    "\n",
    "plt.hist2d(cell_count.values.flatten(), \n",
    "           infer_cell_count_softplus_all.values.flatten(),# / np.mean(adata_vis_res.var['gene_level'].values),\n",
    "           bins=[50, 50], norm=mpl.colors.LogNorm());\n",
    "plt.xlabel('Simulated cell abundance');\n",
    "plt.ylabel('Estimated cell abundance');\n",
    "plt.title(r'softplus all, $R^2$: ' \\\n",
    "          + str(np.round(np.corrcoef(cell_count.values.flatten(), \n",
    "           infer_cell_count_softplus_all.values.flatten()), 3)[0,1]));\n",
    "#plt.gca().set_aspect('equal', adjustable='box')\n",
    "plt.tight_layout()\n",
    "#plt.savefig(fig_path + '/Cell_density_cor.pdf')"
   ]
  },
  {
   "cell_type": "markdown",
   "metadata": {},
   "source": [
    "Original implementation of cell2location in pymc3 has $R^2 = 0.791$."
   ]
  },
  {
   "cell_type": "markdown",
   "metadata": {},
   "source": [
    "## Evaluate with PR curves"
   ]
  },
  {
   "cell_type": "code",
   "execution_count": 28,
   "metadata": {},
   "outputs": [],
   "source": [
    "import matplotlib as mpl\n",
    "from matplotlib import pyplot as plt\n",
    "import numpy as np\n",
    "from scipy import interpolate\n",
    "\n",
    "with plt.style.context('seaborn'):\n",
    "    seaborn_colors = mpl.rcParams['axes.prop_cycle'].by_key()['color']\n",
    "\n",
    "\n",
    "def compute_precision_recall(pos_cell_count, infer_cell_proportions, mode='macro'):\n",
    "    r\"\"\" Plot precision-recall curves on average and for each cell type.\n",
    "    :param pos_cell_count: binary matrix showing which cell types are present in which locations\n",
    "    :param infer_cell_proportions: inferred locations (the higher the more cells)\n",
    "    \"\"\"\n",
    "    \n",
    "    from sklearn.metrics import precision_recall_curve\n",
    "    from sklearn.metrics import average_precision_score\n",
    "    \n",
    "    ### calculating ###\n",
    "    predictor = infer_cell_proportions.values + np.random.gamma(20, 1e-12, \n",
    "                                                                infer_cell_proportions.shape)\n",
    "    # For each cell type\n",
    "    precision = dict()\n",
    "    recall = dict()\n",
    "    average_precision = dict()\n",
    "    for i, c in enumerate(infer_cell_proportions.columns):\n",
    "        precision[c], recall[c], _ = precision_recall_curve(pos_cell_count[:, i],\n",
    "                                                            predictor[:, i])\n",
    "        average_precision[c] = average_precision_score(pos_cell_count[:, i], predictor[:, i], average=mode)\n",
    "\n",
    "    average_precision[\"averaged\"] = average_precision_score(pos_cell_count, predictor,\n",
    "                                                     average=mode)\n",
    "\n",
    "    # A \"micro-average\": quantifying score on all classes jointly\n",
    "    if mode == 'micro':\n",
    "        precision_, recall_, threshold = precision_recall_curve(pos_cell_count.ravel(),\n",
    "                                                                        predictor.ravel())\n",
    "        #precision_[threshold < 0.1] = 0\n",
    "        precision[\"averaged\"], recall[\"averaged\"] =  precision_, recall_\n",
    "\n",
    "    elif mode == 'macro':\n",
    "        precisions = []\n",
    "        recall_grid = np.linspace(0, 1, 2000)\n",
    "\n",
    "        for i, c in enumerate(infer_cell_proportions.columns):\n",
    "            f = interpolate.interp1d(recall[c], precision[c])\n",
    "            precision_interp = f(recall_grid)\n",
    "            precisions.append(precision_interp)\n",
    "\n",
    "        precision[\"averaged\"] = np.mean(precisions, axis=0)\n",
    "        recall['averaged'] = recall_grid\n",
    "\n",
    "        \n",
    "    return precision, recall, average_precision\n",
    "\n",
    "def compare_precision_recall(pos_cell_count, infer_cell_proportions,\n",
    "                             method_title, title='',\n",
    "                             legend_loc=(0, -.37),\n",
    "                             colors=sc.pl.palettes.default_102,\n",
    "                             mode='macro', curve='PR'):\n",
    "    \n",
    "    r\"\"\" Plot precision-recall curves on average and for each cell type.\n",
    "    :param pos_cell_count: binary matrix showing which cell types are present in which locations\n",
    "    :param infer_cell_proportions: inferred locations (the higher the more cells), \n",
    "                                        list of inferred parameters for several methods\n",
    "    :param method_title: title for each infer_cell_proportions\n",
    "    :param title: plot title\n",
    "    \"\"\"\n",
    "    # setup plot details\n",
    "    from itertools import cycle\n",
    "    colors = cycle(colors)\n",
    "    lines = []\n",
    "    labels = []\n",
    "    roc = {}\n",
    "    \n",
    "    ### plotting ###\n",
    "    for i, color in zip(range(len(infer_cell_proportions)), colors):\n",
    "        \n",
    "        if curve == 'PR':\n",
    "            precision, recall, average_precision = compute_precision_recall(pos_cell_count, \n",
    "                                                                        infer_cell_proportions[i], \n",
    "                                                                        mode=mode)\n",
    "\n",
    "            xlabel = 'Recall'\n",
    "            ylabel = 'Precision'\n",
    "            \n",
    "            l, = plt.plot(recall[\"averaged\"], precision[\"averaged\"], color=color, lw=3)\n",
    "\n",
    "        elif curve == 'ROC':\n",
    "            FPR, TPR, average_precision = compute_roc(pos_cell_count, \n",
    "                                                                        infer_cell_proportions[i], \n",
    "                                                                        mode=mode)\n",
    "\n",
    "            xlabel = 'FPR'\n",
    "            ylabel = 'TPR'\n",
    "            \n",
    "            l, = plt.plot(FPR[\"averaged\"], TPR[\"averaged\"], color=color, lw=3)\n",
    "            \n",
    "        \n",
    "        lines.append(l)\n",
    "\n",
    "        labels.append(method_title[i] + '(' + curve + ' score = {0:0.2f})'\n",
    "                      ''.format(average_precision[\"averaged\"]))\n",
    "        roc[method_title[i]] = average_precision[\"averaged\"]\n",
    "\n",
    "\n",
    "    fig = plt.gcf()\n",
    "    fig.subplots_adjust(bottom=0.25)\n",
    "    plt.xlim([0.0, 1.0])\n",
    "    plt.ylim([0.0, 1.05])\n",
    "    plt.xlabel(xlabel)\n",
    "    plt.ylabel(ylabel)\n",
    "    plt.title(title)\n",
    "    if legend_loc is not None:\n",
    "        plt.legend(lines, labels, loc=legend_loc, prop=dict(size=8))\n",
    "\n",
    "    #plt.show()\n",
    "    return roc"
   ]
  },
  {
   "cell_type": "code",
   "execution_count": 29,
   "metadata": {},
   "outputs": [
    {
     "data": {
      "image/png": "[encoded data removed]",
      "text/plain": [
       "<Figure size 432x216 with 1 Axes>"
      ]
     },
     "metadata": {
      "needs_background": "light"
     },
     "output_type": "display_data"
    }
   ],
   "source": [
    "rcParams['figure.figsize'] = 6, 3\n",
    "rcParams['font.size'] = 8\n",
    "\n",
    "results = [\n",
    "    #infer_cell_count,\n",
    "    infer_cell_count_softplus,\n",
    "    infer_cell_count_softplus_all\n",
    "]\n",
    "\n",
    "names = [\n",
    "    #'exp', \n",
    "    'softplus scales', \n",
    "    'all_softplus'\n",
    "]\n",
    "\n",
    "compare_precision_recall(cell_count.values > 0.1, \n",
    "                         results,\n",
    "                         method_title=names, \n",
    "                         legend_loc=(1.1, 0.5))\n",
    "plt.tight_layout()"
   ]
  },
  {
   "cell_type": "markdown",
   "metadata": {},
   "source": [
    "Original implementation of cell2location in pymc3 has PR score = 0.66."
   ]
  },
  {
   "cell_type": "code",
   "execution_count": 30,
   "metadata": {},
   "outputs": [
    {
     "name": "stdout",
     "output_type": "stream",
     "text": [
      "ipykernel 5.5.3\n",
      "ipykernel._version 5.5.3\n",
      "json 2.0.9\n",
      "re 2.2.1\n",
      "IPython 7.22.0\n",
      "IPython.core.release 7.22.0\n",
      "logging 0.5.1.2\n",
      "zlib 1.0\n",
      "traitlets 5.0.5\n",
      "traitlets._version 5.0.5\n",
      "argparse 1.1\n",
      "ipython_genutils 0.2.0\n",
      "ipython_genutils._version 0.2.0\n",
      "platform 1.0.8\n",
      "pygments 2.8.1\n",
      "pexpect 4.8.0\n",
      "ptyprocess 0.7.0\n",
      "decorator 5.0.6\n",
      "pickleshare 0.7.5\n",
      "backcall 0.2.0\n",
      "prompt_toolkit 3.0.18\n",
      "wcwidth 0.2.5\n",
      "jedi 0.18.0\n",
      "parso 0.8.2\n",
      "colorama 0.4.4\n",
      "ctypes 1.1.0\n",
      "_ctypes 1.1.0\n",
      "urllib.request 3.7\n",
      "jupyter_client 6.1.12\n",
      "jupyter_client._version 6.1.12\n",
      "zmq 22.0.3\n",
      "zmq.backend.cython 40304\n",
      "zmq.backend.cython.constants 40304\n",
      "zmq.sugar 22.0.3\n",
      "zmq.sugar.constants 40304\n",
      "zmq.sugar.version 22.0.3\n",
      "jupyter_core 4.7.1\n",
      "jupyter_core.version 4.7.1\n",
      "_curses b'2.2'\n",
      "dateutil 2.8.1\n",
      "six 1.15.0\n",
      "decimal 1.70\n",
      "_decimal 1.70\n",
      "distutils 3.7.10\n",
      "scanpy 1.7.2\n",
      "scanpy._metadata 1.7.2\n",
      "packaging 20.9\n",
      "packaging.__about__ 20.9\n",
      "pkg_resources._vendor.six 1.10.0\n",
      "pkg_resources.extern.six 1.10.0\n",
      "pkg_resources._vendor.appdirs 1.4.3\n",
      "pkg_resources.extern.appdirs 1.4.3\n",
      "pkg_resources._vendor.packaging 20.4\n",
      "pkg_resources._vendor.packaging.__about__ 20.4\n",
      "pkg_resources.extern.packaging 20.4\n",
      "pkg_resources._vendor.pyparsing 2.2.1\n",
      "pkg_resources.extern.pyparsing 2.2.1\n",
      "csv 1.0\n",
      "_csv 1.0\n",
      "numpy 1.20.2\n",
      "numpy.core 1.20.2\n",
      "numpy.core._multiarray_umath 3.1\n",
      "numpy.lib 1.20.2\n",
      "numpy.linalg._umath_linalg 0.1.5\n",
      "scipy 1.6.2\n",
      "anndata 0.7.5\n",
      "anndata._metadata 0.7.5\n",
      "h5py 3.1.0\n",
      "cached_property 1.5.2\n",
      "natsort 7.1.1\n",
      "pandas 1.2.3\n",
      "pytz 2021.1\n",
      "pandas.compat.numpy.function 1.20.2\n",
      "sinfo 0.3.1\n",
      "stdlib_list v0.7.0\n",
      "numba 0.53.1\n",
      "llvmlite 0.36.0\n",
      "numba.misc.appdirs 1.4.1\n",
      "sklearn 0.24.1\n",
      "sklearn.base 0.24.1\n",
      "joblib 1.0.1\n",
      "joblib.externals.loky 2.9.0\n",
      "joblib.externals.cloudpickle 1.6.0\n",
      "scipy._lib.decorator 4.0.5\n",
      "scipy.linalg._fblas b'$Revision: $'\n",
      "scipy.linalg._flapack b'$Revision: $'\n",
      "scipy.linalg._flinalg b'$Revision: $'\n",
      "scipy.special.specfun b'$Revision: $'\n",
      "scipy.ndimage 2.0\n",
      "scipy.optimize.minpack2 b'$Revision: $'\n",
      "scipy.sparse.linalg.isolve._iterative b'$Revision: $'\n",
      "scipy.sparse.linalg.eigen.arpack._arpack b'$Revision: $'\n",
      "scipy.optimize._lbfgsb b'$Revision: $'\n",
      "scipy.optimize._cobyla b'$Revision: $'\n",
      "scipy.optimize._slsqp b'$Revision: $'\n",
      "scipy.optimize._minpack  1.10 \n",
      "scipy.optimize.__nnls b'$Revision: $'\n",
      "scipy.linalg._interpolative b'$Revision: $'\n",
      "scipy.integrate._odepack  1.9 \n",
      "scipy.integrate._quadpack  1.13 \n",
      "scipy.integrate._ode $Id$\n",
      "scipy.integrate.vode b'$Revision: $'\n",
      "scipy.integrate._dop b'$Revision: $'\n",
      "scipy.integrate.lsoda b'$Revision: $'\n",
      "scipy.interpolate._fitpack  1.7 \n",
      "scipy.interpolate.dfitpack b'$Revision: $'\n",
      "scipy.stats.statlib b'$Revision: $'\n",
      "scipy.stats.mvn b'$Revision: $'\n",
      "sklearn.utils._joblib 1.0.1\n",
      "leidenalg 0.8.3\n",
      "igraph 0.9.1\n",
      "texttable 1.6.3\n",
      "igraph.version 0.9.1\n",
      "louvain 0.7.0\n",
      "matplotlib 3.4.1\n",
      "PIL 8.1.2\n",
      "PIL._version 8.1.2\n",
      "PIL.Image 8.1.2\n",
      "xml.etree.ElementTree 1.3.0\n",
      "cffi 1.14.5\n",
      "pyparsing 2.4.7\n",
      "cycler 0.10.0\n",
      "kiwisolver 1.3.1\n",
      "tables 3.6.1\n",
      "numexpr 2.7.3\n",
      "legacy_api_wrap 0.0.0\n",
      "get_version 2.1\n",
      "numpyro 0.6.0\n",
      "jax 0.2.12\n",
      "jaxlib 0.1.65\n",
      "jaxlib.version 0.1.65\n",
      "jax.version 0.2.12\n",
      "opt_einsum v3.3.0\n",
      "scipy._lib._uarray 0.5.1+49.g4c3f1d7.scipy\n",
      "scipy.signal.spline 0.2\n",
      "tqdm 4.60.0\n",
      "tqdm.cli 4.60.0\n",
      "tqdm.version 4.60.0\n",
      "tqdm._dist_ver 4.60.0\n",
      "ipywidgets 7.6.3\n",
      "ipywidgets._version 7.6.3\n",
      "numpyro.version 0.6.0\n",
      "seaborn 0.11.1\n",
      "seaborn.external.husl 2.1.0\n",
      "statsmodels 0.12.2\n"
     ]
    }
   ],
   "source": [
    "import sys\n",
    "for module in sys.modules:\n",
    "    try:\n",
    "        print(module,sys.modules[module].__version__)\n",
    "    except:\n",
    "        try:\n",
    "            if  type(modules[module].version) is str:\n",
    "                print(module,sys.modules[module].version)\n",
    "            else:\n",
    "                print(module,sys.modules[module].version())\n",
    "        except:\n",
    "            try:\n",
    "                print(module,sys.modules[module].VERSION)\n",
    "            except:\n",
    "                pass"
   ]
  },
  {
   "cell_type": "code",
   "execution_count": null,
   "metadata": {},
   "outputs": [],
   "source": []
  }
 ],
 "metadata": {
  "kernelspec": {
   "display_name": "Python [conda env:numpyro]",
   "language": "python",
   "name": "conda-env-numpyro-py"
  },
  "language_info": {
   "codemirror_mode": {
    "name": "ipython",
    "version": 3
   },
   "file_extension": ".py",
   "mimetype": "text/x-python",
   "name": "python",
   "nbconvert_exporter": "python",
   "pygments_lexer": "ipython3",
   "version": "3.7.10"
  }
 },
 "nbformat": 4,
 "nbformat_minor": 4
}
