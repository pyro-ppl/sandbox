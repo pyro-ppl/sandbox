{
 "cells": [
  {
   "cell_type": "markdown",
   "metadata": {},
   "source": [
    "# Benchmarking cell2location pyro model using softplus/exp for scales"
   ]
  },
  {
   "cell_type": "code",
   "execution_count": 1,
   "metadata": {},
   "outputs": [],
   "source": [
    "import sys, ast, os\n",
    "import scanpy as sc\n",
    "import anndata\n",
    "import pandas as pd\n",
    "import numpy as np\n",
    "import os\n",
    "import matplotlib.pyplot as plt \n",
    "import matplotlib as mpl\n",
    "data_type = 'float32'\n",
    "\n",
    "#sys.path.insert(1, '/nfs/team205/vk7/sanger_projects/BayraktarLab/cell2location/')\n",
    "#sys.path.insert(1, '/nfs/team205/vk7/sanger_projects/cell2location_dev/')\n",
    "\n",
    "import cell2location_model \n",
    "\n",
    "from matplotlib import rcParams\n",
    "rcParams['pdf.fonttype'] = 42 # enables correct plotting of text\n",
    "import seaborn as sns"
   ]
  },
  {
   "cell_type": "markdown",
   "metadata": {},
   "source": [
    "`THEANO_FLAGS='force_device=True'` forces the package to use GPU. Pay attention to error messages that might indicate theano failed to initalise the GPU.   \n",
    "Do not forget to change `device=cuda4` to your available GPU id. Use `device=cuda` / `device=cuda0` if you have just one locally or if you are requesting one GPU via HPC cluster job."
   ]
  },
  {
   "cell_type": "markdown",
   "metadata": {},
   "source": [
    "### The purpose of the notebook is to benchmark several versions of the model using mouse brain data."
   ]
  },
  {
   "cell_type": "code",
   "execution_count": 2,
   "metadata": {},
   "outputs": [],
   "source": [
    "sc_data_folder = '/nfs/team205/vk7/sanger_projects/cell2location_paper/notebooks/selected_data/mouse_visium_snrna/'\n",
    "sp_data_folder = '/nfs/team205/vk7/sanger_projects/cell2location_paper/notebooks/selected_results/benchmarking/with_tissue_zones/data/'\n",
    "results_folder = '/nfs/team205/vk7/sanger_projects/cell2location_paper/notebooks/selected_results/benchmarking/with_tissue_zones/real_mg/pyro/'"
   ]
  },
  {
   "cell_type": "markdown",
   "metadata": {},
   "source": [
    "## Read datasets and train cell2location"
   ]
  },
  {
   "cell_type": "code",
   "execution_count": 3,
   "metadata": {},
   "outputs": [],
   "source": [
    "adata_vis = anndata.read(f'{sp_data_folder}synth_adata_real_mg_20210131.h5ad')\n",
    "adata_vis.uns['spatial'] = {'x': 'y'}\n",
    "adata_vis = adata_vis[adata_vis.obs['sample'] == 'exper0',:]\n",
    "\n",
    "adata_snrna_raw = anndata.read(f'{sp_data_folder}training_5705STDY8058280_5705STDY8058281_20210131.h5ad')"
   ]
  },
  {
   "cell_type": "code",
   "execution_count": 4,
   "metadata": {},
   "outputs": [],
   "source": [
    "import scipy\n",
    "adata_snrna_raw.X = scipy.sparse.csr_matrix(adata_snrna_raw.X)"
   ]
  },
  {
   "cell_type": "code",
   "execution_count": 5,
   "metadata": {},
   "outputs": [],
   "source": [
    "adata_vis.X = scipy.sparse.csr_matrix(adata_vis.X)"
   ]
  },
  {
   "cell_type": "markdown",
   "metadata": {},
   "source": [
    "Add counts matrix as `adata.raw` "
   ]
  },
  {
   "cell_type": "code",
   "execution_count": 6,
   "metadata": {},
   "outputs": [],
   "source": [
    "adata_snrna_raw.raw = adata_snrna_raw\n",
    "adata_vis.raw = adata_vis"
   ]
  },
  {
   "cell_type": "code",
   "execution_count": 7,
   "metadata": {},
   "outputs": [],
   "source": [
    "# compute average for each cluster\n",
    "aver = cell2location_model.get_cluster_averages(adata_snrna_raw, 'annotation_1')\n",
    "\n",
    "# make sure the order of gene matches between aver and x_data\n",
    "aver = aver.loc[adata_vis.var_names,:]\n",
    "\n",
    "# generate one-hot encoded matrix telling which obs belong to whic samples\n",
    "obs2sample_df = pd.get_dummies(adata_vis.obs['sample'])"
   ]
  },
  {
   "cell_type": "markdown",
   "metadata": {},
   "source": [
    "## Model training"
   ]
  },
  {
   "cell_type": "code",
   "execution_count": 8,
   "metadata": {},
   "outputs": [
    {
     "data": {
      "text/plain": [
       "'/nfs/team205/vk7/sanger_projects/cell2location_paper/notebooks/selected_results/benchmarking/with_tissue_zones/real_mg/pyro/'"
      ]
     },
     "execution_count": 8,
     "metadata": {},
     "output_type": "execute_result"
    }
   ],
   "source": [
    "results_folder"
   ]
  },
  {
   "cell_type": "code",
   "execution_count": 9,
   "metadata": {
    "scrolled": false
   },
   "outputs": [
    {
     "data": {
      "application/vnd.jupyter.widget-view+json": {
       "model_id": "2723c0ec13124b8cbbd3d2ad35a33576",
       "version_major": 2,
       "version_minor": 0
      },
      "text/plain": [
       "HBox(children=(HTML(value=''), FloatProgress(value=0.0, max=30000.0), HTML(value='')))"
      ]
     },
     "metadata": {},
     "output_type": "display_data"
    },
    {
     "name": "stderr",
     "output_type": "stream",
     "text": [
      "/nfs/users/nfs_v/vk7/.local/lib/python3.7/site-packages/pyro/poutine/subsample_messenger.py:141: TracerWarning: Converting a tensor to a Python boolean might cause the trace to be incorrect. We can't record the data flow of Python values, so this value will be treated as a constant in the future. This means that the trace might not generalize to other inputs!\n",
      "  if len(shape) >= -dim and shape[dim] != 1:\n",
      "/nfs/users/nfs_v/vk7/.local/lib/python3.7/site-packages/pyro/poutine/subsample_messenger.py:151: TracerWarning: Converting a tensor to a Python boolean might cause the trace to be incorrect. We can't record the data flow of Python values, so this value will be treated as a constant in the future. This means that the trace might not generalize to other inputs!\n",
      "  if self.subsample_size < self.size:\n",
      "/nfs/users/nfs_v/vk7/.local/lib/python3.7/site-packages/pyro/poutine/subsample_messenger.py:141: TracerWarning: Converting a tensor to a Python boolean might cause the trace to be incorrect. We can't record the data flow of Python values, so this value will be treated as a constant in the future. This means that the trace might not generalize to other inputs!\n",
      "  if len(shape) >= -dim and shape[dim] != 1:\n",
      "/nfs/users/nfs_v/vk7/.local/lib/python3.7/site-packages/pyro/poutine/subsample_messenger.py:151: TracerWarning: Converting a tensor to a Python boolean might cause the trace to be incorrect. We can't record the data flow of Python values, so this value will be treated as a constant in the future. This means that the trace might not generalize to other inputs!\n",
      "  if self.subsample_size < self.size:\n",
      "/nfs/users/nfs_v/vk7/.local/lib/python3.7/site-packages/pyro/poutine/subsample_messenger.py:141: TracerWarning: Converting a tensor to a Python boolean might cause the trace to be incorrect. We can't record the data flow of Python values, so this value will be treated as a constant in the future. This means that the trace might not generalize to other inputs!\n",
      "  if len(shape) >= -dim and shape[dim] != 1:\n",
      "/nfs/users/nfs_v/vk7/.local/lib/python3.7/site-packages/pyro/poutine/subsample_messenger.py:151: TracerWarning: Converting a tensor to a Python boolean might cause the trace to be incorrect. We can't record the data flow of Python values, so this value will be treated as a constant in the future. This means that the trace might not generalize to other inputs!\n",
      "  if self.subsample_size < self.size:\n",
      "/nfs/users/nfs_v/vk7/.local/lib/python3.7/site-packages/pyro/poutine/subsample_messenger.py:141: TracerWarning: Converting a tensor to a Python boolean might cause the trace to be incorrect. We can't record the data flow of Python values, so this value will be treated as a constant in the future. This means that the trace might not generalize to other inputs!\n",
      "  if len(shape) >= -dim and shape[dim] != 1:\n",
      "/nfs/users/nfs_v/vk7/.local/lib/python3.7/site-packages/pyro/poutine/subsample_messenger.py:151: TracerWarning: Converting a tensor to a Python boolean might cause the trace to be incorrect. We can't record the data flow of Python values, so this value will be treated as a constant in the future. This means that the trace might not generalize to other inputs!\n",
      "  if self.subsample_size < self.size:\n",
      "/nfs/users/nfs_v/vk7/.local/lib/python3.7/site-packages/pyro/poutine/subsample_messenger.py:141: TracerWarning: Converting a tensor to a Python boolean might cause the trace to be incorrect. We can't record the data flow of Python values, so this value will be treated as a constant in the future. This means that the trace might not generalize to other inputs!\n",
      "  if len(shape) >= -dim and shape[dim] != 1:\n",
      "/nfs/users/nfs_v/vk7/.local/lib/python3.7/site-packages/pyro/poutine/subsample_messenger.py:151: TracerWarning: Converting a tensor to a Python boolean might cause the trace to be incorrect. We can't record the data flow of Python values, so this value will be treated as a constant in the future. This means that the trace might not generalize to other inputs!\n",
      "  if self.subsample_size < self.size:\n",
      "/nfs/users/nfs_v/vk7/.local/lib/python3.7/site-packages/pyro/poutine/subsample_messenger.py:141: TracerWarning: Converting a tensor to a Python boolean might cause the trace to be incorrect. We can't record the data flow of Python values, so this value will be treated as a constant in the future. This means that the trace might not generalize to other inputs!\n",
      "  if len(shape) >= -dim and shape[dim] != 1:\n",
      "/nfs/users/nfs_v/vk7/.local/lib/python3.7/site-packages/pyro/poutine/subsample_messenger.py:151: TracerWarning: Converting a tensor to a Python boolean might cause the trace to be incorrect. We can't record the data flow of Python values, so this value will be treated as a constant in the future. This means that the trace might not generalize to other inputs!\n",
      "  if self.subsample_size < self.size:\n",
      "/nfs/users/nfs_v/vk7/.local/lib/python3.7/site-packages/pyro/poutine/subsample_messenger.py:141: TracerWarning: Converting a tensor to a Python boolean might cause the trace to be incorrect. We can't record the data flow of Python values, so this value will be treated as a constant in the future. This means that the trace might not generalize to other inputs!\n",
      "  if len(shape) >= -dim and shape[dim] != 1:\n",
      "/nfs/users/nfs_v/vk7/.local/lib/python3.7/site-packages/pyro/poutine/subsample_messenger.py:151: TracerWarning: Converting a tensor to a Python boolean might cause the trace to be incorrect. We can't record the data flow of Python values, so this value will be treated as a constant in the future. This means that the trace might not generalize to other inputs!\n",
      "  if self.subsample_size < self.size:\n",
      "/nfs/users/nfs_v/vk7/.local/lib/python3.7/site-packages/pyro/poutine/subsample_messenger.py:141: TracerWarning: Converting a tensor to a Python boolean might cause the trace to be incorrect. We can't record the data flow of Python values, so this value will be treated as a constant in the future. This means that the trace might not generalize to other inputs!\n",
      "  if len(shape) >= -dim and shape[dim] != 1:\n",
      "/nfs/users/nfs_v/vk7/.local/lib/python3.7/site-packages/pyro/poutine/subsample_messenger.py:151: TracerWarning: Converting a tensor to a Python boolean might cause the trace to be incorrect. We can't record the data flow of Python values, so this value will be treated as a constant in the future. This means that the trace might not generalize to other inputs!\n",
      "  if self.subsample_size < self.size:\n",
      "/nfs/users/nfs_v/vk7/.local/lib/python3.7/site-packages/pyro/poutine/subsample_messenger.py:141: TracerWarning: Converting a tensor to a Python boolean might cause the trace to be incorrect. We can't record the data flow of Python values, so this value will be treated as a constant in the future. This means that the trace might not generalize to other inputs!\n",
      "  if len(shape) >= -dim and shape[dim] != 1:\n",
      "/nfs/users/nfs_v/vk7/.local/lib/python3.7/site-packages/pyro/poutine/subsample_messenger.py:151: TracerWarning: Converting a tensor to a Python boolean might cause the trace to be incorrect. We can't record the data flow of Python values, so this value will be treated as a constant in the future. This means that the trace might not generalize to other inputs!\n",
      "  if self.subsample_size < self.size:\n",
      "/nfs/users/nfs_v/vk7/.local/lib/python3.7/site-packages/pyro/poutine/subsample_messenger.py:141: TracerWarning: Converting a tensor to a Python boolean might cause the trace to be incorrect. We can't record the data flow of Python values, so this value will be treated as a constant in the future. This means that the trace might not generalize to other inputs!\n",
      "  if len(shape) >= -dim and shape[dim] != 1:\n",
      "/nfs/users/nfs_v/vk7/.local/lib/python3.7/site-packages/pyro/poutine/subsample_messenger.py:151: TracerWarning: Converting a tensor to a Python boolean might cause the trace to be incorrect. We can't record the data flow of Python values, so this value will be treated as a constant in the future. This means that the trace might not generalize to other inputs!\n",
      "  if self.subsample_size < self.size:\n",
      "/nfs/users/nfs_v/vk7/.local/lib/python3.7/site-packages/pyro/poutine/subsample_messenger.py:141: TracerWarning: Converting a tensor to a Python boolean might cause the trace to be incorrect. We can't record the data flow of Python values, so this value will be treated as a constant in the future. This means that the trace might not generalize to other inputs!\n",
      "  if len(shape) >= -dim and shape[dim] != 1:\n",
      "/nfs/users/nfs_v/vk7/.local/lib/python3.7/site-packages/pyro/poutine/subsample_messenger.py:151: TracerWarning: Converting a tensor to a Python boolean might cause the trace to be incorrect. We can't record the data flow of Python values, so this value will be treated as a constant in the future. This means that the trace might not generalize to other inputs!\n",
      "  if self.subsample_size < self.size:\n",
      "/nfs/users/nfs_v/vk7/.local/lib/python3.7/site-packages/pyro/poutine/subsample_messenger.py:141: TracerWarning: Converting a tensor to a Python boolean might cause the trace to be incorrect. We can't record the data flow of Python values, so this value will be treated as a constant in the future. This means that the trace might not generalize to other inputs!\n",
      "  if len(shape) >= -dim and shape[dim] != 1:\n",
      "/nfs/users/nfs_v/vk7/.local/lib/python3.7/site-packages/pyro/poutine/subsample_messenger.py:151: TracerWarning: Converting a tensor to a Python boolean might cause the trace to be incorrect. We can't record the data flow of Python values, so this value will be treated as a constant in the future. This means that the trace might not generalize to other inputs!\n",
      "  if self.subsample_size < self.size:\n",
      "/nfs/users/nfs_v/vk7/.local/lib/python3.7/site-packages/pyro/poutine/subsample_messenger.py:141: TracerWarning: Converting a tensor to a Python boolean might cause the trace to be incorrect. We can't record the data flow of Python values, so this value will be treated as a constant in the future. This means that the trace might not generalize to other inputs!\n",
      "  if len(shape) >= -dim and shape[dim] != 1:\n",
      "/nfs/users/nfs_v/vk7/.local/lib/python3.7/site-packages/pyro/poutine/subsample_messenger.py:151: TracerWarning: Converting a tensor to a Python boolean might cause the trace to be incorrect. We can't record the data flow of Python values, so this value will be treated as a constant in the future. This means that the trace might not generalize to other inputs!\n",
      "  if self.subsample_size < self.size:\n",
      "/nfs/users/nfs_v/vk7/.local/lib/python3.7/site-packages/pyro/poutine/subsample_messenger.py:141: TracerWarning: Converting a tensor to a Python boolean might cause the trace to be incorrect. We can't record the data flow of Python values, so this value will be treated as a constant in the future. This means that the trace might not generalize to other inputs!\n",
      "  if len(shape) >= -dim and shape[dim] != 1:\n",
      "/nfs/users/nfs_v/vk7/.local/lib/python3.7/site-packages/pyro/poutine/subsample_messenger.py:151: TracerWarning: Converting a tensor to a Python boolean might cause the trace to be incorrect. We can't record the data flow of Python values, so this value will be treated as a constant in the future. This means that the trace might not generalize to other inputs!\n",
      "  if self.subsample_size < self.size:\n",
      "/nfs/users/nfs_v/vk7/.local/lib/python3.7/site-packages/pyro/poutine/subsample_messenger.py:141: TracerWarning: Converting a tensor to a Python boolean might cause the trace to be incorrect. We can't record the data flow of Python values, so this value will be treated as a constant in the future. This means that the trace might not generalize to other inputs!\n",
      "  if len(shape) >= -dim and shape[dim] != 1:\n",
      "/nfs/users/nfs_v/vk7/.local/lib/python3.7/site-packages/pyro/poutine/subsample_messenger.py:151: TracerWarning: Converting a tensor to a Python boolean might cause the trace to be incorrect. We can't record the data flow of Python values, so this value will be treated as a constant in the future. This means that the trace might not generalize to other inputs!\n",
      "  if self.subsample_size < self.size:\n",
      "/nfs/users/nfs_v/vk7/.local/lib/python3.7/site-packages/pyro/poutine/subsample_messenger.py:141: TracerWarning: Converting a tensor to a Python boolean might cause the trace to be incorrect. We can't record the data flow of Python values, so this value will be treated as a constant in the future. This means that the trace might not generalize to other inputs!\n",
      "  if len(shape) >= -dim and shape[dim] != 1:\n",
      "/nfs/users/nfs_v/vk7/.local/lib/python3.7/site-packages/pyro/poutine/subsample_messenger.py:151: TracerWarning: Converting a tensor to a Python boolean might cause the trace to be incorrect. We can't record the data flow of Python values, so this value will be treated as a constant in the future. This means that the trace might not generalize to other inputs!\n",
      "  if self.subsample_size < self.size:\n",
      "/nfs/users/nfs_v/vk7/.local/lib/python3.7/site-packages/pyro/poutine/subsample_messenger.py:141: TracerWarning: Converting a tensor to a Python boolean might cause the trace to be incorrect. We can't record the data flow of Python values, so this value will be treated as a constant in the future. This means that the trace might not generalize to other inputs!\n",
      "  if len(shape) >= -dim and shape[dim] != 1:\n",
      "/nfs/users/nfs_v/vk7/.local/lib/python3.7/site-packages/pyro/poutine/subsample_messenger.py:141: TracerWarning: Converting a tensor to a Python boolean might cause the trace to be incorrect. We can't record the data flow of Python values, so this value will be treated as a constant in the future. This means that the trace might not generalize to other inputs!\n",
      "  if len(shape) >= -dim and shape[dim] != 1:\n",
      "/nfs/users/nfs_v/vk7/.local/lib/python3.7/site-packages/pyro/poutine/subsample_messenger.py:141: TracerWarning: Converting a tensor to a Python boolean might cause the trace to be incorrect. We can't record the data flow of Python values, so this value will be treated as a constant in the future. This means that the trace might not generalize to other inputs!\n",
      "  if len(shape) >= -dim and shape[dim] != 1:\n",
      "/nfs/users/nfs_v/vk7/.local/lib/python3.7/site-packages/pyro/poutine/subsample_messenger.py:141: TracerWarning: Converting a tensor to a Python boolean might cause the trace to be incorrect. We can't record the data flow of Python values, so this value will be treated as a constant in the future. This means that the trace might not generalize to other inputs!\n",
      "  if len(shape) >= -dim and shape[dim] != 1:\n",
      "/nfs/users/nfs_v/vk7/.local/lib/python3.7/site-packages/pyro/poutine/subsample_messenger.py:141: TracerWarning: Converting a tensor to a Python boolean might cause the trace to be incorrect. We can't record the data flow of Python values, so this value will be treated as a constant in the future. This means that the trace might not generalize to other inputs!\n",
      "  if len(shape) >= -dim and shape[dim] != 1:\n",
      "/nfs/users/nfs_v/vk7/.local/lib/python3.7/site-packages/pyro/poutine/subsample_messenger.py:151: TracerWarning: Converting a tensor to a Python boolean might cause the trace to be incorrect. We can't record the data flow of Python values, so this value will be treated as a constant in the future. This means that the trace might not generalize to other inputs!\n",
      "  if self.subsample_size < self.size:\n",
      "/nfs/users/nfs_v/vk7/.local/lib/python3.7/site-packages/pyro/poutine/subsample_messenger.py:141: TracerWarning: Converting a tensor to a Python boolean might cause the trace to be incorrect. We can't record the data flow of Python values, so this value will be treated as a constant in the future. This means that the trace might not generalize to other inputs!\n",
      "  if len(shape) >= -dim and shape[dim] != 1:\n",
      "/nfs/users/nfs_v/vk7/.local/lib/python3.7/site-packages/pyro/poutine/subsample_messenger.py:151: TracerWarning: Converting a tensor to a Python boolean might cause the trace to be incorrect. We can't record the data flow of Python values, so this value will be treated as a constant in the future. This means that the trace might not generalize to other inputs!\n",
      "  if self.subsample_size < self.size:\n",
      "/nfs/users/nfs_v/vk7/.local/lib/python3.7/site-packages/pyro/poutine/subsample_messenger.py:141: TracerWarning: Converting a tensor to a Python boolean might cause the trace to be incorrect. We can't record the data flow of Python values, so this value will be treated as a constant in the future. This means that the trace might not generalize to other inputs!\n",
      "  if len(shape) >= -dim and shape[dim] != 1:\n",
      "/nfs/users/nfs_v/vk7/.local/lib/python3.7/site-packages/pyro/poutine/subsample_messenger.py:151: TracerWarning: Converting a tensor to a Python boolean might cause the trace to be incorrect. We can't record the data flow of Python values, so this value will be treated as a constant in the future. This means that the trace might not generalize to other inputs!\n",
      "  if self.subsample_size < self.size:\n",
      "/nfs/users/nfs_v/vk7/.local/lib/python3.7/site-packages/pyro/poutine/subsample_messenger.py:141: TracerWarning: Converting a tensor to a Python boolean might cause the trace to be incorrect. We can't record the data flow of Python values, so this value will be treated as a constant in the future. This means that the trace might not generalize to other inputs!\n",
      "  if len(shape) >= -dim and shape[dim] != 1:\n",
      "/nfs/users/nfs_v/vk7/.local/lib/python3.7/site-packages/pyro/poutine/subsample_messenger.py:151: TracerWarning: Converting a tensor to a Python boolean might cause the trace to be incorrect. We can't record the data flow of Python values, so this value will be treated as a constant in the future. This means that the trace might not generalize to other inputs!\n",
      "  if self.subsample_size < self.size:\n",
      "/nfs/team205/vk7/sanger_projects/BayraktarLab/sandbox/2021-03-softplus_scales/cell2location_model.py:116: TracerWarning: torch.as_tensor results are registered as constants in the trace. You can safely ignore this warning if you use this function to create tensors out of constant variables that would be the same every time you call this function. In any other case, this might cause the trace to be incorrect.\n",
      "  value = torch.as_tensor(value, dtype=self.beta.dtype, device=self.beta.device)\n"
     ]
    },
    {
     "name": "stdout",
     "output_type": "stream",
     "text": [
      "\n"
     ]
    }
   ],
   "source": [
    "import torch\n",
    "torch.set_default_tensor_type(torch.cuda.FloatTensor)\n",
    "\n",
    "mod = cell2location_model.LocationModelLinearDependentWMultiExperiment(\n",
    "    n_obs=adata_vis.n_obs,\n",
    "    n_var=adata_vis.n_vars,\n",
    "        n_fact=aver.shape[1],\n",
    "        n_exper=obs2sample_df.shape[1],\n",
    "        batch_size=None,\n",
    "        cell_state_mat=aver.values.astype('float32'),\n",
    "    )\n",
    "\n",
    "from pyro.distributions import constraints\n",
    "mod.guide.scale_constraint = constraints.positive\n",
    "#mod.guide.scale_constraint = constraints.softplus_positive\n",
    "\n",
    "#mod.cuda()\n",
    "mod.train_full_data(x_data=adata_vis.raw.X.toarray().astype('float32'),\n",
    "                    obs2sample=obs2sample_df.values.astype('float32'),\n",
    "                    n_epochs=30000, lr=0.002)"
   ]
  },
  {
   "cell_type": "code",
   "execution_count": 10,
   "metadata": {},
   "outputs": [
    {
     "data": {
      "text/plain": [
       "8"
      ]
     },
     "execution_count": 10,
     "metadata": {},
     "output_type": "execute_result"
    }
   ],
   "source": [
    "mod.model.cell_number_prior[\"N_cells_per_location\"]"
   ]
  },
  {
   "cell_type": "code",
   "execution_count": null,
   "metadata": {},
   "outputs": [],
   "source": []
  },
  {
   "cell_type": "code",
   "execution_count": null,
   "metadata": {},
   "outputs": [],
   "source": []
  },
  {
   "cell_type": "code",
   "execution_count": null,
   "metadata": {},
   "outputs": [],
   "source": []
  },
  {
   "cell_type": "code",
   "execution_count": null,
   "metadata": {},
   "outputs": [],
   "source": []
  },
  {
   "cell_type": "code",
   "execution_count": null,
   "metadata": {},
   "outputs": [],
   "source": []
  },
  {
   "cell_type": "code",
   "execution_count": null,
   "metadata": {},
   "outputs": [],
   "source": []
  },
  {
   "cell_type": "code",
   "execution_count": null,
   "metadata": {
    "scrolled": false
   },
   "outputs": [],
   "source": [
    "rcParams['figure.figsize'] = 5, 5\n",
    "for m in models_list:\n",
    "    \n",
    "    r = cell2location.run_cell2location(\n",
    "                          sc_data=inf_aver,\n",
    "                          sp_data=adata_vis[adata_vis.obs['sample'] == 'exper0',:],\n",
    "        \n",
    "                          model_name=m,\n",
    "        \n",
    "                          verbose=True, return_all=True,\n",
    "\n",
    "                          summ_sc_data_args={'cluster_col': \"annotation_1\"},\n",
    "\n",
    "                          train_args={'n_iter': 30000, 'learning_rate': 0.005,\n",
    "                                      'total_grad_norm_constraint': 200,\n",
    "                                      'sample_prior': False, 'n_prior_samples': 20,\n",
    "                                      'readable_var_name_col': None,\n",
    "                                      'sample_name_col': 'sample'},\n",
    "\n",
    "                          posterior_args={'n_samples': 1000},\n",
    "                          export_args={'path': results_folder,\n",
    "                                       'save_model': False, \n",
    "                                       'run_name_suffix': '_defaults_ceps9_cps4_fps5_inf_shape01_gl2',\n",
    "                                       'scanpy_coords_name': 'X_spatial'},\n",
    "                          model_kwargs={\n",
    "                                        'cell_number_prior': {'cells_per_spot': 9, 'factors_per_spot': 5, \n",
    "                                                              'combs_per_spot': 4\n",
    "                                                             }\n",
    "                          }\n",
    "    )"
   ]
  },
  {
   "cell_type": "code",
   "execution_count": null,
   "metadata": {
    "scrolled": false
   },
   "outputs": [],
   "source": [
    "rcParams['figure.figsize'] = 5, 5\n",
    "r = cell2location.run_cell2location(\n",
    "                          sc_data=inf_aver,\n",
    "                          sp_data=adata_vis[adata_vis.obs['sample'] == 'exper0',:],\n",
    "        \n",
    "                          model_name=models_list[0],\n",
    "        \n",
    "                          verbose=True, return_all=True,\n",
    "\n",
    "                          summ_sc_data_args={'cluster_col': \"annotation_1\"},\n",
    "\n",
    "                          train_args={'n_iter': 30000, 'learning_rate': 0.005,\n",
    "                                      'total_grad_norm_constraint': 200,\n",
    "                                      'sample_prior': False, 'n_prior_samples': 20,\n",
    "                                      'readable_var_name_col': None,\n",
    "                                      'sample_name_col': 'sample'},\n",
    "\n",
    "                          posterior_args={'n_samples': 1000},\n",
    "                          export_args={'path': results_folder,\n",
    "                                       'save_model': False, \n",
    "                                       'run_name_suffix': '_defaults_ceps9_cps4_fps5_inf_shape01_gl2',\n",
    "                                       'scanpy_coords_name': 'X_spatial'},\n",
    "                          model_kwargs={\n",
    "                                        'cell_number_prior': {'cells_per_spot': 9, 'factors_per_spot': 5, \n",
    "                                                              'combs_per_spot': 4\n",
    "                                                             }\n",
    "                          }\n",
    "    )"
   ]
  },
  {
   "cell_type": "markdown",
   "metadata": {},
   "source": [
    "## Evaluate inferred cell density (`spot_factors`) and mRNA count (`nUMI_factors`)"
   ]
  },
  {
   "cell_type": "code",
   "execution_count": null,
   "metadata": {},
   "outputs": [],
   "source": [
    "r_load = {'run_name': 'LocationModelLinearDependentWMultiExperiment_1experiments_49clusters_2500locations_12080genes_defaults_ceps9_cps4_fps5_inf_shape01_gl2'}\n",
    "#r_load = {'run_name': 'LocationModel_1experiments_46clusters_2000locations_12281genes_defaults_ceps9_cps4_fps5_inf_shape01_gl2'}\n",
    "\n",
    "fig_path=results_folder +r_load['run_name']+'/plots'\n",
    "\n",
    "sp_data_file = results_folder +r_load['run_name']+'/sp.h5ad'\n",
    "adata_vis_res = anndata.read(sp_data_file)"
   ]
  },
  {
   "cell_type": "code",
   "execution_count": null,
   "metadata": {},
   "outputs": [],
   "source": [
    "file = results_folder + r_load['run_name']+'/model_.p'\n",
    "r = pickle.load(file = open(file, \"rb\"))"
   ]
  },
  {
   "cell_type": "code",
   "execution_count": null,
   "metadata": {},
   "outputs": [],
   "source": [
    "# look at NBoverdispersion hyperprior\n",
    "adata_vis_res.uns['mod']['post_sample_means']['phi_hyp']"
   ]
  },
  {
   "cell_type": "code",
   "execution_count": null,
   "metadata": {},
   "outputs": [],
   "source": [
    "fig_path"
   ]
  },
  {
   "cell_type": "code",
   "execution_count": null,
   "metadata": {},
   "outputs": [],
   "source": [
    "from re import sub\n",
    "cell_count = adata_vis_res.obs.loc[:, ['cell_abundances_' in i for i in adata_vis_res.obs.columns]]\n",
    "cell_count.columns =  [sub('cell_abundances_', '', i) for i in cell_count.columns]\n",
    "cell_count_columns = cell_count.columns\n",
    "umi_count = adata_vis_res.obs.loc[:, ['UMI_count_' in i for i in adata_vis_res.obs.columns]]\n",
    "umi_count.columns =  [sub('UMI_count_', '', i) for i in umi_count.columns]\n",
    "\n",
    "spot_factors = adata_vis_res.obs[['mean_spot_factors' + i for i in cell_count_columns]]\n",
    "spot_factors.columns =  [sub('mean_spot_factors', '', i) for i in spot_factors.columns]\n",
    "\n",
    "spot_factors_sd = adata_vis_res.obs[['sd_spot_factors' + i for i in cell_count_columns]]\n",
    "spot_factors_sd.columns =  [sub('sd_spot_factors', '', i) for i in spot_factors_sd.columns]\n",
    "\n",
    "infer_cell_count = spot_factors[cell_count.columns]\n",
    "#infer_cell_count = cells_per_factor[cell_count.columns]\n",
    "\n",
    "nUMI_factors = adata_vis_res.obs[['mean_nUMI_factors' + i for i in cell_count_columns]]\n",
    "nUMI_factors.columns =  [sub('mean_nUMI_factors', '', i) for i in nUMI_factors.columns]"
   ]
  },
  {
   "cell_type": "code",
   "execution_count": null,
   "metadata": {},
   "outputs": [],
   "source": [
    "#spot_factors = spot_factors / spot_factors_sd\n",
    "\n",
    "infer_cell_count = spot_factors[cell_count.columns]\n",
    "infer_nUMI_count = nUMI_factors[cell_count.columns]"
   ]
  },
  {
   "cell_type": "code",
   "execution_count": null,
   "metadata": {},
   "outputs": [],
   "source": [
    "# mean number of cell types per location\n",
    "(cell_count.values > 1).sum(1).mean(), (cell_count.values).sum(1).mean(),\\\n",
    " (infer_cell_count.values > 1).sum(1).mean(), (infer_cell_count.values).sum(1).mean()"
   ]
  },
  {
   "cell_type": "code",
   "execution_count": null,
   "metadata": {},
   "outputs": [],
   "source": [
    "rcParams['figure.figsize'] = 4, 4.5\n",
    "# look at the numberof cells per spot factors\n",
    "plt.hist(adata_vis_res.uns['mod']['post_sample_means']['cells_per_spot']);"
   ]
  },
  {
   "cell_type": "code",
   "execution_count": null,
   "metadata": {},
   "outputs": [],
   "source": [
    "# look at the numberof expressed factors\n",
    "plt.hist(spot_factors.sum(1));"
   ]
  },
  {
   "cell_type": "code",
   "execution_count": null,
   "metadata": {},
   "outputs": [],
   "source": [
    "# look at the number of expressed factors\n",
    "plt.hist(adata_vis_res.uns['mod']['post_sample_means']['factors_per_combs']);"
   ]
  },
  {
   "cell_type": "code",
   "execution_count": null,
   "metadata": {},
   "outputs": [],
   "source": [
    "rcParams['figure.figsize'] = 4, 4\n",
    "rcParams[\"axes.facecolor\"] = \"white\"\n",
    "\n",
    "plt.hist2d(cell_count.values.flatten(), \n",
    "           infer_cell_count.values.flatten(),# / np.mean(adata_vis_res.var['gene_level'].values),\n",
    "           bins=[50, 50], norm=matplotlib.colors.LogNorm());\n",
    "plt.xlabel('Simulated cell count');\n",
    "plt.ylabel('Inferred cell density');\n",
    "plt.title(r'Cell count, $R^2$: ' \\\n",
    "          + str(np.round(np.corrcoef(cell_count.values.flatten(), \n",
    "           infer_cell_count.values.flatten()), 3)[0,1]));\n",
    "#plt.gca().set_aspect('equal', adjustable='box')\n",
    "plt.tight_layout()\n",
    "plt.savefig(fig_path + '/Cell_density_cor.pdf')"
   ]
  },
  {
   "cell_type": "code",
   "execution_count": null,
   "metadata": {},
   "outputs": [],
   "source": [
    "rcParams['figure.figsize'] = 4, 4.5\n",
    "rcParams[\"axes.facecolor\"] = \"white\"\n",
    "\n",
    "plt.hist2d(umi_count.values.flatten(), \n",
    "           nUMI_factors.values.flatten() \\\n",
    "           / np.mean(adata_vis_res.var['gene_level'].values),\n",
    "           bins=[35, 41], norm=matplotlib.colors.LogNorm());\n",
    "plt.xlabel('Simulated mRNA (UMI) count');\n",
    "plt.ylabel('Inferred UMI count');\n",
    "plt.title('mRNA count, $R^2$: ' \\\n",
    "          + str(np.round(np.corrcoef(umi_count.values.flatten(), \n",
    "           nUMI_factors.values.flatten()), 3)[0,1]));\n",
    "plt.gca().set_aspect('equal', adjustable='box')\n",
    "plt.tight_layout()\n",
    "plt.savefig(fig_path + '/nUMI_count_cor.pdf')"
   ]
  },
  {
   "cell_type": "code",
   "execution_count": null,
   "metadata": {},
   "outputs": [],
   "source": [
    "cell_proportions = (cell_count.T / cell_count.sum(1)).T\n",
    "cell_proportions.iloc[np.isnan(cell_proportions.values)] = 0\n",
    "infer_cell_proportions = (infer_cell_count.T / infer_cell_count.sum(1)).T\n",
    "\n",
    "rcParams['figure.figsize'] = 4, 4\n",
    "plt.hist2d(cell_proportions.values.flatten(), \n",
    "           infer_cell_proportions.values.flatten(),\n",
    "           bins=[35, 41], norm=matplotlib.colors.LogNorm());\n",
    "plt.xlabel('Simulated cell proportion');\n",
    "plt.ylabel('Inferred cell proportion');\n",
    "plt.title('Cell proportion, $R^2$: ' \\\n",
    "          + str(np.round(np.corrcoef(cell_proportions.values.flatten(), \n",
    "           infer_cell_proportions.values.flatten()), 3)[0,1]));\n",
    "plt.gca().set_aspect('equal', adjustable='box')\n",
    "plt.xlim(0, 1);\n",
    "plt.ylim(0, 1);\n",
    "plt.tight_layout()\n",
    "plt.savefig(fig_path + '/Cell_proportion_cor.pdf')"
   ]
  },
  {
   "cell_type": "code",
   "execution_count": null,
   "metadata": {},
   "outputs": [],
   "source": [
    "umi_count_proportions = (umi_count.T / umi_count.sum(1)).T\n",
    "umi_count_proportions.iloc[np.isnan(umi_count_proportions.values)] = 0\n",
    "infer_nUMI_factors = (nUMI_factors.T / nUMI_factors.sum(1)).T\n",
    "\n",
    "rcParams['figure.figsize'] = 4, 4\n",
    "plt.hist2d(umi_count_proportions.values.flatten(), \n",
    "           infer_nUMI_factors.values.flatten(),\n",
    "           bins=[35, 41], norm=matplotlib.colors.LogNorm());\n",
    "plt.xlabel('Simulated mRNA proportion');\n",
    "plt.ylabel('Inferred mRNA proportion');\n",
    "plt.title('Cell proportion, $R^2$: ' \\\n",
    "          + str(np.round(np.corrcoef(umi_count_proportions.values.flatten(), \n",
    "           infer_nUMI_factors.values.flatten()), 3)[0,1]));\n",
    "plt.gca().set_aspect('equal', adjustable='box')\n",
    "plt.xlim(0, 1);\n",
    "plt.ylim(0, 1);\n",
    "plt.tight_layout()\n",
    "plt.savefig(fig_path + '/mRNA_proportion_cor.pdf')"
   ]
  },
  {
   "cell_type": "code",
   "execution_count": null,
   "metadata": {},
   "outputs": [],
   "source": [
    "rcParams['figure.figsize'] = 4, 4\n",
    "plt.hist2d(cell_count.values.flatten(), \n",
    "           infer_nUMI_count.values.flatten(),\n",
    "           bins=35, norm=matplotlib.colors.LogNorm());\n",
    "plt.xlabel('Simulated cell count');\n",
    "plt.ylabel('Inferred mRNA count');\n",
    "plt.title('mRNA count, cor: ' \\\n",
    "          + str(np.round(np.corrcoef(cell_count.values.flatten(), \n",
    "           infer_nUMI_count.values.flatten()), 3)[0,1]));\n",
    "plt.tight_layout();\n",
    "#plt.savefig(fig_path + '/mRNA_count_cor.pdf')"
   ]
  },
  {
   "cell_type": "code",
   "execution_count": null,
   "metadata": {},
   "outputs": [],
   "source": [
    "rcParams['figure.figsize'] = 4, 4\n",
    "plt.hist2d(cell_count.values.flatten(), \n",
    "           nUMI_factors.values.flatten(),\n",
    "           bins=35, norm=matplotlib.colors.LogNorm());\n",
    "plt.xlabel('Simulated cell count');\n",
    "plt.ylabel('Simulated mRNA count');\n",
    "plt.title('mRNA count, cor: ' \\\n",
    "          + str(np.round(np.corrcoef(cell_count.values.flatten(), \n",
    "           infer_nUMI_count.values.flatten()), 3)[0,1]));\n",
    "plt.tight_layout();\n",
    "#plt.savefig(fig_path + '/mRNA_count_cor.pdf')"
   ]
  },
  {
   "cell_type": "code",
   "execution_count": null,
   "metadata": {},
   "outputs": [],
   "source": [
    "import matplotlib as mpl\n",
    "from matplotlib import pyplot as plt\n",
    "import numpy as np\n",
    "from scipy import interpolate\n",
    "\n",
    "with plt.style.context('seaborn'):\n",
    "    seaborn_colors = mpl.rcParams['axes.prop_cycle'].by_key()['color']\n",
    "\n",
    "\n",
    "def compute_precision_recall(pos_cell_count, infer_cell_proportions, mode='macro'):\n",
    "    r\"\"\" Plot precision-recall curves on average and for each cell type.\n",
    "    :param pos_cell_count: binary matrix showing which cell types are present in which locations\n",
    "    :param infer_cell_proportions: inferred locations (the higher the more cells)\n",
    "    \"\"\"\n",
    "    \n",
    "    from sklearn.metrics import precision_recall_curve\n",
    "    from sklearn.metrics import average_precision_score\n",
    "    \n",
    "    ### calculating ###\n",
    "    predictor = infer_cell_proportions.values + np.random.gamma(20, 1e-12, \n",
    "                                                                infer_cell_proportions.shape)\n",
    "    # For each cell type\n",
    "    precision = dict()\n",
    "    recall = dict()\n",
    "    average_precision = dict()\n",
    "    for i, c in enumerate(infer_cell_proportions.columns):\n",
    "        precision[c], recall[c], _ = precision_recall_curve(pos_cell_count[:, i],\n",
    "                                                            predictor[:, i])\n",
    "        average_precision[c] = average_precision_score(pos_cell_count[:, i], predictor[:, i], average=mode)\n",
    "\n",
    "    average_precision[\"averaged\"] = average_precision_score(pos_cell_count, predictor,\n",
    "                                                     average=mode)\n",
    "\n",
    "    # A \"micro-average\": quantifying score on all classes jointly\n",
    "    if mode == 'micro':\n",
    "        precision_, recall_, threshold = precision_recall_curve(pos_cell_count.ravel(),\n",
    "                                                                        predictor.ravel())\n",
    "        #precision_[threshold < 0.1] = 0\n",
    "        precision[\"averaged\"], recall[\"averaged\"] =  precision_, recall_\n",
    "\n",
    "    elif mode == 'macro':\n",
    "        precisions = []\n",
    "        recall_grid = np.linspace(0, 1, 2000)\n",
    "\n",
    "        for i, c in enumerate(infer_cell_proportions.columns):\n",
    "            f = interpolate.interp1d(recall[c], precision[c])\n",
    "            precision_interp = f(recall_grid)\n",
    "            precisions.append(precision_interp)\n",
    "\n",
    "        precision[\"averaged\"] = np.mean(precisions, axis=0)\n",
    "        recall['averaged'] = recall_grid\n",
    "\n",
    "        \n",
    "    return precision, recall, average_precision\n",
    "\n",
    "def compute_roc(pos_cell_count, infer_cell_proportions, mode='macro'):\n",
    "    r\"\"\" Plot ROC curves on average and for each cell type.\n",
    "    :param pos_cell_count: binary matrix showing which cell types are present in which locations\n",
    "    :param infer_cell_proportions: inferred locations (the higher the more cells)\n",
    "    \"\"\"\n",
    "    \n",
    "    from sklearn.metrics import roc_curve\n",
    "    from sklearn.metrics import roc_auc_score\n",
    "    \n",
    "    ### calculating ###\n",
    "    predictor = infer_cell_proportions.values + np.random.gamma(20, 1e-12, \n",
    "                                                                infer_cell_proportions.shape)\n",
    "    # For each cell type\n",
    "    precision = dict()\n",
    "    recall = dict()\n",
    "    average_precision = dict()\n",
    "    for i, c in enumerate(infer_cell_proportions.columns):\n",
    "        precision[c], recall[c], _ = roc_curve(pos_cell_count[:, i],\n",
    "                                                            predictor[:, i])\n",
    "        average_precision[c] = roc_auc_score(pos_cell_count[:, i], predictor[:, i], average=mode)\n",
    "\n",
    "    average_precision[\"averaged\"] = roc_auc_score(pos_cell_count, predictor,\n",
    "                                                     average=mode)\n",
    "\n",
    "    # A \"micro-average\": quantifying score on all classes jointly\n",
    "    if mode == 'micro':\n",
    "        precision_, recall_, threshold = roc_curve(pos_cell_count.ravel(),\n",
    "                                                                        predictor.ravel())\n",
    "        #precision_[threshold < 0.1] = 0\n",
    "        precision[\"averaged\"], recall[\"averaged\"] =  precision_, recall_\n",
    "\n",
    "    elif mode == 'macro':\n",
    "        precisions = []\n",
    "        recall_grid = np.linspace(0, 1, 2000)\n",
    "\n",
    "        for i, c in enumerate(infer_cell_proportions.columns):\n",
    "            f = interpolate.interp1d(recall[c], precision[c])\n",
    "            precision_interp = f(recall_grid)\n",
    "            precisions.append(precision_interp)\n",
    "\n",
    "        precision[\"averaged\"] = np.mean(precisions, axis=0)\n",
    "        recall['averaged'] = recall_grid\n",
    "\n",
    "        \n",
    "    return precision, recall, average_precision\n",
    "\n",
    "def plot_precision_recall(pos_cell_count, infer_cell_proportions,\n",
    "                          title='', iso_f1_curves=False,\n",
    "                          individual_cell_types=True,\n",
    "                          save=None, mode='macro', curve='PR'):\n",
    "    r\"\"\" Plot precision-recall curves on average and for each cell type.\n",
    "    :param pos_cell_count: binary matrix showing which cell types are present in which locations\n",
    "    :param infer_cell_proportions: inferred locations (the higher the more cells)\n",
    "    :param title: plot title\n",
    "    :param iso_f1_curves: plot iso curves for F1 score?\n",
    "    :param individual_cell_types: show precision-recall curves for each cell type?\n",
    "    \"\"\"\n",
    "    \n",
    "    ### calculating ###\n",
    "    if curve == 'PR':\n",
    "        precision, recall, average_precision = compute_precision_recall(pos_cell_count, \n",
    "                                                                        infer_cell_proportions, \n",
    "                                                                        mode=mode)\n",
    "        xlabel = 'Recall'\n",
    "        ylabel = 'Precision'\n",
    "        \n",
    "    elif curve == 'ROC':\n",
    "        recall, precision, average_precision = compute_roc(pos_cell_count, \n",
    "                                                                        infer_cell_proportions, \n",
    "                                                                        mode=mode)\n",
    "        xlabel = 'FPR'\n",
    "        ylabel = 'TPR'\n",
    "        \n",
    "    ### plotting ###\n",
    "    from itertools import cycle\n",
    "    # setup plot details\n",
    "    colors = cycle(['navy', 'turquoise', 'darkorange', 'cornflowerblue', 'teal'])\n",
    "\n",
    "    lines = []\n",
    "    labels = []\n",
    "    \n",
    "    if iso_f1_curves:\n",
    "        f_scores = np.linspace(0.2, 0.8, num=4)\n",
    "        \n",
    "        for f_score in f_scores:\n",
    "            x = np.linspace(0.01, 1)\n",
    "            y = f_score * x / (2 * x - f_score)\n",
    "            l, = plt.plot(x[y >= 0], y[y >= 0], color='gray', alpha=0.2)\n",
    "            plt.annotate('f1={0:0.1f}'.format(f_score), xy=(0.9, y[45] + 0.02))\n",
    "\n",
    "        lines.append(l)\n",
    "        labels.append('iso-f1 curves')\n",
    "    \n",
    "    l, = plt.plot(recall[\"averaged\"], precision[\"averaged\"], color='navy', lw=2)\n",
    "    lines.append(l)\n",
    "    labels.append(f'{mode}-average {curve} ({curve} score = {round(average_precision[\"averaged\"], 2)})')\n",
    "\n",
    "    if individual_cell_types:\n",
    "        for i, color in zip(infer_cell_proportions.columns, colors):\n",
    "            l, = plt.plot(recall[i], precision[i], color='gold', lw=1)\n",
    "            lines.append(l)\n",
    "        labels.append(f'{curve} for individual cell types')\n",
    "\n",
    "\n",
    "\n",
    "    fig = plt.gcf()\n",
    "    fig.subplots_adjust(bottom=0.25)\n",
    "    plt.xlim([0.0, 1.0])\n",
    "    plt.ylim([0.0, 1.05])\n",
    "    plt.xlabel(xlabel)\n",
    "    plt.ylabel(ylabel)\n",
    "    plt.title(title)\n",
    "    plt.legend(lines, labels, loc=(0, -.37), prop=dict(size=8))\n",
    "    \n",
    "    if save is not None:\n",
    "        plt.savefig(save)\n",
    "\n",
    "def compare_precision_recall(pos_cell_count, infer_cell_proportions,\n",
    "                             method_title, title='',\n",
    "                             legend_loc=(0, -.37),\n",
    "                             colors=sc.pl.palettes.default_102,\n",
    "                             mode='macro', curve='PR'):\n",
    "    \n",
    "    r\"\"\" Plot precision-recall curves on average and for each cell type.\n",
    "    :param pos_cell_count: binary matrix showing which cell types are present in which locations\n",
    "    :param infer_cell_proportions: inferred locations (the higher the more cells), \n",
    "                                        list of inferred parameters for several methods\n",
    "    :param method_title: title for each infer_cell_proportions\n",
    "    :param title: plot title\n",
    "    \"\"\"\n",
    "    # setup plot details\n",
    "    from itertools import cycle\n",
    "    colors = cycle(colors)\n",
    "    lines = []\n",
    "    labels = []\n",
    "    roc = {}\n",
    "    \n",
    "    ### plotting ###\n",
    "    for i, color in zip(range(len(infer_cell_proportions)), colors):\n",
    "        \n",
    "        if curve == 'PR':\n",
    "            precision, recall, average_precision = compute_precision_recall(pos_cell_count, \n",
    "                                                                        infer_cell_proportions[i], \n",
    "                                                                        mode=mode)\n",
    "\n",
    "            xlabel = 'Recall'\n",
    "            ylabel = 'Precision'\n",
    "            \n",
    "            l, = plt.plot(recall[\"averaged\"], precision[\"averaged\"], color=color, lw=3)\n",
    "\n",
    "        elif curve == 'ROC':\n",
    "            FPR, TPR, average_precision = compute_roc(pos_cell_count, \n",
    "                                                                        infer_cell_proportions[i], \n",
    "                                                                        mode=mode)\n",
    "\n",
    "            xlabel = 'FPR'\n",
    "            ylabel = 'TPR'\n",
    "            \n",
    "            l, = plt.plot(FPR[\"averaged\"], TPR[\"averaged\"], color=color, lw=3)\n",
    "            \n",
    "        \n",
    "        lines.append(l)\n",
    "\n",
    "        labels.append(method_title[i] + '(' + curve + ' score = {0:0.2f})'\n",
    "                      ''.format(average_precision[\"averaged\"]))\n",
    "        roc[method_title[i]] = average_precision[\"averaged\"]\n",
    "\n",
    "\n",
    "    fig = plt.gcf()\n",
    "    fig.subplots_adjust(bottom=0.25)\n",
    "    plt.xlim([0.0, 1.0])\n",
    "    plt.ylim([0.0, 1.05])\n",
    "    plt.xlabel(xlabel)\n",
    "    plt.ylabel(ylabel)\n",
    "    plt.title(title)\n",
    "    if legend_loc is not None:\n",
    "        plt.legend(lines, labels, loc=legend_loc, prop=dict(size=14))\n",
    "\n",
    "    #plt.show()\n",
    "    return roc\n"
   ]
  },
  {
   "cell_type": "code",
   "execution_count": null,
   "metadata": {
    "scrolled": true
   },
   "outputs": [],
   "source": [
    "rcParams['figure.figsize'] = 7, 32\n",
    "rcParams['pdf.fonttype'] = 42\n",
    "pos_cell_count = cell_count.values > 0.1\n",
    "\n",
    "def pr_by_category(pos_cell_count, infer_cell_count, design,\n",
    "                   nrow=5, ncol=1, title='', fig_path=''):\n",
    "\n",
    "    design_loc = design.loc[cell_count.columns,:]\n",
    "    \n",
    "    plt.subplot(nrow, ncol, 1)\n",
    "    ind = (design_loc['is_uniform'] * design_loc['is_high_density']).values.astype(bool)\n",
    "    plot_precision_recall(pos_cell_count[:, ind], infer_cell_count.loc[:,ind],\n",
    "                          title=f'{title} Spatially uniform & high abundance ({ind.sum()})',\n",
    "                          #save=fig_path + '/Uniform_low_abundance.pdf'\n",
    "                         )\n",
    "    \n",
    "    plt.subplot(nrow, ncol, 2)\n",
    "    ind = (design_loc['is_uniform'] * (1 - design_loc['is_high_density'])).values.astype(bool)\n",
    "    plot_precision_recall(pos_cell_count[:, ind], infer_cell_count.loc[:,ind],\n",
    "                          title=f'{title} Spatially uniform & low abundance ({ind.sum()})',\n",
    "                          #save=fig_path + '/Uniform_high_abundance.pdf'\n",
    "                         )\n",
    "    \n",
    "    plt.subplot(nrow, ncol, 3)\n",
    "    ind = ((1 - design_loc['is_uniform']) * design_loc['is_high_density']).values.astype(bool)\n",
    "    plot_precision_recall(pos_cell_count[:, ind], infer_cell_count.loc[:,ind],\n",
    "                          title=f'{title} Sparse & high abundance ({ind.sum()})',\n",
    "                          #save=fig_path + '/Segregated_low_abundance.pdf'\n",
    "                         )\n",
    "    \n",
    "    plt.subplot(nrow, ncol, 4)\n",
    "    ind = ((1 - design_loc['is_uniform']) * (1 - design_loc['is_high_density'])).values.astype(bool)\n",
    "    plot_precision_recall(pos_cell_count[:, ind], infer_cell_count.loc[:,ind],\n",
    "                          title=f'{title} Sparse & low abundance ({ind.sum()})',\n",
    "                          #save=fig_path + '/Segregated_high_abundance.pdf'\n",
    "                         )\n",
    "    \n",
    "    plt.subplot(nrow, ncol, 5)\n",
    "    plot_precision_recall(pos_cell_count, infer_cell_count,\n",
    "                          title=title + ' All',\n",
    "                          #save=fig_path + '/All.pdf'\n",
    "                         )\n",
    "    \n",
    "from re import sub\n",
    "model_name = sub('_.+$', '', r['run_name'])\n",
    "pr_by_category(pos_cell_count, infer_cell_count, adata_vis_res.uns['design']['cell_types2zones'],\n",
    "               nrow=5, ncol=1, title=model_name,#r['model_name'],#.__name__,\n",
    "               fig_path=fig_path)\n",
    "plt.tight_layout()\n",
    "plt.savefig(fig_path + '/All.pdf')"
   ]
  },
  {
   "cell_type": "code",
   "execution_count": null,
   "metadata": {
    "scrolled": true
   },
   "outputs": [],
   "source": [
    "rcParams['figure.figsize'] = 7, 32\n",
    "rcParams['pdf.fonttype'] = 42\n",
    "pos_cell_count = cell_count.values > 0.1\n",
    "\n",
    "pr_by_category(pos_cell_count, infer_cell_proportions, adata_vis_res.uns['design']['cell_types2zones'],\n",
    "               nrow=5, ncol=1, title=model_name,# r['model_name'],#.__name__,\n",
    "               fig_path=fig_path)\n",
    "plt.tight_layout()"
   ]
  },
  {
   "cell_type": "markdown",
   "metadata": {},
   "source": [
    "#### Split results by spatial distribution and abundance of cell types"
   ]
  },
  {
   "cell_type": "code",
   "execution_count": null,
   "metadata": {},
   "outputs": [],
   "source": [
    "def KL(a, b):\n",
    "    a = np.asarray(a, dtype=np.float)\n",
    "    b = np.asarray(b, dtype=np.float)\n",
    "\n",
    "    return np.sum(np.where(a != 0, a * np.log2(a / b), 0))\n",
    "from scipy.spatial.distance import jensenshannon\n",
    "\n",
    "def hist_obs_sim(cell_count, infer_cell_count,\n",
    "                 xlab='Simulated cell proportion',\n",
    "                 ylab='Inferred cell proportion',\n",
    "                 title='', compute_kl=True, equal=True, max_val=1):\n",
    "    \n",
    "    cor = np.round(np.corrcoef(cell_count.values.flatten(), \n",
    "               infer_cell_count.values.flatten()), 3)[0,1]\n",
    "    title = title +'\\n'+ r'$R^2$: ' + str(cor)\n",
    "    \n",
    "    if compute_kl:\n",
    "        \n",
    "        #kl = [KL(cell_count.values[r,:], infer_cell_count.values[r,:]) \n",
    "        #         for r in range(cell_count.shape[0])]\n",
    "        js = np.array([jensenshannon(cell_count.values[r,:], infer_cell_count.values[r,:]) \n",
    "                 for r in range(cell_count.shape[0])])\n",
    "        #kl = np.mean(kl)\n",
    "        js = np.mean(js[~np.isnan(js)])\n",
    "        #title = title + '\\nAverage KL: ' + str(np.round(kl, 2))\n",
    "        title = title + '\\nAverage JSD: ' + str(np.round(js, 2))\n",
    "    \n",
    "    plt.hist2d(cell_count.values.flatten(), \n",
    "               infer_cell_count.values.flatten(),\n",
    "               bins=[35, 35], norm=matplotlib.colors.LogNorm());\n",
    "    plt.xlabel(xlab);\n",
    "    plt.ylabel(ylab);\n",
    "    if equal:\n",
    "        plt.gca().set_aspect('equal', adjustable='box')\n",
    "    plt.xlim(0, max_val);\n",
    "    plt.ylim(0, max_val);\n",
    "    plt.title(title);\n",
    "    \n",
    "def hist_by_category(cell_count, infer_cell_count, design,\n",
    "                 xlab='Simulated cell proportion',\n",
    "                 ylab='Inferred cell proportion',\n",
    "                 nrow=1, ncol=4, compute_kl=True, equal=True):\n",
    "\n",
    "    design_loc = design.loc[cell_count.columns,:]\n",
    "    \n",
    "    max_val = np.array([cell_count.values.max(), infer_cell_count.values.max()]).max()\n",
    "    if max_val < 1:\n",
    "        max_val = 1\n",
    "    \n",
    "    plt.subplot(nrow, ncol, 1)\n",
    "    ind = (design_loc['is_uniform'] * design_loc['is_high_density']).values.astype(bool)\n",
    "    hist_obs_sim(cell_count.loc[:,ind], infer_cell_count.loc[:,ind],\n",
    "                 xlab=xlab,\n",
    "                 ylab=ylab,\n",
    "                 title=f'Uniform & high abundance ({ind.sum()})',\n",
    "                 compute_kl=compute_kl, equal=equal, max_val=max_val)\n",
    "    \n",
    "    plt.subplot(nrow, ncol, 2)\n",
    "    ind = (design_loc['is_uniform'] * (1 - design_loc['is_high_density'])).values.astype(bool)\n",
    "    hist_obs_sim(cell_count.loc[:,ind], infer_cell_count.loc[:,ind],\n",
    "                 xlab=xlab,\n",
    "                 ylab=ylab,\n",
    "                 title=f'Uniform & low abundance ({ind.sum()})',\n",
    "                 compute_kl=compute_kl, equal=equal, max_val=max_val)\n",
    "    \n",
    "    plt.subplot(nrow, ncol, 3)\n",
    "    ind = ((1 - design_loc['is_uniform']) * design_loc['is_high_density']).values.astype(bool)\n",
    "    hist_obs_sim(cell_count.loc[:,ind], infer_cell_count.loc[:,ind],\n",
    "                 xlab=xlab,\n",
    "                 ylab=ylab,\n",
    "                 title=f'Sparse & high abundance ({ind.sum()})',\n",
    "                 compute_kl=compute_kl, equal=equal, max_val=max_val)\n",
    "    \n",
    "    plt.subplot(nrow, ncol, 4)\n",
    "    ind = ((1 - design_loc['is_uniform']) * (1 - design_loc['is_high_density'])).values.astype(bool)\n",
    "    hist_obs_sim(cell_count.loc[:,ind], infer_cell_count.loc[:,ind],\n",
    "                 xlab=xlab,\n",
    "                 ylab=ylab,\n",
    "                 title=f'Sparse & low abundance ({ind.sum()})',\n",
    "                 compute_kl=compute_kl, equal=equal, max_val=max_val)\n",
    "    \n",
    "cell_proportions = (cell_count.T / cell_count.sum(1)).T\n",
    "cell_proportions.iloc[np.isnan(cell_proportions.values)] = 0\n",
    "infer_cell_proportions = (infer_cell_count.T / infer_cell_count.sum(1)).T\n",
    "\n",
    "rcParams['figure.figsize'] = 18,4.5 #9,9 #20, 4.5\n",
    "rcParams[\"axes.facecolor\"] = \"white\"\n",
    "hist_by_category(cell_proportions, infer_cell_proportions, adata_vis_res.uns['design']['cell_types2zones'],\n",
    "                 xlab='Simulated cell proportion',\n",
    "                 ylab='Inferred cell proportion',\n",
    "                 #compute_kl=False, \n",
    "                 nrow=1, ncol=4, equal=True)\n",
    "plt.tight_layout()\n",
    "\n",
    "plt.savefig(fig_path + '/hist_by_category.pdf')"
   ]
  },
  {
   "cell_type": "code",
   "execution_count": null,
   "metadata": {},
   "outputs": [],
   "source": [
    "rcParams['figure.figsize'] = 18, 4.5\n",
    "rcParams[\"axes.facecolor\"] = \"white\"\n",
    "hist_by_category(cell_count, infer_cell_count, adata_vis_res.uns['design']['cell_types2zones'],\n",
    "                 xlab='Simulated cell count',\n",
    "                 ylab='Inferred/predicted cell density',\n",
    "                 compute_kl=False, equal=False)\n",
    "plt.tight_layout()\n",
    "plt.savefig(fig_path + '/hist_density_by_category.pdf')"
   ]
  },
  {
   "cell_type": "markdown",
   "metadata": {},
   "source": [
    "plt.hist(adata_vis_res.uns['mod']['post_sample_means']['factors_per_spot'].flatten());"
   ]
  },
  {
   "cell_type": "code",
   "execution_count": null,
   "metadata": {},
   "outputs": [],
   "source": [
    "plt.hist(adata_vis_res.uns['mod']['post_sample_means']['combs_per_spot'].flatten());"
   ]
  },
  {
   "cell_type": "code",
   "execution_count": null,
   "metadata": {},
   "outputs": [],
   "source": [
    "combs_factors_df = pd.DataFrame(adata_vis_res.uns['mod']['post_sample_means']['combs_factors'],\n",
    "                            columns=['comb_' + str(i) for i in range(adata_vis_res.uns['mod']['post_sample_means']['combs_factors'].shape[1])])\n",
    "combs_factors_df"
   ]
  },
  {
   "cell_type": "code",
   "execution_count": null,
   "metadata": {},
   "outputs": [],
   "source": [
    "from cell2location.plt.plot_heatmap import clustermap\n",
    "comb2fact_df = pd.DataFrame(adata_vis_res.uns['mod']['post_sample_means']['comb2fact'],\n",
    "                            columns=adata_vis_res.uns['mod']['fact_names'])\n",
    "comb2fact_df_prop = (comb2fact_df / comb2fact_df.sum(0))\n",
    "clustermap(comb2fact_df)\n",
    "clustermap(comb2fact_df_prop)"
   ]
  },
  {
   "cell_type": "markdown",
   "metadata": {},
   "source": [
    "#### Stratify cell types by their size in the reference"
   ]
  },
  {
   "cell_type": "code",
   "execution_count": null,
   "metadata": {},
   "outputs": [],
   "source": [
    "gene_factors = pd.DataFrame(adata_vis_res.uns['mod']['post_sample_means']['gene_factors'],\n",
    "                            index=adata_vis_res.uns['mod']['var_names'],\n",
    "                            columns=adata_vis_res.uns['mod']['fact_names'])"
   ]
  },
  {
   "cell_type": "code",
   "execution_count": null,
   "metadata": {},
   "outputs": [],
   "source": [
    "plt.hist(gene_factors.sum(0), bins=30);\n",
    "plt.vlines(2500, 0, 6);\n",
    "small_ind = np.array(gene_factors.sum(0) < 2500) \\\n",
    "& (adata_vis_res.uns['design']['cell_types2zones']['is_high_density']).values.astype(bool)\n",
    "gene_factors.columns[small_ind]"
   ]
  },
  {
   "cell_type": "code",
   "execution_count": null,
   "metadata": {},
   "outputs": [],
   "source": [
    "def hist_by_category2(cell_count, infer_cell_count, index,\n",
    "                 xlab='Simulated cell proportion',\n",
    "                 ylab='Inferred cell proportion',\n",
    "                 name1='', name2='',\n",
    "                 nrow=1, ncol=4, compute_kl=True, equal=True):\n",
    "\n",
    "    design_loc = adata_vis_res.uns['design']['cell_types2zones'].loc[cell_count.columns,:]\n",
    "    \n",
    "    plt.subplot(nrow, ncol, 1)\n",
    "    hist_obs_sim(cell_count.loc[:,index], infer_cell_count.loc[:,index.astype(bool)],\n",
    "                 xlab=xlab,\n",
    "                 ylab=ylab,\n",
    "                 title=name1,\n",
    "                 compute_kl=compute_kl, equal=equal)\n",
    "    \n",
    "    plt.subplot(nrow, ncol, 2)\n",
    "    hist_obs_sim(cell_count.loc[:,~index], infer_cell_count.loc[:,~index.astype(bool)],\n",
    "                 xlab=xlab,\n",
    "                 ylab=ylab,\n",
    "                 title=name2,\n",
    "                 compute_kl=compute_kl, equal=equal)\n",
    "    \n",
    "rcParams['figure.figsize'] = 9, 4.5\n",
    "rcParams[\"axes.facecolor\"] = \"white\"\n",
    "\n",
    "hist_by_category2(cell_proportions, infer_cell_proportions, small_ind,\n",
    "                 xlab='Simulated cell proportion',\n",
    "                 ylab='Inferred cell proportion',\n",
    "                 name1='Small & low abundance cells', name2='Large cells',\n",
    "                 nrow=1, ncol=2, compute_kl=True)"
   ]
  },
  {
   "cell_type": "code",
   "execution_count": null,
   "metadata": {},
   "outputs": [],
   "source": [
    "hist_by_category2(cell_count, infer_cell_count, small_ind,\n",
    "                 xlab='Simulated cell count',\n",
    "                 ylab='Inferred cell density',\n",
    "                 name1='Small & low abundance cells', name2='Large cells',\n",
    "                 nrow=1, ncol=2, compute_kl=False, equal=False)"
   ]
  },
  {
   "cell_type": "markdown",
   "metadata": {},
   "source": [
    "### Evaluate inferred gene expression level difference between technologies (`gene_level`)"
   ]
  },
  {
   "cell_type": "code",
   "execution_count": null,
   "metadata": {},
   "outputs": [],
   "source": [
    "gene_level = pd.DataFrame(adata_vis_res.uns['mod']['post_sample_means']['gene_level'].flatten(),\n",
    "                 index=adata_vis_res.uns['mod']['var_names'],\n",
    "                 columns=['inferred_gene_level'])\n",
    "adata_vis_res.var['inferred_gene_level'] = gene_level.reindex(index=adata_vis_res.var_names)['inferred_gene_level']"
   ]
  },
  {
   "cell_type": "code",
   "execution_count": null,
   "metadata": {},
   "outputs": [],
   "source": [
    "rcParams['figure.figsize'] = 4, 4.5\n",
    "var = adata_vis_res.var\n",
    "var = var.loc[~var['inferred_gene_level'].isna(),:]\n",
    "plt.hist2d(var['gene_level'].values.flatten(), \n",
    "           var['inferred_gene_level'].values.flatten(),\n",
    "           bins=35, norm=matplotlib.colors.LogNorm());\n",
    "plt.xlabel(r'Simulated gene level $M_g$');\n",
    "plt.ylabel('Inferred gene level $M_g$');\n",
    "#plt.xlim(0, 1);\n",
    "#plt.ylim(0, 1);\n",
    "plt.title('Gene level, cor: ' \\\n",
    "          + str(np.round(np.corrcoef(var['gene_level'].values.flatten(), \n",
    "                var['inferred_gene_level'].values.flatten()), 3)[0,1]));\n",
    "plt.tight_layout();\n",
    "plt.savefig(fig_path + '/hist_gene_level.pdf')"
   ]
  },
  {
   "cell_type": "markdown",
   "metadata": {},
   "source": [
    "### Evaluate inferred cell density inferred with stereoscope"
   ]
  },
  {
   "cell_type": "code",
   "execution_count": null,
   "metadata": {},
   "outputs": [],
   "source": [
    "stereo_path_1 = f'{results_folder}scvi_stereoscope/'\n",
    "scvi_stereoscope = anndata.read(f'{stereo_path_1}sp_n_epochs30k.h5ad')\n",
    "\n",
    "scvi_stereoscope = scvi_stereoscope.obsm['decomposition'].copy()\n",
    "scvi_stereoscope = (scvi_stereoscope.T / scvi_stereoscope.sum(1)).T\n",
    "scvi_stereoscope = scvi_stereoscope.loc[cell_count.index,:]"
   ]
  },
  {
   "cell_type": "code",
   "execution_count": null,
   "metadata": {},
   "outputs": [],
   "source": [
    "stereo_df = scvi_stereoscope[cell_count.columns]"
   ]
  },
  {
   "cell_type": "code",
   "execution_count": null,
   "metadata": {},
   "outputs": [],
   "source": [
    "rcParams['figure.figsize'] = 4, 4\n",
    "rcParams[\"axes.facecolor\"] = \"white\"\n",
    "\n",
    "plt.hist2d(cell_proportions.values.flatten(), \n",
    "           stereo_df.values.flatten(),\n",
    "           bins=[35, 41], norm=matplotlib.colors.LogNorm());\n",
    "plt.xlabel('Simulated cell proportions');\n",
    "plt.ylabel('Inferred cell proportions');\n",
    "plt.title('Cell proportions, cor: ' \\\n",
    "          + str(np.round(np.corrcoef(cell_proportions.values.flatten(), \n",
    "           stereo_df.values.flatten()), 3)[0,1]));\n",
    "plt.gca().set_aspect('equal', adjustable='box')\n",
    "plt.xlim(0, 1);\n",
    "plt.ylim(0, 1);\n",
    "plt.tight_layout();\n",
    "\n",
    "plt.savefig(os.path.split(stereo_path_1)[0] + '/Cell_proportion_cor.pdf')"
   ]
  },
  {
   "cell_type": "code",
   "execution_count": null,
   "metadata": {},
   "outputs": [],
   "source": [
    "rcParams['figure.figsize'] = 18, 4.5\n",
    "hist_by_category(cell_proportions, stereo_df, adata_vis_res.uns['design']['cell_types2zones'],\n",
    "                 xlab='Simulated cell proportion',\n",
    "                 ylab='Inferred cell proportion')\n",
    "plt.tight_layout()\n",
    "\n",
    "plt.savefig(os.path.split(stereo_path_1)[0] + '/Cell_proportion_cor_by_group.pdf')"
   ]
  },
  {
   "cell_type": "code",
   "execution_count": null,
   "metadata": {},
   "outputs": [],
   "source": [
    "rcParams['figure.figsize'] = 9, 4.5\n",
    "hist_by_category2(cell_proportions, stereo_df, small_ind,\n",
    "                 xlab='Simulated cell proportion',\n",
    "                 ylab='Inferred cell proportion',\n",
    "                 name1='Small & low abundance cells', name2='Large cells',\n",
    "                 nrow=1, ncol=2, compute_kl=True)\n",
    "\n",
    "plt.savefig(os.path.split(stereo_path_1)[0] + '/Cell_proportion_cor_by_size.pdf')"
   ]
  },
  {
   "cell_type": "code",
   "execution_count": null,
   "metadata": {
    "scrolled": false
   },
   "outputs": [],
   "source": [
    "rcParams['figure.figsize'] = 7, 40\n",
    "pos_cell_count = cell_count.values > 0.1\n",
    "pr_by_category(pos_cell_count, stereo_df, adata_vis_res.uns['design']['cell_types2zones'],\n",
    "                 nrow=5, ncol=1,\n",
    "                      title='Stereoscope')\n",
    "\n",
    "plt.savefig(os.path.split(stereo_path_1)[0] + '/ROC_all.pdf')"
   ]
  },
  {
   "cell_type": "markdown",
   "metadata": {},
   "source": [
    "### Evaluate inferred cell density inferred with nnls (autogenes)"
   ]
  },
  {
   "cell_type": "code",
   "execution_count": null,
   "metadata": {},
   "outputs": [],
   "source": [
    "# read cell proportions\n",
    "nnls_path_1 = results_folder + 'autogenes_models/coef_nnls_seed.csv'\n",
    "nnls_df = pd.read_csv(nnls_path_1, sep=',', index_col=0).T\n",
    "\n",
    "# compute proportions per location\n",
    "nnls_df = (nnls_df.T / nnls_df.sum(1)).T\n",
    "\n",
    "adata_vis_plt = adata_vis.copy()\n",
    "nnls_df = nnls_df.loc[nnls_df.index.isin(adata_vis_plt.obs_names)]\n",
    "adata_vis_plt = adata_vis_plt[nnls_df.index,:]\n",
    "\n",
    "adata_vis_plt.obs['imagecol'] = adata_vis_plt.obsm['X_spatial'][:,0]\n",
    "adata_vis_plt.obs['imagerow'] = - adata_vis_plt.obsm['X_spatial'][:,1]"
   ]
  },
  {
   "cell_type": "code",
   "execution_count": null,
   "metadata": {},
   "outputs": [],
   "source": [
    "nnls_df = nnls_df[cell_count.columns]"
   ]
  },
  {
   "cell_type": "code",
   "execution_count": null,
   "metadata": {},
   "outputs": [],
   "source": [
    "rcParams['figure.figsize'] = 4, 4\n",
    "rcParams[\"axes.facecolor\"] = \"white\"\n",
    "\n",
    "plt.hist2d(cell_proportions.values.flatten(), \n",
    "           nnls_df.values.flatten(),\n",
    "           bins=[35, 41], norm=matplotlib.colors.LogNorm());\n",
    "plt.xlabel('Simulated cell proportions');\n",
    "plt.ylabel('Inferred cell proportions');\n",
    "plt.gca().set_aspect('equal', adjustable='box')\n",
    "plt.xlim(0, 1);\n",
    "plt.ylim(0, 1);\n",
    "plt.title('Cell proportions, cor: ' \\\n",
    "          + str(np.round(np.corrcoef(cell_proportions.values.flatten(), \n",
    "           nnls_df.values.flatten()), 3)[0,1]));\n",
    "\n",
    "plt.savefig(os.path.split(nnls_path_1)[0] + '/Cell_proportion_cor.pdf')"
   ]
  },
  {
   "cell_type": "code",
   "execution_count": null,
   "metadata": {},
   "outputs": [],
   "source": [
    "rcParams['figure.figsize'] = 18, 4.5\n",
    "hist_by_category(cell_proportions, nnls_df, adata_vis_res.uns['design']['cell_types2zones'],\n",
    "                 xlab='Simulated cell proportion',\n",
    "                 ylab='Inferred cell proportion')\n",
    "plt.tight_layout()\n",
    "\n",
    "plt.savefig(os.path.split(nnls_path_1)[0] + '/Cell_proportion_cor_by_group.pdf')"
   ]
  },
  {
   "cell_type": "code",
   "execution_count": null,
   "metadata": {},
   "outputs": [],
   "source": [
    "rcParams['figure.figsize'] = 9, 4.5\n",
    "hist_by_category2(cell_proportions, nnls_df, small_ind,\n",
    "                 xlab='Simulated cell proportion',\n",
    "                 ylab='Inferred cell proportion',\n",
    "                 name1='Small & low abundance cells', name2='Large cells',\n",
    "                 nrow=1, ncol=2, compute_kl=True)\n",
    "\n",
    "plt.savefig(os.path.split(nnls_path_1)[0] + '/Cell_proportion_cor_by_size.pdf')"
   ]
  },
  {
   "cell_type": "code",
   "execution_count": null,
   "metadata": {
    "scrolled": false
   },
   "outputs": [],
   "source": [
    "rcParams['figure.figsize'] = 7, 40\n",
    "pos_cell_count = cell_count.values > 0.1\n",
    "pr_by_category(pos_cell_count, nnls_df, adata_vis_res.uns['design']['cell_types2zones'],\n",
    "                 nrow=5, ncol=1,\n",
    "                      title='NNLS')\n",
    "\n",
    "plt.savefig(os.path.split(nnls_path_1)[0] + '/ROC_all.pdf')"
   ]
  },
  {
   "cell_type": "markdown",
   "metadata": {},
   "source": [
    "### Evaluate inferred cell density inferred with RCTD"
   ]
  },
  {
   "cell_type": "code",
   "execution_count": null,
   "metadata": {},
   "outputs": [],
   "source": [
    "# read cell proportions\n",
    "RCTD_path_1 = results_folder + 'rctd/results_weights.csv'\n",
    "RCTD_df = pd.read_csv(RCTD_path_1, sep=',', index_col='spot')\n",
    "\n",
    "# compute proportions per location\n",
    "RCTD_df_orig = RCTD_df.copy()\n",
    "RCTD_df = (RCTD_df.T / RCTD_df.sum(1)).T\n",
    "\n",
    "adata_vis_plt = adata_vis.copy()\n",
    "RCTD_df = RCTD_df.loc[RCTD_df.index.isin(adata_vis_plt.obs_names)]\n",
    "adata_vis_plt = adata_vis_plt[RCTD_df.index,:]\n",
    "\n",
    "adata_vis_plt.obs['imagecol'] = adata_vis_plt.obsm['X_spatial'][:,0]\n",
    "adata_vis_plt.obs['imagerow'] = - adata_vis_plt.obsm['X_spatial'][:,1]"
   ]
  },
  {
   "cell_type": "code",
   "execution_count": null,
   "metadata": {},
   "outputs": [],
   "source": [
    "RCTD_df = RCTD_df[cell_count.columns]\n",
    "RCTD_df_orig = RCTD_df_orig[cell_count.columns]"
   ]
  },
  {
   "cell_type": "code",
   "execution_count": null,
   "metadata": {},
   "outputs": [],
   "source": [
    "rcParams['figure.figsize'] = 4, 4\n",
    "rcParams[\"axes.facecolor\"] = \"white\"\n",
    "\n",
    "plt.hist2d(cell_count.values.flatten(), \n",
    "           RCTD_df_orig.values.flatten(),# / np.mean(adata_vis_res.var['gene_level'].values),\n",
    "           bins=[50, 50], norm=matplotlib.colors.LogNorm());\n",
    "plt.xlabel('Simulated cell count');\n",
    "plt.ylabel('Inferred cell density');\n",
    "plt.title(r'Cell count, $R^2$: ' \\\n",
    "          + str(np.round(np.corrcoef(cell_count.values.flatten(), \n",
    "           RCTD_df_orig.values.flatten()), 3)[0,1]));\n",
    "#plt.gca().set_aspect('equal', adjustable='box')\n",
    "plt.tight_layout()\n",
    "plt.savefig(os.path.split(RCTD_path_1)[0] + '/RCTD_Cell_density_cor.pdf')"
   ]
  },
  {
   "cell_type": "code",
   "execution_count": null,
   "metadata": {},
   "outputs": [],
   "source": [
    "rcParams['figure.figsize'] = 4, 4\n",
    "rcParams[\"axes.facecolor\"] = \"white\"\n",
    "\n",
    "plt.hist2d(cell_proportions.values.flatten(), \n",
    "           RCTD_df.values.flatten(),\n",
    "           bins=[35, 41], norm=matplotlib.colors.LogNorm());\n",
    "plt.xlabel('Simulated cell proportions');\n",
    "plt.ylabel('Inferred cell proportions');\n",
    "plt.xlim(0, 1);\n",
    "plt.ylim(0, 1);\n",
    "plt.gca().set_aspect('equal', adjustable='box')\n",
    "plt.title('Cell proportions, cor: ' \\\n",
    "          + str(np.round(np.corrcoef(cell_proportions.values.flatten(), \n",
    "           RCTD_df.values.flatten()), 3)[0,1]));\n",
    "\n",
    "plt.savefig(os.path.split(RCTD_path_1)[0] + '/Cell_proportion_cor.pdf')"
   ]
  },
  {
   "cell_type": "code",
   "execution_count": null,
   "metadata": {},
   "outputs": [],
   "source": [
    "rcParams['figure.figsize'] = 18, 4.5\n",
    "hist_by_category(cell_proportions, RCTD_df, adata_vis_res.uns['design']['cell_types2zones'],\n",
    "                 xlab='Simulated cell proportion',\n",
    "                 ylab='Inferred cell proportion')\n",
    "plt.tight_layout()\n",
    "\n",
    "plt.savefig(os.path.split(RCTD_path_1)[0] + '/Cell_proportion_cor_by_group.pdf')"
   ]
  },
  {
   "cell_type": "code",
   "execution_count": null,
   "metadata": {},
   "outputs": [],
   "source": [
    "rcParams['figure.figsize'] = 9, 4.5\n",
    "hist_by_category2(cell_proportions, RCTD_df, small_ind,\n",
    "                 xlab='Simulated cell proportion',\n",
    "                 ylab='Inferred cell proportion',\n",
    "                 name1='Small & low abundance cells', name2='Large cells',\n",
    "                 nrow=1, ncol=2, compute_kl=True)\n",
    "\n",
    "plt.savefig(os.path.split(RCTD_path_1)[0] + '/Cell_proportion_cor_by_size.pdf')"
   ]
  },
  {
   "cell_type": "code",
   "execution_count": null,
   "metadata": {
    "scrolled": false
   },
   "outputs": [],
   "source": [
    "rcParams['figure.figsize'] = 7, 40\n",
    "pos_cell_count = cell_count.values > 0.1\n",
    "pr_by_category(pos_cell_count, RCTD_df, adata_vis_res.uns['design']['cell_types2zones'],\n",
    "                 nrow=5, ncol=1,\n",
    "                      title='RCTD')\n",
    "\n",
    "plt.savefig(os.path.split(RCTD_path_1)[0] + '/ROC_all.pdf')"
   ]
  },
  {
   "cell_type": "markdown",
   "metadata": {},
   "source": [
    "### Evaluate inferred cell propotion inferred with Seurat 3"
   ]
  },
  {
   "cell_type": "code",
   "execution_count": null,
   "metadata": {},
   "outputs": [],
   "source": [
    "# read cell proportions\n",
    "seurat_path_1 = results_folder + 'seurat/results_pca.csv'\n",
    "seurat_df = pd.read_csv(seurat_path_1, sep=',', index_col='spot')\n",
    "seurat_df = seurat_df.drop(columns=['predicted.id', 'prediction.score.max', 'Unnamed: 0'])\n",
    "from re import sub\n",
    "seurat_df.columns = [sub('prediction.score.', '', i) for i in seurat_df.columns]\n",
    "\n",
    "# compute proportions per location\n",
    "seurat_df = (seurat_df.T / seurat_df.sum(1)).T\n",
    "\n",
    "adata_vis_plt = adata_vis.copy()\n",
    "seurat_df = seurat_df.loc[seurat_df.index.isin(adata_vis_plt.obs_names)]\n",
    "adata_vis_plt = adata_vis_plt[seurat_df.index,:]\n",
    "\n",
    "adata_vis_plt.obs['imagecol'] = adata_vis_plt.obsm['X_spatial'][:,0]\n",
    "adata_vis_plt.obs['imagerow'] = - adata_vis_plt.obsm['X_spatial'][:,1]"
   ]
  },
  {
   "cell_type": "code",
   "execution_count": null,
   "metadata": {},
   "outputs": [],
   "source": [
    "seurat_df = seurat_df[cell_count.columns]"
   ]
  },
  {
   "cell_type": "code",
   "execution_count": null,
   "metadata": {},
   "outputs": [],
   "source": [
    "rcParams['figure.figsize'] = 4, 4\n",
    "rcParams[\"axes.facecolor\"] = \"white\"\n",
    "\n",
    "plt.hist2d(cell_proportions.values.flatten(), \n",
    "           seurat_df.values.flatten(),\n",
    "           bins=[35, 41], norm=matplotlib.colors.LogNorm());\n",
    "plt.xlabel('Simulated cell proportions');\n",
    "plt.ylabel('Inferred cell proportions');\n",
    "plt.title('Cell proportions, cor: ' \\\n",
    "          + str(np.round(np.corrcoef(cell_proportions.values.flatten(), \n",
    "           seurat_df.values.flatten()), 3)[0,1]));\n",
    "plt.gca().set_aspect('equal', adjustable='box')\n",
    "plt.xlim(0, 1);\n",
    "plt.ylim(0, 1);\n",
    "plt.tight_layout();\n",
    "\n",
    "plt.savefig(os.path.split(seurat_path_1)[0] + '/Cell_proportion_cor.pdf')"
   ]
  },
  {
   "cell_type": "code",
   "execution_count": null,
   "metadata": {},
   "outputs": [],
   "source": [
    "rcParams['figure.figsize'] = 18, 4.5\n",
    "hist_by_category(cell_proportions, seurat_df, adata_vis_res.uns['design']['cell_types2zones'],\n",
    "                 xlab='Simulated cell proportion',\n",
    "                 ylab='Inferred cell proportion')\n",
    "plt.tight_layout()\n",
    "\n",
    "plt.savefig(os.path.split(seurat_path_1)[0] + '/Cell_proportion_cor_by_group.pdf')"
   ]
  },
  {
   "cell_type": "code",
   "execution_count": null,
   "metadata": {},
   "outputs": [],
   "source": [
    "rcParams['figure.figsize'] = 9, 4.5\n",
    "hist_by_category2(cell_proportions, seurat_df, small_ind,\n",
    "                 xlab='Simulated cell proportion',\n",
    "                 ylab='Inferred cell proportion',\n",
    "                 name1='Small & low abundance cells', name2='Large cells',\n",
    "                 nrow=1, ncol=2, compute_kl=True)\n",
    "\n",
    "plt.savefig(os.path.split(seurat_path_1)[0] + '/Cell_proportion_cor_by_size.pdf')"
   ]
  },
  {
   "cell_type": "code",
   "execution_count": null,
   "metadata": {
    "scrolled": false
   },
   "outputs": [],
   "source": [
    "rcParams['figure.figsize'] = 7, 40\n",
    "pos_cell_count = cell_count.values > 0.1\n",
    "pr_by_category(pos_cell_count, seurat_df, adata_vis_res.uns['design']['cell_types2zones'],\n",
    "                 nrow=5, ncol=1,\n",
    "                      title='Seurat 3',\n",
    "               fig_path=fig_path)\n",
    "\n",
    "plt.savefig(os.path.split(seurat_path_1)[0] + '/ROC_all.pdf')"
   ]
  },
  {
   "cell_type": "code",
   "execution_count": null,
   "metadata": {},
   "outputs": [],
   "source": [
    "# read cell proportions\n",
    "seurat_path_1 = results_folder + 'seurat/results_cca.csv'\n",
    "seurat_cca_df = pd.read_csv(seurat_path_1, sep=',', index_col='spot')\n",
    "seurat_cca_df = seurat_cca_df.drop(columns=['predicted.id', 'prediction.score.max', 'Unnamed: 0'])\n",
    "from re import sub\n",
    "seurat_cca_df.columns = [sub('prediction.score.', '', i) for i in seurat_cca_df.columns]\n",
    "\n",
    "# compute proportions per location\n",
    "seurat_cca_df = (seurat_cca_df.T / seurat_cca_df.sum(1)).T\n",
    "\n",
    "adata_vis_plt = adata_vis.copy()\n",
    "seurat_cca_df = seurat_cca_df.loc[seurat_cca_df.index.isin(adata_vis_plt.obs_names)]\n",
    "adata_vis_plt = adata_vis_plt[seurat_cca_df.index,:]\n",
    "\n",
    "adata_vis_plt.obs['imagecol'] = adata_vis_plt.obsm['X_spatial'][:,0]\n",
    "adata_vis_plt.obs['imagerow'] = - adata_vis_plt.obsm['X_spatial'][:,1]"
   ]
  },
  {
   "cell_type": "code",
   "execution_count": null,
   "metadata": {},
   "outputs": [],
   "source": [
    "seurat_cca_df = seurat_cca_df[cell_count.columns]"
   ]
  },
  {
   "cell_type": "code",
   "execution_count": null,
   "metadata": {},
   "outputs": [],
   "source": [
    "rcParams['figure.figsize'] = 4, 4.5\n",
    "rcParams[\"axes.facecolor\"] = \"white\"\n",
    "\n",
    "plt.hist2d(cell_proportions.values.flatten(), \n",
    "           seurat_cca_df.values.flatten(),\n",
    "           bins=[35, 41], norm=matplotlib.colors.LogNorm());\n",
    "plt.xlabel('Simulated cell proportions');\n",
    "plt.ylabel('Inferred cell proportions');\n",
    "plt.title('Cell proportions, cor: ' \\\n",
    "          + str(np.round(np.corrcoef(cell_proportions.values.flatten(), \n",
    "           seurat_cca_df.values.flatten()), 3)[0,1]));\n",
    "plt.gca().set_aspect('equal', adjustable='box')\n",
    "plt.xlim(0, 1);\n",
    "plt.ylim(0, 1);\n",
    "plt.tight_layout();\n",
    "\n",
    "plt.savefig(os.path.split(seurat_path_1)[0] + '/cca_Cell_proportion_cor.pdf')"
   ]
  },
  {
   "cell_type": "code",
   "execution_count": null,
   "metadata": {},
   "outputs": [],
   "source": [
    "rcParams['figure.figsize'] = 18, 4.5\n",
    "hist_by_category(cell_proportions, seurat_cca_df, adata_vis_res.uns['design']['cell_types2zones'],\n",
    "                 xlab='Simulated cell proportion',\n",
    "                 ylab='Inferred cell proportion')\n",
    "plt.tight_layout()\n",
    "\n",
    "plt.savefig(os.path.split(seurat_path_1)[0] + '/cca_Cell_proportion_cor_by_group.pdf')"
   ]
  },
  {
   "cell_type": "code",
   "execution_count": null,
   "metadata": {},
   "outputs": [],
   "source": [
    "rcParams['figure.figsize'] = 9, 4.5\n",
    "hist_by_category2(cell_proportions, seurat_cca_df, small_ind,\n",
    "                 xlab='Simulated cell proportion',\n",
    "                 ylab='Inferred cell proportion',\n",
    "                 name1='Small & low abundance cells', name2='Large cells',\n",
    "                 nrow=1, ncol=2, compute_kl=True)\n",
    "\n",
    "plt.savefig(os.path.split(seurat_path_1)[0] + '/cca_Cell_proportion_cor_by_size.pdf')"
   ]
  },
  {
   "cell_type": "code",
   "execution_count": null,
   "metadata": {
    "scrolled": false
   },
   "outputs": [],
   "source": [
    "rcParams['figure.figsize'] = 7, 40\n",
    "pos_cell_count = cell_count.values > 0.1\n",
    "pr_by_category(pos_cell_count, seurat_cca_df, adata_vis_res.uns['design']['cell_types2zones'],\n",
    "                 nrow=5, ncol=1,\n",
    "                      title='Seurat 3',\n",
    "               fig_path=fig_path)\n",
    "\n",
    "plt.savefig(os.path.split(seurat_path_1)[0] + '/cca_ROC_all.pdf')"
   ]
  },
  {
   "cell_type": "markdown",
   "metadata": {},
   "source": [
    "### Evaluate inferred cell propotion inferred with SPOTlight"
   ]
  },
  {
   "cell_type": "code",
   "execution_count": null,
   "metadata": {},
   "outputs": [],
   "source": [
    "# read cell proportions\n",
    "spotlight_path_1 = results_folder + 'SPOTlight/results_hvg5k.csv'\n",
    "spotlight_df = pd.read_csv(spotlight_path_1, sep=',', index_col='rn')\n",
    "spotlight_df = spotlight_df.drop(columns=['res_ss'])\n",
    "\n",
    "from re import sub\n",
    "\n",
    "seu_index = [sub(' ', '.',i) for i in cell_proportions.columns]\n",
    "seu_index = [sub('/', '.',i) for i in seu_index]\n",
    "seu_index = [sub('-', '.',i) for i in seu_index]\n",
    "seu_index = [sub('_', '.',i) for i in seu_index]\n",
    "\n",
    "spotlight_df = spotlight_df[seu_index]\n",
    "spotlight_df.columns = cell_proportions.columns\n",
    "\n",
    "# compute proportions per location (already proportions)\n",
    "#spotlight_df = (spotlight_df.T / spotlight_df.sum(1)).T\n",
    "\n",
    "adata_vis_plt = adata_vis.copy()\n",
    "spotlight_df = spotlight_df.loc[spotlight_df.index.isin(adata_vis_plt.obs_names)]\n",
    "adata_vis_plt = adata_vis_plt[spotlight_df.index,:]\n",
    "\n",
    "adata_vis_plt.obs['imagecol'] = adata_vis_plt.obsm['X_spatial'][:,0]\n",
    "adata_vis_plt.obs['imagerow'] = - adata_vis_plt.obsm['X_spatial'][:,1]"
   ]
  },
  {
   "cell_type": "code",
   "execution_count": null,
   "metadata": {},
   "outputs": [],
   "source": [
    "spotlight_df = spotlight_df[cell_count.columns]"
   ]
  },
  {
   "cell_type": "code",
   "execution_count": null,
   "metadata": {},
   "outputs": [],
   "source": [
    "rcParams['figure.figsize'] = 4, 4.5\n",
    "rcParams[\"axes.facecolor\"] = \"white\"\n",
    "\n",
    "plt.hist2d(cell_proportions.values.flatten(), \n",
    "           spotlight_df.values.flatten(),\n",
    "           bins=[35, 41], norm=matplotlib.colors.LogNorm());\n",
    "plt.xlabel('Simulated cell proportions');\n",
    "plt.ylabel('Inferred cell proportions');\n",
    "plt.xlim(0, 1);\n",
    "plt.ylim(0, 1);\n",
    "plt.gca().set_aspect('equal', adjustable='box')\n",
    "plt.title('Cell proportions, cor: ' \\\n",
    "          + str(np.round(np.corrcoef(cell_proportions.values.flatten(), \n",
    "           spotlight_df.values.flatten()), 3)[0,1]));\n",
    "\n",
    "plt.savefig(os.path.split(spotlight_path_1)[0] + '/spotlightCell_proportion_cor.pdf')"
   ]
  },
  {
   "cell_type": "code",
   "execution_count": null,
   "metadata": {},
   "outputs": [],
   "source": [
    "rcParams['figure.figsize'] = 18, 4.5\n",
    "hist_by_category(cell_proportions, spotlight_df, adata_vis_res.uns['design']['cell_types2zones'],\n",
    "                 xlab='Simulated cell proportion',\n",
    "                 ylab='Inferred cell proportion')\n",
    "plt.tight_layout()\n",
    "\n",
    "plt.savefig(os.path.split(spotlight_path_1)[0] + '/spotlightCell_proportion_cor_by_group.pdf')"
   ]
  },
  {
   "cell_type": "code",
   "execution_count": null,
   "metadata": {},
   "outputs": [],
   "source": [
    "rcParams['figure.figsize'] = 9, 4.5\n",
    "hist_by_category2(cell_proportions, spotlight_df, small_ind,\n",
    "                 xlab='Simulated cell proportion',\n",
    "                 ylab='Inferred cell proportion',\n",
    "                 name1='Small & low abundance cells', name2='Large cells',\n",
    "                 nrow=1, ncol=2, compute_kl=True)\n",
    "\n",
    "plt.savefig(os.path.split(spotlight_path_1)[0] + '/spotlightCell_proportion_cor_by_size.pdf')"
   ]
  },
  {
   "cell_type": "code",
   "execution_count": null,
   "metadata": {
    "scrolled": false
   },
   "outputs": [],
   "source": [
    "rcParams['figure.figsize'] = 7, 40\n",
    "pos_cell_count = cell_count.values > 0.1\n",
    "pr_by_category(pos_cell_count, spotlight_df, adata_vis_res.uns['design']['cell_types2zones'],\n",
    "                 nrow=5, ncol=1,\n",
    "                      title='SPOTlight',\n",
    "               fig_path=fig_path)\n",
    "\n",
    "plt.savefig(os.path.split(spotlight_path_1)[0] + '/spotlightROC_all.pdf')"
   ]
  },
  {
   "cell_type": "markdown",
   "metadata": {},
   "source": [
    "## Compare per-spot accuracy of cell2location and stereoscope"
   ]
  },
  {
   "cell_type": "markdown",
   "metadata": {},
   "source": [
    "### Compare the stereoscope and our model using precision-recall"
   ]
  },
  {
   "cell_type": "code",
   "execution_count": null,
   "metadata": {},
   "outputs": [],
   "source": [
    "import matplotlib as mpl\n",
    "from matplotlib import pyplot as plt\n",
    "\n",
    "with plt.style.context('seaborn'):\n",
    "    seaborn_colors = mpl.rcParams['axes.prop_cycle'].by_key()['color']\n",
    "seaborn_colors\n",
    "sc.pl.palettes.default_102\n",
    "    \n",
    "def read_cell_maps(results_folder, run_name, cell_count, post_type='mean'):\n",
    "    \n",
    "    # read anndata object, extract data\n",
    "    sp_data_file = results_folder + run_name + '/sp.h5ad'\n",
    "    adata_vis_res = anndata.read(sp_data_file)\n",
    "    \n",
    "    # read pickle with extra info\n",
    "    file = results_folder + run_name+'/model_.p'\n",
    "    r = pickle.load(file = open(file, \"rb\"))\n",
    "    \n",
    "    # extract data\n",
    "    from re import sub\n",
    "    cell_count_columns = cell_count.columns\n",
    "\n",
    "    spot_factors = adata_vis_res.obs[[post_type + '_spot_factors' + i for i in cell_count_columns]]\n",
    "    spot_factors.columns =  [sub(post_type + '_spot_factors', '', i) for i in spot_factors.columns]\n",
    "\n",
    "    #spot_factors_sd = adata_vis_res.obs[['sd_spot_factors' + i for i in cell_count_columns]]\n",
    "    #spot_factors_sd.columns =  [sub('sd_spot_factors', '', i) for i in spot_factors_sd.columns]\n",
    "\n",
    "    nUMI_factors = adata_vis_res.obs[[post_type + '_nUMI_factors' + i for i in cell_count_columns]]\n",
    "    nUMI_factors.columns =  [sub(post_type + '_nUMI_factors', '', i) for i in nUMI_factors.columns]\n",
    "    \n",
    "    #spot_factors = spot_factors / spot_factors_sd\n",
    "\n",
    "    infer_cell_count = spot_factors[cell_count.columns]\n",
    "    infer_nUMI_count = nUMI_factors[cell_count.columns]\n",
    "    \n",
    "    infer_cell_proportions = (infer_cell_count.T / infer_cell_count.sum(1)).T\n",
    "    \n",
    "    return r['model_name'], infer_cell_proportions, infer_cell_count, infer_nUMI_count # spot_factors_sd"
   ]
  },
  {
   "cell_type": "code",
   "execution_count": null,
   "metadata": {},
   "outputs": [],
   "source": [
    "names = []\n",
    "results = []\n",
    "names_count = []\n",
    "results_count = []\n",
    "results_q05 = []\n",
    "results_count_q05 = []\n",
    "\n",
    "run_names = [\n",
    "    'LocationModelLinearDependentWMultiExperiment_1experiments_49clusters_2500locations_12080genes_defaults_ceps9_cps4_fps5_inf_shape01_gl2',\n",
    "    'LocationModelLinearDependentWMultiExperimentNoMg_1experiments_49clusters_2500locations_12080genes_defaults_ceps9_cps4_fps5_inf_shape01_gl2',\n",
    "    'LocationModelHierarchicalWMultiExperiment_1experiments_49clusters_2500locations_12080genes_defaults_ceps9_cps4_fps5_inf_shape01_gl2',\n",
    "    'LocationModelMultiExperiment_1experiments_49clusters_2500locations_12080genes_defaults_ceps9_cps4_fps5_inf_shape01_gl2',\n",
    "    'LocationModelLinearDependentWMultiExperimentNoSegLs_1experiments_49clusters_2500locations_12080genes_defaults_ceps9_cps4_fps5_inf_shape01_gl2',\n",
    "    'LocationModelLinearDependentWMultiExperimentLocationBackgroundNormGeneAlpha_1experiments_49clusters_2500locations_12080genes_defaults_ceps9_cps4_fps5_inf_shape01_gl2',\n",
    "            ]\n",
    "\n",
    "for n in run_names:\n",
    "    name, infer_cell_prop, infer_cell_count, infer_nUMI_count = \\\n",
    "    read_cell_maps(results_folder, n, cell_count, post_type='mean')\n",
    "    #infer_cell_count = (infer_cell_count.T / infer_cell_count.max(1)).T\n",
    "    names.append(name)\n",
    "    results.append(infer_cell_prop)\n",
    "    names_count.append(name)\n",
    "    results_count.append(infer_cell_count)\n",
    "    \n",
    "    name, infer_cell_prop, infer_cell_count, infer_nUMI_count = \\\n",
    "    read_cell_maps(results_folder, n, cell_count, post_type='q05')\n",
    "    #infer_cell_count = (infer_cell_count.T / infer_cell_count.max(1)).T\n",
    "    results_q05.append(infer_cell_prop)\n",
    "    results_count_q05.append(infer_cell_count)\n",
    "\n",
    "# add stereoscope\n",
    "results.append(stereo_df[cell_count.columns])\n",
    "results_count.append(stereo_df[cell_count.columns])\n",
    "results_q05.append(stereo_df[cell_count.columns])\n",
    "results_count_q05.append(stereo_df[cell_count.columns])\n",
    "names.append('Stereoscope')\n",
    "\n",
    "# add RCTD_df\n",
    "results.append(RCTD_df[cell_count.columns])\n",
    "results_count.append(RCTD_df[cell_count.columns])\n",
    "results_q05.append(RCTD_df[cell_count.columns])\n",
    "results_count_q05.append(RCTD_df[cell_count.columns])\n",
    "names.append('RCTD')\n",
    "\n",
    "# add Seurat 3\n",
    "results.append(seurat_df[cell_count.columns])\n",
    "results_count.append(seurat_df[cell_count.columns])\n",
    "results_q05.append(seurat_df[cell_count.columns])\n",
    "results_count_q05.append(seurat_df[cell_count.columns])\n",
    "names.append('Seurat 3 PCA')\n",
    "\n",
    "# add Seurat 3\n",
    "results.append(seurat_cca_df[cell_count.columns])\n",
    "results_count.append(seurat_cca_df[cell_count.columns])\n",
    "results_q05.append(seurat_cca_df[cell_count.columns])\n",
    "results_count_q05.append(seurat_cca_df[cell_count.columns])\n",
    "names.append('Seurat 3 CCA')\n",
    "\n",
    "# add SPOTlight\n",
    "results.append(spotlight_df[cell_count.columns])\n",
    "results_count.append(spotlight_df[cell_count.columns])\n",
    "results_q05.append(spotlight_df[cell_count.columns])\n",
    "results_count_q05.append(spotlight_df[cell_count.columns])\n",
    "names.append('SPOTlight')\n",
    "\n",
    "# add NNLS\n",
    "results.append(nnls_df[cell_count.columns])\n",
    "results_count.append(nnls_df[cell_count.columns])\n",
    "results_q05.append(nnls_df[cell_count.columns])\n",
    "results_count_q05.append(nnls_df[cell_count.columns])\n",
    "names.append('NNLS')"
   ]
  },
  {
   "cell_type": "code",
   "execution_count": null,
   "metadata": {},
   "outputs": [],
   "source": [
    "for i, n in enumerate(names):\n",
    "    if (type(n) is not str) and (type(n) is not type(None)):\n",
    "        names[i] = n.__name__\n",
    "            \n",
    "names"
   ]
  },
  {
   "cell_type": "code",
   "execution_count": null,
   "metadata": {},
   "outputs": [],
   "source": [
    "rcParams['figure.figsize'] = 20, 8\n",
    "rcParams['font.size'] = 16\n",
    "compare_precision_recall(pos_cell_count, results,\n",
    "                         method_title=names, \n",
    "                         legend_loc=(1.1, 0.5))\n",
    "plt.tight_layout()\n",
    "plt.savefig(fig_path + '/ROC_comparison_all.pdf')"
   ]
  },
  {
   "cell_type": "code",
   "execution_count": null,
   "metadata": {},
   "outputs": [],
   "source": [
    "rcParams['figure.figsize'] = 20, 8\n",
    "rcParams['font.size'] = 16\n",
    "compare_precision_recall(pos_cell_count, results_count,\n",
    "                         method_title=names, \n",
    "                         legend_loc=(1.1, 0.5))\n",
    "plt.tight_layout()\n",
    "plt.savefig(fig_path + '/ROC_comparison_all_count.pdf')"
   ]
  },
  {
   "cell_type": "code",
   "execution_count": null,
   "metadata": {},
   "outputs": [],
   "source": [
    "rcParams['figure.figsize'] = 20, 8\n",
    "rcParams['font.size'] = 16\n",
    "compare_precision_recall(pos_cell_count, results_q05,\n",
    "                         method_title=names, \n",
    "                         legend_loc=(1.1, 0.5))\n",
    "plt.tight_layout()\n",
    "plt.savefig(fig_path + '/ROC_comparison_q05_all.pdf')"
   ]
  },
  {
   "cell_type": "code",
   "execution_count": null,
   "metadata": {},
   "outputs": [],
   "source": [
    "# save combined object\n",
    "results_dict = {}\n",
    "for i, n in enumerate(names):\n",
    "    results_dict[n] = results[i]\n",
    "    \n",
    "file = f'{results_folder}hyperparameters_v2/benchmark_objects.p'\n",
    "pickle.dump(results_dict, file = open(file, \"wb\")) "
   ]
  },
  {
   "cell_type": "code",
   "execution_count": null,
   "metadata": {},
   "outputs": [],
   "source": [
    "rcParams['figure.figsize'] = 7,8\n",
    "rcParams['font.size'] = 16\n",
    "\n",
    "mod_names = ['LocationModelLinearDependentWMultiExperiment',\n",
    "             'Stereoscope',\n",
    "             'RCTD',\n",
    "             'Seurat 3 PCA',\n",
    "             'SPOTlight',\n",
    "             'NNLS'\n",
    "            ]\n",
    "\n",
    "results_dict_sel = {}\n",
    "for i, n in enumerate(mod_names):\n",
    "    results_dict_sel[n] = results_dict[n]\n",
    "\n",
    "    \n",
    "if False:\n",
    "    compare_precision_recall(pos_cell_count, list(results_dict_sel.values()),\n",
    "                             method_title=list(results_dict_sel.keys()),\n",
    "                             legend_loc=(-0.17, -0.6), curve='ROC')\n",
    "    plt.tight_layout()\n",
    "    plt.savefig(fig_path + '/ROC_comparison_selected_FigS2.pdf')\n",
    "    plt.show()\n",
    "    \n",
    "compare_precision_recall(pos_cell_count, list(results_dict_sel.values()),\n",
    "                         method_title=list(results_dict_sel.keys()),\n",
    "                         legend_loc=(-0.17, -0.6))\n",
    "plt.tight_layout()\n",
    "plt.savefig(fig_path + '/ROC_comparison_selected_FigS2.pdf')"
   ]
  },
  {
   "cell_type": "code",
   "execution_count": null,
   "metadata": {},
   "outputs": [],
   "source": [
    "rcParams['figure.figsize'] = 10,8\n",
    "rcParams['font.size'] = 16\n",
    "\n",
    "mod_names = ['LocationModelLinearDependentWMultiExperiment',\n",
    " 'LocationModelLinearDependentWMultiExperimentNoMg',\n",
    " 'LocationModelHierarchicalWMultiExperiment',\n",
    " 'LocationModelMultiExperiment',\n",
    " 'LocationModelLinearDependentWMultiExperimentLocationBackgroundNormGeneAlpha'\n",
    "            ]\n",
    "\n",
    "results_dict_sel = {}\n",
    "for i, n in enumerate(mod_names):\n",
    "    results_dict_sel[n] = results_dict[n]\n",
    "\n",
    "if False:\n",
    "    compare_precision_recall(pos_cell_count, list(results_dict_sel.values()),\n",
    "                             method_title=list(results_dict_sel.keys()),\n",
    "                             legend_loc=(-0.17, -0.6), curve='ROC')\n",
    "    plt.tight_layout()\n",
    "    plt.savefig(fig_path + '/ROC_comparison_simplified_FigS2.pdf')\n",
    "    plt.show()\n",
    "\n",
    "compare_precision_recall(pos_cell_count, list(results_dict_sel.values()),\n",
    "                         method_title=list(results_dict_sel.keys()),\n",
    "                         legend_loc=(-0.17, -0.6), curve='PR')\n",
    "plt.tight_layout()\n",
    "plt.savefig(fig_path + '/PR_comparison_simplified_FigS2.pdf')\n",
    "plt.show()"
   ]
  },
  {
   "cell_type": "code",
   "execution_count": null,
   "metadata": {},
   "outputs": [],
   "source": [
    "rcParams['figure.figsize'] = 10,8\n",
    "rcParams['font.size'] = 16\n",
    "\n",
    "mod_names = ['LocationModelLinearDependentWMultiExperiment',\n",
    " 'LocationModelLinearDependentWMultiExperimentNoMg',\n",
    " 'LocationModelMultiExperiment',\n",
    "            ]\n",
    "\n",
    "results_dict_sel = {}\n",
    "for i, n in enumerate(mod_names):\n",
    "    results_dict_sel[n] = results_dict[n]\n",
    "\n",
    "if False:\n",
    "    compare_precision_recall(pos_cell_count, list(results_dict_sel.values()),\n",
    "                             method_title=list(results_dict_sel.keys()),\n",
    "                             legend_loc=(-0.17, -0.6), curve='ROC')\n",
    "    plt.tight_layout()\n",
    "    plt.savefig(fig_path + '/ROC_comparison_simplified_paper_FigS2.pdf')\n",
    "    plt.show()\n",
    "\n",
    "compare_precision_recall(pos_cell_count, list(results_dict_sel.values()),\n",
    "                         method_title=list(results_dict_sel.keys()),\n",
    "                         legend_loc=(-0.17, -0.6), curve='PR')\n",
    "plt.tight_layout()\n",
    "plt.savefig(fig_path + '/PR_comparison_simplified_paper_FigS2.pdf')\n",
    "plt.show()"
   ]
  },
  {
   "cell_type": "markdown",
   "metadata": {},
   "source": [
    "#### Compares using RMSE on proportions"
   ]
  },
  {
   "cell_type": "code",
   "execution_count": null,
   "metadata": {},
   "outputs": [],
   "source": [
    "from sklearn.metrics import mean_squared_error\n",
    "rmse = pd.DataFrame()\n",
    "for i in range(len(results)):\n",
    "    rmse[names[i]] = ((cell_proportions - results[i]) ** 2).mean(1)\n",
    "\n",
    "rcParams['figure.figsize'] = 20, 5\n",
    "sns.boxplot(data=rmse, orient=\"h\", palette=sc.pl.palettes.default_102).set(\n",
    "    xlabel='Root mean squared error'\n",
    ")\n",
    "plt.tight_layout()\n",
    "plt.savefig(fig_path + '/RMSE_comparison_all.pdf')\n",
    "plt.show()"
   ]
  },
  {
   "cell_type": "code",
   "execution_count": null,
   "metadata": {},
   "outputs": [],
   "source": [
    "rcParams['figure.figsize'] = 12, 3\n",
    "rcParams['pdf.fonttype'] = 42\n",
    "rcParams['font.size'] = 16\n",
    "\n",
    "mod_names = ['LocationModelLinearDependentWMultiExperiment',\n",
    "             'Stereoscope',\n",
    "             'RCTD',\n",
    "             'SPOTlight',\n",
    "             'Seurat 3 PCA',\n",
    "             'NNLS']\n",
    "\n",
    "from itertools import cycle\n",
    "colors = cycle(['navy', 'turquoise', 'darkorange', 'cornflowerblue', 'teal'])\n",
    "my_palette = dict(zip(mod_names, colors))\n",
    "\n",
    "sns.boxplot(data=rmse[mod_names], orient=\"h\", palette=my_palette).set(\n",
    "    xlabel='Root mean squared error'\n",
    ")\n",
    "plt.tight_layout()\n",
    "plt.savefig(fig_path + '/RMSE_comparison_selected.pdf')\n",
    "plt.show()"
   ]
  },
  {
   "cell_type": "code",
   "execution_count": null,
   "metadata": {},
   "outputs": [],
   "source": [
    "rmse_q05 = pd.DataFrame()\n",
    "for i in range(len(results)):\n",
    "    rmse_q05[names[i]] = ((cell_proportions - results_q05[i]) ** 2).mean(1)\n",
    "    \n",
    "rcParams['figure.figsize'] = 15, 5\n",
    "sns.boxplot(data=rmse_q05, orient=\"h\", palette=sc.pl.palettes.default_102).set(\n",
    "    xlabel='Root mean squared error'\n",
    ")\n",
    "plt.show()"
   ]
  },
  {
   "cell_type": "markdown",
   "metadata": {},
   "source": [
    "## Plot ground truth and cell estimates in 2D"
   ]
  },
  {
   "cell_type": "code",
   "execution_count": null,
   "metadata": {},
   "outputs": [],
   "source": [
    "mpl.rc_file_defaults()\n",
    "mpl.rcParams['pdf.fonttype'] = 42 # enables correct plotting of text\n",
    "with mpl.rc_context({'figure.figsize': (5,5), 'axes.facecolor': \"black\"}):\n",
    "    sc.pl.spatial(adata_vis_res, cmap='magma',\n",
    "                  color=[f'cell_abundances_{i}' for i in cell_proportions.columns], ncols=5, \n",
    "                  size=0.015, \n",
    "                  img_key=None,\n",
    "                  alpha_img=1, vmin=0, vmax='p99.2',\n",
    "                  show=True, return_fig=False)"
   ]
  },
  {
   "cell_type": "code",
   "execution_count": null,
   "metadata": {},
   "outputs": [],
   "source": [
    "mpl.rc_file_defaults()\n",
    "mpl.rcParams['pdf.fonttype'] = 42 # enables correct plotting of text\n",
    "with mpl.rc_context({'figure.figsize': (5,5), 'axes.facecolor': \"black\"}):\n",
    "    sc.pl.spatial(adata_vis_res, cmap='magma',\n",
    "                  color=[f'q05_spot_factors{i}' for i in cell_proportions.columns], ncols=5, \n",
    "                  size=0.015, \n",
    "                  img_key=None,\n",
    "                  alpha_img=1, vmin=0, vmax='p99.2',\n",
    "                  show=True, return_fig=False)"
   ]
  },
  {
   "cell_type": "code",
   "execution_count": null,
   "metadata": {},
   "outputs": [],
   "source": [
    "mpl.rc_file_defaults()\n",
    "mpl.rcParams['pdf.fonttype'] = 42 # enables correct plotting of text\n",
    "\n",
    "adata_vis_res.obs[[f'Stereoscope_{i}' for i in cell_proportions.columns]] \\\n",
    "= results_dict['Stereoscope']\n",
    "\n",
    "with mpl.rc_context({'figure.figsize': (5,5), 'axes.facecolor': \"black\"}):\n",
    "    sc.pl.spatial(adata_vis_res, cmap='magma',\n",
    "                  color=[f'Stereoscope_{i}' for i in cell_proportions.columns], ncols=5, \n",
    "                  size=0.015, \n",
    "                  img_key=None,\n",
    "                  alpha_img=1, vmin=0, vmax='p99.2',\n",
    "                  show=True, return_fig=False)"
   ]
  },
  {
   "cell_type": "code",
   "execution_count": null,
   "metadata": {},
   "outputs": [],
   "source": [
    "mpl.rc_file_defaults()\n",
    "mpl.rcParams['pdf.fonttype'] = 42 # enables correct plotting of text\n",
    "\n",
    "adata_vis_res.obs[[f'RCTD_{i}' for i in cell_proportions.columns]] \\\n",
    "= results_dict['RCTD']\n",
    "\n",
    "with mpl.rc_context({'figure.figsize': (5,5), 'axes.facecolor': \"black\"}):\n",
    "    sc.pl.spatial(adata_vis_res, cmap='magma',\n",
    "                  color=[f'RCTD_{i}' for i in cell_proportions.columns], ncols=5, \n",
    "                  size=0.015, \n",
    "                  img_key=None,\n",
    "                  alpha_img=1, vmin=0, vmax='p99.2',\n",
    "                  show=True, return_fig=False)"
   ]
  },
  {
   "cell_type": "code",
   "execution_count": null,
   "metadata": {},
   "outputs": [],
   "source": [
    "mpl.rc_file_defaults()\n",
    "mpl.rcParams['pdf.fonttype'] = 42 # enables correct plotting of text\n",
    "\n",
    "adata_vis_res.obs[[f'SPOTlight_{i}' for i in cell_proportions.columns]] \\\n",
    "= results_dict['SPOTlight']\n",
    "\n",
    "with mpl.rc_context({'figure.figsize': (5,5), 'axes.facecolor': \"black\"}):\n",
    "    sc.pl.spatial(adata_vis_res, cmap='magma',\n",
    "                  color=[f'SPOTlight_{i}' for i in cell_proportions.columns], ncols=5, \n",
    "                  size=0.015, \n",
    "                  img_key=None,\n",
    "                  alpha_img=1, vmin=0, vmax='p99.2',\n",
    "                  show=True, return_fig=False)"
   ]
  },
  {
   "cell_type": "code",
   "execution_count": null,
   "metadata": {},
   "outputs": [],
   "source": []
  }
 ],
 "metadata": {
  "kernelspec": {
   "display_name": "Python (scvi-env2)",
   "language": "python",
   "name": "scvi-env2"
  },
  "language_info": {
   "codemirror_mode": {
    "name": "ipython",
    "version": 3
   },
   "file_extension": ".py",
   "mimetype": "text/x-python",
   "name": "python",
   "nbconvert_exporter": "python",
   "pygments_lexer": "ipython3",
   "version": "3.7.9"
  }
 },
 "nbformat": 4,
 "nbformat_minor": 4
}
