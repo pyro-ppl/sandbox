{
 "cells": [
  {
   "cell_type": "markdown",
   "metadata": {},
   "source": [
    "# Benchmarking cell2location pyro model using softplus/exp for scales"
   ]
  },
  {
   "cell_type": "code",
   "execution_count": 1,
   "metadata": {},
   "outputs": [],
   "source": [
    "import sys, ast, os\n",
    "import scanpy as sc\n",
    "import anndata\n",
    "import pandas as pd\n",
    "import numpy as np\n",
    "import os\n",
    "import matplotlib.pyplot as plt \n",
    "import matplotlib as mpl\n",
    "data_type='float32'\n",
    "\n",
    "#sys.path.insert(1, '/nfs/team205/vk7/sanger_projects/BayraktarLab/cell2location/')\n",
    "#sys.path.insert(1, '/nfs/team205/vk7/sanger_projects/software/pyro/')\n",
    "\n",
    "import cell2location_model \n",
    "\n",
    "from matplotlib import rcParams\n",
    "rcParams['pdf.fonttype'] = 42 # enables correct plotting of text\n",
    "import seaborn as sns"
   ]
  },
  {
   "cell_type": "markdown",
   "metadata": {},
   "source": [
    "`THEANO_FLAGS='force_device=True'` forces the package to use GPU. Pay attention to error messages that might indicate theano failed to initalise the GPU.   \n",
    "Do not forget to change `device=cuda4` to your available GPU id. Use `device=cuda` / `device=cuda0` if you have just one locally or if you are requesting one GPU via HPC cluster job."
   ]
  },
  {
   "cell_type": "markdown",
   "metadata": {},
   "source": [
    "### The purpose of the notebook is to benchmark several versions of the model using mouse brain data."
   ]
  },
  {
   "cell_type": "code",
   "execution_count": 2,
   "metadata": {},
   "outputs": [],
   "source": [
    "sc_data_folder = '/nfs/team205/vk7/sanger_projects/cell2location_paper/notebooks/selected_data/mouse_visium_snrna/'\n",
    "sp_data_folder = '/nfs/team205/vk7/sanger_projects/cell2location_paper/notebooks/selected_results/benchmarking/with_tissue_zones/data/'\n",
    "results_folder = '/nfs/team205/vk7/sanger_projects/cell2location_paper/notebooks/selected_results/benchmarking/with_tissue_zones/real_mg/pyro/'"
   ]
  },
  {
   "cell_type": "markdown",
   "metadata": {},
   "source": [
    "## Read datasets and train cell2location"
   ]
  },
  {
   "cell_type": "markdown",
   "metadata": {},
   "source": [
    "Data can be downloaded as follows:\n",
    "\n",
    "```bash\n",
    "wget https://cell2location.cog.sanger.ac.uk/paper/synthetic_with_tissue_zones/synth_adata_real_mg_20210131.h5ad\n",
    "wget https://cell2location.cog.sanger.ac.uk/paper/synthetic_with_tissue_zones/training_5705STDY8058280_5705STDY8058281_20210131.h5ad\n",
    "```"
   ]
  },
  {
   "cell_type": "code",
   "execution_count": 3,
   "metadata": {},
   "outputs": [
    {
     "name": "stderr",
     "output_type": "stream",
     "text": [
      "/nfs/team283/vk7/software/miniconda3farm5/envs/pyro160/lib/python3.7/site-packages/pandas/core/arrays/categorical.py:2487: FutureWarning: The `inplace` parameter in pandas.Categorical.remove_unused_categories is deprecated and will be removed in a future version.\n",
      "  res = method(*args, **kwargs)\n"
     ]
    }
   ],
   "source": [
    "adata_vis = anndata.read(f'{sp_data_folder}synth_adata_real_mg_20210131.h5ad')\n",
    "adata_vis.uns['spatial'] = {'x': 'y'}\n",
    "adata_vis = adata_vis[adata_vis.obs['sample'] == 'exper0',:]\n",
    "\n",
    "adata_snrna_raw = anndata.read(f'{sp_data_folder}training_5705STDY8058280_5705STDY8058281_20210131.h5ad')"
   ]
  },
  {
   "cell_type": "code",
   "execution_count": 4,
   "metadata": {},
   "outputs": [],
   "source": [
    "import scipy\n",
    "adata_snrna_raw.X = scipy.sparse.csr_matrix(adata_snrna_raw.X)"
   ]
  },
  {
   "cell_type": "code",
   "execution_count": 5,
   "metadata": {},
   "outputs": [],
   "source": [
    "adata_vis.X = scipy.sparse.csr_matrix(adata_vis.X)"
   ]
  },
  {
   "cell_type": "markdown",
   "metadata": {},
   "source": [
    "Add counts matrix as `adata.raw` "
   ]
  },
  {
   "cell_type": "code",
   "execution_count": 6,
   "metadata": {},
   "outputs": [],
   "source": [
    "adata_snrna_raw.raw = adata_snrna_raw\n",
    "adata_vis.raw = adata_vis"
   ]
  },
  {
   "cell_type": "code",
   "execution_count": 7,
   "metadata": {},
   "outputs": [],
   "source": [
    "# compute average for each cluster\n",
    "aver = cell2location_model.get_cluster_averages(adata_snrna_raw, 'annotation_1')\n",
    "\n",
    "# make sure the order of gene matches between aver and x_data\n",
    "aver = aver.loc[adata_vis.var_names,:]\n",
    "\n",
    "# generate one-hot encoded matrix telling which obs belong to whic samples\n",
    "obs2sample_df = pd.get_dummies(adata_vis.obs['sample'])"
   ]
  },
  {
   "cell_type": "code",
   "execution_count": 8,
   "metadata": {},
   "outputs": [
    {
     "data": {
      "text/plain": [
       "AnnData object with n_obs × n_vars = 2500 × 12809\n",
       "    obs: 'cell_count_Inh_3', 'cell_count_Ext_Pir', 'cell_count_Oligo_2', 'cell_count_Astro_HYPO', 'cell_count_Ext_L25', 'cell_count_Astro_THAL_lat', 'cell_count_Ext_L5_1', 'cell_count_Ext_L23', 'cell_count_Micro', 'cell_count_Ext_Thal_1', 'cell_count_Ext_Hpc_CA1', 'cell_count_Inh_Meis2_3', 'cell_count_Inh_4', 'cell_count_OPC_1', 'cell_count_Oligo_1', 'cell_count_Ext_Hpc_CA3', 'cell_count_Astro_CTX', 'cell_count_Astro_THAL_med', 'cell_count_Inh_Vip', 'cell_count_Ext_Amy_2', 'cell_count_Astro_AMY_CTX', 'cell_count_Unk_1', 'cell_count_Inh_Sst', 'cell_count_Inh_Meis2_2', 'cell_count_Ext_Hpc_DG2', 'cell_count_Ext_Hpc_DG1', 'cell_count_Inh_1', 'cell_count_Inh_Meis2_4', 'cell_count_Inh_2', 'cell_count_Nb_1', 'cell_count_Ext_Thal_2', 'cell_count_Ext_Amy_1', 'cell_count_Ext_L6', 'cell_count_OPC_2', 'cell_count_Inh_Meis2_1', 'cell_count_Ext_L6B', 'cell_count_LowQ_2', 'cell_count_Ext_Unk_3', 'cell_count_Ext_L56', 'cell_count_Inh_Lamp5', 'cell_count_Inh_Pvalb', 'cell_count_Ext_L5_2', 'cell_count_Inh_6', 'cell_count_Astro_AMY', 'cell_count_Ext_ClauPyr', 'cell_count_Astro_HPC', 'cell_count_Astro_WM', 'cell_count_Nb_2', 'cell_count_Inh_5', 'cell_abundances_Inh_3', 'cell_abundances_Ext_Pir', 'cell_abundances_Oligo_2', 'cell_abundances_Astro_HYPO', 'cell_abundances_Ext_L25', 'cell_abundances_Astro_THAL_lat', 'cell_abundances_Ext_L5_1', 'cell_abundances_Ext_L23', 'cell_abundances_Micro', 'cell_abundances_Ext_Thal_1', 'cell_abundances_Ext_Hpc_CA1', 'cell_abundances_Inh_Meis2_3', 'cell_abundances_Inh_4', 'cell_abundances_OPC_1', 'cell_abundances_Oligo_1', 'cell_abundances_Ext_Hpc_CA3', 'cell_abundances_Astro_CTX', 'cell_abundances_Astro_THAL_med', 'cell_abundances_Inh_Vip', 'cell_abundances_Ext_Amy_2', 'cell_abundances_Astro_AMY_CTX', 'cell_abundances_Unk_1', 'cell_abundances_Inh_Sst', 'cell_abundances_Inh_Meis2_2', 'cell_abundances_Ext_Hpc_DG2', 'cell_abundances_Ext_Hpc_DG1', 'cell_abundances_Inh_1', 'cell_abundances_Inh_Meis2_4', 'cell_abundances_Inh_2', 'cell_abundances_Nb_1', 'cell_abundances_Ext_Thal_2', 'cell_abundances_Ext_Amy_1', 'cell_abundances_Ext_L6', 'cell_abundances_OPC_2', 'cell_abundances_Inh_Meis2_1', 'cell_abundances_Ext_L6B', 'cell_abundances_LowQ_2', 'cell_abundances_Ext_Unk_3', 'cell_abundances_Ext_L56', 'cell_abundances_Inh_Lamp5', 'cell_abundances_Inh_Pvalb', 'cell_abundances_Ext_L5_2', 'cell_abundances_Inh_6', 'cell_abundances_Astro_AMY', 'cell_abundances_Ext_ClauPyr', 'cell_abundances_Astro_HPC', 'cell_abundances_Astro_WM', 'cell_abundances_Nb_2', 'cell_abundances_Inh_5', 'cell_capture_eff_Inh_3', 'cell_capture_eff_Ext_Pir', 'cell_capture_eff_Oligo_2', 'cell_capture_eff_Astro_HYPO', 'cell_capture_eff_Ext_L25', 'cell_capture_eff_Astro_THAL_lat', 'cell_capture_eff_Ext_L5_1', 'cell_capture_eff_Ext_L23', 'cell_capture_eff_Micro', 'cell_capture_eff_Ext_Thal_1', 'cell_capture_eff_Ext_Hpc_CA1', 'cell_capture_eff_Inh_Meis2_3', 'cell_capture_eff_Inh_4', 'cell_capture_eff_OPC_1', 'cell_capture_eff_Oligo_1', 'cell_capture_eff_Ext_Hpc_CA3', 'cell_capture_eff_Astro_CTX', 'cell_capture_eff_Astro_THAL_med', 'cell_capture_eff_Inh_Vip', 'cell_capture_eff_Ext_Amy_2', 'cell_capture_eff_Astro_AMY_CTX', 'cell_capture_eff_Unk_1', 'cell_capture_eff_Inh_Sst', 'cell_capture_eff_Inh_Meis2_2', 'cell_capture_eff_Ext_Hpc_DG2', 'cell_capture_eff_Ext_Hpc_DG1', 'cell_capture_eff_Inh_1', 'cell_capture_eff_Inh_Meis2_4', 'cell_capture_eff_Inh_2', 'cell_capture_eff_Nb_1', 'cell_capture_eff_Ext_Thal_2', 'cell_capture_eff_Ext_Amy_1', 'cell_capture_eff_Ext_L6', 'cell_capture_eff_OPC_2', 'cell_capture_eff_Inh_Meis2_1', 'cell_capture_eff_Ext_L6B', 'cell_capture_eff_LowQ_2', 'cell_capture_eff_Ext_Unk_3', 'cell_capture_eff_Ext_L56', 'cell_capture_eff_Inh_Lamp5', 'cell_capture_eff_Inh_Pvalb', 'cell_capture_eff_Ext_L5_2', 'cell_capture_eff_Inh_6', 'cell_capture_eff_Astro_AMY', 'cell_capture_eff_Ext_ClauPyr', 'cell_capture_eff_Astro_HPC', 'cell_capture_eff_Astro_WM', 'cell_capture_eff_Nb_2', 'cell_capture_eff_Inh_5', 'sample', 'UMI_count_Inh_3', 'UMI_count_Ext_Pir', 'UMI_count_Oligo_2', 'UMI_count_Astro_HYPO', 'UMI_count_Ext_L25', 'UMI_count_Astro_THAL_lat', 'UMI_count_Ext_L5_1', 'UMI_count_Ext_L23', 'UMI_count_Micro', 'UMI_count_Ext_Thal_1', 'UMI_count_Ext_Hpc_CA1', 'UMI_count_Inh_Meis2_3', 'UMI_count_Inh_4', 'UMI_count_OPC_1', 'UMI_count_Oligo_1', 'UMI_count_Ext_Hpc_CA3', 'UMI_count_Astro_CTX', 'UMI_count_Astro_THAL_med', 'UMI_count_Inh_Vip', 'UMI_count_Ext_Amy_2', 'UMI_count_Astro_AMY_CTX', 'UMI_count_Unk_1', 'UMI_count_Inh_Sst', 'UMI_count_Inh_Meis2_2', 'UMI_count_Ext_Hpc_DG2', 'UMI_count_Ext_Hpc_DG1', 'UMI_count_Inh_1', 'UMI_count_Inh_Meis2_4', 'UMI_count_Inh_2', 'UMI_count_Nb_1', 'UMI_count_Ext_Thal_2', 'UMI_count_Ext_Amy_1', 'UMI_count_Ext_L6', 'UMI_count_OPC_2', 'UMI_count_Inh_Meis2_1', 'UMI_count_Ext_L6B', 'UMI_count_LowQ_2', 'UMI_count_Ext_Unk_3', 'UMI_count_Ext_L56', 'UMI_count_Inh_Lamp5', 'UMI_count_Inh_Pvalb', 'UMI_count_Ext_L5_2', 'UMI_count_Inh_6', 'UMI_count_Astro_AMY', 'UMI_count_Ext_ClauPyr', 'UMI_count_Astro_HPC', 'UMI_count_Astro_WM', 'UMI_count_Nb_2', 'UMI_count_Inh_5'\n",
       "    var: 'gene_level'\n",
       "    uns: 'design', 'spatial'\n",
       "    obsm: 'X_spatial'\n",
       "    layers: 'expression_levels'"
      ]
     },
     "execution_count": 8,
     "metadata": {},
     "output_type": "execute_result"
    }
   ],
   "source": [
    "adata_vis"
   ]
  },
  {
   "cell_type": "markdown",
   "metadata": {},
   "source": [
    "## Model training"
   ]
  },
  {
   "cell_type": "code",
   "execution_count": 9,
   "metadata": {},
   "outputs": [
    {
     "data": {
      "text/plain": [
       "'/nfs/team205/vk7/sanger_projects/cell2location_paper/notebooks/selected_results/benchmarking/with_tissue_zones/real_mg/pyro/'"
      ]
     },
     "execution_count": 9,
     "metadata": {},
     "output_type": "execute_result"
    }
   ],
   "source": [
    "results_folder"
   ]
  },
  {
   "cell_type": "code",
   "execution_count": 10,
   "metadata": {
    "scrolled": false
   },
   "outputs": [
    {
     "data": {
      "application/vnd.jupyter.widget-view+json": {
       "model_id": "9d426455e3454d87bcec77c9bc9a697c",
       "version_major": 2,
       "version_minor": 0
      },
      "text/plain": [
       "  0%|          | 0/30000 [00:00<?, ?it/s]"
      ]
     },
     "metadata": {},
     "output_type": "display_data"
    }
   ],
   "source": [
    "#import torch\n",
    "#torch.set_default_tensor_type(torch.cuda.FloatTensor)\n",
    "\n",
    "mod = cell2location_model.LocationModelLinearDependentWMultiExperiment(\n",
    "    n_obs=adata_vis.n_obs,\n",
    "    n_vars=adata_vis.n_vars,\n",
    "        n_factors=aver.shape[1],\n",
    "        n_exper=obs2sample_df.shape[1],\n",
    "        batch_size=None,\n",
    "        cell_state_mat=aver.values.astype(data_type),\n",
    "    )\n",
    "\n",
    "from pyro.distributions import constraints\n",
    "mod.guide.scale_constraint = constraints.positive\n",
    "#mod.guide.scale_constraint = constraints.softplus_positive\n",
    "\n",
    "#mod.to('cuda')\n",
    "mod._train_full_data(x_data=adata_vis.raw.X.toarray().astype(data_type),\n",
    "                     obs2sample=obs2sample_df.values.astype(data_type),\n",
    "                     n_epochs=30000, lr=0.005)"
   ]
  },
  {
   "cell_type": "code",
   "execution_count": 11,
   "metadata": {},
   "outputs": [],
   "source": [
    "means = mod.guide.median()\n",
    "means = {k: means[k].cpu().detach().numpy() \n",
    "         for k in means.keys()}"
   ]
  },
  {
   "cell_type": "code",
   "execution_count": 12,
   "metadata": {},
   "outputs": [
    {
     "data": {
      "text/plain": [
       "{'m_g_alpha_hyp': array(0.43943086, dtype=float32),\n",
       " 'm_g_beta_hyp': array(8.669119, dtype=float32),\n",
       " 'm_g': array([[2.8703711e-04, 5.3101081e-07, 4.9346332e-02, ..., 4.5412596e-04,\n",
       "         4.8659127e-03, 1.8612338e-02]], dtype=float32),\n",
       " 'n_s_cells_per_location': array([[9.676627],\n",
       "        [9.703126],\n",
       "        [9.487553],\n",
       "        ...,\n",
       "        [9.557752],\n",
       "        [8.987891],\n",
       "        [9.302585]], dtype=float32),\n",
       " 'y_s_groups_per_location': array([[7.6170363],\n",
       "        [7.4382005],\n",
       "        [7.5281253],\n",
       "        ...,\n",
       "        [7.5786734],\n",
       "        [7.8850822],\n",
       "        [7.4004083]], dtype=float32),\n",
       " 'z_sr_groups_factors': array([[8.98013916e-03, 9.79715865e-03, 2.83262858e-10, ...,\n",
       "         9.47172847e-03, 2.68376450e-08, 1.09831020e-02],\n",
       "        [9.91815794e-03, 1.16886524e-02, 2.97768199e-10, ...,\n",
       "         9.63008404e-03, 1.66808775e-07, 1.03397975e-02],\n",
       "        [9.55215469e-03, 8.56305100e-03, 1.82898710e-10, ...,\n",
       "         9.71977599e-03, 8.30600939e-08, 1.08441617e-02],\n",
       "        ...,\n",
       "        [1.14193344e-02, 1.16811031e-02, 6.48307297e-10, ...,\n",
       "         1.15033332e-02, 2.06713100e-08, 1.11789638e-02],\n",
       "        [1.31191583e-02, 1.14117572e-02, 1.16473509e-09, ...,\n",
       "         1.33664841e-02, 1.02216539e-07, 1.18132178e-02],\n",
       "        [1.02244094e-02, 8.86278693e-03, 2.53440519e-10, ...,\n",
       "         8.95194709e-03, 3.20443334e-08, 9.02086310e-03]], dtype=float32),\n",
       " 'k_r_factors_per_groups': array([[6.6961980e+00],\n",
       "        [6.7304406e+00],\n",
       "        [6.4708341e-09],\n",
       "        [6.7490721e+00],\n",
       "        [6.6301084e+00],\n",
       "        [6.7175260e+00],\n",
       "        [6.6275282e+00],\n",
       "        [6.7331872e+00],\n",
       "        [6.7155614e+00],\n",
       "        [6.7596655e+00],\n",
       "        [6.5316472e+00],\n",
       "        [6.6164432e+00],\n",
       "        [6.8192172e+00],\n",
       "        [6.8615494e+00],\n",
       "        [6.7507467e+00],\n",
       "        [6.5718741e+00],\n",
       "        [6.7117972e+00],\n",
       "        [6.8200464e+00],\n",
       "        [6.5504055e+00],\n",
       "        [6.5554404e+00],\n",
       "        [6.8255935e+00],\n",
       "        [6.5614877e+00],\n",
       "        [1.5499424e-10],\n",
       "        [6.8687663e+00],\n",
       "        [6.8619151e+00],\n",
       "        [6.7104092e+00],\n",
       "        [6.4455061e+00],\n",
       "        [6.4807620e+00],\n",
       "        [6.6091056e+00],\n",
       "        [6.7222481e+00],\n",
       "        [6.5924163e+00],\n",
       "        [6.6548944e+00],\n",
       "        [2.9040587e-10],\n",
       "        [6.5815473e+00],\n",
       "        [6.6838160e+00],\n",
       "        [6.6544223e+00],\n",
       "        [6.7229147e+00],\n",
       "        [7.7790801e-06],\n",
       "        [6.6381688e+00],\n",
       "        [6.6164260e+00],\n",
       "        [6.8029509e+00],\n",
       "        [6.7158751e+00],\n",
       "        [6.7614493e+00],\n",
       "        [6.6084428e+00],\n",
       "        [8.7717353e-09],\n",
       "        [6.4058113e+00],\n",
       "        [6.7022195e+00],\n",
       "        [7.1460180e+00],\n",
       "        [4.1758213e-07],\n",
       "        [6.3826141e+00]], dtype=float32),\n",
       " 'x_fr_group2fact': array([[8.57243067e-05, 1.13710936e-04, 5.46191804e-05, ...,\n",
       "         5.06052311e-05, 6.05742680e-05, 9.41768449e-05],\n",
       "        [7.15414353e-05, 6.96181742e-05, 5.52497331e-05, ...,\n",
       "         4.24208265e-05, 6.86814819e-05, 1.04520412e-04],\n",
       "        [3.50546208e-04, 5.15877291e-05, 2.76577135e-04, ...,\n",
       "         3.06416947e+09, 5.31860768e+08, 1.23367407e+03],\n",
       "        ...,\n",
       "        [9.12901232e-05, 7.64111028e-05, 5.99445375e-05, ...,\n",
       "         5.63024805e-05, 7.45543221e-05, 1.06386098e-04],\n",
       "        [1.60902180e-02, 9.73007176e-03, 3.82351812e+05, ...,\n",
       "         1.08047004e-06, 7.46282312e-05, 1.46407676e+00],\n",
       "        [8.05269228e-05, 8.58680651e-05, 5.66455565e-05, ...,\n",
       "         5.08844132e-05, 6.57170822e-05, 7.70194383e-05]], dtype=float32),\n",
       " 'w_sf': array([[1.2429142 , 2.350513  , 1.5218523 , ..., 0.61891013, 0.18285228,\n",
       "         0.5743459 ],\n",
       "        [0.45768908, 0.69619066, 0.5169171 , ..., 0.5496192 , 0.12950362,\n",
       "         0.24559824],\n",
       "        [1.7474012 , 3.2533314 , 2.1788566 , ..., 0.3586898 , 0.15736333,\n",
       "         0.7887352 ],\n",
       "        ...,\n",
       "        [1.2223514 , 1.9088129 , 1.2884252 , ..., 1.4408653 , 0.36897406,\n",
       "         0.61659586],\n",
       "        [0.61733395, 0.9640502 , 0.7117113 , ..., 3.019005  , 0.6340181 ,\n",
       "         0.35179448],\n",
       "        [1.3321092 , 2.6433492 , 1.3048195 , ..., 0.7242235 , 0.1973693 ,\n",
       "         0.59348804]], dtype=float32),\n",
       " 'l_s_add_alpha': array([[0.24992587]], dtype=float32),\n",
       " 'l_s_add_beta': array([[381.85782]], dtype=float32),\n",
       " 'l_s_add': array([[2.08645670e-05],\n",
       "        [3.52742791e-05],\n",
       "        [1.41063210e-04],\n",
       "        ...,\n",
       "        [2.33145183e-05],\n",
       "        [1.07135456e-04],\n",
       "        [2.46887157e-05]], dtype=float32),\n",
       " 's_g_gene_add_alpha_hyp': array(3.0241756, dtype=float32),\n",
       " 's_g_gene_add_mean': array([[0.00023764]], dtype=float32),\n",
       " 's_g_gene_add_alpha_e_inv': array([[0.26329872]], dtype=float32),\n",
       " 's_g_gene_add': array([[0.00024256, 0.00023073, 0.00022083, ..., 0.00022077, 0.00023143,\n",
       "         0.00023393]], dtype=float32),\n",
       " 'alpha_g_phi_hyp': array(1.4128951, dtype=float32),\n",
       " 'alpha_g_inverse': array([[0.08630216, 0.4422551 , 0.67320704, ..., 0.3330287 , 0.30543017,\n",
       "         0.87046015]], dtype=float32)}"
      ]
     },
     "execution_count": 12,
     "metadata": {},
     "output_type": "execute_result"
    }
   ],
   "source": [
    "means"
   ]
  },
  {
   "cell_type": "code",
   "execution_count": 13,
   "metadata": {},
   "outputs": [
    {
     "data": {
      "text/plain": [
       "tensor(4., device='cuda:0')"
      ]
     },
     "execution_count": 13,
     "metadata": {},
     "output_type": "execute_result"
    }
   ],
   "source": [
    "mod.model.m_g_shape"
   ]
  },
  {
   "cell_type": "code",
   "execution_count": 14,
   "metadata": {},
   "outputs": [
    {
     "data": {
      "text/plain": [
       "tensor(8., device='cuda:0')"
      ]
     },
     "execution_count": 14,
     "metadata": {},
     "output_type": "execute_result"
    }
   ],
   "source": [
    "mod.model.m_g_rate"
   ]
  },
  {
   "cell_type": "code",
   "execution_count": 15,
   "metadata": {
    "scrolled": true
   },
   "outputs": [
    {
     "name": "stdout",
     "output_type": "stream",
     "text": [
      "class AutoNormal(AutoGuide):\n",
      "    \"\"\"This implementation of :class:`AutoGuide` uses a Normal distribution\n",
      "    with a diagonal covariance matrix to construct a guide over the entire\n",
      "    latent space. The guide does not depend on the model's ``*args, **kwargs``.\n",
      "\n",
      "    It should be equivalent to :class: `AutoDiagonalNormal` , but with\n",
      "    more convenient site names and with better support for\n",
      "    :class:`~pyro.infer.trace_mean_field_elbo.TraceMeanField_ELBO` .\n",
      "\n",
      "    In :class:`AutoDiagonalNormal` , if your model has N named\n",
      "    parameters with dimensions k_i and sum k_i = D, you get a single\n",
      "    vector of length D for your mean, and a single vector of length D\n",
      "    for sigmas.  This guide gives you N distinct normals that you can\n",
      "    call by name.\n",
      "\n",
      "    Usage::\n",
      "\n",
      "        guide = AutoNormal(model)\n",
      "        svi = SVI(model, guide, ...)\n",
      "\n",
      "    :param callable model: A Pyro model.\n",
      "    :param callable init_loc_fn: A per-site initialization function.\n",
      "        See :ref:`autoguide-initialization` section for available functions.\n",
      "    :param float init_scale: Initial scale for the standard deviation of each\n",
      "        (unconstrained transformed) latent variable.\n",
      "    :param callable create_plates: An optional function inputing the same\n",
      "        ``*args,**kwargs`` as ``model()`` and returning a :class:`pyro.plate`\n",
      "        or iterable of plates. Plates not returned will be created\n",
      "        automatically as usual. This is useful for data subsampling.\n",
      "    \"\"\"\n",
      "\n",
      "    # TODO consider switching to constraints.softplus_positive\n",
      "    # See https://github.com/pyro-ppl/numpyro/issues/855\n",
      "    scale_constraint = constraints.positive\n",
      "\n",
      "    def __init__(self, model, *,\n",
      "                 init_loc_fn=init_to_feasible,\n",
      "                 init_scale=0.1,\n",
      "                 create_plates=None):\n",
      "        self.init_loc_fn = init_loc_fn\n",
      "\n",
      "        if not isinstance(init_scale, float) or not (init_scale > 0):\n",
      "            raise ValueError(\"Expected init_scale > 0. but got {}\".format(init_scale))\n",
      "        self._init_scale = init_scale\n",
      "\n",
      "        model = InitMessenger(self.init_loc_fn)(model)\n",
      "        super().__init__(model, create_plates=create_plates)\n",
      "\n",
      "    def _setup_prototype(self, *args, **kwargs):\n",
      "        super()._setup_prototype(*args, **kwargs)\n",
      "\n",
      "        self._event_dims = {}\n",
      "        self._cond_indep_stacks = {}\n",
      "        self.locs = PyroModule()\n",
      "        self.scales = PyroModule()\n",
      "\n",
      "        # Initialize guide params\n",
      "        for name, site in self.prototype_trace.iter_stochastic_nodes():\n",
      "            # Collect unconstrained event_dims, which may differ from constrained event_dims.\n",
      "            with helpful_support_errors(site):\n",
      "                init_loc = biject_to(site[\"fn\"].support).inv(site[\"value\"].detach()).detach()\n",
      "            event_dim = site[\"fn\"].event_dim + init_loc.dim() - site[\"value\"].dim()\n",
      "            self._event_dims[name] = event_dim\n",
      "\n",
      "            # Collect independence contexts.\n",
      "            self._cond_indep_stacks[name] = site[\"cond_indep_stack\"]\n",
      "\n",
      "            # If subsampling, repeat init_value to full size.\n",
      "            for frame in site[\"cond_indep_stack\"]:\n",
      "                full_size = getattr(frame, \"full_size\", frame.size)\n",
      "                if full_size != frame.size:\n",
      "                    dim = frame.dim - event_dim\n",
      "                    init_loc = periodic_repeat(init_loc, full_size, dim).contiguous()\n",
      "            init_scale = torch.full_like(init_loc, self._init_scale)\n",
      "\n",
      "            _deep_setattr(self.locs, name, PyroParam(init_loc, constraints.real, event_dim))\n",
      "            _deep_setattr(self.scales, name,\n",
      "                          PyroParam(init_scale, self.scale_constraint, event_dim))\n",
      "\n",
      "    def _get_loc_and_scale(self, name):\n",
      "        site_loc = _deep_getattr(self.locs, name)\n",
      "        site_scale = _deep_getattr(self.scales, name)\n",
      "        return site_loc, site_scale\n",
      "\n",
      "    def forward(self, *args, **kwargs):\n",
      "        \"\"\"\n",
      "        An automatic guide with the same ``*args, **kwargs`` as the base ``model``.\n",
      "\n",
      "        .. note:: This method is used internally by :class:`~torch.nn.Module`.\n",
      "            Users should instead use :meth:`~torch.nn.Module.__call__`.\n",
      "\n",
      "        :return: A dict mapping sample site name to sampled value.\n",
      "        :rtype: dict\n",
      "        \"\"\"\n",
      "        # if we've never run the model before, do so now so we can inspect the model structure\n",
      "        if self.prototype_trace is None:\n",
      "            self._setup_prototype(*args, **kwargs)\n",
      "\n",
      "        plates = self._create_plates(*args, **kwargs)\n",
      "        result = {}\n",
      "        for name, site in self.prototype_trace.iter_stochastic_nodes():\n",
      "            transform = biject_to(site[\"fn\"].support)\n",
      "\n",
      "            with ExitStack() as stack:\n",
      "                for frame in site[\"cond_indep_stack\"]:\n",
      "                    if frame.vectorized:\n",
      "                        stack.enter_context(plates[frame.name])\n",
      "\n",
      "                site_loc, site_scale = self._get_loc_and_scale(name)\n",
      "                unconstrained_latent = pyro.sample(\n",
      "                    name + \"_unconstrained\",\n",
      "                    dist.Normal(\n",
      "                        site_loc, site_scale,\n",
      "                    ).to_event(self._event_dims[name]),\n",
      "                    infer={\"is_auxiliary\": True}\n",
      "                )\n",
      "\n",
      "                value = transform(unconstrained_latent)\n",
      "                if poutine.get_mask() is False:\n",
      "                    log_density = 0.0\n",
      "                else:\n",
      "                    log_density = transform.inv.log_abs_det_jacobian(\n",
      "                        value,\n",
      "                        unconstrained_latent,\n",
      "                    )\n",
      "                    log_density = sum_rightmost(\n",
      "                        log_density,\n",
      "                        log_density.dim() - value.dim() + site[\"fn\"].event_dim,\n",
      "                    )\n",
      "                delta_dist = dist.Delta(\n",
      "                    value,\n",
      "                    log_density=log_density,\n",
      "                    event_dim=site[\"fn\"].event_dim,\n",
      "                )\n",
      "\n",
      "                result[name] = pyro.sample(name, delta_dist)\n",
      "\n",
      "        return result\n",
      "\n",
      "    @torch.no_grad()\n",
      "    def median(self, *args, **kwargs):\n",
      "        \"\"\"\n",
      "        Returns the posterior median value of each latent variable.\n",
      "\n",
      "        :return: A dict mapping sample site name to median tensor.\n",
      "        :rtype: dict\n",
      "        \"\"\"\n",
      "        medians = {}\n",
      "        for name, site in self.prototype_trace.iter_stochastic_nodes():\n",
      "            site_loc, _ = self._get_loc_and_scale(name)\n",
      "            median = biject_to(site[\"fn\"].support)(site_loc)\n",
      "            if median is site_loc:\n",
      "                median = median.clone()\n",
      "            medians[name] = median\n",
      "\n",
      "        return medians\n",
      "\n",
      "    @torch.no_grad()\n",
      "    def quantiles(self, quantiles, *args, **kwargs):\n",
      "        \"\"\"\n",
      "        Returns posterior quantiles each latent variable. Example::\n",
      "\n",
      "            print(guide.quantiles([0.05, 0.5, 0.95]))\n",
      "\n",
      "        :param quantiles: A list of requested quantiles between 0 and 1.\n",
      "        :type quantiles: torch.Tensor or list\n",
      "        :return: A dict mapping sample site name to a list of quantile values.\n",
      "        :rtype: dict\n",
      "        \"\"\"\n",
      "        results = {}\n",
      "\n",
      "        for name, site in self.prototype_trace.iter_stochastic_nodes():\n",
      "            site_loc, site_scale = self._get_loc_and_scale(name)\n",
      "\n",
      "            site_quantiles = torch.tensor(quantiles, dtype=site_loc.dtype, device=site_loc.device)\n",
      "            site_quantiles_values = dist.Normal(site_loc, site_scale).icdf(site_quantiles)\n",
      "            constrained_site_quantiles = biject_to(site[\"fn\"].support)(site_quantiles_values)\n",
      "            results[name] = constrained_site_quantiles\n",
      "\n",
      "        return results\n",
      "\n"
     ]
    }
   ],
   "source": [
    "import inspect\n",
    "import test\n",
    " \n",
    "print(inspect.getsource(type(mod.guide)))"
   ]
  },
  {
   "cell_type": "code",
   "execution_count": 16,
   "metadata": {},
   "outputs": [
    {
     "data": {
      "text/plain": [
       "8.0"
      ]
     },
     "execution_count": 16,
     "metadata": {},
     "output_type": "execute_result"
    }
   ],
   "source": [
    "mod.model.cell_number_prior[\"N_cells_per_location\"]"
   ]
  },
  {
   "cell_type": "code",
   "execution_count": 17,
   "metadata": {},
   "outputs": [],
   "source": [
    "from torch.distributions import constraints\n",
    "from torch.distributions.transforms import Transform\n",
    "from torch.nn.functional import softplus\n",
    "\n",
    "\n",
    "def softplus_inv(y):\n",
    "    return y + y.neg().expm1().neg().log()\n",
    "\n",
    "class SoftplusTransform(Transform):\n",
    "    r\"\"\"\n",
    "    Transform via the mapping :math:`\\text{Softplus}(x) = \\log(1 + \\exp(x))`.\n",
    "    \"\"\"\n",
    "    domain = constraints.real\n",
    "    codomain = constraints.positive\n",
    "    bijective = True\n",
    "    sign = +1\n",
    "\n",
    "    def __eq__(self, other):\n",
    "        return isinstance(other, SoftplusTransform)\n",
    "\n",
    "    def _call(self, x):\n",
    "        return softplus(x)\n",
    "\n",
    "    def _inverse(self, y):\n",
    "        return softplus_inv(y)\n",
    "\n",
    "    def log_abs_det_jacobian(self, x, y):\n",
    "        return -softplus(-x)\n",
    "    "
   ]
  },
  {
   "cell_type": "code",
   "execution_count": 18,
   "metadata": {},
   "outputs": [],
   "source": [
    "#SoftplusTransform()._inverse(torch.tensor(np.array([1])))"
   ]
  },
  {
   "cell_type": "code",
   "execution_count": 19,
   "metadata": {},
   "outputs": [
    {
     "data": {
      "application/vnd.jupyter.widget-view+json": {
       "model_id": "e6d0a851649d46bb9cd9bf0eacd1deaa",
       "version_major": 2,
       "version_minor": 0
      },
      "text/plain": [
       "  0%|          | 0/30000 [00:00<?, ?it/s]"
      ]
     },
     "metadata": {},
     "output_type": "display_data"
    }
   ],
   "source": [
    "import torch\n",
    "torch.set_default_tensor_type(torch.cuda.FloatTensor)\n",
    "\n",
    "mod_s = cell2location_model.LocationModelLinearDependentWMultiExperiment(\n",
    "    n_obs=adata_vis.n_obs,\n",
    "    n_vars=adata_vis.n_vars,\n",
    "        n_factors=aver.shape[1],\n",
    "        n_exper=obs2sample_df.shape[1],\n",
    "        batch_size=None,\n",
    "        cell_state_mat=aver.values.astype(data_type),\n",
    "    )\n",
    "\n",
    "from pyro.distributions import constraints\n",
    "mod_s.guide.scale_constraint = constraints.softplus_positive\n",
    "#mod_s.guide.scale_constraint = softplus_positive\n",
    "\n",
    "#mod.cuda()\n",
    "mod_s._train_full_data(x_data=adata_vis.raw.X.toarray().astype(data_type),\n",
    "                    obs2sample=obs2sample_df.values.astype(data_type),\n",
    "                    n_epochs=30000, lr=0.005)"
   ]
  },
  {
   "cell_type": "code",
   "execution_count": 20,
   "metadata": {},
   "outputs": [
    {
     "data": {
      "text/plain": [
       "{'m_g_alpha_hyp': array(0.44823322, dtype=float32),\n",
       " 'm_g_beta_hyp': array(1.3109565, dtype=float32),\n",
       " 'm_g': array([[1.9218922e-03, 2.8906165e-06, 3.6265948e-01, ..., 3.6861394e-03,\n",
       "         4.4238470e-02, 1.2730496e-01]], dtype=float32),\n",
       " 'n_s_cells_per_location': array([[8.977466 ],\n",
       "        [9.206554 ],\n",
       "        [7.8340926],\n",
       "        ...,\n",
       "        [7.9797125],\n",
       "        [9.723162 ],\n",
       "        [6.9123526]], dtype=float32),\n",
       " 'y_s_groups_per_location': array([[15.841911],\n",
       "        [17.619926],\n",
       "        [16.738188],\n",
       "        ...,\n",
       "        [15.630694],\n",
       "        [16.703934],\n",
       "        [16.273012]], dtype=float32),\n",
       " 'z_sr_groups_factors': array([[0.03742338, 0.03523199, 0.03601434, ..., 0.03652083, 0.03734288,\n",
       "         0.04705466],\n",
       "        [0.05899901, 0.05540451, 0.04805293, ..., 0.05808846, 0.05162425,\n",
       "         0.04864049],\n",
       "        [0.03989865, 0.03715653, 0.03922902, ..., 0.03765567, 0.03145469,\n",
       "         0.03826319],\n",
       "        ...,\n",
       "        [0.04201517, 0.03826487, 0.03535345, ..., 0.03502072, 0.04395198,\n",
       "         0.04278899],\n",
       "        [0.04561996, 0.04918063, 0.04782095, ..., 0.0452274 , 0.04541739,\n",
       "         0.04364471],\n",
       "        [0.0288677 , 0.03253495, 0.03654003, ..., 0.03687877, 0.03162209,\n",
       "         0.03627567]], dtype=float32),\n",
       " 'k_r_factors_per_groups': array([[10.732339 ],\n",
       "        [10.294045 ],\n",
       "        [10.581395 ],\n",
       "        [11.189449 ],\n",
       "        [10.423877 ],\n",
       "        [10.474225 ],\n",
       "        [10.822211 ],\n",
       "        [10.235806 ],\n",
       "        [10.4377985],\n",
       "        [10.471142 ],\n",
       "        [10.512736 ],\n",
       "        [ 1.5361882],\n",
       "        [10.76095  ],\n",
       "        [10.577964 ],\n",
       "        [10.635401 ],\n",
       "        [10.40909  ],\n",
       "        [10.484843 ],\n",
       "        [10.863708 ],\n",
       "        [10.222954 ],\n",
       "        [10.586762 ],\n",
       "        [10.07544  ],\n",
       "        [10.555268 ],\n",
       "        [11.090615 ],\n",
       "        [10.655206 ],\n",
       "        [10.823937 ],\n",
       "        [10.354278 ],\n",
       "        [10.249555 ],\n",
       "        [10.633213 ],\n",
       "        [10.606116 ],\n",
       "        [ 3.2167559],\n",
       "        [10.532302 ],\n",
       "        [ 0.8952838],\n",
       "        [10.677455 ],\n",
       "        [10.76779  ],\n",
       "        [10.542125 ],\n",
       "        [10.353423 ],\n",
       "        [11.045397 ],\n",
       "        [10.44386  ],\n",
       "        [10.364444 ],\n",
       "        [10.2590065],\n",
       "        [ 1.4119973],\n",
       "        [10.252421 ],\n",
       "        [10.611716 ],\n",
       "        [10.787157 ],\n",
       "        [10.931719 ],\n",
       "        [10.33866  ],\n",
       "        [10.506672 ],\n",
       "        [10.442543 ],\n",
       "        [10.247547 ],\n",
       "        [10.789652 ]], dtype=float32),\n",
       " 'x_fr_group2fact': array([[0.00047239, 0.00056528, 0.00023806, ..., 0.00022601, 0.00029472,\n",
       "         0.00168544],\n",
       "        [0.00040273, 0.0004958 , 0.00023553, ..., 0.00021961, 0.00036607,\n",
       "         0.00186313],\n",
       "        [0.00046136, 0.00041868, 0.00025421, ..., 0.00021644, 0.00032818,\n",
       "         0.00160283],\n",
       "        ...,\n",
       "        [0.00041088, 0.00043397, 0.00025239, ..., 0.00024437, 0.00036064,\n",
       "         0.00176199],\n",
       "        [0.00052502, 0.00052661, 0.00023778, ..., 0.00023262, 0.00030737,\n",
       "         0.00150606],\n",
       "        [0.00054049, 0.00050567, 0.00024752, ..., 0.0001875 , 0.00035533,\n",
       "         0.00171412]], dtype=float32),\n",
       " 'w_sf': array([[0.25427535, 0.3782703 , 0.24308002, ..., 0.02186622, 0.07919993,\n",
       "         0.89123267],\n",
       "        [0.1008316 , 0.13551848, 0.12190558, ..., 0.05695609, 0.07747612,\n",
       "         0.6271697 ],\n",
       "        [0.4256909 , 0.58250386, 0.30151904, ..., 0.00829303, 0.04163494,\n",
       "         0.96227443],\n",
       "        ...,\n",
       "        [0.3698222 , 0.23950127, 0.16648689, ..., 0.07896983, 0.18409665,\n",
       "         1.0268947 ],\n",
       "        [0.20709884, 0.17479466, 0.15316394, ..., 0.3787191 , 0.5107238 ,\n",
       "         0.8481223 ],\n",
       "        [0.2824691 , 0.44697002, 0.1046925 , ..., 0.01608769, 0.15582967,\n",
       "         1.1498196 ]], dtype=float32),\n",
       " 'l_s_add_alpha': array([[0.27547458]], dtype=float32),\n",
       " 'l_s_add_beta': array([[407.26218]], dtype=float32),\n",
       " 'l_s_add': array([[3.0716757e-05],\n",
       "        [4.5175344e-05],\n",
       "        [1.2431772e-04],\n",
       "        ...,\n",
       "        [3.1865253e-05],\n",
       "        [9.8312645e-05],\n",
       "        [3.6528887e-05]], dtype=float32),\n",
       " 's_g_gene_add_alpha_hyp': array(2.9346085, dtype=float32),\n",
       " 's_g_gene_add_mean': array([[0.00022956]], dtype=float32),\n",
       " 's_g_gene_add_alpha_e_inv': array([[0.2730538]], dtype=float32),\n",
       " 's_g_gene_add': array([[0.00023109, 0.00022624, 0.00021957, ..., 0.00021664, 0.00021143,\n",
       "         0.000218  ]], dtype=float32),\n",
       " 'alpha_g_phi_hyp': array(1.4633439, dtype=float32),\n",
       " 'alpha_g_inverse': array([[0.09739233, 0.39935097, 0.68385136, ..., 0.36184254, 0.29909456,\n",
       "         0.91853094]], dtype=float32)}"
      ]
     },
     "execution_count": 20,
     "metadata": {},
     "output_type": "execute_result"
    }
   ],
   "source": [
    "means_softplus = mod_s.guide.median()\n",
    "means_softplus = {k: means_softplus[k].cpu().detach().numpy() \n",
    "                  for k in means_softplus.keys()}\n",
    "means_softplus"
   ]
  },
  {
   "cell_type": "code",
   "execution_count": 21,
   "metadata": {},
   "outputs": [
    {
     "data": {
      "application/vnd.jupyter.widget-view+json": {
       "model_id": "dc1b411436264cd7b20f36645c989746",
       "version_major": 2,
       "version_minor": 0
      },
      "text/plain": [
       "  0%|          | 0/30000 [00:00<?, ?it/s]"
      ]
     },
     "metadata": {},
     "output_type": "display_data"
    }
   ],
   "source": [
    "import torch\n",
    "torch.set_default_tensor_type(torch.cuda.FloatTensor)\n",
    "\n",
    "mod_s3 = cell2location_model.LocationModelLinearDependentWMultiExperiment(\n",
    "    n_obs=adata_vis.n_obs,\n",
    "    n_vars=adata_vis.n_vars,\n",
    "        n_factors=aver.shape[1],\n",
    "        n_exper=obs2sample_df.shape[1],\n",
    "        batch_size=None,\n",
    "        cell_state_mat=aver.values.astype(data_type),\n",
    "    )\n",
    "\n",
    "from pyro.distributions import constraints\n",
    "from torch.distributions import biject_to, transform_to\n",
    "\n",
    "@biject_to.register(constraints.positive)\n",
    "@transform_to.register(constraints.positive)\n",
    "def _transform_to_positive(constraint):\n",
    "    return SoftplusTransform()\n",
    "\n",
    "mod_s3.guide.scale_constraint = constraints.positive\n",
    "\n",
    "#mod.cuda()\n",
    "mod_s3._train_full_data(x_data=adata_vis.raw.X.toarray().astype(data_type),\n",
    "                    obs2sample=obs2sample_df.values.astype(data_type),\n",
    "                    n_epochs=30000, lr=0.005)"
   ]
  },
  {
   "cell_type": "markdown",
   "metadata": {},
   "source": [
    "### Compare ELBO as training progresses"
   ]
  },
  {
   "cell_type": "code",
   "execution_count": 22,
   "metadata": {},
   "outputs": [
    {
     "data": {
      "image/png": "[encoded data removed]",
      "text/plain": [
       "<Figure size 432x288 with 1 Axes>"
      ]
     },
     "metadata": {
      "needs_background": "light"
     },
     "output_type": "display_data"
    }
   ],
   "source": [
    "plt.plot(range(2000, len(mod.hist)), np.array(mod.hist)[2000:]);\n",
    "plt.plot(range(2000, len(mod.hist)), np.array(mod_s.hist)[2000:]);\n",
    "plt.plot(range(2000, len(mod.hist)), np.array(mod_s3.hist)[2000:]);\n",
    "plt.legend(labels=['exp', 'softplus scales', 'all_softplus']);\n",
    "plt.xlim(0, len(mod.hist));"
   ]
  },
  {
   "cell_type": "code",
   "execution_count": 29,
   "metadata": {},
   "outputs": [
    {
     "data": {
      "image/png": "[encoded data removed]",
      "text/plain": [
       "<Figure size 288x288 with 1 Axes>"
      ]
     },
     "metadata": {
      "needs_background": "light"
     },
     "output_type": "display_data"
    }
   ],
   "source": [
    "plt.plot(range(5000, len(mod.hist)), np.array(mod.hist)[5000:]);\n",
    "plt.plot(range(5000, len(mod.hist)), np.array(mod_s.hist)[5000:]);\n",
    "plt.plot(range(5000, len(mod.hist)), np.array(mod_s3.hist)[5000:]);\n",
    "plt.legend(labels=['exp', 'softplus scales', 'all_softplus']);\n",
    "plt.xlim(0, len(mod.hist));\n",
    "plt.ylim(3.2e+7, 3.3e+7);\n",
    "plt.title('zoom in on y-axis');"
   ]
  },
  {
   "cell_type": "markdown",
   "metadata": {},
   "source": [
    "### Evaluate accuracy using $R^2$"
   ]
  },
  {
   "cell_type": "code",
   "execution_count": 23,
   "metadata": {},
   "outputs": [],
   "source": [
    "means = mod.guide.median()\n",
    "means = {k: means[k].cpu().detach().numpy() \n",
    "         for k in means.keys()}\n",
    "means_softplus = mod_s.guide.median()\n",
    "means_softplus = {k: means_softplus[k].cpu().detach().numpy() \n",
    "                  for k in means_softplus.keys()}\n",
    "means_softplus_all = mod_s3.guide.median()\n",
    "means_softplus_all = {k: means_softplus_all[k].cpu().detach().numpy() \n",
    "                  for k in means_softplus_all.keys()}"
   ]
  },
  {
   "cell_type": "code",
   "execution_count": 24,
   "metadata": {},
   "outputs": [],
   "source": [
    "from re import sub\n",
    "cell_count = adata_vis.obs.loc[:, ['cell_abundances_' in i for i in adata_vis.obs.columns]]\n",
    "cell_count.columns =  [sub('cell_abundances_', '', i) for i in cell_count.columns]\n",
    "cell_count_columns = cell_count.columns\n",
    "\n",
    "infer_cell_count = pd.DataFrame(means['w_sf'], index=adata_vis.obs_names, \n",
    "                                columns=aver.columns)\n",
    "infer_cell_count = infer_cell_count[cell_count.columns]\n",
    "\n",
    "infer_cell_count_softplus = pd.DataFrame(means_softplus['w_sf'], index=adata_vis.obs_names, \n",
    "                                columns=aver.columns)\n",
    "infer_cell_count_softplus = infer_cell_count_softplus[cell_count.columns]\n",
    "\n",
    "infer_cell_count_softplus_all = pd.DataFrame(means_softplus_all['w_sf'], index=adata_vis.obs_names, \n",
    "                                columns=aver.columns)\n",
    "infer_cell_count_softplus_all = infer_cell_count_softplus_all[cell_count.columns]"
   ]
  },
  {
   "cell_type": "code",
   "execution_count": 25,
   "metadata": {},
   "outputs": [
    {
     "data": {
      "text/plain": [
       "(                      Inh_3   Ext_Pir   Oligo_2  Astro_HYPO   Ext_L25\n",
       " exper0_location_0  0.177210  0.884635  0.167929    0.575958  0.350269\n",
       " exper0_location_1  0.107849  1.371635  0.121778    0.344786  0.160305\n",
       " exper0_location_2  0.182473  0.403730  0.146144    0.742244  0.411611\n",
       " exper0_location_3  0.185193  0.482523  0.525760    0.568089  0.383426\n",
       " exper0_location_4  0.133373  0.891315  0.428721    0.339333  0.227337,\n",
       "                       Inh_3   Ext_Pir   Oligo_2  Astro_HYPO   Ext_L25\n",
       " exper0_location_0  0.166002  0.159182  0.076220    0.318515  0.326986\n",
       " exper0_location_1  0.107559  0.687171  0.074621    0.150839  0.160628\n",
       " exper0_location_2  0.098245  0.318160  0.040792    0.258154  0.210755\n",
       " exper0_location_3  0.170852  0.456958  0.332093    0.144524  0.209895\n",
       " exper0_location_4  0.125941  0.491565  0.227968    0.118504  0.140300,\n",
       "                       Inh_3   Ext_Pir   Oligo_2  Astro_HYPO   Ext_L25\n",
       " exper0_location_0  0.241304  0.118862  0.096608    0.410373  0.466299\n",
       " exper0_location_1  0.170235  1.123026  0.060006    0.194503  0.153921\n",
       " exper0_location_2  0.128615  0.395724  0.050655    0.355762  0.258829\n",
       " exper0_location_3  0.244813  0.610249  0.441633    0.175428  0.253098\n",
       " exper0_location_4  0.189124  0.689083  0.336581    0.138899  0.160174)"
      ]
     },
     "execution_count": 25,
     "metadata": {},
     "output_type": "execute_result"
    }
   ],
   "source": [
    "infer_cell_count.iloc[0:5,0:5], infer_cell_count_softplus.iloc[0:5,0:5], infer_cell_count_softplus_all.iloc[0:5,0:5]"
   ]
  },
  {
   "cell_type": "code",
   "execution_count": 26,
   "metadata": {},
   "outputs": [
    {
     "data": {
      "image/png": "[encoded data removed]",
      "text/plain": [
       "<Figure size 288x288 with 1 Axes>"
      ]
     },
     "metadata": {
      "needs_background": "light"
     },
     "output_type": "display_data"
    }
   ],
   "source": [
    "rcParams['figure.figsize'] = 4, 4\n",
    "rcParams[\"axes.facecolor\"] = \"white\"\n",
    "\n",
    "plt.hist2d(cell_count.values.flatten(), \n",
    "           infer_cell_count.values.flatten(),# / np.mean(adata_vis_res.var['gene_level'].values),\n",
    "           bins=[50, 50], norm=mpl.colors.LogNorm());\n",
    "plt.xlabel('Simulated cell abundance');\n",
    "plt.ylabel('Estimated cell abundance');\n",
    "plt.title(r'exp, $R^2$: ' \\\n",
    "          + str(np.round(np.corrcoef(cell_count.values.flatten(), \n",
    "           infer_cell_count.values.flatten()), 3)[0,1]));\n",
    "#plt.gca().set_aspect('equal', adjustable='box')\n",
    "plt.tight_layout()\n",
    "#plt.savefig(fig_path + '/Cell_density_cor.pdf')"
   ]
  },
  {
   "cell_type": "code",
   "execution_count": 27,
   "metadata": {},
   "outputs": [
    {
     "data": {
      "image/png": "[encoded data removed]",
      "text/plain": [
       "<Figure size 288x288 with 1 Axes>"
      ]
     },
     "metadata": {
      "needs_background": "light"
     },
     "output_type": "display_data"
    }
   ],
   "source": [
    "rcParams['figure.figsize'] = 4, 4\n",
    "rcParams[\"axes.facecolor\"] = \"white\"\n",
    "\n",
    "plt.hist2d(cell_count.values.flatten(), \n",
    "           infer_cell_count_softplus.values.flatten(),# / np.mean(adata_vis_res.var['gene_level'].values),\n",
    "           bins=[50, 50], norm=mpl.colors.LogNorm());\n",
    "plt.xlabel('Simulated cell abundance');\n",
    "plt.ylabel('Estimated cell abundance');\n",
    "plt.title(r'softplus, $R^2$: ' \\\n",
    "          + str(np.round(np.corrcoef(cell_count.values.flatten(), \n",
    "           infer_cell_count_softplus.values.flatten()), 3)[0,1]));\n",
    "#plt.gca().set_aspect('equal', adjustable='box')\n",
    "plt.tight_layout()\n",
    "#plt.savefig(fig_path + '/Cell_density_cor.pdf')"
   ]
  },
  {
   "cell_type": "code",
   "execution_count": 28,
   "metadata": {},
   "outputs": [
    {
     "data": {
      "image/png": "[encoded data removed]",
      "text/plain": [
       "<Figure size 288x288 with 1 Axes>"
      ]
     },
     "metadata": {
      "needs_background": "light"
     },
     "output_type": "display_data"
    }
   ],
   "source": [
    "rcParams['figure.figsize'] = 4, 4\n",
    "rcParams[\"axes.facecolor\"] = \"white\"\n",
    "\n",
    "plt.hist2d(cell_count.values.flatten(), \n",
    "           infer_cell_count_softplus_all.values.flatten(),# / np.mean(adata_vis_res.var['gene_level'].values),\n",
    "           bins=[50, 50], norm=mpl.colors.LogNorm());\n",
    "plt.xlabel('Simulated cell abundance');\n",
    "plt.ylabel('Estimated cell abundance');\n",
    "plt.title(r'softplus all, $R^2$: ' \\\n",
    "          + str(np.round(np.corrcoef(cell_count.values.flatten(), \n",
    "           infer_cell_count_softplus_all.values.flatten()), 3)[0,1]));\n",
    "#plt.gca().set_aspect('equal', adjustable='box')\n",
    "plt.tight_layout()\n",
    "#plt.savefig(fig_path + '/Cell_density_cor.pdf')"
   ]
  },
  {
   "cell_type": "markdown",
   "metadata": {},
   "source": [
    "Original implementation of cell2location in pymc3 has $R^2 = 0.791$."
   ]
  },
  {
   "cell_type": "markdown",
   "metadata": {},
   "source": [
    "## Evaluate with PR curves"
   ]
  },
  {
   "cell_type": "code",
   "execution_count": 31,
   "metadata": {},
   "outputs": [],
   "source": [
    "import matplotlib as mpl\n",
    "from matplotlib import pyplot as plt\n",
    "import numpy as np\n",
    "from scipy import interpolate\n",
    "\n",
    "with plt.style.context('seaborn'):\n",
    "    seaborn_colors = mpl.rcParams['axes.prop_cycle'].by_key()['color']\n",
    "\n",
    "\n",
    "def compute_precision_recall(pos_cell_count, infer_cell_proportions, mode='macro'):\n",
    "    r\"\"\" Plot precision-recall curves on average and for each cell type.\n",
    "    :param pos_cell_count: binary matrix showing which cell types are present in which locations\n",
    "    :param infer_cell_proportions: inferred locations (the higher the more cells)\n",
    "    \"\"\"\n",
    "    \n",
    "    from sklearn.metrics import precision_recall_curve\n",
    "    from sklearn.metrics import average_precision_score\n",
    "    \n",
    "    ### calculating ###\n",
    "    predictor = infer_cell_proportions.values + np.random.gamma(20, 1e-12, \n",
    "                                                                infer_cell_proportions.shape)\n",
    "    # For each cell type\n",
    "    precision = dict()\n",
    "    recall = dict()\n",
    "    average_precision = dict()\n",
    "    for i, c in enumerate(infer_cell_proportions.columns):\n",
    "        precision[c], recall[c], _ = precision_recall_curve(pos_cell_count[:, i],\n",
    "                                                            predictor[:, i])\n",
    "        average_precision[c] = average_precision_score(pos_cell_count[:, i], predictor[:, i], average=mode)\n",
    "\n",
    "    average_precision[\"averaged\"] = average_precision_score(pos_cell_count, predictor,\n",
    "                                                     average=mode)\n",
    "\n",
    "    # A \"micro-average\": quantifying score on all classes jointly\n",
    "    if mode == 'micro':\n",
    "        precision_, recall_, threshold = precision_recall_curve(pos_cell_count.ravel(),\n",
    "                                                                        predictor.ravel())\n",
    "        #precision_[threshold < 0.1] = 0\n",
    "        precision[\"averaged\"], recall[\"averaged\"] =  precision_, recall_\n",
    "\n",
    "    elif mode == 'macro':\n",
    "        precisions = []\n",
    "        recall_grid = np.linspace(0, 1, 2000)\n",
    "\n",
    "        for i, c in enumerate(infer_cell_proportions.columns):\n",
    "            f = interpolate.interp1d(recall[c], precision[c])\n",
    "            precision_interp = f(recall_grid)\n",
    "            precisions.append(precision_interp)\n",
    "\n",
    "        precision[\"averaged\"] = np.mean(precisions, axis=0)\n",
    "        recall['averaged'] = recall_grid\n",
    "\n",
    "        \n",
    "    return precision, recall, average_precision\n",
    "\n",
    "def compare_precision_recall(pos_cell_count, infer_cell_proportions,\n",
    "                             method_title, title='',\n",
    "                             legend_loc=(0, -.37),\n",
    "                             colors=sc.pl.palettes.default_102,\n",
    "                             mode='macro', curve='PR'):\n",
    "    \n",
    "    r\"\"\" Plot precision-recall curves on average and for each cell type.\n",
    "    :param pos_cell_count: binary matrix showing which cell types are present in which locations\n",
    "    :param infer_cell_proportions: inferred locations (the higher the more cells), \n",
    "                                        list of inferred parameters for several methods\n",
    "    :param method_title: title for each infer_cell_proportions\n",
    "    :param title: plot title\n",
    "    \"\"\"\n",
    "    # setup plot details\n",
    "    from itertools import cycle\n",
    "    colors = cycle(colors)\n",
    "    lines = []\n",
    "    labels = []\n",
    "    roc = {}\n",
    "    \n",
    "    ### plotting ###\n",
    "    for i, color in zip(range(len(infer_cell_proportions)), colors):\n",
    "        \n",
    "        if curve == 'PR':\n",
    "            precision, recall, average_precision = compute_precision_recall(pos_cell_count, \n",
    "                                                                        infer_cell_proportions[i], \n",
    "                                                                        mode=mode)\n",
    "\n",
    "            xlabel = 'Recall'\n",
    "            ylabel = 'Precision'\n",
    "            \n",
    "            l, = plt.plot(recall[\"averaged\"], precision[\"averaged\"], color=color, lw=3)\n",
    "\n",
    "        elif curve == 'ROC':\n",
    "            FPR, TPR, average_precision = compute_roc(pos_cell_count, \n",
    "                                                                        infer_cell_proportions[i], \n",
    "                                                                        mode=mode)\n",
    "\n",
    "            xlabel = 'FPR'\n",
    "            ylabel = 'TPR'\n",
    "            \n",
    "            l, = plt.plot(FPR[\"averaged\"], TPR[\"averaged\"], color=color, lw=3)\n",
    "            \n",
    "        \n",
    "        lines.append(l)\n",
    "\n",
    "        labels.append(method_title[i] + '(' + curve + ' score = {0:0.2f})'\n",
    "                      ''.format(average_precision[\"averaged\"]))\n",
    "        roc[method_title[i]] = average_precision[\"averaged\"]\n",
    "\n",
    "\n",
    "    fig = plt.gcf()\n",
    "    fig.subplots_adjust(bottom=0.25)\n",
    "    plt.xlim([0.0, 1.0])\n",
    "    plt.ylim([0.0, 1.05])\n",
    "    plt.xlabel(xlabel)\n",
    "    plt.ylabel(ylabel)\n",
    "    plt.title(title)\n",
    "    if legend_loc is not None:\n",
    "        plt.legend(lines, labels, loc=legend_loc, prop=dict(size=8))\n",
    "\n",
    "    #plt.show()\n",
    "    return roc"
   ]
  },
  {
   "cell_type": "code",
   "execution_count": 32,
   "metadata": {},
   "outputs": [
    {
     "data": {
      "image/png": "[encoded data removed]",
      "text/plain": [
       "<Figure size 432x216 with 1 Axes>"
      ]
     },
     "metadata": {
      "needs_background": "light"
     },
     "output_type": "display_data"
    }
   ],
   "source": [
    "rcParams['figure.figsize'] = 6, 3\n",
    "rcParams['font.size'] = 8\n",
    "\n",
    "results = [\n",
    "    infer_cell_count,\n",
    "    infer_cell_count_softplus,\n",
    "    infer_cell_count_softplus_all\n",
    "]\n",
    "\n",
    "names = [\n",
    "    'exp', \n",
    "    'softplus scales', \n",
    "    'all_softplus'\n",
    "]\n",
    "\n",
    "compare_precision_recall(cell_count.values > 0.1, \n",
    "                         results,\n",
    "                         method_title=names, \n",
    "                         legend_loc=(1.1, 0.5))\n",
    "plt.tight_layout()"
   ]
  },
  {
   "cell_type": "markdown",
   "metadata": {},
   "source": [
    "Original implementation of cell2location in pymc3 has PR score = 0.66."
   ]
  },
  {
   "cell_type": "code",
   "execution_count": 33,
   "metadata": {},
   "outputs": [
    {
     "name": "stdout",
     "output_type": "stream",
     "text": [
      "ipykernel 5.5.3\n",
      "ipykernel._version 5.5.3\n",
      "json 2.0.9\n",
      "re 2.2.1\n",
      "IPython 7.22.0\n",
      "IPython.core.release 7.22.0\n",
      "logging 0.5.1.2\n",
      "zlib 1.0\n",
      "traitlets 5.0.5\n",
      "traitlets._version 5.0.5\n",
      "argparse 1.1\n",
      "ipython_genutils 0.2.0\n",
      "ipython_genutils._version 0.2.0\n",
      "platform 1.0.8\n",
      "pygments 2.8.1\n",
      "pexpect 4.8.0\n",
      "ptyprocess 0.7.0\n",
      "decorator 5.0.6\n",
      "pickleshare 0.7.5\n",
      "backcall 0.2.0\n",
      "prompt_toolkit 3.0.18\n",
      "wcwidth 0.2.5\n",
      "jedi 0.18.0\n",
      "parso 0.8.2\n",
      "colorama 0.4.4\n",
      "ctypes 1.1.0\n",
      "_ctypes 1.1.0\n",
      "urllib.request 3.7\n",
      "jupyter_client 6.1.12\n",
      "jupyter_client._version 6.1.12\n",
      "zmq 22.0.3\n",
      "zmq.backend.cython 40304\n",
      "zmq.backend.cython.constants 40304\n",
      "zmq.sugar 22.0.3\n",
      "zmq.sugar.constants 40304\n",
      "zmq.sugar.version 22.0.3\n",
      "jupyter_core 4.7.1\n",
      "jupyter_core.version 4.7.1\n",
      "_curses b'2.2'\n",
      "dateutil 2.8.1\n",
      "six 1.15.0\n",
      "decimal 1.70\n",
      "_decimal 1.70\n",
      "distutils 3.7.10\n",
      "scanpy 1.7.2\n",
      "scanpy._metadata 1.7.2\n",
      "packaging 20.9\n",
      "packaging.__about__ 20.9\n",
      "pkg_resources._vendor.six 1.10.0\n",
      "pkg_resources.extern.six 1.10.0\n",
      "pkg_resources._vendor.appdirs 1.4.3\n",
      "pkg_resources.extern.appdirs 1.4.3\n",
      "pkg_resources._vendor.packaging 20.4\n",
      "pkg_resources._vendor.packaging.__about__ 20.4\n",
      "pkg_resources.extern.packaging 20.4\n",
      "pkg_resources._vendor.pyparsing 2.2.1\n",
      "pkg_resources.extern.pyparsing 2.2.1\n",
      "csv 1.0\n",
      "_csv 1.0\n",
      "numpy 1.20.2\n",
      "numpy.core 1.20.2\n",
      "numpy.core._multiarray_umath 3.1\n",
      "numpy.lib 1.20.2\n",
      "numpy.linalg._umath_linalg 0.1.5\n",
      "scipy 1.6.2\n",
      "anndata 0.7.5\n",
      "anndata._metadata 0.7.5\n",
      "h5py 3.1.0\n",
      "cached_property 1.5.2\n",
      "natsort 7.1.1\n",
      "pandas 1.2.3\n",
      "pytz 2021.1\n",
      "pandas.compat.numpy.function 1.20.2\n",
      "sinfo 0.3.1\n",
      "stdlib_list v0.7.0\n",
      "numba 0.53.1\n",
      "llvmlite 0.36.0\n",
      "numba.misc.appdirs 1.4.1\n",
      "sklearn 0.24.1\n",
      "sklearn.base 0.24.1\n",
      "joblib 1.0.1\n",
      "joblib.externals.loky 2.9.0\n",
      "joblib.externals.cloudpickle 1.6.0\n",
      "scipy._lib.decorator 4.0.5\n",
      "scipy.linalg._fblas b'$Revision: $'\n",
      "scipy.linalg._flapack b'$Revision: $'\n",
      "scipy.linalg._flinalg b'$Revision: $'\n",
      "scipy.special.specfun b'$Revision: $'\n",
      "scipy.ndimage 2.0\n",
      "scipy.optimize.minpack2 b'$Revision: $'\n",
      "scipy.sparse.linalg.isolve._iterative b'$Revision: $'\n",
      "scipy.sparse.linalg.eigen.arpack._arpack b'$Revision: $'\n",
      "scipy.optimize._lbfgsb b'$Revision: $'\n",
      "scipy.optimize._cobyla b'$Revision: $'\n",
      "scipy.optimize._slsqp b'$Revision: $'\n",
      "scipy.optimize._minpack  1.10 \n",
      "scipy.optimize.__nnls b'$Revision: $'\n",
      "scipy.linalg._interpolative b'$Revision: $'\n",
      "scipy.integrate._odepack  1.9 \n",
      "scipy.integrate._quadpack  1.13 \n",
      "scipy.integrate._ode $Id$\n",
      "scipy.integrate.vode b'$Revision: $'\n",
      "scipy.integrate._dop b'$Revision: $'\n",
      "scipy.integrate.lsoda b'$Revision: $'\n",
      "scipy.interpolate._fitpack  1.7 \n",
      "scipy.interpolate.dfitpack b'$Revision: $'\n",
      "scipy.stats.statlib b'$Revision: $'\n",
      "scipy.stats.mvn b'$Revision: $'\n",
      "sklearn.utils._joblib 1.0.1\n",
      "leidenalg 0.8.3\n",
      "igraph 0.9.1\n",
      "texttable 1.6.3\n",
      "igraph.version 0.9.1\n",
      "louvain 0.7.0\n",
      "matplotlib 3.4.1\n",
      "PIL 8.1.2\n",
      "PIL._version 8.1.2\n",
      "PIL.Image 8.1.2\n",
      "xml.etree.ElementTree 1.3.0\n",
      "cffi 1.14.5\n",
      "pyparsing 2.4.7\n",
      "cycler 0.10.0\n",
      "kiwisolver 1.3.1\n",
      "tables 3.6.1\n",
      "numexpr 2.7.3\n",
      "legacy_api_wrap 0.0.0\n",
      "get_version 2.1\n",
      "pyro 1.6.0\n",
      "torch 1.8.1+cu102\n",
      "torch.version 1.8.1+cu102\n",
      "tqdm 4.60.0\n",
      "tqdm.cli 4.60.0\n",
      "tqdm.version 4.60.0\n",
      "tqdm._dist_ver 4.60.0\n",
      "ipywidgets 7.6.3\n",
      "ipywidgets._version 7.6.3\n",
      "opt_einsum v3.3.0\n",
      "pyro._version 1.6.0\n",
      "seaborn 0.11.1\n",
      "seaborn.external.husl 2.1.0\n",
      "statsmodels 0.12.2\n"
     ]
    }
   ],
   "source": [
    "import sys\n",
    "for module in sys.modules:\n",
    "    try:\n",
    "        print(module,sys.modules[module].__version__)\n",
    "    except:\n",
    "        try:\n",
    "            if  type(modules[module].version) is str:\n",
    "                print(module,sys.modules[module].version)\n",
    "            else:\n",
    "                print(module,sys.modules[module].version())\n",
    "        except:\n",
    "            try:\n",
    "                print(module,sys.modules[module].VERSION)\n",
    "            except:\n",
    "                pass"
   ]
  },
  {
   "cell_type": "code",
   "execution_count": null,
   "metadata": {},
   "outputs": [],
   "source": []
  }
 ],
 "metadata": {
  "kernelspec": {
   "display_name": "Python [conda env:pyro160]",
   "language": "python",
   "name": "conda-env-pyro160-py"
  },
  "language_info": {
   "codemirror_mode": {
    "name": "ipython",
    "version": 3
   },
   "file_extension": ".py",
   "mimetype": "text/x-python",
   "name": "python",
   "nbconvert_exporter": "python",
   "pygments_lexer": "ipython3",
   "version": "3.7.10"
  }
 },
 "nbformat": 4,
 "nbformat_minor": 4
}
