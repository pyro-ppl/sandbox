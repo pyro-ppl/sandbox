{
 "cells": [
  {
   "cell_type": "markdown",
   "metadata": {},
   "source": [
    "# Benchmarking cell2location numpyro model using softplus/exp for scales  using 5x larger data"
   ]
  },
  {
   "cell_type": "code",
   "execution_count": 1,
   "metadata": {},
   "outputs": [
    {
     "name": "stdout",
     "output_type": "stream",
     "text": [
      "gpu\n"
     ]
    }
   ],
   "source": [
    "import sys, ast, os\n",
    "import scanpy as sc\n",
    "import anndata\n",
    "import pandas as pd\n",
    "import numpy as np\n",
    "import os\n",
    "import matplotlib.pyplot as plt \n",
    "import matplotlib as mpl\n",
    "data_type='float32'\n",
    "\n",
    "# this line forces JAX to use the GPU and should go before importing cell2location\n",
    "os.environ[\"JAX_PLATFORM_NAME\"] = \"gpu\"\n",
    "#os.environ[\"XLA_PYTHON_CLIENT_ALLOCATOR\"]=\"platform\"\n",
    "os.environ[\"XLA_PYTHON_CLIENT_PREALLOCATE\"]=\"false\"\n",
    "\n",
    "\n",
    "import cell2location_model_numpyro as cell2location_model \n",
    "\n",
    "from matplotlib import rcParams\n",
    "rcParams['pdf.fonttype'] = 42 # enables correct plotting of text\n",
    "import seaborn as sns\n",
    "\n",
    "from jax.lib import xla_bridge\n",
    "print(xla_bridge.get_backend().platform)"
   ]
  },
  {
   "cell_type": "markdown",
   "metadata": {},
   "source": [
    "## Read datasets and train cell2location"
   ]
  },
  {
   "cell_type": "markdown",
   "metadata": {},
   "source": [
    "Data can be downloaded as follows:\n",
    "\n",
    "```bash\n",
    "wget https://cell2location.cog.sanger.ac.uk/paper/synthetic_with_tissue_zones/synth_adata_real_mg_20210131.h5ad\n",
    "wget https://cell2location.cog.sanger.ac.uk/paper/synthetic_with_tissue_zones/training_5705STDY8058280_5705STDY8058281_20210131.h5ad\n",
    "```"
   ]
  },
  {
   "cell_type": "code",
   "execution_count": 2,
   "metadata": {},
   "outputs": [],
   "source": [
    "sc_data_folder = '/nfs/team205/vk7/sanger_projects/cell2location_paper/notebooks/selected_data/mouse_visium_snrna/'\n",
    "sp_data_folder = '/nfs/team205/vk7/sanger_projects/cell2location_paper/notebooks/selected_results/benchmarking/with_tissue_zones/data/'\n",
    "results_folder = '/nfs/team205/vk7/sanger_projects/cell2location_paper/notebooks/selected_results/benchmarking/with_tissue_zones/real_mg/pyro/'"
   ]
  },
  {
   "cell_type": "code",
   "execution_count": 4,
   "metadata": {},
   "outputs": [
    {
     "name": "stderr",
     "output_type": "stream",
     "text": [
      "/nfs/team283/vk7/software/miniconda3farm5/envs/numpyro/lib/python3.7/site-packages/pandas/core/arrays/categorical.py:2487: FutureWarning: The `inplace` parameter in pandas.Categorical.remove_unused_categories is deprecated and will be removed in a future version.\n",
      "  res = method(*args, **kwargs)\n"
     ]
    }
   ],
   "source": [
    "# read synthetic data\n",
    "adata_vis = anndata.read(f'{sp_data_folder}synth_adata_real_mg_20210131.h5ad')\n",
    "adata_vis.uns['spatial'] = {'x': 'y'}\n",
    "# select 5 samples (each with 2500 observations)\n",
    "adata_vis = adata_vis[adata_vis.obs['sample'].isin([f'exper{i}' for i in range(5)]),:]\n",
    "\n",
    "# read scRNA-seq data with reference cell types\n",
    "adata_snrna_raw = anndata.read(f'{sp_data_folder}training_5705STDY8058280_5705STDY8058281_20210131.h5ad')"
   ]
  },
  {
   "cell_type": "code",
   "execution_count": 5,
   "metadata": {},
   "outputs": [],
   "source": [
    "import scipy\n",
    "adata_snrna_raw.X = scipy.sparse.csr_matrix(adata_snrna_raw.X)"
   ]
  },
  {
   "cell_type": "code",
   "execution_count": 6,
   "metadata": {},
   "outputs": [],
   "source": [
    "adata_vis.X = scipy.sparse.csr_matrix(adata_vis.X)"
   ]
  },
  {
   "cell_type": "markdown",
   "metadata": {},
   "source": [
    "Add counts matrix as `adata.raw` "
   ]
  },
  {
   "cell_type": "code",
   "execution_count": 7,
   "metadata": {},
   "outputs": [],
   "source": [
    "adata_snrna_raw.raw = adata_snrna_raw\n",
    "adata_vis.raw = adata_vis"
   ]
  },
  {
   "cell_type": "code",
   "execution_count": 8,
   "metadata": {},
   "outputs": [],
   "source": [
    "# compute average for each cluster\n",
    "aver = cell2location_model.get_cluster_averages(adata_snrna_raw, 'annotation_1')\n",
    "\n",
    "# make sure the order of gene matches between aver and x_data\n",
    "aver = aver.loc[adata_vis.var_names,:]\n",
    "\n",
    "# generate one-hot encoded matrix telling which obs belong to whic samples\n",
    "obs2sample_df = pd.get_dummies(adata_vis.obs['sample'])"
   ]
  },
  {
   "cell_type": "code",
   "execution_count": 9,
   "metadata": {},
   "outputs": [
    {
     "data": {
      "text/plain": [
       "AnnData object with n_obs × n_vars = 12500 × 12809\n",
       "    obs: 'cell_count_Inh_3', 'cell_count_Ext_Pir', 'cell_count_Oligo_2', 'cell_count_Astro_HYPO', 'cell_count_Ext_L25', 'cell_count_Astro_THAL_lat', 'cell_count_Ext_L5_1', 'cell_count_Ext_L23', 'cell_count_Micro', 'cell_count_Ext_Thal_1', 'cell_count_Ext_Hpc_CA1', 'cell_count_Inh_Meis2_3', 'cell_count_Inh_4', 'cell_count_OPC_1', 'cell_count_Oligo_1', 'cell_count_Ext_Hpc_CA3', 'cell_count_Astro_CTX', 'cell_count_Astro_THAL_med', 'cell_count_Inh_Vip', 'cell_count_Ext_Amy_2', 'cell_count_Astro_AMY_CTX', 'cell_count_Unk_1', 'cell_count_Inh_Sst', 'cell_count_Inh_Meis2_2', 'cell_count_Ext_Hpc_DG2', 'cell_count_Ext_Hpc_DG1', 'cell_count_Inh_1', 'cell_count_Inh_Meis2_4', 'cell_count_Inh_2', 'cell_count_Nb_1', 'cell_count_Ext_Thal_2', 'cell_count_Ext_Amy_1', 'cell_count_Ext_L6', 'cell_count_OPC_2', 'cell_count_Inh_Meis2_1', 'cell_count_Ext_L6B', 'cell_count_LowQ_2', 'cell_count_Ext_Unk_3', 'cell_count_Ext_L56', 'cell_count_Inh_Lamp5', 'cell_count_Inh_Pvalb', 'cell_count_Ext_L5_2', 'cell_count_Inh_6', 'cell_count_Astro_AMY', 'cell_count_Ext_ClauPyr', 'cell_count_Astro_HPC', 'cell_count_Astro_WM', 'cell_count_Nb_2', 'cell_count_Inh_5', 'cell_abundances_Inh_3', 'cell_abundances_Ext_Pir', 'cell_abundances_Oligo_2', 'cell_abundances_Astro_HYPO', 'cell_abundances_Ext_L25', 'cell_abundances_Astro_THAL_lat', 'cell_abundances_Ext_L5_1', 'cell_abundances_Ext_L23', 'cell_abundances_Micro', 'cell_abundances_Ext_Thal_1', 'cell_abundances_Ext_Hpc_CA1', 'cell_abundances_Inh_Meis2_3', 'cell_abundances_Inh_4', 'cell_abundances_OPC_1', 'cell_abundances_Oligo_1', 'cell_abundances_Ext_Hpc_CA3', 'cell_abundances_Astro_CTX', 'cell_abundances_Astro_THAL_med', 'cell_abundances_Inh_Vip', 'cell_abundances_Ext_Amy_2', 'cell_abundances_Astro_AMY_CTX', 'cell_abundances_Unk_1', 'cell_abundances_Inh_Sst', 'cell_abundances_Inh_Meis2_2', 'cell_abundances_Ext_Hpc_DG2', 'cell_abundances_Ext_Hpc_DG1', 'cell_abundances_Inh_1', 'cell_abundances_Inh_Meis2_4', 'cell_abundances_Inh_2', 'cell_abundances_Nb_1', 'cell_abundances_Ext_Thal_2', 'cell_abundances_Ext_Amy_1', 'cell_abundances_Ext_L6', 'cell_abundances_OPC_2', 'cell_abundances_Inh_Meis2_1', 'cell_abundances_Ext_L6B', 'cell_abundances_LowQ_2', 'cell_abundances_Ext_Unk_3', 'cell_abundances_Ext_L56', 'cell_abundances_Inh_Lamp5', 'cell_abundances_Inh_Pvalb', 'cell_abundances_Ext_L5_2', 'cell_abundances_Inh_6', 'cell_abundances_Astro_AMY', 'cell_abundances_Ext_ClauPyr', 'cell_abundances_Astro_HPC', 'cell_abundances_Astro_WM', 'cell_abundances_Nb_2', 'cell_abundances_Inh_5', 'cell_capture_eff_Inh_3', 'cell_capture_eff_Ext_Pir', 'cell_capture_eff_Oligo_2', 'cell_capture_eff_Astro_HYPO', 'cell_capture_eff_Ext_L25', 'cell_capture_eff_Astro_THAL_lat', 'cell_capture_eff_Ext_L5_1', 'cell_capture_eff_Ext_L23', 'cell_capture_eff_Micro', 'cell_capture_eff_Ext_Thal_1', 'cell_capture_eff_Ext_Hpc_CA1', 'cell_capture_eff_Inh_Meis2_3', 'cell_capture_eff_Inh_4', 'cell_capture_eff_OPC_1', 'cell_capture_eff_Oligo_1', 'cell_capture_eff_Ext_Hpc_CA3', 'cell_capture_eff_Astro_CTX', 'cell_capture_eff_Astro_THAL_med', 'cell_capture_eff_Inh_Vip', 'cell_capture_eff_Ext_Amy_2', 'cell_capture_eff_Astro_AMY_CTX', 'cell_capture_eff_Unk_1', 'cell_capture_eff_Inh_Sst', 'cell_capture_eff_Inh_Meis2_2', 'cell_capture_eff_Ext_Hpc_DG2', 'cell_capture_eff_Ext_Hpc_DG1', 'cell_capture_eff_Inh_1', 'cell_capture_eff_Inh_Meis2_4', 'cell_capture_eff_Inh_2', 'cell_capture_eff_Nb_1', 'cell_capture_eff_Ext_Thal_2', 'cell_capture_eff_Ext_Amy_1', 'cell_capture_eff_Ext_L6', 'cell_capture_eff_OPC_2', 'cell_capture_eff_Inh_Meis2_1', 'cell_capture_eff_Ext_L6B', 'cell_capture_eff_LowQ_2', 'cell_capture_eff_Ext_Unk_3', 'cell_capture_eff_Ext_L56', 'cell_capture_eff_Inh_Lamp5', 'cell_capture_eff_Inh_Pvalb', 'cell_capture_eff_Ext_L5_2', 'cell_capture_eff_Inh_6', 'cell_capture_eff_Astro_AMY', 'cell_capture_eff_Ext_ClauPyr', 'cell_capture_eff_Astro_HPC', 'cell_capture_eff_Astro_WM', 'cell_capture_eff_Nb_2', 'cell_capture_eff_Inh_5', 'sample', 'UMI_count_Inh_3', 'UMI_count_Ext_Pir', 'UMI_count_Oligo_2', 'UMI_count_Astro_HYPO', 'UMI_count_Ext_L25', 'UMI_count_Astro_THAL_lat', 'UMI_count_Ext_L5_1', 'UMI_count_Ext_L23', 'UMI_count_Micro', 'UMI_count_Ext_Thal_1', 'UMI_count_Ext_Hpc_CA1', 'UMI_count_Inh_Meis2_3', 'UMI_count_Inh_4', 'UMI_count_OPC_1', 'UMI_count_Oligo_1', 'UMI_count_Ext_Hpc_CA3', 'UMI_count_Astro_CTX', 'UMI_count_Astro_THAL_med', 'UMI_count_Inh_Vip', 'UMI_count_Ext_Amy_2', 'UMI_count_Astro_AMY_CTX', 'UMI_count_Unk_1', 'UMI_count_Inh_Sst', 'UMI_count_Inh_Meis2_2', 'UMI_count_Ext_Hpc_DG2', 'UMI_count_Ext_Hpc_DG1', 'UMI_count_Inh_1', 'UMI_count_Inh_Meis2_4', 'UMI_count_Inh_2', 'UMI_count_Nb_1', 'UMI_count_Ext_Thal_2', 'UMI_count_Ext_Amy_1', 'UMI_count_Ext_L6', 'UMI_count_OPC_2', 'UMI_count_Inh_Meis2_1', 'UMI_count_Ext_L6B', 'UMI_count_LowQ_2', 'UMI_count_Ext_Unk_3', 'UMI_count_Ext_L56', 'UMI_count_Inh_Lamp5', 'UMI_count_Inh_Pvalb', 'UMI_count_Ext_L5_2', 'UMI_count_Inh_6', 'UMI_count_Astro_AMY', 'UMI_count_Ext_ClauPyr', 'UMI_count_Astro_HPC', 'UMI_count_Astro_WM', 'UMI_count_Nb_2', 'UMI_count_Inh_5'\n",
       "    var: 'gene_level'\n",
       "    uns: 'design', 'spatial'\n",
       "    obsm: 'X_spatial'\n",
       "    layers: 'expression_levels'"
      ]
     },
     "execution_count": 9,
     "metadata": {},
     "output_type": "execute_result"
    }
   ],
   "source": [
    "adata_vis"
   ]
  },
  {
   "cell_type": "markdown",
   "metadata": {},
   "source": [
    "## Model training"
   ]
  },
  {
   "cell_type": "code",
   "execution_count": 10,
   "metadata": {},
   "outputs": [
    {
     "data": {
      "text/plain": [
       "'/nfs/team205/vk7/sanger_projects/cell2location_paper/notebooks/selected_results/benchmarking/with_tissue_zones/real_mg/pyro/'"
      ]
     },
     "execution_count": 10,
     "metadata": {},
     "output_type": "execute_result"
    }
   ],
   "source": [
    "results_folder"
   ]
  },
  {
   "cell_type": "code",
   "execution_count": 11,
   "metadata": {
    "scrolled": false
   },
   "outputs": [],
   "source": [
    "mod = cell2location_model.LocationModelLinearDependentWMultiExperiment(\n",
    "    device='gpu',\n",
    "    n_obs=adata_vis.n_obs,\n",
    "    n_vars=adata_vis.n_vars,\n",
    "        n_factors=aver.shape[1],\n",
    "        n_exper=obs2sample_df.shape[1],\n",
    "        batch_size=None,\n",
    "        cell_state_mat=aver.values.astype(data_type),\n",
    "    )\n"
   ]
  },
  {
   "cell_type": "code",
   "execution_count": 13,
   "metadata": {},
   "outputs": [
    {
     "data": {
      "application/vnd.jupyter.widget-view+json": {
       "model_id": "c16347ad672841c1af9672b6c4a436d2",
       "version_major": 2,
       "version_minor": 0
      },
      "text/plain": [
       "  0%|          | 0/30000 [00:00<?, ?it/s]"
      ]
     },
     "metadata": {},
     "output_type": "display_data"
    }
   ],
   "source": [
    "from numpyro.distributions import constraints\n",
    "mod.guide.scale_constraint = constraints.positive\n",
    "\n",
    "mod._train_full_data(x_data=adata_vis.raw.X.toarray().astype(data_type),\n",
    "                     obs2sample=obs2sample_df.values.astype(data_type),\n",
    "                     n_epochs=30000, lr=0.005)"
   ]
  },
  {
   "cell_type": "code",
   "execution_count": 14,
   "metadata": {},
   "outputs": [],
   "source": [
    "means = mod.guide.median(mod.state_param)\n",
    "means = {k: np.array(v)\n",
    "         for k, v in means.items()}"
   ]
  },
  {
   "cell_type": "code",
   "execution_count": 15,
   "metadata": {},
   "outputs": [
    {
     "data": {
      "text/plain": [
       "{'m_g_alpha_hyp': array(nan, dtype=float32),\n",
       " 'm_g_beta_hyp': array(nan, dtype=float32),\n",
       " 'm_g': array([[nan, nan, nan, ..., nan, nan, nan]], dtype=float32),\n",
       " 'n_s_cells_per_location': array([[nan],\n",
       "        [nan],\n",
       "        [nan],\n",
       "        ...,\n",
       "        [nan],\n",
       "        [nan],\n",
       "        [nan]], dtype=float32),\n",
       " 'y_s_groups_per_location': array([[nan],\n",
       "        [nan],\n",
       "        [nan],\n",
       "        ...,\n",
       "        [nan],\n",
       "        [nan],\n",
       "        [nan]], dtype=float32),\n",
       " 'z_sr_groups_factors': array([[nan, nan, nan, ..., nan, nan, nan],\n",
       "        [nan, nan, nan, ..., nan, nan, nan],\n",
       "        [nan, nan, nan, ..., nan, nan, nan],\n",
       "        ...,\n",
       "        [nan, nan, nan, ..., nan, nan, nan],\n",
       "        [nan, nan, nan, ..., nan, nan, nan],\n",
       "        [nan, nan, nan, ..., nan, nan, nan]], dtype=float32),\n",
       " 'k_r_factors_per_groups': array([[nan],\n",
       "        [nan],\n",
       "        [nan],\n",
       "        [nan],\n",
       "        [nan],\n",
       "        [nan],\n",
       "        [nan],\n",
       "        [nan],\n",
       "        [nan],\n",
       "        [nan],\n",
       "        [nan],\n",
       "        [nan],\n",
       "        [nan],\n",
       "        [nan],\n",
       "        [nan],\n",
       "        [nan],\n",
       "        [nan],\n",
       "        [nan],\n",
       "        [nan],\n",
       "        [nan],\n",
       "        [nan],\n",
       "        [nan],\n",
       "        [nan],\n",
       "        [nan],\n",
       "        [nan],\n",
       "        [nan],\n",
       "        [nan],\n",
       "        [nan],\n",
       "        [nan],\n",
       "        [nan],\n",
       "        [nan],\n",
       "        [nan],\n",
       "        [nan],\n",
       "        [nan],\n",
       "        [nan],\n",
       "        [nan],\n",
       "        [nan],\n",
       "        [nan],\n",
       "        [nan],\n",
       "        [nan],\n",
       "        [nan],\n",
       "        [nan],\n",
       "        [nan],\n",
       "        [nan],\n",
       "        [nan],\n",
       "        [nan],\n",
       "        [nan],\n",
       "        [nan],\n",
       "        [nan],\n",
       "        [nan]], dtype=float32),\n",
       " 'x_fr_group2fact': array([[nan, nan, nan, ..., nan, nan, nan],\n",
       "        [nan, nan, nan, ..., nan, nan, nan],\n",
       "        [nan, nan, nan, ..., nan, nan, nan],\n",
       "        ...,\n",
       "        [nan, nan, nan, ..., nan, nan, nan],\n",
       "        [nan, nan, nan, ..., nan, nan, nan],\n",
       "        [nan, nan, nan, ..., nan, nan, nan]], dtype=float32),\n",
       " 'w_sf': array([[nan, nan, nan, ..., nan, nan, nan],\n",
       "        [nan, nan, nan, ..., nan, nan, nan],\n",
       "        [nan, nan, nan, ..., nan, nan, nan],\n",
       "        ...,\n",
       "        [nan, nan, nan, ..., nan, nan, nan],\n",
       "        [nan, nan, nan, ..., nan, nan, nan],\n",
       "        [nan, nan, nan, ..., nan, nan, nan]], dtype=float32),\n",
       " 'l_s_add_alpha': array([[nan]], dtype=float32),\n",
       " 'l_s_add_beta': array([[nan]], dtype=float32),\n",
       " 'l_s_add': array([[nan],\n",
       "        [nan],\n",
       "        [nan],\n",
       "        ...,\n",
       "        [nan],\n",
       "        [nan],\n",
       "        [nan]], dtype=float32),\n",
       " 's_g_gene_add_alpha_hyp': array(nan, dtype=float32),\n",
       " 's_g_gene_add_mean': array([[nan],\n",
       "        [nan],\n",
       "        [nan],\n",
       "        [nan],\n",
       "        [nan]], dtype=float32),\n",
       " 's_g_gene_add_alpha_e_inv': array([[nan],\n",
       "        [nan],\n",
       "        [nan],\n",
       "        [nan],\n",
       "        [nan]], dtype=float32),\n",
       " 's_g_gene_add': array([[nan, nan, nan, ..., nan, nan, nan],\n",
       "        [nan, nan, nan, ..., nan, nan, nan],\n",
       "        [nan, nan, nan, ..., nan, nan, nan],\n",
       "        [nan, nan, nan, ..., nan, nan, nan],\n",
       "        [nan, nan, nan, ..., nan, nan, nan]], dtype=float32),\n",
       " 'alpha_g_phi_hyp': array(nan, dtype=float32),\n",
       " 'alpha_g_inverse': array([[nan, nan, nan, ..., nan, nan, nan],\n",
       "        [nan, nan, nan, ..., nan, nan, nan],\n",
       "        [nan, nan, nan, ..., nan, nan, nan],\n",
       "        [nan, nan, nan, ..., nan, nan, nan],\n",
       "        [nan, nan, nan, ..., nan, nan, nan]], dtype=float32),\n",
       " 'u_sf_mRNA_factors': array([[nan, nan, nan, ..., nan, nan, nan],\n",
       "        [nan, nan, nan, ..., nan, nan, nan],\n",
       "        [nan, nan, nan, ..., nan, nan, nan],\n",
       "        ...,\n",
       "        [nan, nan, nan, ..., nan, nan, nan],\n",
       "        [nan, nan, nan, ..., nan, nan, nan],\n",
       "        [nan, nan, nan, ..., nan, nan, nan]], dtype=float32)}"
      ]
     },
     "execution_count": 15,
     "metadata": {},
     "output_type": "execute_result"
    }
   ],
   "source": [
    "means"
   ]
  },
  {
   "cell_type": "code",
   "execution_count": 17,
   "metadata": {},
   "outputs": [
    {
     "data": {
      "application/vnd.jupyter.widget-view+json": {
       "model_id": "2eb31dc61d8f4155b73fb70d1f363eb8",
       "version_major": 2,
       "version_minor": 0
      },
      "text/plain": [
       "  0%|          | 0/30000 [00:00<?, ?it/s]"
      ]
     },
     "metadata": {},
     "output_type": "display_data"
    }
   ],
   "source": [
    "mod_s = cell2location_model.LocationModelLinearDependentWMultiExperiment(\n",
    "    device='gpu',\n",
    "    n_obs=adata_vis.n_obs,\n",
    "    n_vars=adata_vis.n_vars,\n",
    "        n_factors=aver.shape[1],\n",
    "        n_exper=obs2sample_df.shape[1],\n",
    "        batch_size=None,\n",
    "        cell_state_mat=aver.values.astype(data_type),\n",
    "    )\n",
    "\n",
    "from numpyro.distributions import constraints\n",
    "mod_s.guide.scale_constraint = constraints.softplus_positive\n",
    "\n",
    "mod_s._train_full_data(x_data=adata_vis.raw.X.toarray().astype(data_type),\n",
    "                    obs2sample=obs2sample_df.values.astype(data_type),\n",
    "                    n_epochs=30000, lr=0.005)"
   ]
  },
  {
   "cell_type": "code",
   "execution_count": 18,
   "metadata": {},
   "outputs": [
    {
     "data": {
      "text/plain": [
       "{'m_g_alpha_hyp': array(0.4326141, dtype=float32),\n",
       " 'm_g_beta_hyp': array(1.2987474, dtype=float32),\n",
       " 'm_g': array([[1.8087189e-03, 1.0721967e-06, 3.4954894e-01, ..., 3.8966115e-03,\n",
       "         4.2312164e-02, 1.3056621e-01]], dtype=float32),\n",
       " 'n_s_cells_per_location': array([[ 9.514396],\n",
       "        [ 8.495035],\n",
       "        [ 8.740258],\n",
       "        ...,\n",
       "        [13.651454],\n",
       "        [15.802212],\n",
       "        [18.16898 ]], dtype=float32),\n",
       " 'y_s_groups_per_location': array([[15.71142 ],\n",
       "        [17.130707],\n",
       "        [17.68681 ],\n",
       "        ...,\n",
       "        [14.815949],\n",
       "        [15.480617],\n",
       "        [15.249536]], dtype=float32),\n",
       " 'z_sr_groups_factors': array([[0.04326408, 0.05036684, 0.04219256, ..., 0.0448439 , 0.04672726,\n",
       "         0.04064819],\n",
       "        [0.04118132, 0.04215825, 0.04124994, ..., 0.03910142, 0.04280119,\n",
       "         0.04653971],\n",
       "        [0.04418278, 0.04016995, 0.04274755, ..., 0.04210888, 0.04557902,\n",
       "         0.04574731],\n",
       "        ...,\n",
       "        [0.07136432, 0.06687152, 0.07644111, ..., 0.07716108, 0.06652515,\n",
       "         0.0825106 ],\n",
       "        [0.10423178, 0.10437587, 0.11566554, ..., 0.10836788, 0.09709226,\n",
       "         0.10831452],\n",
       "        [0.14210807, 0.14143771, 0.16382825, ..., 0.13281062, 0.14214137,\n",
       "         0.17750347]], dtype=float32),\n",
       " 'k_r_factors_per_groups': array([[10.369669 ],\n",
       "        [10.33602  ],\n",
       "        [10.253444 ],\n",
       "        [10.168168 ],\n",
       "        [10.063294 ],\n",
       "        [10.477659 ],\n",
       "        [10.436779 ],\n",
       "        [10.204993 ],\n",
       "        [10.158743 ],\n",
       "        [ 1.8709543],\n",
       "        [10.185121 ],\n",
       "        [10.272852 ],\n",
       "        [10.357682 ],\n",
       "        [ 9.980493 ],\n",
       "        [10.135981 ],\n",
       "        [10.289508 ],\n",
       "        [10.162602 ],\n",
       "        [10.422833 ],\n",
       "        [ 9.910624 ],\n",
       "        [ 9.73574  ],\n",
       "        [10.399786 ],\n",
       "        [10.113541 ],\n",
       "        [10.289317 ],\n",
       "        [10.546321 ],\n",
       "        [10.22046  ],\n",
       "        [10.299016 ],\n",
       "        [10.297102 ],\n",
       "        [10.453416 ],\n",
       "        [ 9.883796 ],\n",
       "        [10.25615  ],\n",
       "        [10.221376 ],\n",
       "        [10.113381 ],\n",
       "        [10.232065 ],\n",
       "        [10.266046 ],\n",
       "        [10.056814 ],\n",
       "        [10.437485 ],\n",
       "        [ 1.6293015],\n",
       "        [ 9.976539 ],\n",
       "        [ 2.852621 ],\n",
       "        [ 0.6994335],\n",
       "        [10.001729 ],\n",
       "        [10.307327 ],\n",
       "        [10.273203 ],\n",
       "        [10.396739 ],\n",
       "        [ 9.978225 ],\n",
       "        [10.09007  ],\n",
       "        [10.178285 ],\n",
       "        [10.08577  ],\n",
       "        [10.2650175],\n",
       "        [10.273497 ]], dtype=float32),\n",
       " 'x_fr_group2fact': array([[8.3430015e-05, 5.2992465e-05, 3.3701574e-05, ..., 6.0335002e-05,\n",
       "         1.8255162e-04, 2.0920248e-03],\n",
       "        [9.6469419e-05, 5.2584692e-05, 2.9263407e-05, ..., 6.3839609e-05,\n",
       "         1.9119443e-04, 1.9922464e-03],\n",
       "        [7.1754344e-05, 4.8767204e-05, 3.0129162e-05, ..., 5.6682897e-05,\n",
       "         2.0718048e-04, 2.0867453e-03],\n",
       "        ...,\n",
       "        [9.9025812e-05, 5.1444957e-05, 3.2541528e-05, ..., 6.0613736e-05,\n",
       "         1.7432243e-04, 2.3312585e-03],\n",
       "        [9.4639807e-05, 5.1322055e-05, 3.0041594e-05, ..., 6.9457885e-05,\n",
       "         1.7813839e-04, 2.2801517e-03],\n",
       "        [8.2651073e-05, 5.3297936e-05, 2.6377347e-05, ..., 5.6049030e-05,\n",
       "         1.8056201e-04, 2.2277676e-03]], dtype=float32),\n",
       " 'w_sf': array([[0.2167101 , 0.47506028, 0.26886907, ..., 0.02578458, 0.07385325,\n",
       "         0.6553752 ],\n",
       "        [0.08768509, 0.16772267, 0.12728833, ..., 0.07050125, 0.0852303 ,\n",
       "         0.42683914],\n",
       "        [0.33606282, 0.70369434, 0.35788113, ..., 0.00869659, 0.03052715,\n",
       "         0.67990905],\n",
       "        ...,\n",
       "        [0.30963463, 0.60117817, 0.32175952, ..., 0.21438509, 0.20321256,\n",
       "         1.194892  ],\n",
       "        [0.30900604, 0.6423242 , 0.5797135 , ..., 0.04706819, 0.08792188,\n",
       "         0.6497332 ],\n",
       "        [0.45199353, 0.4580716 , 0.33123514, ..., 0.18857123, 0.30592275,\n",
       "         0.87112874]], dtype=float32),\n",
       " 'l_s_add_alpha': array([[0.4994797]], dtype=float32),\n",
       " 'l_s_add_beta': array([[1630.4847]], dtype=float32),\n",
       " 'l_s_add': array([[6.4158630e-05],\n",
       "        [8.3610510e-05],\n",
       "        [1.2102376e-04],\n",
       "        ...,\n",
       "        [8.6407767e-05],\n",
       "        [1.5685779e-04],\n",
       "        [9.6423428e-05]], dtype=float32),\n",
       " 's_g_gene_add_alpha_hyp': array(2.9836354, dtype=float32),\n",
       " 's_g_gene_add_mean': array([[0.00022095],\n",
       "        [0.00020129],\n",
       "        [0.00019951],\n",
       "        [0.00019639],\n",
       "        [0.00021225]], dtype=float32),\n",
       " 's_g_gene_add_alpha_e_inv': array([[0.27709883],\n",
       "        [0.28021967],\n",
       "        [0.28203118],\n",
       "        [0.27913687],\n",
       "        [0.27559537]], dtype=float32),\n",
       " 's_g_gene_add': array([[0.00021201, 0.00020882, 0.0002182 , ..., 0.00020897, 0.00020837,\n",
       "         0.00021122],\n",
       "        [0.00019926, 0.00018001, 0.00018453, ..., 0.00020026, 0.00018896,\n",
       "         0.00018969],\n",
       "        [0.00020082, 0.00020212, 0.00018867, ..., 0.00019494, 0.00019721,\n",
       "         0.0002032 ],\n",
       "        [0.00019708, 0.00017494, 0.00018782, ..., 0.0001929 , 0.00017394,\n",
       "         0.00018722],\n",
       "        [0.00020198, 0.00019   , 0.00020888, ..., 0.00020348, 0.00020611,\n",
       "         0.00020618]], dtype=float32),\n",
       " 'alpha_g_phi_hyp': array(1.4134536, dtype=float32),\n",
       " 'alpha_g_inverse': array([[0.09359933, 0.39252907, 0.674159  , ..., 0.3458715 , 0.29957145,\n",
       "         0.8920553 ],\n",
       "        [0.11959943, 0.41031373, 0.7040787 , ..., 0.26357165, 0.25775018,\n",
       "         0.78818697],\n",
       "        [0.16555534, 0.42046875, 0.6194762 , ..., 0.55638546, 0.12459905,\n",
       "         0.8712604 ],\n",
       "        [0.25546885, 0.50053424, 0.6912547 , ..., 0.4348621 , 0.18217696,\n",
       "         1.0539265 ],\n",
       "        [0.07230601, 0.4056499 , 0.60775024, ..., 0.34287357, 0.25616944,\n",
       "         0.7619376 ]], dtype=float32),\n",
       " 'u_sf_mRNA_factors': array([[ 90.79151  , 211.53763  , 114.99515  , ...,  15.218721 ,\n",
       "          26.418139 , 154.51912  ],\n",
       "        [ 36.736    ,  74.68453  ,  54.441147 , ...,  41.611645 ,\n",
       "          30.487837 , 100.63672  ],\n",
       "        [140.79478  , 313.34515  , 153.06555  , ...,   5.1329517,\n",
       "          10.919904 , 160.30351  ],\n",
       "        ...,\n",
       "        [129.7226   , 267.69614  , 137.61636  , ..., 126.53558  ,\n",
       "          72.691414 , 281.7221   ],\n",
       "        [129.45924  , 286.01788  , 247.94315  , ...,  27.780855 ,\n",
       "          31.450645 , 153.18889  ],\n",
       "        [189.3644   , 203.9728   , 141.66908  , ..., 111.299576 ,\n",
       "         109.43201  , 205.38777  ]], dtype=float32)}"
      ]
     },
     "execution_count": 18,
     "metadata": {},
     "output_type": "execute_result"
    }
   ],
   "source": [
    "means_softplus = mod_s.guide.median(mod_s.state_param)\n",
    "means_softplus = {k: np.array(v)\n",
    "         for k, v in means_softplus.items()}\n",
    "means_softplus"
   ]
  },
  {
   "cell_type": "code",
   "execution_count": 19,
   "metadata": {},
   "outputs": [
    {
     "data": {
      "application/vnd.jupyter.widget-view+json": {
       "model_id": "8b188fb5f63543879719f8ef5760a116",
       "version_major": 2,
       "version_minor": 0
      },
      "text/plain": [
       "  0%|          | 0/30000 [00:00<?, ?it/s]"
      ]
     },
     "metadata": {},
     "output_type": "display_data"
    }
   ],
   "source": [
    "mod_s3 = cell2location_model.LocationModelLinearDependentWMultiExperiment(\n",
    "    device='gpu',\n",
    "    n_obs=adata_vis.n_obs,\n",
    "    n_vars=adata_vis.n_vars,\n",
    "        n_factors=aver.shape[1],\n",
    "        n_exper=obs2sample_df.shape[1],\n",
    "        batch_size=None,\n",
    "        cell_state_mat=aver.values.astype(data_type),\n",
    "    )\n",
    "\n",
    "from numpyro.distributions import constraints, transforms\n",
    "from numpyro.distributions.transforms import biject_to\n",
    "\n",
    "@biject_to.register(constraints.positive)\n",
    "def _transform_to_positive(constraint):\n",
    "    return transforms.SoftplusTransform()\n",
    "\n",
    "mod_s3.guide.scale_constraint = constraints.positive\n",
    "\n",
    "mod_s3._train_full_data(x_data=adata_vis.raw.X.toarray().astype(data_type),\n",
    "                    obs2sample=obs2sample_df.values.astype(data_type),\n",
    "                    n_epochs=30000, lr=0.005)"
   ]
  },
  {
   "cell_type": "code",
   "execution_count": 20,
   "metadata": {},
   "outputs": [
    {
     "data": {
      "text/plain": [
       "{'m_g_alpha_hyp': DeviceArray(0.00992737, dtype=float32),\n",
       " 'm_g_beta_hyp': DeviceArray(0.02704359, dtype=float32),\n",
       " 'm_g': DeviceArray([[0.01874765, 1.4870851 , 0.01231732, ..., 0.055221  ,\n",
       "               0.00858368, 0.0237044 ]], dtype=float32),\n",
       " 'n_s_cells_per_location': DeviceArray([[1.9390881],\n",
       "              [2.1530626],\n",
       "              [2.1819649],\n",
       "              ...,\n",
       "              [2.0033374],\n",
       "              [2.1344428],\n",
       "              [2.0908995]], dtype=float32),\n",
       " 'y_s_groups_per_location': DeviceArray([[1.8928365],\n",
       "              [1.708416 ],\n",
       "              [1.7900022],\n",
       "              ...,\n",
       "              [1.5738099],\n",
       "              [1.4213101],\n",
       "              [1.3969297]], dtype=float32),\n",
       " 'z_sr_groups_factors': DeviceArray([[2.8421254, 2.9981134, 2.9412727, ..., 2.9009647, 2.9872086,\n",
       "               2.8858376],\n",
       "              [3.283762 , 3.2849798, 3.2254739, ..., 3.1855016, 3.2891026,\n",
       "               3.3485014],\n",
       "              [3.1025207, 2.8888383, 3.104154 , ..., 2.972861 , 2.971186 ,\n",
       "               3.0889235],\n",
       "              ...,\n",
       "              [3.0835016, 3.235085 , 3.1790922, ..., 3.2297795, 3.1050305,\n",
       "               3.310403 ],\n",
       "              [3.3789814, 3.2804167, 3.5143933, ..., 3.3287783, 3.4052877,\n",
       "               3.3126316],\n",
       "              [3.379086 , 3.4081125, 3.445258 , ..., 3.4214675, 3.3654323,\n",
       "               3.526106 ]], dtype=float32),\n",
       " 'k_r_factors_per_groups': DeviceArray([[2.487351  ],\n",
       "              [2.5247486 ],\n",
       "              [2.3874373 ],\n",
       "              [2.449599  ],\n",
       "              [2.450934  ],\n",
       "              [2.4041395 ],\n",
       "              [2.3535967 ],\n",
       "              [2.473073  ],\n",
       "              [2.4426146 ],\n",
       "              [2.2911344 ],\n",
       "              [2.4463701 ],\n",
       "              [2.3308952 ],\n",
       "              [2.393533  ],\n",
       "              [2.5850916 ],\n",
       "              [2.3672338 ],\n",
       "              [2.4466536 ],\n",
       "              [2.4062521 ],\n",
       "              [2.4119365 ],\n",
       "              [2.3769467 ],\n",
       "              [0.34700808],\n",
       "              [2.507595  ],\n",
       "              [2.378294  ],\n",
       "              [2.389444  ],\n",
       "              [2.3932672 ],\n",
       "              [2.4851    ],\n",
       "              [2.422392  ],\n",
       "              [2.4417086 ],\n",
       "              [2.3842852 ],\n",
       "              [2.4409232 ],\n",
       "              [0.6386922 ],\n",
       "              [2.4263847 ],\n",
       "              [2.4804785 ],\n",
       "              [2.4914231 ],\n",
       "              [2.4526002 ],\n",
       "              [2.488865  ],\n",
       "              [2.3677094 ],\n",
       "              [0.33264592],\n",
       "              [2.4480317 ],\n",
       "              [0.5920689 ],\n",
       "              [0.31086186],\n",
       "              [2.4544613 ],\n",
       "              [2.4887488 ],\n",
       "              [2.3859868 ],\n",
       "              [0.9406303 ],\n",
       "              [2.4409246 ],\n",
       "              [2.4941692 ],\n",
       "              [1.3609103 ],\n",
       "              [2.419187  ],\n",
       "              [2.4827392 ],\n",
       "              [2.5109851 ]], dtype=float32),\n",
       " 'x_fr_group2fact': DeviceArray([[0.29812396, 0.36520573, 0.74421   , ..., 0.56912005,\n",
       "               0.33881247, 0.23219727],\n",
       "              [0.32049078, 0.34952864, 0.7487402 , ..., 0.61470175,\n",
       "               0.32417834, 0.23785032],\n",
       "              [0.33668414, 0.3218206 , 0.72564113, ..., 0.5921408 ,\n",
       "               0.3251207 , 0.23676868],\n",
       "              ...,\n",
       "              [0.2997077 , 0.35181823, 0.85345876, ..., 0.57209647,\n",
       "               0.3284862 , 0.24275021],\n",
       "              [0.3094419 , 0.3442559 , 0.75026023, ..., 0.64136976,\n",
       "               0.31606826, 0.23578991],\n",
       "              [0.28960785, 0.3584644 , 0.75724804, ..., 0.60229826,\n",
       "               0.32921433, 0.23103231]], dtype=float32),\n",
       " 'w_sf': DeviceArray([[0.68876487, 0.6501264 , 0.6992588 , ..., 1.181264  ,\n",
       "               0.9672556 , 0.65190905],\n",
       "              [0.75878406, 0.6537206 , 0.9342344 , ..., 1.2361919 ,\n",
       "               0.9796739 , 0.6637281 ],\n",
       "              [0.60444015, 0.5181012 , 0.6996542 , ..., 1.4746599 ,\n",
       "               1.0348355 , 0.60076445],\n",
       "              ...,\n",
       "              [0.53987896, 0.5761912 , 0.8802574 , ..., 0.78163403,\n",
       "               0.89650047, 0.59661055],\n",
       "              [0.5069964 , 0.48006958, 0.5440942 , ..., 1.0622599 ,\n",
       "               0.97830033, 0.58723193],\n",
       "              [0.5696248 , 0.6194953 , 0.9562633 , ..., 0.7792585 ,\n",
       "               0.8408348 , 0.66978604]], dtype=float32),\n",
       " 'l_s_add_alpha': DeviceArray([[0.01003506]], dtype=float32),\n",
       " 'l_s_add_beta': DeviceArray([[2.1282108]], dtype=float32),\n",
       " 'l_s_add': DeviceArray([[2.3691149],\n",
       "              [2.256276 ],\n",
       "              [1.9981475],\n",
       "              ...,\n",
       "              [2.1702285],\n",
       "              [1.8069499],\n",
       "              [2.0331476]], dtype=float32),\n",
       " 's_g_gene_add_alpha_hyp': DeviceArray(0.84534043, dtype=float32),\n",
       " 's_g_gene_add_mean': DeviceArray([[0.00247607],\n",
       "              [0.00302796],\n",
       "              [0.00268732],\n",
       "              [0.00273344],\n",
       "              [0.00265974]], dtype=float32),\n",
       " 's_g_gene_add_alpha_e_inv': DeviceArray([[0.0076196 ],\n",
       "              [0.00726012],\n",
       "              [0.00691095],\n",
       "              [0.00683846],\n",
       "              [0.00725575]], dtype=float32),\n",
       " 's_g_gene_add': DeviceArray([[0.29182282, 0.30352047, 0.29010785, ..., 0.29703438,\n",
       "               0.31008914, 0.30820176],\n",
       "              [0.3110825 , 0.33720538, 0.32538623, ..., 0.3154509 ,\n",
       "               0.3106724 , 0.3020572 ],\n",
       "              [0.33383453, 0.3184363 , 0.31646   , ..., 0.3314743 ,\n",
       "               0.3044913 , 0.3400086 ],\n",
       "              [0.3283405 , 0.3117577 , 0.30980638, ..., 0.32815772,\n",
       "               0.33092526, 0.3229819 ],\n",
       "              [0.30463842, 0.31013882, 0.30890003, ..., 0.32613257,\n",
       "               0.29407036, 0.30557096]], dtype=float32),\n",
       " 'alpha_g_phi_hyp': DeviceArray(0.00716298, dtype=float32),\n",
       " 'alpha_g_inverse': DeviceArray([[1.0073769 , 1.5038795 , 0.06060505, ..., 1.2880307 ,\n",
       "               0.13829376, 0.20725358],\n",
       "              [0.7736697 , 1.4452666 , 0.06653337, ..., 1.275262  ,\n",
       "               0.1731493 , 0.23401146],\n",
       "              [0.6943788 , 1.7443091 , 0.07138409, ..., 1.2610291 ,\n",
       "               0.4112138 , 0.20721044],\n",
       "              [0.5731895 , 1.3592997 , 0.06784205, ..., 1.2618922 ,\n",
       "               0.32108143, 0.17844817],\n",
       "              [0.77233225, 1.6305249 , 0.06872462, ..., 1.1367186 ,\n",
       "               0.18499154, 0.24389373]], dtype=float32)}"
      ]
     },
     "execution_count": 20,
     "metadata": {},
     "output_type": "execute_result"
    }
   ],
   "source": [
    "locs = {k: mod_s3.state_param[\"{}_{}_loc\".format(k, mod_s3.guide.prefix)] for k in mod_s3.guide._init_locs}\n",
    "scales = {k: mod_s3.state_param[\"{}_{}_scale\".format(k, mod_s3.guide.prefix)] for k in locs}\n",
    "\n",
    "scales"
   ]
  },
  {
   "cell_type": "markdown",
   "metadata": {},
   "source": [
    "### Compare ELBO as training progresses"
   ]
  },
  {
   "cell_type": "code",
   "execution_count": 21,
   "metadata": {},
   "outputs": [
    {
     "data": {
      "image/png": "[encoded data removed]",
      "text/plain": [
       "<Figure size 432x288 with 1 Axes>"
      ]
     },
     "metadata": {
      "needs_background": "light"
     },
     "output_type": "display_data"
    }
   ],
   "source": [
    "plt.plot(range(5000, len(mod.hist)), np.array(mod.hist)[5000:]);\n",
    "plt.plot(range(5000, len(mod.hist)), np.array(mod_s.hist)[5000:]);\n",
    "plt.plot(range(5000, len(mod.hist)), np.array(mod_s3.hist)[5000:]);\n",
    "plt.legend(labels=['exp', 'softplus scales', 'all_softplus']);\n",
    "plt.xlim(0, len(mod.hist));"
   ]
  },
  {
   "cell_type": "code",
   "execution_count": 33,
   "metadata": {},
   "outputs": [
    {
     "data": {
      "image/png": "[encoded data removed]",
      "text/plain": [
       "<Figure size 288x288 with 1 Axes>"
      ]
     },
     "metadata": {
      "needs_background": "light"
     },
     "output_type": "display_data"
    }
   ],
   "source": [
    "plt.plot(range(5000, len(mod.hist)), np.array(mod.hist)[5000:]);\n",
    "plt.plot(range(5000, len(mod.hist)), np.array(mod_s.hist)[5000:]);\n",
    "plt.plot(range(5000, len(mod.hist)), np.array(mod_s3.hist)[5000:]);\n",
    "plt.legend(labels=['exp', 'softplus scales', 'all_softplus']);\n",
    "plt.xlim(0, len(mod.hist));\n",
    "plt.ylim(1.55e+8, 1.65e+8);\n",
    "plt.title('zoom in on y-axis');"
   ]
  },
  {
   "cell_type": "markdown",
   "metadata": {},
   "source": [
    "### Evaluate accuracy using $R^2$ with ground truth data"
   ]
  },
  {
   "cell_type": "code",
   "execution_count": 23,
   "metadata": {},
   "outputs": [],
   "source": [
    "means = mod.guide.median(mod.state_param)\n",
    "means = {k: np.array(v)\n",
    "         for k, v in means.items()}\n",
    "means_softplus = mod_s.guide.median(mod_s.state_param)\n",
    "means_softplus = {k: np.array(v)\n",
    "         for k, v in means_softplus.items()}\n",
    "means_softplus_all = mod_s3.guide.median(mod_s3.state_param)\n",
    "means_softplus_all = {k: np.array(v)\n",
    "         for k, v in means_softplus_all.items()}"
   ]
  },
  {
   "cell_type": "code",
   "execution_count": 24,
   "metadata": {},
   "outputs": [],
   "source": [
    "from re import sub\n",
    "cell_count = adata_vis.obs.loc[:, ['cell_abundances_' in i for i in adata_vis.obs.columns]]\n",
    "cell_count.columns =  [sub('cell_abundances_', '', i) for i in cell_count.columns]\n",
    "cell_count_columns = cell_count.columns\n",
    "\n",
    "infer_cell_count = pd.DataFrame(means['w_sf'], index=adata_vis.obs_names, \n",
    "                                columns=aver.columns)\n",
    "infer_cell_count = infer_cell_count[cell_count.columns]\n",
    "\n",
    "infer_cell_count_softplus = pd.DataFrame(means_softplus['w_sf'], index=adata_vis.obs_names, \n",
    "                                columns=aver.columns)\n",
    "infer_cell_count_softplus = infer_cell_count_softplus[cell_count.columns]\n",
    "\n",
    "infer_cell_count_softplus_all = pd.DataFrame(means_softplus_all['w_sf'], index=adata_vis.obs_names, \n",
    "                                columns=aver.columns)\n",
    "infer_cell_count_softplus_all = infer_cell_count_softplus_all[cell_count.columns]"
   ]
  },
  {
   "cell_type": "code",
   "execution_count": 25,
   "metadata": {},
   "outputs": [
    {
     "data": {
      "text/plain": [
       "(                   Inh_3  Ext_Pir  Oligo_2  Astro_HYPO  Ext_L25\n",
       " exper0_location_0    NaN      NaN      NaN         NaN      NaN\n",
       " exper0_location_1    NaN      NaN      NaN         NaN      NaN\n",
       " exper0_location_2    NaN      NaN      NaN         NaN      NaN\n",
       " exper0_location_3    NaN      NaN      NaN         NaN      NaN\n",
       " exper0_location_4    NaN      NaN      NaN         NaN      NaN,\n",
       "                       Inh_3   Ext_Pir   Oligo_2  Astro_HYPO   Ext_L25\n",
       " exper0_location_0  0.145219  0.194208  0.071253    0.341158  0.272647\n",
       " exper0_location_1  0.098425  0.775876  0.081792    0.158325  0.150534\n",
       " exper0_location_2  0.093499  0.346774  0.030070    0.277351  0.183208\n",
       " exper0_location_3  0.168124  0.515706  0.336794    0.168765  0.196906\n",
       " exper0_location_4  0.120180  0.526882  0.234298    0.130287  0.112321,\n",
       "                       Inh_3   Ext_Pir   Oligo_2  Astro_HYPO   Ext_L25\n",
       " exper0_location_0  0.248562  0.160574  0.096972    0.606362  0.438831\n",
       " exper0_location_1  0.163845  1.148565  0.081971    0.204890  0.197513\n",
       " exper0_location_2  0.166700  0.493492  0.053134    0.570776  0.232660\n",
       " exper0_location_3  0.219053  0.819858  0.537683    0.078616  0.182142\n",
       " exper0_location_4  0.177185  0.835860  0.388080    0.108737  0.117799)"
      ]
     },
     "execution_count": 25,
     "metadata": {},
     "output_type": "execute_result"
    }
   ],
   "source": [
    "infer_cell_count.iloc[0:5,0:5], infer_cell_count_softplus.iloc[0:5,0:5], infer_cell_count_softplus_all.iloc[0:5,0:5]"
   ]
  },
  {
   "cell_type": "raw",
   "metadata": {},
   "source": [
    "rcParams['figure.figsize'] = 4, 4\n",
    "rcParams[\"axes.facecolor\"] = \"white\"\n",
    "\n",
    "plt.hist2d(cell_count.values.flatten(), \n",
    "           infer_cell_count.values.flatten(),\n",
    "           bins=[50, 50], norm=mpl.colors.LogNorm());\n",
    "plt.xlabel('Simulated cell abundance');\n",
    "plt.ylabel('Estimated cell abundance');\n",
    "plt.title(r'exp, $R^2$: ' \\\n",
    "          + str(np.round(np.corrcoef(cell_count.values.flatten(), \n",
    "           infer_cell_count.values.flatten()), 3)[0,1]));\n",
    "plt.tight_layout()"
   ]
  },
  {
   "cell_type": "code",
   "execution_count": 34,
   "metadata": {},
   "outputs": [
    {
     "data": {
      "image/png": "[encoded data removed]",
      "text/plain": [
       "<Figure size 288x288 with 1 Axes>"
      ]
     },
     "metadata": {
      "needs_background": "light"
     },
     "output_type": "display_data"
    }
   ],
   "source": [
    "rcParams['figure.figsize'] = 4, 4\n",
    "rcParams[\"axes.facecolor\"] = \"white\"\n",
    "\n",
    "plt.hist2d(cell_count.values.flatten(), \n",
    "           infer_cell_count_softplus.values.flatten(),\n",
    "           bins=[50, 50], norm=mpl.colors.LogNorm());\n",
    "plt.xlabel('Simulated cell abundance');\n",
    "plt.ylabel('Estimated cell abundance');\n",
    "plt.title(r'softplus scales, $R^2$: ' \\\n",
    "          + str(np.round(np.corrcoef(cell_count.values.flatten(), \n",
    "           infer_cell_count_softplus.values.flatten()), 3)[0,1]));\n",
    "plt.tight_layout()"
   ]
  },
  {
   "cell_type": "code",
   "execution_count": 35,
   "metadata": {},
   "outputs": [
    {
     "data": {
      "image/png": "[encoded data removed]",
      "text/plain": [
       "<Figure size 288x288 with 1 Axes>"
      ]
     },
     "metadata": {
      "needs_background": "light"
     },
     "output_type": "display_data"
    }
   ],
   "source": [
    "rcParams['figure.figsize'] = 4, 4\n",
    "rcParams[\"axes.facecolor\"] = \"white\"\n",
    "\n",
    "plt.hist2d(cell_count.values.flatten(), \n",
    "           infer_cell_count_softplus_all.values.flatten(),\n",
    "           bins=[50, 50], norm=mpl.colors.LogNorm());\n",
    "plt.xlabel('Simulated cell abundance');\n",
    "plt.ylabel('Estimated cell abundance');\n",
    "plt.title(r'softplus all, $R^2$: ' \\\n",
    "          + str(np.round(np.corrcoef(cell_count.values.flatten(), \n",
    "           infer_cell_count_softplus_all.values.flatten()), 3)[0,1]));\n",
    "plt.tight_layout()"
   ]
  },
  {
   "cell_type": "markdown",
   "metadata": {},
   "source": [
    "Original implementation of cell2location in pymc3 has $R^2 = 0.791$."
   ]
  },
  {
   "cell_type": "markdown",
   "metadata": {},
   "source": [
    "## Evaluate with PR curves"
   ]
  },
  {
   "cell_type": "code",
   "execution_count": 36,
   "metadata": {},
   "outputs": [],
   "source": [
    "import matplotlib as mpl\n",
    "from matplotlib import pyplot as plt\n",
    "import numpy as np\n",
    "from scipy import interpolate\n",
    "\n",
    "with plt.style.context('seaborn'):\n",
    "    seaborn_colors = mpl.rcParams['axes.prop_cycle'].by_key()['color']\n",
    "\n",
    "\n",
    "def compute_precision_recall(pos_cell_count, infer_cell_proportions, mode='macro'):\n",
    "    r\"\"\" Plot precision-recall curves on average and for each cell type.\n",
    "    :param pos_cell_count: binary matrix showing which cell types are present in which locations\n",
    "    :param infer_cell_proportions: inferred locations (the higher the more cells)\n",
    "    \"\"\"\n",
    "    \n",
    "    from sklearn.metrics import precision_recall_curve\n",
    "    from sklearn.metrics import average_precision_score\n",
    "    \n",
    "    ### calculating ###\n",
    "    predictor = infer_cell_proportions.values + np.random.gamma(20, 1e-12, \n",
    "                                                                infer_cell_proportions.shape)\n",
    "    # For each cell type\n",
    "    precision = dict()\n",
    "    recall = dict()\n",
    "    average_precision = dict()\n",
    "    for i, c in enumerate(infer_cell_proportions.columns):\n",
    "        precision[c], recall[c], _ = precision_recall_curve(pos_cell_count[:, i],\n",
    "                                                            predictor[:, i])\n",
    "        average_precision[c] = average_precision_score(pos_cell_count[:, i], predictor[:, i], average=mode)\n",
    "\n",
    "    average_precision[\"averaged\"] = average_precision_score(pos_cell_count, predictor,\n",
    "                                                     average=mode)\n",
    "\n",
    "    # A \"micro-average\": quantifying score on all classes jointly\n",
    "    if mode == 'micro':\n",
    "        precision_, recall_, threshold = precision_recall_curve(pos_cell_count.ravel(),\n",
    "                                                                        predictor.ravel())\n",
    "        #precision_[threshold < 0.1] = 0\n",
    "        precision[\"averaged\"], recall[\"averaged\"] =  precision_, recall_\n",
    "\n",
    "    elif mode == 'macro':\n",
    "        precisions = []\n",
    "        recall_grid = np.linspace(0, 1, 2000)\n",
    "\n",
    "        for i, c in enumerate(infer_cell_proportions.columns):\n",
    "            f = interpolate.interp1d(recall[c], precision[c])\n",
    "            precision_interp = f(recall_grid)\n",
    "            precisions.append(precision_interp)\n",
    "\n",
    "        precision[\"averaged\"] = np.mean(precisions, axis=0)\n",
    "        recall['averaged'] = recall_grid\n",
    "\n",
    "        \n",
    "    return precision, recall, average_precision\n",
    "\n",
    "def compare_precision_recall(pos_cell_count, infer_cell_proportions,\n",
    "                             method_title, title='',\n",
    "                             legend_loc=(0, -.37),\n",
    "                             colors=sc.pl.palettes.default_102,\n",
    "                             mode='macro', curve='PR'):\n",
    "    \n",
    "    r\"\"\" Plot precision-recall curves on average and for each cell type.\n",
    "    :param pos_cell_count: binary matrix showing which cell types are present in which locations\n",
    "    :param infer_cell_proportions: inferred locations (the higher the more cells), \n",
    "                                        list of inferred parameters for several methods\n",
    "    :param method_title: title for each infer_cell_proportions\n",
    "    :param title: plot title\n",
    "    \"\"\"\n",
    "    # setup plot details\n",
    "    from itertools import cycle\n",
    "    colors = cycle(colors)\n",
    "    lines = []\n",
    "    labels = []\n",
    "    roc = {}\n",
    "    \n",
    "    ### plotting ###\n",
    "    for i, color in zip(range(len(infer_cell_proportions)), colors):\n",
    "        \n",
    "        if curve == 'PR':\n",
    "            precision, recall, average_precision = compute_precision_recall(pos_cell_count, \n",
    "                                                                        infer_cell_proportions[i], \n",
    "                                                                        mode=mode)\n",
    "\n",
    "            xlabel = 'Recall'\n",
    "            ylabel = 'Precision'\n",
    "            \n",
    "            l, = plt.plot(recall[\"averaged\"], precision[\"averaged\"], color=color, lw=3)\n",
    "\n",
    "        elif curve == 'ROC':\n",
    "            FPR, TPR, average_precision = compute_roc(pos_cell_count, \n",
    "                                                                        infer_cell_proportions[i], \n",
    "                                                                        mode=mode)\n",
    "\n",
    "            xlabel = 'FPR'\n",
    "            ylabel = 'TPR'\n",
    "            \n",
    "            l, = plt.plot(FPR[\"averaged\"], TPR[\"averaged\"], color=color, lw=3)\n",
    "            \n",
    "        \n",
    "        lines.append(l)\n",
    "\n",
    "        labels.append(method_title[i] + '(' + curve + ' score = {0:0.2f})'\n",
    "                      ''.format(average_precision[\"averaged\"]))\n",
    "        roc[method_title[i]] = average_precision[\"averaged\"]\n",
    "\n",
    "\n",
    "    fig = plt.gcf()\n",
    "    fig.subplots_adjust(bottom=0.25)\n",
    "    plt.xlim([0.0, 1.0])\n",
    "    plt.ylim([0.0, 1.05])\n",
    "    plt.xlabel(xlabel)\n",
    "    plt.ylabel(ylabel)\n",
    "    plt.title(title)\n",
    "    if legend_loc is not None:\n",
    "        plt.legend(lines, labels, loc=legend_loc, prop=dict(size=8))\n",
    "\n",
    "    return roc"
   ]
  },
  {
   "cell_type": "code",
   "execution_count": 37,
   "metadata": {},
   "outputs": [
    {
     "data": {
      "image/png": "[encoded data removed]",
      "text/plain": [
       "<Figure size 432x216 with 1 Axes>"
      ]
     },
     "metadata": {
      "needs_background": "light"
     },
     "output_type": "display_data"
    }
   ],
   "source": [
    "rcParams['figure.figsize'] = 6, 3\n",
    "rcParams['font.size'] = 8\n",
    "\n",
    "results = [\n",
    "    #infer_cell_count,\n",
    "    infer_cell_count_softplus,\n",
    "    infer_cell_count_softplus_all\n",
    "]\n",
    "\n",
    "names = [\n",
    "    #'exp', \n",
    "    'softplus scales', \n",
    "    'all_softplus'\n",
    "]\n",
    "\n",
    "compare_precision_recall(cell_count.values > 0.1, \n",
    "                         results,\n",
    "                         method_title=names, \n",
    "                         legend_loc=(1.1, 0.5))\n",
    "plt.tight_layout()"
   ]
  },
  {
   "cell_type": "markdown",
   "metadata": {},
   "source": [
    "Original implementation of cell2location in pymc3 has PR score = 0.66."
   ]
  },
  {
   "cell_type": "code",
   "execution_count": 38,
   "metadata": {},
   "outputs": [
    {
     "name": "stdout",
     "output_type": "stream",
     "text": [
      "ipykernel 5.5.3\n",
      "ipykernel._version 5.5.3\n",
      "json 2.0.9\n",
      "re 2.2.1\n",
      "IPython 7.22.0\n",
      "IPython.core.release 7.22.0\n",
      "logging 0.5.1.2\n",
      "zlib 1.0\n",
      "traitlets 5.0.5\n",
      "traitlets._version 5.0.5\n",
      "argparse 1.1\n",
      "ipython_genutils 0.2.0\n",
      "ipython_genutils._version 0.2.0\n",
      "platform 1.0.8\n",
      "pygments 2.8.1\n",
      "pexpect 4.8.0\n",
      "ptyprocess 0.7.0\n",
      "decorator 5.0.6\n",
      "pickleshare 0.7.5\n",
      "backcall 0.2.0\n",
      "prompt_toolkit 3.0.18\n",
      "wcwidth 0.2.5\n",
      "jedi 0.18.0\n",
      "parso 0.8.2\n",
      "colorama 0.4.4\n",
      "ctypes 1.1.0\n",
      "_ctypes 1.1.0\n",
      "urllib.request 3.7\n",
      "jupyter_client 6.1.12\n",
      "jupyter_client._version 6.1.12\n",
      "zmq 22.0.3\n",
      "zmq.backend.cython 40304\n",
      "zmq.backend.cython.constants 40304\n",
      "zmq.sugar 22.0.3\n",
      "zmq.sugar.constants 40304\n",
      "zmq.sugar.version 22.0.3\n",
      "jupyter_core 4.7.1\n",
      "jupyter_core.version 4.7.1\n",
      "_curses b'2.2'\n",
      "dateutil 2.8.1\n",
      "six 1.15.0\n",
      "decimal 1.70\n",
      "_decimal 1.70\n",
      "distutils 3.7.10\n",
      "scanpy 1.7.2\n",
      "scanpy._metadata 1.7.2\n",
      "packaging 20.9\n",
      "packaging.__about__ 20.9\n",
      "pkg_resources._vendor.six 1.10.0\n",
      "pkg_resources.extern.six 1.10.0\n",
      "pkg_resources._vendor.appdirs 1.4.3\n",
      "pkg_resources.extern.appdirs 1.4.3\n",
      "pkg_resources._vendor.packaging 20.4\n",
      "pkg_resources._vendor.packaging.__about__ 20.4\n",
      "pkg_resources.extern.packaging 20.4\n",
      "pkg_resources._vendor.pyparsing 2.2.1\n",
      "pkg_resources.extern.pyparsing 2.2.1\n",
      "csv 1.0\n",
      "_csv 1.0\n",
      "numpy 1.20.2\n",
      "numpy.core 1.20.2\n",
      "numpy.core._multiarray_umath 3.1\n",
      "numpy.lib 1.20.2\n",
      "numpy.linalg._umath_linalg 0.1.5\n",
      "scipy 1.6.2\n",
      "anndata 0.7.5\n",
      "anndata._metadata 0.7.5\n",
      "h5py 3.1.0\n",
      "cached_property 1.5.2\n",
      "natsort 7.1.1\n",
      "pandas 1.2.3\n",
      "pytz 2021.1\n",
      "pandas.compat.numpy.function 1.20.2\n",
      "sinfo 0.3.1\n",
      "stdlib_list v0.7.0\n",
      "numba 0.53.1\n",
      "llvmlite 0.36.0\n",
      "numba.misc.appdirs 1.4.1\n",
      "sklearn 0.24.1\n",
      "sklearn.base 0.24.1\n",
      "joblib 1.0.1\n",
      "joblib.externals.loky 2.9.0\n",
      "joblib.externals.cloudpickle 1.6.0\n",
      "scipy._lib.decorator 4.0.5\n",
      "scipy.linalg._fblas b'$Revision: $'\n",
      "scipy.linalg._flapack b'$Revision: $'\n",
      "scipy.linalg._flinalg b'$Revision: $'\n",
      "scipy.special.specfun b'$Revision: $'\n",
      "scipy.ndimage 2.0\n",
      "scipy.optimize.minpack2 b'$Revision: $'\n",
      "scipy.sparse.linalg.isolve._iterative b'$Revision: $'\n",
      "scipy.sparse.linalg.eigen.arpack._arpack b'$Revision: $'\n",
      "scipy.optimize._lbfgsb b'$Revision: $'\n",
      "scipy.optimize._cobyla b'$Revision: $'\n",
      "scipy.optimize._slsqp b'$Revision: $'\n",
      "scipy.optimize._minpack  1.10 \n",
      "scipy.optimize.__nnls b'$Revision: $'\n",
      "scipy.linalg._interpolative b'$Revision: $'\n",
      "scipy.integrate._odepack  1.9 \n",
      "scipy.integrate._quadpack  1.13 \n",
      "scipy.integrate._ode $Id$\n",
      "scipy.integrate.vode b'$Revision: $'\n",
      "scipy.integrate._dop b'$Revision: $'\n",
      "scipy.integrate.lsoda b'$Revision: $'\n",
      "scipy.interpolate._fitpack  1.7 \n",
      "scipy.interpolate.dfitpack b'$Revision: $'\n",
      "scipy.stats.statlib b'$Revision: $'\n",
      "scipy.stats.mvn b'$Revision: $'\n",
      "sklearn.utils._joblib 1.0.1\n",
      "leidenalg 0.8.3\n",
      "igraph 0.9.1\n",
      "texttable 1.6.3\n",
      "igraph.version 0.9.1\n",
      "louvain 0.7.0\n",
      "matplotlib 3.4.1\n",
      "PIL 8.1.2\n",
      "PIL._version 8.1.2\n",
      "PIL.Image 8.1.2\n",
      "xml.etree.ElementTree 1.3.0\n",
      "cffi 1.14.5\n",
      "pyparsing 2.4.7\n",
      "cycler 0.10.0\n",
      "kiwisolver 1.3.1\n",
      "tables 3.6.1\n",
      "numexpr 2.7.3\n",
      "legacy_api_wrap 0.0.0\n",
      "get_version 2.1\n",
      "numpyro 0.6.0\n",
      "jax 0.2.12\n",
      "jaxlib 0.1.65\n",
      "jaxlib.version 0.1.65\n",
      "jax.version 0.2.12\n",
      "opt_einsum v3.3.0\n",
      "scipy._lib._uarray 0.5.1+49.g4c3f1d7.scipy\n",
      "scipy.signal.spline 0.2\n",
      "tqdm 4.60.0\n",
      "tqdm.cli 4.60.0\n",
      "tqdm.version 4.60.0\n",
      "tqdm._dist_ver 4.60.0\n",
      "ipywidgets 7.6.3\n",
      "ipywidgets._version 7.6.3\n",
      "numpyro.version 0.6.0\n",
      "seaborn 0.11.1\n",
      "seaborn.external.husl 2.1.0\n",
      "statsmodels 0.12.2\n"
     ]
    }
   ],
   "source": [
    "import sys\n",
    "for module in sys.modules:\n",
    "    try:\n",
    "        print(module,sys.modules[module].__version__)\n",
    "    except:\n",
    "        try:\n",
    "            if  type(modules[module].version) is str:\n",
    "                print(module,sys.modules[module].version)\n",
    "            else:\n",
    "                print(module,sys.modules[module].version())\n",
    "        except:\n",
    "            try:\n",
    "                print(module,sys.modules[module].VERSION)\n",
    "            except:\n",
    "                pass"
   ]
  },
  {
   "cell_type": "code",
   "execution_count": null,
   "metadata": {},
   "outputs": [],
   "source": []
  }
 ],
 "metadata": {
  "kernelspec": {
   "display_name": "Python ( mypyro)",
   "language": "python",
   "name": "mypyro"
  },
  "language_info": {
   "codemirror_mode": {
    "name": "ipython",
    "version": 3
   },
   "file_extension": ".py",
   "mimetype": "text/x-python",
   "name": "python",
   "nbconvert_exporter": "python",
   "pygments_lexer": "ipython3",
   "version": "3.7.10"
  }
 },
 "nbformat": 4,
 "nbformat_minor": 4
}
