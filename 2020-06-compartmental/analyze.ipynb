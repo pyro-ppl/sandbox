{
 "cells": [
  {
   "cell_type": "markdown",
   "metadata": {},
   "source": [
    "# Analysis"
   ]
  },
  {
   "cell_type": "code",
   "execution_count": null,
   "metadata": {},
   "outputs": [],
   "source": [
    "from collections import defaultdict\n",
    "import matplotlib.pyplot as plt\n",
    "from runner import short_uni_synth, long_uni_synth\n",
    "\n",
    "%matplotlib inline\n",
    "%config InlineBackend.figure_formats = ['svg']"
   ]
  },
  {
   "cell_type": "code",
   "execution_count": null,
   "metadata": {},
   "outputs": [],
   "source": [
    "results = list(short_uni_synth.results)\n",
    "print(len(results))\n",
    "for r in results:\n",
    "    if r[\"args\"].infer == \"mcmc\":\n",
    "        break\n",
    "print(r.keys())\n",
    "print(r[\"times\"].keys())\n",
    "print(r[\"evaluate\"].keys())\n",
    "print(r[\"evaluate\"][\"R0\"].keys())\n",
    "print(r[\"infer\"].keys())\n",
    "print(r[\"infer\"][\"R0\"].keys())"
   ]
  },
  {
   "cell_type": "code",
   "execution_count": null,
   "metadata": {},
   "outputs": [],
   "source": [
    "def plot_accuracy(variable, metric, experiment):\n",
    "    view = defaultdict(list)\n",
    "    for result in experiment.results:\n",
    "        args = result['args']\n",
    "        view[args.infer, args.num_bins, args.svi_steps].append(result)\n",
    "    markers = [\"o\", \"d\", \"s\", \"<\", \"v\", \"^\", \">\"]\n",
    "    assert len(view) <= len(markers)\n",
    "\n",
    "    plt.figure(figsize=(6, 5)).patch.set_color(\"white\")\n",
    "    for (key, value), marker in zip(sorted(view.items()), markers):\n",
    "        algo, num_bins, svi_steps = key\n",
    "        if algo == \"svi\":\n",
    "            label = f\"SVI steps={svi_steps}\"\n",
    "        elif algo == \"mcmc\":\n",
    "            if num_bins == 1:\n",
    "                label = \"MCMC relaxed\"\n",
    "            else:\n",
    "                label = f\"MCMC num_bins={num_bins}\"\n",
    "        X = [v[\"times\"][\"infer\"] for v in value]\n",
    "        Y = [v[\"evaluate\"][variable][metric] for v in value]\n",
    "        plt.scatter(X, Y, marker=marker, label=label, alpha=0.8)\n",
    "    plt.ylim(0, None)\n",
    "    plt.xscale(\"log\")\n",
    "    plt.xlabel(\"inference time (sec)\")\n",
    "    plt.ylabel(metric.upper())\n",
    "    plt.title(f\"{variable} accuracy ({experiment.__name__})\")\n",
    "    plt.legend(loc=\"best\", prop={'size': 8})\n",
    "    plt.tight_layout()"
   ]
  },
  {
   "cell_type": "code",
   "execution_count": null,
   "metadata": {},
   "outputs": [],
   "source": [
    "plot_accuracy(\"R0\", \"crps\", short_uni_synth)\n",
    "plot_accuracy(\"rho\", \"crps\", short_uni_synth)\n",
    "plot_accuracy(\"obs\", \"crps\", short_uni_synth)\n",
    "plot_accuracy(\"I\", \"crps\", short_uni_synth)"
   ]
  },
  {
   "cell_type": "code",
   "execution_count": null,
   "metadata": {},
   "outputs": [],
   "source": [
    "plot_accuracy(\"R0\", \"crps\", long_uni_synth)\n",
    "plot_accuracy(\"rho\", \"crps\", long_uni_synth)\n",
    "plot_accuracy(\"obs\", \"crps\", long_uni_synth)\n",
    "plot_accuracy(\"I\", \"crps\", long_uni_synth)"
   ]
  },
  {
   "cell_type": "code",
   "execution_count": null,
   "metadata": {},
   "outputs": [],
   "source": [
    "def plot_convergence(variable, experiment, metrics=[\"n_eff\", \"r_hat\"]):\n",
    "    view = defaultdict(list)\n",
    "    for result in results:\n",
    "        args = result['args']\n",
    "        if args.infer == \"mcmc\":\n",
    "            view[args.num_bins].append(result)\n",
    "    markers = [\"o\", \"d\", \"s\"]\n",
    "    assert len(view) <= len(markers)\n",
    "\n",
    "    fig, axes = plt.subplots(len(metrics), 1, figsize=(6, 5), sharex=True)\n",
    "    fig.patch.set_color(\"white\")\n",
    "    for (num_bins, value), marker in zip(sorted(view.items()), markers):\n",
    "        if num_bins == 1:\n",
    "            label = \"MCMC relaxed\"\n",
    "        else:\n",
    "            label = f\"MCMC num_bins={num_bins}\"\n",
    "        X = [v[\"times\"][\"infer\"] for v in value]\n",
    "        for metric, ax in zip(metrics, axes):\n",
    "            Y = [v[\"infer\"][variable][metric] for v in value]\n",
    "            ax.scatter(X, Y, marker=marker, label=label, alpha=0.8)\n",
    "            ax.set_xscale(\"log\")\n",
    "            ax.set_yscale(\"log\")\n",
    "            ax.set_ylabel(metric)\n",
    "    axes[0].set_title(f\"{variable} convergence ({experiment.__name__})\")\n",
    "    axes[1].set_ylim(1, None)\n",
    "    axes[-1].legend(loc=\"best\", prop={'size': 8})\n",
    "    axes[-1].set_xlabel(\"inference time (sec)\")\n",
    "    plt.subplots_adjust(hspace=0)"
   ]
  },
  {
   "cell_type": "code",
   "execution_count": null,
   "metadata": {},
   "outputs": [],
   "source": [
    "plot_convergence(\"R0\", short_uni_synth)\n",
    "plot_convergence(\"rho\", short_uni_synth)\n",
    "plot_convergence(\"auxiliary_haar_split_0\", short_uni_synth)"
   ]
  },
  {
   "cell_type": "code",
   "execution_count": null,
   "metadata": {},
   "outputs": [],
   "source": [
    "plot_convergence(\"R0\", long_uni_synth)\n",
    "plot_convergence(\"rho\", long_uni_synth)\n",
    "plot_convergence(\"auxiliary_haar_split_0\", long_uni_synth)"
   ]
  },
  {
   "cell_type": "code",
   "execution_count": null,
   "metadata": {},
   "outputs": [],
   "source": []
  }
 ],
 "metadata": {
  "kernelspec": {
   "display_name": "Python 3",
   "language": "python",
   "name": "python3"
  },
  "language_info": {
   "codemirror_mode": {
    "name": "ipython",
    "version": 3
   },
   "file_extension": ".py",
   "mimetype": "text/x-python",
   "name": "python",
   "nbconvert_exporter": "python",
   "pygments_lexer": "ipython3",
   "version": "3.7.7"
  }
 },
 "nbformat": 4,
 "nbformat_minor": 4
}
