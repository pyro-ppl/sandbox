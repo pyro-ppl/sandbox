{
 "cells": [
  {
   "cell_type": "markdown",
   "metadata": {},
   "source": [
    "## Control features"
   ]
  },
  {
   "cell_type": "code",
   "execution_count": null,
   "metadata": {},
   "outputs": [],
   "source": [
    "import torch\n",
    "import numpy as np\n",
    "from matplotlib import pyplot\n",
    "%matplotlib inline"
   ]
  },
  {
   "cell_type": "code",
   "execution_count": null,
   "metadata": {},
   "outputs": [],
   "source": [
    "metadata = torch.load(\"training.pkl\")\n",
    "control = metadata[\"control\"].t().contiguous()"
   ]
  },
  {
   "cell_type": "code",
   "execution_count": null,
   "metadata": {},
   "outputs": [],
   "source": [
    "pyplot.figure(figsize=(14,3), dpi=300)\n",
    "pyplot.imshow(control[:, :24 * 7 * 10].numpy(), cmap=\"binary\")\n",
    "pyplot.yticks([]); pyplot.xticks([]);"
   ]
  },
  {
   "cell_type": "code",
   "execution_count": null,
   "metadata": {},
   "outputs": [],
   "source": [
    "pyplot.figure(figsize=(14,3), dpi=300)\n",
    "S = control.shape[0]\n",
    "T = 13\n",
    "N = 4\n",
    "stacked = control[:, :T * 24 * 7 * N] \\\n",
    "    .reshape(S, T, 24 * 7 * N) \\\n",
    "    .transpose(0, 1) \\\n",
    "    .reshape(T * S, 24 * 7 * N)\n",
    "pyplot.imshow(stacked.numpy(), cmap=\"binary\")\n",
    "pyplot.yticks([]); pyplot.xticks([]);"
   ]
  },
  {
   "cell_type": "code",
   "execution_count": null,
   "metadata": {},
   "outputs": [],
   "source": []
  }
 ],
 "metadata": {
  "kernelspec": {
   "display_name": "Python 3",
   "language": "python",
   "name": "python3"
  },
  "language_info": {
   "codemirror_mode": {
    "name": "ipython",
    "version": 3
   },
   "file_extension": ".py",
   "mimetype": "text/x-python",
   "name": "python",
   "nbconvert_exporter": "python",
   "pygments_lexer": "ipython3",
   "version": "3.7.2"
  }
 },
 "nbformat": 4,
 "nbformat_minor": 2
}
